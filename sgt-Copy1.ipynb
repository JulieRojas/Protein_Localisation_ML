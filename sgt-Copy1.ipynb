{
 "cells": [
  {
   "cell_type": "code",
   "execution_count": 141,
   "metadata": {
    "collapsed": true
   },
   "outputs": [],
   "source": [
    "# -*- coding: utf-8 -*-\n",
    "# Authors: Chitta Ranjan <cran2367@gmail.com>\n",
    "#\n",
    "# License: BSD 3 clause"
   ]
  },
  {
   "cell_type": "code",
   "execution_count": 1,
   "metadata": {},
   "outputs": [
    {
     "name": "stderr",
     "output_type": "stream",
     "text": [
      "Using TensorFlow backend.\n"
     ]
    }
   ],
   "source": [
    "import numpy as np\n",
    "import pandas as pd\n",
    "from itertools import chain\n",
    "import warnings\n",
    "\n",
    "########\n",
    "from sklearn.preprocessing import LabelEncoder\n",
    "from keras.datasets import imdb\n",
    "from keras.models import Sequential\n",
    "from keras.layers import Dense\n",
    "from keras.layers import LSTM\n",
    "from keras.layers import Dropout, Activation, Flatten\n",
    "from keras.layers.embeddings import Embedding\n",
    "from keras.preprocessing import sequence\n",
    "np.random.seed(7) # fix random seed for reproducibility\n",
    "from sklearn.model_selection import train_test_split, KFold, StratifiedKFold\n",
    "import sklearn.metrics\n",
    "import time\n",
    "\n",
    "from sklearn.decomposition import PCA\n",
    "from sklearn.cluster import KMeans\n",
    "\n",
    "import matplotlib.pyplot as plt\n",
    "%matplotlib inline\n",
    "\n",
    "from sgt import Sgt"
   ]
  },
  {
   "cell_type": "code",
   "execution_count": 2,
   "metadata": {},
   "outputs": [],
   "source": [
    "sgt = Sgt()"
   ]
  },
  {
   "cell_type": "markdown",
   "metadata": {},
   "source": [
    "## Protein Sequence Data Analysis\n",
    "\n",
    "The data used here is taken from www.uniprot.org. This is a public database for proteins. The data contains the protein sequences and their functions. In the following, we will demonstrate \n",
    "- clustering of the sequences.\n",
    "- classification of the sequences with the functions as labels."
   ]
  },
  {
   "cell_type": "code",
   "execution_count": 3,
   "metadata": {},
   "outputs": [
    {
     "data": {
      "text/html": [
       "<div>\n",
       "<style scoped>\n",
       "    .dataframe tbody tr th:only-of-type {\n",
       "        vertical-align: middle;\n",
       "    }\n",
       "\n",
       "    .dataframe tbody tr th {\n",
       "        vertical-align: top;\n",
       "    }\n",
       "\n",
       "    .dataframe thead th {\n",
       "        text-align: right;\n",
       "    }\n",
       "</style>\n",
       "<table border=\"1\" class=\"dataframe\">\n",
       "  <thead>\n",
       "    <tr style=\"text-align: right;\">\n",
       "      <th></th>\n",
       "      <th>Lead Protein ID</th>\n",
       "      <th>Global classifier2</th>\n",
       "      <th>Sequence</th>\n",
       "      <th>Sequence Lengh</th>\n",
       "    </tr>\n",
       "  </thead>\n",
       "  <tbody>\n",
       "    <tr>\n",
       "      <th>0</th>\n",
       "      <td>Q9H3M7</td>\n",
       "      <td>Mostly Organellar</td>\n",
       "      <td>MVMFKKIKSFEVVFNDPEKVYGSGEKVAGRVIVEVCEVTRVKAVRI...</td>\n",
       "      <td>391</td>\n",
       "    </tr>\n",
       "    <tr>\n",
       "      <th>1</th>\n",
       "      <td>P22314</td>\n",
       "      <td>Mostly Cytosolic</td>\n",
       "      <td>MSSSPLSKKRRVSGPDPKPGSNCSPAQSVLSEVPSVPTNGMAKNGS...</td>\n",
       "      <td>1058</td>\n",
       "    </tr>\n",
       "    <tr>\n",
       "      <th>2</th>\n",
       "      <td>P27348</td>\n",
       "      <td>Mostly Cytosolic</td>\n",
       "      <td>MEKTELIQKAKLAEQAERYDDMATCMKAVTEQGAELSNEERNLLSV...</td>\n",
       "      <td>245</td>\n",
       "    </tr>\n",
       "    <tr>\n",
       "      <th>3</th>\n",
       "      <td>Q9Y2V7</td>\n",
       "      <td>Mostly Cytosolic</td>\n",
       "      <td>MAEGSGEVVAVSATGAANGLNNGAGGTSATTCNPLSRKLHKILETR...</td>\n",
       "      <td>657</td>\n",
       "    </tr>\n",
       "    <tr>\n",
       "      <th>4</th>\n",
       "      <td>Q53F19</td>\n",
       "      <td>Mostly Nuclear</td>\n",
       "      <td>MAAVRGLRVSVKAEAPAGPALGLPSPEAESGVDRGEPEPMEVEEGE...</td>\n",
       "      <td>620</td>\n",
       "    </tr>\n",
       "  </tbody>\n",
       "</table>\n",
       "</div>"
      ],
      "text/plain": [
       "  Lead Protein ID Global classifier2  \\\n",
       "0          Q9H3M7  Mostly Organellar   \n",
       "1          P22314   Mostly Cytosolic   \n",
       "2          P27348   Mostly Cytosolic   \n",
       "3          Q9Y2V7   Mostly Cytosolic   \n",
       "4          Q53F19     Mostly Nuclear   \n",
       "\n",
       "                                            Sequence  Sequence Lengh  \n",
       "0  MVMFKKIKSFEVVFNDPEKVYGSGEKVAGRVIVEVCEVTRVKAVRI...             391  \n",
       "1  MSSSPLSKKRRVSGPDPKPGSNCSPAQSVLSEVPSVPTNGMAKNGS...            1058  \n",
       "2  MEKTELIQKAKLAEQAERYDDMATCMKAVTEQGAELSNEERNLLSV...             245  \n",
       "3  MAEGSGEVVAVSATGAANGLNNGAGGTSATTCNPLSRKLHKILETR...             657  \n",
       "4  MAAVRGLRVSVKAEAPAGPALGLPSPEAESGVDRGEPEPMEVEEGE...             620  "
      ]
     },
     "execution_count": 3,
     "metadata": {},
     "output_type": "execute_result"
    }
   ],
   "source": [
    "train = pd.read_csv(\"data/3Classes_train.csv\", sep=\"\\t\")\n",
    "train.head()"
   ]
  },
  {
   "cell_type": "code",
   "execution_count": 4,
   "metadata": {},
   "outputs": [],
   "source": [
    "X_train =train['Sequence']"
   ]
  },
  {
   "cell_type": "code",
   "execution_count": 6,
   "metadata": {},
   "outputs": [
    {
     "data": {
      "text/plain": [
       "0    MVMFKKIKSFEVVFNDPEKVYGSGEKVAGRVIVEVCEVTRVKAVRI...\n",
       "1    MSSSPLSKKRRVSGPDPKPGSNCSPAQSVLSEVPSVPTNGMAKNGS...\n",
       "2    MEKTELIQKAKLAEQAERYDDMATCMKAVTEQGAELSNEERNLLSV...\n",
       "3    MAEGSGEVVAVSATGAANGLNNGAGGTSATTCNPLSRKLHKILETR...\n",
       "4    MAAVRGLRVSVKAEAPAGPALGLPSPEAESGVDRGEPEPMEVEEGE...\n",
       "Name: Sequence, dtype: object"
      ]
     },
     "execution_count": 6,
     "metadata": {},
     "output_type": "execute_result"
    }
   ],
   "source": [
    "X_train.head()"
   ]
  },
  {
   "cell_type": "code",
   "execution_count": 7,
   "metadata": {},
   "outputs": [
    {
     "data": {
      "text/plain": [
       "0    MVDLTQVMDDEVFMAFASYATIILSKMMLMSTATAFYRLTRKVFAN...\n",
       "1    MAAAAATKILLCLPLLLLLSGWSRAGRADPHSLCYDITVIPKFRPG...\n",
       "2    MAHCVTLVQLSISCDHLIDKDIGSKSDPLCVLLQDVGGGSWAELGR...\n",
       "3    MALYQRWRCLRLQGLQACRLHTAVVSTPPRWLAERLGLFEELWAAQ...\n",
       "4    MQSREDVPRSRRLASPRGGRRPKRISKPSVSAFFTGPEELKDTAHS...\n",
       "Name: Sequence, dtype: object"
      ]
     },
     "execution_count": 7,
     "metadata": {},
     "output_type": "execute_result"
    }
   ],
   "source": [
    "test = pd.read_csv(\"data/3Classes_test.csv\", sep=\"\\t\")\n",
    "X_test =test['Sequence']\n",
    "X_test.head()"
   ]
  },
  {
   "cell_type": "code",
   "execution_count": 8,
   "metadata": {},
   "outputs": [],
   "source": [
    "def split(word): \n",
    "    return [char for char in word] \n",
    "\n",
    "train_sequences = [split(x) for x in X_train]\n",
    "test_sequences = [split(x) for x in X_test]"
   ]
  },
  {
   "cell_type": "markdown",
   "metadata": {},
   "source": [
    "### Generating sequence embeddings"
   ]
  },
  {
   "cell_type": "code",
   "execution_count": 9,
   "metadata": {},
   "outputs": [],
   "source": [
    "sgt = Sgt(kappa = 10, lengthsensitive = False)"
   ]
  },
  {
   "cell_type": "code",
   "execution_count": 10,
   "metadata": {},
   "outputs": [],
   "source": [
    "embedding = sgt.fit_transform(corpus=train_sequences)"
   ]
  },
  {
   "cell_type": "code",
   "execution_count": 11,
   "metadata": {},
   "outputs": [
    {
     "data": {
      "text/plain": [
       "array([[0.22508763, 0.23306572, 0.21442049, ..., 0.        , 0.        ,\n",
       "        0.        ],\n",
       "       [0.21185905, 0.20316205, 0.19653654, ..., 0.        , 0.        ,\n",
       "        0.        ],\n",
       "       [0.20970972, 0.26138251, 0.08395396, ..., 0.        , 0.        ,\n",
       "        0.        ],\n",
       "       ...,\n",
       "       [0.21780123, 0.08522225, 0.23978566, ..., 0.        , 0.        ,\n",
       "        0.        ],\n",
       "       [0.2099131 , 0.01183957, 0.23306625, ..., 0.        , 0.        ,\n",
       "        0.        ],\n",
       "       [0.19502635, 0.0790251 , 0.1867104 , ..., 0.        , 0.        ,\n",
       "        0.        ]])"
      ]
     },
     "execution_count": 11,
     "metadata": {},
     "output_type": "execute_result"
    }
   ],
   "source": [
    "embedding"
   ]
  },
  {
   "cell_type": "markdown",
   "metadata": {},
   "source": [
    "#### Sequence Clustering\n",
    "We perform PCA on the sequence embeddings and then do kmeans clustering."
   ]
  },
  {
   "cell_type": "code",
   "execution_count": 12,
   "metadata": {},
   "outputs": [
    {
     "name": "stdout",
     "output_type": "stream",
     "text": [
      "0.10690606575158915\n"
     ]
    },
    {
     "data": {
      "text/html": [
       "<div>\n",
       "<style scoped>\n",
       "    .dataframe tbody tr th:only-of-type {\n",
       "        vertical-align: middle;\n",
       "    }\n",
       "\n",
       "    .dataframe tbody tr th {\n",
       "        vertical-align: top;\n",
       "    }\n",
       "\n",
       "    .dataframe thead th {\n",
       "        text-align: right;\n",
       "    }\n",
       "</style>\n",
       "<table border=\"1\" class=\"dataframe\">\n",
       "  <thead>\n",
       "    <tr style=\"text-align: right;\">\n",
       "      <th></th>\n",
       "      <th>x1</th>\n",
       "      <th>x2</th>\n",
       "    </tr>\n",
       "  </thead>\n",
       "  <tbody>\n",
       "    <tr>\n",
       "      <th>0</th>\n",
       "      <td>-0.176735</td>\n",
       "      <td>-0.002150</td>\n",
       "    </tr>\n",
       "    <tr>\n",
       "      <th>1</th>\n",
       "      <td>-0.694781</td>\n",
       "      <td>0.179760</td>\n",
       "    </tr>\n",
       "    <tr>\n",
       "      <th>2</th>\n",
       "      <td>0.444302</td>\n",
       "      <td>0.002981</td>\n",
       "    </tr>\n",
       "    <tr>\n",
       "      <th>3</th>\n",
       "      <td>-0.362661</td>\n",
       "      <td>0.122259</td>\n",
       "    </tr>\n",
       "    <tr>\n",
       "      <th>4</th>\n",
       "      <td>-0.109480</td>\n",
       "      <td>-0.006984</td>\n",
       "    </tr>\n",
       "  </tbody>\n",
       "</table>\n",
       "</div>"
      ],
      "text/plain": [
       "         x1        x2\n",
       "0 -0.176735 -0.002150\n",
       "1 -0.694781  0.179760\n",
       "2  0.444302  0.002981\n",
       "3 -0.362661  0.122259\n",
       "4 -0.109480 -0.006984"
      ]
     },
     "execution_count": 12,
     "metadata": {},
     "output_type": "execute_result"
    }
   ],
   "source": [
    "pca = PCA(n_components=2)\n",
    "pca.fit(embedding)\n",
    "X=pca.transform(embedding)\n",
    "\n",
    "print(np.sum(pca.explained_variance_ratio_))\n",
    "df = pd.DataFrame(data=X, columns=['x1', 'x2'])\n",
    "df.head()"
   ]
  },
  {
   "cell_type": "code",
   "execution_count": 13,
   "metadata": {},
   "outputs": [
    {
     "data": {
      "text/plain": [
       "<matplotlib.collections.PathCollection at 0x7f1dd7616390>"
      ]
     },
     "execution_count": 13,
     "metadata": {},
     "output_type": "execute_result"
    },
    {
     "data": {
      "image/png": "[encoded data removed]",
      "text/plain": [
       "<Figure size 360x360 with 1 Axes>"
      ]
     },
     "metadata": {
      "needs_background": "light"
     },
     "output_type": "display_data"
    }
   ],
   "source": [
    "kmeans = KMeans(n_clusters=3, max_iter =300)\n",
    "kmeans.fit(df)\n",
    "\n",
    "labels = kmeans.predict(df)\n",
    "centroids = kmeans.cluster_centers_\n",
    "\n",
    "fig = plt.figure(figsize=(5, 5))\n",
    "colmap = {1: 'r', 2: 'g', 3: 'b'}\n",
    "colors = list(map(lambda x: colmap[x+1], labels))\n",
    "plt.scatter(df['x1'], df['x2'], color=colors, alpha=0.5, edgecolor=colors)"
   ]
  },
  {
   "cell_type": "markdown",
   "metadata": {
    "collapsed": true
   },
   "source": [
    "#### Sequence Classification\n",
    "We perform PCA on the sequence embeddings and then do kmeans clustering."
   ]
  },
  {
   "cell_type": "code",
   "execution_count": 30,
   "metadata": {},
   "outputs": [
    {
     "data": {
      "text/plain": [
       "(4446,)"
      ]
     },
     "execution_count": 30,
     "metadata": {},
     "output_type": "execute_result"
    }
   ],
   "source": [
    "Y_train = train['Global classifier2']\n",
    "encoder = LabelEncoder()\n",
    "encoder.fit(Y_train)\n",
    "encoded_y_train = encoder.transform(Y_train)"
   ]
  },
  {
   "cell_type": "code",
   "execution_count": 31,
   "metadata": {},
   "outputs": [
    {
     "data": {
      "text/plain": [
       "array([[2],\n",
       "       [0],\n",
       "       [0],\n",
       "       ...,\n",
       "       [2],\n",
       "       [2],\n",
       "       [2]])"
      ]
     },
     "execution_count": 31,
     "metadata": {},
     "output_type": "execute_result"
    }
   ],
   "source": [
    "encoded_y_train = encoded_y_train.reshape(-1, 1)\n",
    "encoded_y_train"
   ]
  },
  {
   "cell_type": "code",
   "execution_count": 32,
   "metadata": {},
   "outputs": [
    {
     "data": {
      "text/plain": [
       "(4446, 1)"
      ]
     },
     "execution_count": 32,
     "metadata": {},
     "output_type": "execute_result"
    }
   ],
   "source": [
    "encoded_y_train.shape"
   ]
  },
  {
   "cell_type": "code",
   "execution_count": 33,
   "metadata": {},
   "outputs": [
    {
     "name": "stderr",
     "output_type": "stream",
     "text": [
      "/home/julie/anaconda3/lib/python3.7/site-packages/sklearn/preprocessing/_encoders.py:371: FutureWarning: The handling of integer data will change in version 0.22. Currently, the categories are determined based on the range [0, max(values)], while in the future they will be determined based on the unique values.\n",
      "If you want the future behaviour and silence this warning, you can specify \"categories='auto'\".\n",
      "In case you used a LabelEncoder before this OneHotEncoder to convert the categories to integers, then you can now use the OneHotEncoder directly.\n",
      "  warnings.warn(msg, FutureWarning)\n"
     ]
    }
   ],
   "source": [
    "from sklearn.preprocessing import OneHotEncoder\n",
    "\n",
    "onehotencoder = OneHotEncoder()\n",
    "y_train_OH = onehotencoder.fit_transform(encoded_y_train).toarray()"
   ]
  },
  {
   "cell_type": "code",
   "execution_count": 28,
   "metadata": {},
   "outputs": [
    {
     "data": {
      "text/plain": [
       "(4001, 441)"
      ]
     },
     "execution_count": 28,
     "metadata": {},
     "output_type": "execute_result"
    }
   ],
   "source": [
    "X_train.shape"
   ]
  },
  {
   "cell_type": "markdown",
   "metadata": {},
   "source": [
    "We will perform a 10-fold cross-validation to measure the performance of the classification model."
   ]
  },
  {
   "cell_type": "code",
   "execution_count": 49,
   "metadata": {},
   "outputs": [
    {
     "name": "stderr",
     "output_type": "stream",
     "text": [
      "/home/julie/anaconda3/lib/python3.7/site-packages/ipykernel_launcher.py:16: FutureWarning: Method .as_matrix will be removed in a future version. Use .values instead.\n",
      "  app.launch_new_instance()\n",
      "/home/julie/anaconda3/lib/python3.7/site-packages/ipykernel_launcher.py:17: FutureWarning: Method .as_matrix will be removed in a future version. Use .values instead.\n",
      "/home/julie/anaconda3/lib/python3.7/site-packages/ipykernel_launcher.py:20: UserWarning: Update your `Dense` call to the Keras 2 API: `Dense(128, input_shape=(441,), kernel_initializer=\"uniform\")`\n",
      "/home/julie/anaconda3/lib/python3.7/site-packages/ipykernel_launcher.py:23: UserWarning: Update your `Dense` call to the Keras 2 API: `Dense(64, kernel_initializer=\"uniform\")`\n",
      "/home/julie/anaconda3/lib/python3.7/site-packages/ipykernel_launcher.py:26: UserWarning: Update your `Dense` call to the Keras 2 API: `Dense(3, kernel_initializer=\"uniform\")`\n"
     ]
    },
    {
     "name": "stdout",
     "output_type": "stream",
     "text": [
      "445/445 [==============================] - 1s 1ms/step\n",
      "Test accuracy =  0.6314606666564941\n",
      "445/445 [==============================] - 1s 2ms/step\n",
      "Test accuracy =  0.6112359762191772\n",
      "445/445 [==============================] - 1s 2ms/step\n",
      "Test accuracy =  0.5752809047698975\n",
      "445/445 [==============================] - 1s 2ms/step\n",
      "Test accuracy =  0.5955055952072144\n",
      "445/445 [==============================] - 1s 2ms/step\n",
      "Test accuracy =  0.5910112261772156\n",
      "445/445 [==============================] - 1s 2ms/step\n",
      "Test accuracy =  0.6337078809738159\n",
      "444/444 [==============================] - 1s 2ms/step\n",
      "Test accuracy =  0.6148648858070374\n",
      "444/444 [==============================] - 1s 2ms/step\n",
      "Test accuracy =  0.5788288116455078\n",
      "444/444 [==============================] - 1s 2ms/step\n",
      "Test accuracy =  0.587837815284729\n",
      "444/444 [==============================] - 1s 2ms/step\n",
      "Test accuracy =  0.6126126050949097\n"
     ]
    }
   ],
   "source": [
    "kfold = 10\n",
    "X = pd.DataFrame(embedding)\n",
    "y = y_train_OH\n",
    "\n",
    "random_state = 1\n",
    "\n",
    "test_F1 = np.zeros(kfold)\n",
    "skf = KFold(n_splits = kfold, shuffle = True, random_state = random_state)\n",
    "k = 0\n",
    "epochs = 50\n",
    "batch_size = 128\n",
    "\n",
    "for train_index, test_index in skf.split(X, y):\n",
    "    X_train, X_test = X.iloc[train_index], X.iloc[test_index]\n",
    "    y_train, y_test = y[train_index], y[test_index]\n",
    "    X_train = X_train.as_matrix(columns = None)\n",
    "    X_test = X_test.as_matrix(columns = None)\n",
    "    \n",
    "    model = Sequential()\n",
    "    model.add(Dense(128, input_shape = (X_train.shape[1],), init = 'uniform')) \n",
    "    model.add(Activation('relu'))\n",
    "    model.add(Dropout(0.2))\n",
    "    model.add(Dense(64, init='uniform'))\n",
    "    model.add(Activation('relu'))\n",
    "    model.add(Dropout(0.2))\n",
    "    model.add(Dense(3, init='uniform'))\n",
    "    model.add(Activation('softmax'))\n",
    "    model.compile(loss='categorical_crossentropy', optimizer='adam', metrics=['accuracy'])\n",
    "    \n",
    "    model.fit(X_train, y_train ,batch_size=batch_size, epochs=epochs, verbose = False)\n",
    "        \n",
    "    #y_pred = model.predict_proba(X_test)\n",
    "    #y_pred = y_pred.round()\n",
    "    #y_pred = y_pred.astype(int)\n",
    "    #y_train_pred = model.predict_proba(X_train)\n",
    "    #y_train_pred = y_train_pred.round()\n",
    "    #y_train_pred = y_train_pred.astype(int)\n",
    "    loss, acc = model.evaluate(X_test, y_test)\n",
    "    print(\"Test accuracy = \", acc)\n",
    "    \n",
    "#print ('Average test accuracy', np.mean(test_F1))\n"
   ]
  },
  {
   "cell_type": "code",
   "execution_count": null,
   "metadata": {},
   "outputs": [],
   "source": [
    "    \n",
    "    y_pred = model.predict_proba(X_test)\n",
    "    y_pred = y_pred.round()\n",
    "    y_pred = y_pred.astype(int)\n",
    "    y_train_pred = model.predict_proba(X_train)\n",
    "    y_train_pred = y_train_pred.round()\n",
    "    y_train_pred = y_train_pred.astype(int)\n",
    "    print ('Test F1 for fold', k+1, sklearn.metrics.f1_score(y_test, y_pred) )\n",
    "    test_F1[k] = sklearn.metrics.f1_score(y_test, y_pred)\n",
    "    k+=1\n",
    "    \n",
    "print ('Average test accuracy', np.mean(test_F1))"
   ]
  },
  {
   "cell_type": "markdown",
   "metadata": {},
   "source": [
    "#### Applying PCA on the embeddings\n",
    "The embeddings are sparse. We, therefore, apply PCA on the embeddings."
   ]
  },
  {
   "cell_type": "code",
   "execution_count": 50,
   "metadata": {},
   "outputs": [
    {
     "name": "stdout",
     "output_type": "stream",
     "text": [
      "0.2874885993928512\n"
     ]
    }
   ],
   "source": [
    "from sklearn.decomposition import PCA\n",
    "pca = PCA(n_components=35)\n",
    "pca.fit(embedding)\n",
    "X = pca.transform(embedding)\n",
    "print(np.sum(pca.explained_variance_ratio_))"
   ]
  },
  {
   "cell_type": "markdown",
   "metadata": {},
   "source": [
    "#### Building an LSTM Classifier on the sequences for comparison\n",
    "We built an LSTM Classifier on the sequences to compare the accuracy."
   ]
  },
  {
   "cell_type": "code",
   "execution_count": 51,
   "metadata": {},
   "outputs": [
    {
     "ename": "NameError",
     "evalue": "name 'darpa_data' is not defined",
     "output_type": "error",
     "traceback": [
      "\u001b[0;31m---------------------------------------------------------------------------\u001b[0m",
      "\u001b[0;31mNameError\u001b[0m                                 Traceback (most recent call last)",
      "\u001b[0;32m<ipython-input-51-0ffeba6b6097>\u001b[0m in \u001b[0;36m<module>\u001b[0;34m\u001b[0m\n\u001b[0;32m----> 1\u001b[0;31m \u001b[0mX\u001b[0m \u001b[0;34m=\u001b[0m \u001b[0mdarpa_data\u001b[0m\u001b[0;34m[\u001b[0m\u001b[0;34m'seq'\u001b[0m\u001b[0;34m]\u001b[0m\u001b[0;34m\u001b[0m\u001b[0;34m\u001b[0m\u001b[0m\n\u001b[0m\u001b[1;32m      2\u001b[0m \u001b[0mencoded_X\u001b[0m \u001b[0;34m=\u001b[0m \u001b[0mnp\u001b[0m\u001b[0;34m.\u001b[0m\u001b[0mndarray\u001b[0m\u001b[0;34m(\u001b[0m\u001b[0mshape\u001b[0m\u001b[0;34m=\u001b[0m\u001b[0;34m(\u001b[0m\u001b[0mlen\u001b[0m\u001b[0;34m(\u001b[0m\u001b[0mX\u001b[0m\u001b[0;34m)\u001b[0m\u001b[0;34m,\u001b[0m\u001b[0;34m)\u001b[0m\u001b[0;34m,\u001b[0m \u001b[0mdtype\u001b[0m\u001b[0;34m=\u001b[0m\u001b[0mlist\u001b[0m\u001b[0;34m)\u001b[0m\u001b[0;34m\u001b[0m\u001b[0;34m\u001b[0m\u001b[0m\n\u001b[1;32m      3\u001b[0m \u001b[0;32mfor\u001b[0m \u001b[0mi\u001b[0m \u001b[0;32min\u001b[0m \u001b[0mrange\u001b[0m\u001b[0;34m(\u001b[0m\u001b[0;36m0\u001b[0m\u001b[0;34m,\u001b[0m\u001b[0mlen\u001b[0m\u001b[0;34m(\u001b[0m\u001b[0mX\u001b[0m\u001b[0;34m)\u001b[0m\u001b[0;34m)\u001b[0m\u001b[0;34m:\u001b[0m\u001b[0;34m\u001b[0m\u001b[0;34m\u001b[0m\u001b[0m\n\u001b[1;32m      4\u001b[0m     \u001b[0mencoded_X\u001b[0m\u001b[0;34m[\u001b[0m\u001b[0mi\u001b[0m\u001b[0;34m]\u001b[0m\u001b[0;34m=\u001b[0m\u001b[0mX\u001b[0m\u001b[0;34m.\u001b[0m\u001b[0miloc\u001b[0m\u001b[0;34m[\u001b[0m\u001b[0mi\u001b[0m\u001b[0;34m]\u001b[0m\u001b[0;34m.\u001b[0m\u001b[0msplit\u001b[0m\u001b[0;34m(\u001b[0m\u001b[0;34m\"~\"\u001b[0m\u001b[0;34m)\u001b[0m\u001b[0;34m\u001b[0m\u001b[0;34m\u001b[0m\u001b[0m\n",
      "\u001b[0;31mNameError\u001b[0m: name 'darpa_data' is not defined"
     ]
    }
   ],
   "source": [
    "X = darpa_data['seq']\n",
    "encoded_X = np.ndarray(shape=(len(X),), dtype=list)\n",
    "for i in range(0,len(X)):\n",
    "    encoded_X[i]=X.iloc[i].split(\"~\")"
   ]
  },
  {
   "cell_type": "code",
   "execution_count": 182,
   "metadata": {},
   "outputs": [],
   "source": [
    "max_seq_length = np.max(darpa_data['seqlen'])\n",
    "encoded_X = sequence.pad_sequences(encoded_X, maxlen=max_seq_length)"
   ]
  },
  {
   "cell_type": "code",
   "execution_count": 183,
   "metadata": {},
   "outputs": [
    {
     "name": "stderr",
     "output_type": "stream",
     "text": [
      "/Users/inferno/anaconda/lib/python3.6/site-packages/ipykernel_launcher.py:21: UserWarning: Update your `Dense` call to the Keras 2 API: `Dense(1, kernel_initializer=\"uniform\")`\n"
     ]
    },
    {
     "name": "stdout",
     "output_type": "stream",
     "text": [
      "Epoch 1/50\n",
      "73/73 [==============================] - 13s 178ms/step - loss: 0.6912 - acc: 0.7260\n",
      "Epoch 2/50\n",
      "73/73 [==============================] - 9s 123ms/step - loss: 0.6837 - acc: 0.8904\n",
      "Epoch 3/50\n",
      "73/73 [==============================] - 9s 122ms/step - loss: 0.6720 - acc: 0.8904\n",
      "Epoch 4/50\n",
      "73/73 [==============================] - 9s 119ms/step - loss: 0.6497 - acc: 0.8904\n",
      "Epoch 5/50\n",
      "73/73 [==============================] - 8s 116ms/step - loss: 0.5931 - acc: 0.8904\n",
      "Epoch 6/50\n",
      "73/73 [==============================] - 9s 117ms/step - loss: 0.5135 - acc: 0.8904\n",
      "Epoch 7/50\n",
      "73/73 [==============================] - 9s 118ms/step - loss: 0.4409 - acc: 0.8904\n",
      "Epoch 8/50\n",
      "73/73 [==============================] - 9s 125ms/step - loss: 0.4078 - acc: 0.8904\n",
      "Epoch 9/50\n",
      "73/73 [==============================] - 9s 129ms/step - loss: 0.3817 - acc: 0.8904\n",
      "Epoch 10/50\n",
      "73/73 [==============================] - 8s 115ms/step - loss: 0.3647 - acc: 0.8904\n",
      "Epoch 11/50\n",
      "73/73 [==============================] - 8s 112ms/step - loss: 0.3543 - acc: 0.8904\n",
      "Epoch 12/50\n",
      "73/73 [==============================] - 8s 109ms/step - loss: 0.3470 - acc: 0.8904\n",
      "Epoch 13/50\n",
      "73/73 [==============================] - 8s 112ms/step - loss: 0.3471 - acc: 0.8904\n",
      "Epoch 14/50\n",
      "73/73 [==============================] - 9s 117ms/step - loss: 0.3470 - acc: 0.8904\n",
      "Epoch 15/50\n",
      "73/73 [==============================] - 9s 119ms/step - loss: 0.3462 - acc: 0.8904\n",
      "Epoch 16/50\n",
      "73/73 [==============================] - 8s 109ms/step - loss: 0.3464 - acc: 0.8904\n",
      "Epoch 17/50\n",
      "73/73 [==============================] - 8s 115ms/step - loss: 0.3463 - acc: 0.8904\n",
      "Epoch 18/50\n",
      "73/73 [==============================] - 10s 131ms/step - loss: 0.3464 - acc: 0.8904\n",
      "Epoch 19/50\n",
      "73/73 [==============================] - 8s 114ms/step - loss: 0.3464 - acc: 0.8904\n",
      "Epoch 20/50\n",
      "73/73 [==============================] - 8s 110ms/step - loss: 0.3460 - acc: 0.8904\n",
      "Epoch 21/50\n",
      "73/73 [==============================] - 8s 109ms/step - loss: 0.3459 - acc: 0.8904\n",
      "Epoch 22/50\n",
      "73/73 [==============================] - 8s 109ms/step - loss: 0.3458 - acc: 0.8904\n",
      "Epoch 23/50\n",
      "73/73 [==============================] - 8s 110ms/step - loss: 0.3472 - acc: 0.8904\n",
      "Epoch 24/50\n",
      "73/73 [==============================] - 8s 113ms/step - loss: 0.3459 - acc: 0.8904\n",
      "Epoch 25/50\n",
      "73/73 [==============================] - 8s 110ms/step - loss: 0.3464 - acc: 0.8904\n",
      "Epoch 26/50\n",
      "73/73 [==============================] - 8s 107ms/step - loss: 0.3459 - acc: 0.8904\n",
      "Epoch 27/50\n",
      "73/73 [==============================] - 9s 121ms/step - loss: 0.3458 - acc: 0.8904\n",
      "Epoch 28/50\n",
      "73/73 [==============================] - 9s 126ms/step - loss: 0.3457 - acc: 0.8904\n",
      "Epoch 29/50\n",
      "73/73 [==============================] - 9s 118ms/step - loss: 0.3458 - acc: 0.8904\n",
      "Epoch 30/50\n",
      "73/73 [==============================] - 8s 116ms/step - loss: 0.3461 - acc: 0.8904\n",
      "Epoch 31/50\n",
      "73/73 [==============================] - 8s 107ms/step - loss: 0.3458 - acc: 0.8904\n",
      "Epoch 32/50\n",
      "73/73 [==============================] - 8s 111ms/step - loss: 0.3465 - acc: 0.8904\n",
      "Epoch 33/50\n",
      "73/73 [==============================] - 8s 109ms/step - loss: 0.3469 - acc: 0.8904\n",
      "Epoch 34/50\n",
      "73/73 [==============================] - 8s 110ms/step - loss: 0.3458 - acc: 0.8904\n",
      "Epoch 35/50\n",
      "73/73 [==============================] - 8s 107ms/step - loss: 0.3457 - acc: 0.8904\n",
      "Epoch 36/50\n",
      "73/73 [==============================] - 8s 104ms/step - loss: 0.3458 - acc: 0.8904\n",
      "Epoch 37/50\n",
      "73/73 [==============================] - 9s 117ms/step - loss: 0.3460 - acc: 0.8904\n",
      "Epoch 38/50\n",
      "73/73 [==============================] - 9s 117ms/step - loss: 0.3459 - acc: 0.8904\n",
      "Epoch 39/50\n",
      "73/73 [==============================] - 8s 110ms/step - loss: 0.3459 - acc: 0.8904\n",
      "Epoch 40/50\n",
      "73/73 [==============================] - 8s 106ms/step - loss: 0.3460 - acc: 0.8904\n",
      "Epoch 41/50\n",
      "73/73 [==============================] - 8s 110ms/step - loss: 0.3469 - acc: 0.8904\n",
      "Epoch 42/50\n",
      "73/73 [==============================] - 8s 107ms/step - loss: 0.3460 - acc: 0.8904\n",
      "Epoch 43/50\n",
      "73/73 [==============================] - 8s 107ms/step - loss: 0.3464 - acc: 0.8904\n",
      "Epoch 44/50\n",
      "73/73 [==============================] - 8s 109ms/step - loss: 0.3458 - acc: 0.8904\n",
      "Epoch 45/50\n",
      "73/73 [==============================] - 8s 107ms/step - loss: 0.3457 - acc: 0.8904\n",
      "Epoch 46/50\n",
      "73/73 [==============================] - 8s 106ms/step - loss: 0.3459 - acc: 0.8904\n",
      "Epoch 47/50\n",
      "73/73 [==============================] - 9s 117ms/step - loss: 0.3470 - acc: 0.8904\n",
      "Epoch 48/50\n",
      "73/73 [==============================] - 9s 121ms/step - loss: 0.3464 - acc: 0.8904\n",
      "Epoch 49/50\n",
      "73/73 [==============================] - 9s 117ms/step - loss: 0.3459 - acc: 0.8904\n",
      "Epoch 50/50\n",
      "73/73 [==============================] - 8s 114ms/step - loss: 0.3460 - acc: 0.8904\n"
     ]
    },
    {
     "name": "stderr",
     "output_type": "stream",
     "text": [
      "/Users/inferno/anaconda/lib/python3.6/site-packages/sklearn/metrics/classification.py:1113: UndefinedMetricWarning: F-score is ill-defined and being set to 0.0 due to no predicted samples.\n",
      "  'precision', 'predicted', average, warn_for)\n"
     ]
    },
    {
     "name": "stdout",
     "output_type": "stream",
     "text": [
      "Epoch 1/50\n",
      "74/74 [==============================] - 12s 168ms/step - loss: 0.6900 - acc: 0.8784\n",
      "Epoch 2/50\n",
      "74/74 [==============================] - 8s 104ms/step - loss: 0.6839 - acc: 0.8784\n",
      "Epoch 3/50\n",
      "74/74 [==============================] - 8s 105ms/step - loss: 0.6744 - acc: 0.8784\n",
      "Epoch 4/50\n",
      "74/74 [==============================] - 8s 107ms/step - loss: 0.6610 - acc: 0.8784\n",
      "Epoch 5/50\n",
      "74/74 [==============================] - 8s 110ms/step - loss: 0.6307 - acc: 0.8784\n",
      "Epoch 6/50\n",
      "74/74 [==============================] - 9s 121ms/step - loss: 0.5592 - acc: 0.8784\n",
      "Epoch 7/50\n",
      "74/74 [==============================] - 9s 118ms/step - loss: 0.4755 - acc: 0.8784\n",
      "Epoch 8/50\n",
      "74/74 [==============================] - 8s 107ms/step - loss: 0.4349 - acc: 0.8784\n",
      "Epoch 9/50\n",
      "74/74 [==============================] - 9s 115ms/step - loss: 0.4040 - acc: 0.8784\n",
      "Epoch 10/50\n",
      "74/74 [==============================] - 8s 107ms/step - loss: 0.3861 - acc: 0.8784\n",
      "Epoch 11/50\n",
      "74/74 [==============================] - 8s 107ms/step - loss: 0.3775 - acc: 0.8784\n",
      "Epoch 12/50\n",
      "74/74 [==============================] - 8s 109ms/step - loss: 0.3726 - acc: 0.8784\n",
      "Epoch 13/50\n",
      "74/74 [==============================] - 8s 109ms/step - loss: 0.3705 - acc: 0.8784\n",
      "Epoch 14/50\n",
      "74/74 [==============================] - 10s 130ms/step - loss: 0.3727 - acc: 0.8784\n",
      "Epoch 15/50\n",
      "74/74 [==============================] - 10s 132ms/step - loss: 0.3708 - acc: 0.8784\n",
      "Epoch 16/50\n",
      "74/74 [==============================] - 9s 121ms/step - loss: 0.3708 - acc: 0.8784\n",
      "Epoch 17/50\n",
      "74/74 [==============================] - 9s 119ms/step - loss: 0.3713 - acc: 0.8784\n",
      "Epoch 18/50\n",
      "74/74 [==============================] - 8s 112ms/step - loss: 0.3714 - acc: 0.8784\n",
      "Epoch 19/50\n",
      "74/74 [==============================] - 8s 111ms/step - loss: 0.3725 - acc: 0.8784\n",
      "Epoch 20/50\n",
      "74/74 [==============================] - 8s 109ms/step - loss: 0.3708 - acc: 0.8784\n",
      "Epoch 21/50\n",
      "74/74 [==============================] - 8s 108ms/step - loss: 0.3702 - acc: 0.8784\n",
      "Epoch 22/50\n",
      "74/74 [==============================] - 8s 110ms/step - loss: 0.3703 - acc: 0.8784\n",
      "Epoch 23/50\n",
      "74/74 [==============================] - 9s 126ms/step - loss: 0.3705 - acc: 0.8784\n",
      "Epoch 24/50\n",
      "74/74 [==============================] - 9s 119ms/step - loss: 0.3703 - acc: 0.8784\n",
      "Epoch 25/50\n",
      "74/74 [==============================] - 8s 108ms/step - loss: 0.3709 - acc: 0.8784\n",
      "Epoch 26/50\n",
      "74/74 [==============================] - 8s 109ms/step - loss: 0.3706 - acc: 0.8784\n",
      "Epoch 27/50\n",
      "74/74 [==============================] - 8s 107ms/step - loss: 0.3708 - acc: 0.8784\n",
      "Epoch 28/50\n",
      "74/74 [==============================] - 8s 108ms/step - loss: 0.3703 - acc: 0.8784\n",
      "Epoch 29/50\n",
      "74/74 [==============================] - 8s 111ms/step - loss: 0.3703 - acc: 0.8784\n",
      "Epoch 30/50\n",
      "74/74 [==============================] - 8s 109ms/step - loss: 0.3705 - acc: 0.8784\n",
      "Epoch 31/50\n",
      "74/74 [==============================] - 8s 110ms/step - loss: 0.3704 - acc: 0.8784\n",
      "Epoch 32/50\n",
      "74/74 [==============================] - 8s 109ms/step - loss: 0.3707 - acc: 0.8784\n",
      "Epoch 33/50\n",
      "74/74 [==============================] - 9s 123ms/step - loss: 0.3702 - acc: 0.8784\n",
      "Epoch 34/50\n",
      "74/74 [==============================] - 8s 110ms/step - loss: 0.3704 - acc: 0.8784\n",
      "Epoch 35/50\n",
      "74/74 [==============================] - 8s 110ms/step - loss: 0.3702 - acc: 0.8784\n",
      "Epoch 36/50\n",
      "74/74 [==============================] - 8s 115ms/step - loss: 0.3703 - acc: 0.8784\n",
      "Epoch 37/50\n",
      "74/74 [==============================] - 8s 113ms/step - loss: 0.3712 - acc: 0.8784\n",
      "Epoch 38/50\n",
      "74/74 [==============================] - 8s 110ms/step - loss: 0.3701 - acc: 0.8784\n",
      "Epoch 39/50\n",
      "74/74 [==============================] - 8s 111ms/step - loss: 0.3703 - acc: 0.8784\n",
      "Epoch 40/50\n",
      "74/74 [==============================] - 8s 109ms/step - loss: 0.3704 - acc: 0.8784\n",
      "Epoch 41/50\n",
      "74/74 [==============================] - 8s 108ms/step - loss: 0.3705 - acc: 0.8784\n",
      "Epoch 42/50\n",
      "74/74 [==============================] - 9s 123ms/step - loss: 0.3703 - acc: 0.8784\n",
      "Epoch 43/50\n",
      "74/74 [==============================] - 9s 125ms/step - loss: 0.3704 - acc: 0.8784\n",
      "Epoch 44/50\n",
      "74/74 [==============================] - 8s 112ms/step - loss: 0.3705 - acc: 0.8784\n",
      "Epoch 45/50\n",
      "74/74 [==============================] - 8s 109ms/step - loss: 0.3704 - acc: 0.8784\n",
      "Epoch 46/50\n",
      "74/74 [==============================] - 8s 113ms/step - loss: 0.3704 - acc: 0.8784\n",
      "Epoch 47/50\n",
      "74/74 [==============================] - 8s 109ms/step - loss: 0.3706 - acc: 0.8784\n",
      "Epoch 48/50\n",
      "74/74 [==============================] - 8s 110ms/step - loss: 0.3709 - acc: 0.8784\n",
      "Epoch 49/50\n",
      "74/74 [==============================] - 8s 111ms/step - loss: 0.3702 - acc: 0.8784\n",
      "Epoch 50/50\n",
      "74/74 [==============================] - 9s 115ms/step - loss: 0.3711 - acc: 0.8784\n",
      "Epoch 1/50\n",
      "75/75 [==============================] - 14s 186ms/step - loss: 0.6915 - acc: 0.6800\n",
      "Epoch 2/50\n",
      "75/75 [==============================] - 9s 117ms/step - loss: 0.6852 - acc: 0.8800\n",
      "Epoch 3/50\n",
      "75/75 [==============================] - 9s 116ms/step - loss: 0.6777 - acc: 0.8800\n",
      "Epoch 4/50\n",
      "75/75 [==============================] - 8s 110ms/step - loss: 0.6676 - acc: 0.8800\n",
      "Epoch 5/50\n",
      "75/75 [==============================] - 8s 111ms/step - loss: 0.6504 - acc: 0.8800\n",
      "Epoch 6/50\n",
      "75/75 [==============================] - 8s 109ms/step - loss: 0.6143 - acc: 0.8800\n",
      "Epoch 7/50\n",
      "75/75 [==============================] - 8s 109ms/step - loss: 0.5376 - acc: 0.8800\n",
      "Epoch 8/50\n",
      "75/75 [==============================] - 8s 108ms/step - loss: 0.4488 - acc: 0.8800\n",
      "Epoch 9/50\n",
      "75/75 [==============================] - 8s 111ms/step - loss: 0.4069 - acc: 0.8800\n",
      "Epoch 10/50\n",
      "75/75 [==============================] - 10s 131ms/step - loss: 0.3788 - acc: 0.8800\n",
      "Epoch 11/50\n",
      "75/75 [==============================] - 9s 115ms/step - loss: 0.3702 - acc: 0.8800\n",
      "Epoch 12/50\n",
      "75/75 [==============================] - 8s 113ms/step - loss: 0.3671 - acc: 0.8800\n",
      "Epoch 13/50\n",
      "75/75 [==============================] - 8s 111ms/step - loss: 0.3686 - acc: 0.8800\n",
      "Epoch 14/50\n",
      "75/75 [==============================] - 8s 113ms/step - loss: 0.3678 - acc: 0.8800\n",
      "Epoch 15/50\n",
      "75/75 [==============================] - 8s 108ms/step - loss: 0.3678 - acc: 0.8800\n",
      "Epoch 16/50\n",
      "75/75 [==============================] - 8s 109ms/step - loss: 0.3689 - acc: 0.8800\n",
      "Epoch 17/50\n",
      "75/75 [==============================] - 8s 109ms/step - loss: 0.3677 - acc: 0.8800\n",
      "Epoch 18/50\n",
      "75/75 [==============================] - 8s 110ms/step - loss: 0.3673 - acc: 0.8800\n",
      "Epoch 19/50\n",
      "75/75 [==============================] - 9s 122ms/step - loss: 0.3674 - acc: 0.8800\n",
      "Epoch 20/50\n",
      "75/75 [==============================] - 9s 121ms/step - loss: 0.3672 - acc: 0.8800\n",
      "Epoch 21/50\n",
      "75/75 [==============================] - 9s 115ms/step - loss: 0.3671 - acc: 0.8800\n",
      "Epoch 22/50\n",
      "75/75 [==============================] - 9s 121ms/step - loss: 0.3672 - acc: 0.8800\n",
      "Epoch 23/50\n",
      "75/75 [==============================] - 8s 111ms/step - loss: 0.3670 - acc: 0.8800\n",
      "Epoch 24/50\n",
      "75/75 [==============================] - 9s 121ms/step - loss: 0.3672 - acc: 0.8800\n",
      "Epoch 25/50\n",
      "75/75 [==============================] - 8s 112ms/step - loss: 0.3671 - acc: 0.8800\n",
      "Epoch 26/50\n",
      "75/75 [==============================] - 8s 110ms/step - loss: 0.3671 - acc: 0.8800\n",
      "Epoch 27/50\n",
      "75/75 [==============================] - 8s 106ms/step - loss: 0.3673 - acc: 0.8800\n",
      "Epoch 28/50\n",
      "75/75 [==============================] - 8s 112ms/step - loss: 0.3674 - acc: 0.8800\n",
      "Epoch 29/50\n",
      "75/75 [==============================] - 8s 107ms/step - loss: 0.3674 - acc: 0.8800\n",
      "Epoch 30/50\n",
      "75/75 [==============================] - 8s 106ms/step - loss: 0.3671 - acc: 0.8800\n",
      "Epoch 31/50\n",
      "75/75 [==============================] - 8s 106ms/step - loss: 0.3683 - acc: 0.8800\n",
      "Epoch 32/50\n",
      "75/75 [==============================] - 8s 107ms/step - loss: 0.3680 - acc: 0.8800\n",
      "Epoch 33/50\n",
      "75/75 [==============================] - 9s 116ms/step - loss: 0.3671 - acc: 0.8800\n",
      "Epoch 34/50\n",
      "75/75 [==============================] - 9s 125ms/step - loss: 0.3685 - acc: 0.8800\n",
      "Epoch 35/50\n",
      "75/75 [==============================] - 9s 116ms/step - loss: 0.3677 - acc: 0.8800\n",
      "Epoch 36/50\n",
      "75/75 [==============================] - 8s 113ms/step - loss: 0.3674 - acc: 0.8800\n",
      "Epoch 37/50\n",
      "75/75 [==============================] - 9s 124ms/step - loss: 0.3669 - acc: 0.8800\n",
      "Epoch 38/50\n",
      "75/75 [==============================] - 9s 118ms/step - loss: 0.3669 - acc: 0.8800\n",
      "Epoch 39/50\n",
      "75/75 [==============================] - 9s 114ms/step - loss: 0.3668 - acc: 0.8800\n",
      "Epoch 40/50\n",
      "75/75 [==============================] - 8s 108ms/step - loss: 0.3672 - acc: 0.8800\n",
      "Epoch 41/50\n",
      "75/75 [==============================] - 8s 112ms/step - loss: 0.3666 - acc: 0.8800\n",
      "Epoch 42/50\n",
      "75/75 [==============================] - 10s 132ms/step - loss: 0.3672 - acc: 0.8800\n",
      "Epoch 43/50\n",
      "75/75 [==============================] - 9s 117ms/step - loss: 0.3660 - acc: 0.8800\n",
      "Epoch 44/50\n",
      "75/75 [==============================] - 9s 121ms/step - loss: 0.3670 - acc: 0.8800\n",
      "Epoch 45/50\n",
      "75/75 [==============================] - 9s 120ms/step - loss: 0.3671 - acc: 0.8800\n",
      "Epoch 46/50\n",
      "75/75 [==============================] - 9s 119ms/step - loss: 0.3672 - acc: 0.8800\n",
      "Epoch 47/50\n",
      "75/75 [==============================] - 9s 116ms/step - loss: 0.3672 - acc: 0.8800\n",
      "Epoch 48/50\n",
      "75/75 [==============================] - 8s 106ms/step - loss: 0.3681 - acc: 0.8800\n",
      "Epoch 49/50\n",
      "75/75 [==============================] - 8s 107ms/step - loss: 0.3679 - acc: 0.8800\n",
      "Epoch 50/50\n",
      "75/75 [==============================] - 8s 111ms/step - loss: 0.3674 - acc: 0.8800\n"
     ]
    }
   ],
   "source": [
    "kfold = 3\n",
    "random_state = 11\n",
    "\n",
    "test_F1 = np.zeros(kfold)\n",
    "time_k = np.zeros(kfold)\n",
    "\n",
    "epochs = 50\n",
    "batch_size = 15\n",
    "skf = StratifiedKFold(n_splits=kfold, shuffle=True, random_state=random_state)\n",
    "k = 0\n",
    "\n",
    "for train_index, test_index in skf.split(encoded_X, y):\n",
    "    X_train, X_test = encoded_X[train_index], encoded_X[test_index]\n",
    "    y_train, y_test = y[train_index], y[test_index]\n",
    "    \n",
    "    embedding_vecor_length = 32\n",
    "    top_words=50\n",
    "    model = Sequential()\n",
    "    model.add(Embedding(top_words, embedding_vecor_length, input_length=max_seq_length))\n",
    "    model.add(LSTM(32))\n",
    "    model.add(Dense(1, init='uniform'))\n",
    "    model.add(Activation('sigmoid'))\n",
    "    model.compile(loss='binary_crossentropy', optimizer='adam', metrics=['accuracy'])\n",
    "\n",
    "    start_time = time.time()\n",
    "    model.fit(X_train, y_train, epochs=epochs, batch_size=batch_size, verbose=1)\n",
    "    end_time=time.time()\n",
    "    time_k[k]=end_time-start_time\n",
    "\n",
    "    y_pred = model.predict_proba(X_test).round().astype(int)\n",
    "    y_train_pred=model.predict_proba(X_train).round().astype(int)\n",
    "    test_F1[k]=sklearn.metrics.f1_score(y_test, y_pred)\n",
    "    k+=1"
   ]
  },
  {
   "cell_type": "code",
   "execution_count": 185,
   "metadata": {},
   "outputs": [
    {
     "name": "stdout",
     "output_type": "stream",
     "text": [
      "Average Test accuracy 0.0\n",
      "Average Run time 425.68603706359863\n"
     ]
    }
   ],
   "source": [
    "print ('Average Test accuracy', np.mean(test_F1))\n",
    "print ('Average Run time', np.mean(time_k))"
   ]
  },
  {
   "cell_type": "markdown",
   "metadata": {},
   "source": [
    "We find that the LSTM classifier gives an F1 score of 0. This may be improved by changing the model. However, we find that the SGT embedding could work with a small and unbalanced data without the need of a complicated classifier model.\n",
    "\n",
    "LSTM models typically require more data for training and also has significantly more computation time. The LSTM model above took 425.6 secs while the MLP model took just 9.1 secs."
   ]
  },
  {
   "cell_type": "code",
   "execution_count": null,
   "metadata": {
    "collapsed": true
   },
   "outputs": [],
   "source": []
  }
 ],
 "metadata": {
  "kernelspec": {
   "display_name": "Python 3",
   "language": "python",
   "name": "python3"
  },
  "language_info": {
   "codemirror_mode": {
    "name": "ipython",
    "version": 3
   },
   "file_extension": ".py",
   "mimetype": "text/x-python",
   "name": "python",
   "nbconvert_exporter": "python",
   "pygments_lexer": "ipython3",
   "version": "3.7.3"
  }
 },
 "nbformat": 4,
 "nbformat_minor": 2
}
