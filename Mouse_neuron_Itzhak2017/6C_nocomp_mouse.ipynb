{
 "cells": [
  {
   "cell_type": "code",
   "execution_count": 1,
   "metadata": {},
   "outputs": [
    {
     "name": "stderr",
     "output_type": "stream",
     "text": [
      "Using TensorFlow backend.\n",
      "/home/julie/anaconda3/lib/python3.7/site-packages/tensorflow/python/framework/dtypes.py:526: FutureWarning: Passing (type, 1) or '1type' as a synonym of type is deprecated; in a future version of numpy, it will be understood as (type, (1,)) / '(1,)type'.\n",
      "  _np_qint8 = np.dtype([(\"qint8\", np.int8, 1)])\n",
      "/home/julie/anaconda3/lib/python3.7/site-packages/tensorflow/python/framework/dtypes.py:527: FutureWarning: Passing (type, 1) or '1type' as a synonym of type is deprecated; in a future version of numpy, it will be understood as (type, (1,)) / '(1,)type'.\n",
      "  _np_quint8 = np.dtype([(\"quint8\", np.uint8, 1)])\n",
      "/home/julie/anaconda3/lib/python3.7/site-packages/tensorflow/python/framework/dtypes.py:528: FutureWarning: Passing (type, 1) or '1type' as a synonym of type is deprecated; in a future version of numpy, it will be understood as (type, (1,)) / '(1,)type'.\n",
      "  _np_qint16 = np.dtype([(\"qint16\", np.int16, 1)])\n",
      "/home/julie/anaconda3/lib/python3.7/site-packages/tensorflow/python/framework/dtypes.py:529: FutureWarning: Passing (type, 1) or '1type' as a synonym of type is deprecated; in a future version of numpy, it will be understood as (type, (1,)) / '(1,)type'.\n",
      "  _np_quint16 = np.dtype([(\"quint16\", np.uint16, 1)])\n",
      "/home/julie/anaconda3/lib/python3.7/site-packages/tensorflow/python/framework/dtypes.py:530: FutureWarning: Passing (type, 1) or '1type' as a synonym of type is deprecated; in a future version of numpy, it will be understood as (type, (1,)) / '(1,)type'.\n",
      "  _np_qint32 = np.dtype([(\"qint32\", np.int32, 1)])\n",
      "/home/julie/anaconda3/lib/python3.7/site-packages/tensorflow/python/framework/dtypes.py:535: FutureWarning: Passing (type, 1) or '1type' as a synonym of type is deprecated; in a future version of numpy, it will be understood as (type, (1,)) / '(1,)type'.\n",
      "  np_resource = np.dtype([(\"resource\", np.ubyte, 1)])\n"
     ]
    }
   ],
   "source": [
    "import matplotlib\n",
    "import matplotlib.pyplot as plt\n",
    "import pandas as pd\n",
    "import csv\n",
    "import numpy as np\n",
    "%matplotlib inline \n",
    "from matplotlib.ticker import MultipleLocator\n",
    "from sklearn.preprocessing import normalize\n",
    "import pandas as pd\n",
    "from sklearn.decomposition import PCA\n",
    "import umap\n",
    "from sklearn.manifold import TSNE\n",
    "from sklearn.metrics import classification_report\n",
    "\n",
    "import os \n",
    "from keras.layers import Conv1D, MaxPooling1D, SpatialDropout1D\n",
    "from keras.models import load_model\n",
    "from sklearn.metrics import confusion_matrix\n",
    "from sklearn.utils import class_weight\n",
    "from keras.utils.vis_utils import plot_model\n",
    "from keras import initializers\n",
    "from keras import regularizers\n",
    "from keras.preprocessing import sequence\n",
    "from keras.models import Sequential\n",
    "from keras.layers import * # Keras is the most friendly Neural Network library, this Kernel use a lot of layers classes\n",
    "from keras.models import Model\n",
    "from tqdm import tqdm # Processing time measurement\n",
    "from sklearn.model_selection import train_test_split \n",
    "from keras import backend as K # The backend give us access to tensorflow operations and allow us to create the Attention class\n",
    "from keras import optimizers # Allow us to access the Adam class to modify some parameters\n",
    "from sklearn.model_selection import GridSearchCV, StratifiedKFold # Used to use Kfold to train our model\n",
    "from keras.callbacks import * # This object helps the model to train in a smarter way, avoiding overfitting"
   ]
  },
  {
   "cell_type": "code",
   "execution_count": 2,
   "metadata": {},
   "outputs": [],
   "source": [
    "train = pd.read_csv(\"data/6C_train.csv\", sep=\"\\t\")\n",
    "valid = pd.read_csv(\"data/6C_valid.csv\", sep=\"\\t\")\n",
    "\n",
    "y_train = train[\"Prediction\"]\n",
    "y_valid = valid[\"Prediction\"]\n",
    "\n",
    "x_train = train[\"Sequence\"].copy()\n",
    "x_valid = valid[\"Sequence\"].copy()"
   ]
  },
  {
   "cell_type": "code",
   "execution_count": 3,
   "metadata": {},
   "outputs": [
    {
     "name": "stdout",
     "output_type": "stream",
     "text": [
      "1988 train sequences\n",
      "497 valid sequences\n"
     ]
    }
   ],
   "source": [
    "print(len(x_train), 'train sequences')\n",
    "print(len(x_valid), 'valid sequences')"
   ]
  },
  {
   "cell_type": "code",
   "execution_count": 4,
   "metadata": {},
   "outputs": [],
   "source": [
    "max_len = 1500"
   ]
  },
  {
   "cell_type": "code",
   "execution_count": 5,
   "metadata": {},
   "outputs": [],
   "source": [
    "# all amino acids (in blosum order)\n",
    "aa = \"*ARNDCQEGHILKMFPSTWYVU\"\n",
    "tot_aa = len(aa)\n",
    "\n",
    "# define a mapping of aa to integers\n",
    "aa_to_int = dict((c, i) for i, c in enumerate(aa))\n",
    "int_to_aa = dict((i, c) for i, c in enumerate(aa))"
   ]
  },
  {
   "cell_type": "markdown",
   "metadata": {},
   "source": [
    "## One hot encoding of Labels"
   ]
  },
  {
   "cell_type": "code",
   "execution_count": 13,
   "metadata": {},
   "outputs": [
    {
     "data": {
      "text/plain": [
       "['ER',\n",
       " 'Lysosome',\n",
       " 'Endosome',\n",
       " 'Golgi',\n",
       " 'No Compartment',\n",
       " 'Plasma membrane',\n",
       " 'Mitochondrion']"
      ]
     },
     "execution_count": 13,
     "metadata": {},
     "output_type": "execute_result"
    }
   ],
   "source": [
    "list(set(y_train))"
   ]
  },
  {
   "cell_type": "code",
   "execution_count": 12,
   "metadata": {},
   "outputs": [],
   "source": [
    "# NB: DO NOT USE SET, IT CHANGES ORDER OF CATEGORY EVERYTIME I RUN THE NOTEBOOK!!!!\n",
    "cat = ['ER',\n",
    " 'Lysosome',\n",
    " 'Endosome',\n",
    " 'Golgi',\n",
    " 'No Compartment',\n",
    " 'Plasma membrane',\n",
    " 'Mitochondrion']"
   ]
  },
  {
   "cell_type": "code",
   "execution_count": 14,
   "metadata": {},
   "outputs": [],
   "source": [
    "tot_cat = len(cat)\n",
    "cat_to_int = {}\n",
    "int_to_cat = {}\n",
    "for i in range(tot_cat):\n",
    "    cat_to_int[cat[i]] = i\n",
    "    int_to_cat[i] = cat[i]   "
   ]
  },
  {
   "cell_type": "code",
   "execution_count": 15,
   "metadata": {},
   "outputs": [],
   "source": [
    "def cat_to_indices(Y):\n",
    "    Y_indices = np.zeros([Y.shape[0],], dtype=int)\n",
    "    for i in range(len(Y)):\n",
    "        Y_indices[i] = cat_to_int[Y[i]]\n",
    "    return Y_indices\n",
    "\n",
    "# one hot encode\n",
    "def convert_to_one_hot(Y, C):\n",
    "    Y = np.eye(C)[Y.reshape(-1)]\n",
    "    return Y"
   ]
  },
  {
   "cell_type": "code",
   "execution_count": 16,
   "metadata": {},
   "outputs": [],
   "source": [
    "y_train_indices = cat_to_indices(y_train)\n",
    "y_valid_indices = cat_to_indices(y_valid)\n",
    "\n",
    "y_train_OH = convert_to_one_hot(y_train_indices, C = tot_cat)\n",
    "y_valid_OH = convert_to_one_hot(y_valid_indices, C = tot_cat)"
   ]
  },
  {
   "cell_type": "markdown",
   "metadata": {},
   "source": [
    "## X_train processing: \n",
    "### From Sequences to list of indices"
   ]
  },
  {
   "cell_type": "code",
   "execution_count": 17,
   "metadata": {},
   "outputs": [],
   "source": [
    "# Function to convert sequences to array of indices. I will use that one for embedding \n",
    "\n",
    "def seq_to_indices(X, aa_to_int, max_len):\n",
    "    \n",
    "    m = X.shape[0]                                   # number of training examples\n",
    "    \n",
    "    ### START CODE HERE ###\n",
    "    # Initialize X_indices as a numpy matrix of zeros and the correct shape (≈ 1 line)\n",
    "    X_indices = []\n",
    "    \n",
    "    for i in range(m):                               # loop over training examples\n",
    "        seq_aa = X[i]\n",
    "        seq_ind = []\n",
    "        \n",
    "        # Loop over the words of sentence_words\n",
    "        for w in range(len(seq_aa)):\n",
    "            seq_ind.append(aa_to_int[seq_aa[w]])\n",
    "            \n",
    "        X_indices.append(seq_ind)\n",
    "            \n",
    "    ### END CODE HERE ###\n",
    "    \n",
    "    return X_indices"
   ]
  },
  {
   "cell_type": "code",
   "execution_count": 18,
   "metadata": {},
   "outputs": [],
   "source": [
    "x_train_indices = seq_to_indices(x_train, aa_to_int, max_len)"
   ]
  },
  {
   "cell_type": "code",
   "execution_count": 19,
   "metadata": {},
   "outputs": [],
   "source": [
    "x_valid_indices = seq_to_indices(x_valid, aa_to_int, max_len)"
   ]
  },
  {
   "cell_type": "code",
   "execution_count": 20,
   "metadata": {},
   "outputs": [
    {
     "name": "stdout",
     "output_type": "stream",
     "text": [
      "x_train shape: (1988, 1500)\n",
      "x_valid shape: (497, 1500)\n"
     ]
    }
   ],
   "source": [
    "# Pad sequences\n",
    "# By default, the padding is added before the sequence\n",
    "x_train_pad = sequence.pad_sequences(x_train_indices, maxlen=max_len, value=aa_to_int[\"*\"])\n",
    "x_valid_pad = sequence.pad_sequences(x_valid_indices, maxlen=max_len, value=aa_to_int[\"*\"])\n",
    "print('x_train shape:', x_train_pad.shape)\n",
    "print('x_valid shape:', x_valid_pad.shape)"
   ]
  },
  {
   "cell_type": "code",
   "execution_count": 21,
   "metadata": {},
   "outputs": [],
   "source": [
    "# One hot to label \n",
    "#Y is list of OH vector\n",
    "def OH_to_label_indices(Y):\n",
    "    labels = []\n",
    "    for a in Y:\n",
    "        indices = np.argmax(a)\n",
    "        labels.append(indices)\n",
    "    return labels"
   ]
  },
  {
   "cell_type": "code",
   "execution_count": 22,
   "metadata": {},
   "outputs": [],
   "source": [
    "def indices_to_cat(Y):\n",
    "    Y_cat = []\n",
    "    for i in range(len(Y)):\n",
    "        Y_cat.append(int_to_cat[Y[i]])\n",
    "    return Y_cat"
   ]
  },
  {
   "cell_type": "markdown",
   "metadata": {},
   "source": [
    "### Model 1"
   ]
  },
  {
   "cell_type": "code",
   "execution_count": 23,
   "metadata": {},
   "outputs": [
    {
     "name": "stdout",
     "output_type": "stream",
     "text": [
      "WARNING:tensorflow:From /home/julie/anaconda3/lib/python3.7/site-packages/tensorflow/python/ops/resource_variable_ops.py:435: colocate_with (from tensorflow.python.framework.ops) is deprecated and will be removed in a future version.\n",
      "Instructions for updating:\n",
      "Colocations handled automatically by placer.\n"
     ]
    }
   ],
   "source": [
    "max_features = tot_aa\n",
    "batch_size = 32\n",
    "\n",
    "#LSTM\n",
    "units = 128\n",
    "# Embedding\n",
    "embedding_size = 48\n",
    "# Convolution\n",
    "filters = 20\n",
    "pool_size = 2\n",
    "\n",
    "_input = Input(shape=[max_len], dtype='int32')\n",
    "\n",
    "# get the embedding layer\n",
    "embedded = Embedding(input_dim=max_features,output_dim=embedding_size,\n",
    "        input_length=max_len, name = 'embedding_layer', trainable=True, mask_zero=False)(_input)\n",
    "\n",
    "drop = Dropout(0.2)(embedded)\n",
    "# Convolution layer of different size\n",
    "\n",
    "conv2 = Conv1D(filters, 2, padding='same', activation='relu', \n",
    "              strides=1)(drop)\n",
    "drop2 = SpatialDropout1D(0.2)(conv2)\n",
    "pool2 = MaxPooling1D(pool_size=pool_size)(drop2)\n",
    "\n",
    "conv3 = Conv1D(filters, 3, padding='same', activation='relu', \n",
    "              strides=1)(drop)\n",
    "drop3 = SpatialDropout1D(0.2)(conv3)\n",
    "pool3 = MaxPooling1D(pool_size=pool_size)(drop3)\n",
    "\n",
    "conv5 = Conv1D(filters, 5, padding='same', activation='relu', \n",
    "              strides=1)(drop)\n",
    "drop5 = SpatialDropout1D(0.2)(conv5)\n",
    "pool5 = MaxPooling1D(pool_size=pool_size)(drop5)\n",
    "\n",
    "conv9 = Conv1D(filters, 9, padding='same', activation='relu', \n",
    "              strides=1)(drop)\n",
    "drop9 = SpatialDropout1D(0.2)(conv9)\n",
    "pool9 = MaxPooling1D(pool_size=pool_size)(drop9)\n",
    "\n",
    "conv12 = Conv1D(filters, 12, padding='same', activation='relu', \n",
    "              strides=1)(drop)\n",
    "drop12 = SpatialDropout1D(0.2)(conv12)\n",
    "pool12 = MaxPooling1D(pool_size=pool_size)(drop12)\n",
    "\n",
    "conv16 = Conv1D(filters, 16, padding='same', activation='relu', \n",
    "              strides=1)(drop)\n",
    "drop16 = SpatialDropout1D(0.2)(conv16)\n",
    "pool16 = MaxPooling1D(pool_size=pool_size)(drop16)\n",
    "\n",
    "# Concatenate the filters\n",
    "#concat = concatenate([drop2, drop3, drop5, drop9, drop12], axis=2)\n",
    "concat = concatenate([pool2, pool3, pool5, pool9, pool12, pool16], axis=2)\n",
    "\n",
    "#pool = MaxPooling1D(pool_size=pool_size)(concat)\n",
    "\n",
    "activations = Bidirectional(LSTM(units, return_sequences=True, \n",
    "                                 dropout=0.2, recurrent_dropout=0.2))(concat)\n",
    "\n",
    "# compute importance for each step\n",
    "attention = Dense(1, activation='tanh')(activations)\n",
    "attention = Flatten()(attention)\n",
    "attention = Activation('softmax', name = 'attention_vect')(attention) # attention_vect for visualization\n",
    "attention = RepeatVector(units*2)(attention)\n",
    "attention = Permute([2, 1])(attention)\n",
    "sent_representation = Multiply()([activations, attention])\n",
    "sent_representation = Lambda(lambda xin: K.sum(xin, axis=-2), output_shape=(units*2,))(sent_representation)\n",
    "\n",
    "probabilities = Dense(7, activation='softmax')(sent_representation)\n",
    "\n",
    "model = Model(inputs=_input, outputs=probabilities)"
   ]
  },
  {
   "cell_type": "code",
   "execution_count": 24,
   "metadata": {},
   "outputs": [
    {
     "name": "stdout",
     "output_type": "stream",
     "text": [
      "WARNING:tensorflow:From /home/julie/anaconda3/lib/python3.7/site-packages/tensorflow/python/ops/math_ops.py:3066: to_int32 (from tensorflow.python.ops.math_ops) is deprecated and will be removed in a future version.\n",
      "Instructions for updating:\n",
      "Use tf.cast instead.\n",
      "Train on 1988 samples, validate on 497 samples\n",
      "Epoch 1/60\n",
      "1988/1988 [==============================] - 373s 187ms/step - loss: 1.5321 - accuracy: 0.4894 - val_loss: 1.5243 - val_accuracy: 0.4970\n",
      "\n",
      "Epoch 00001: val_loss improved from inf to 1.52434, saving model to models/model1_6C_weights.hdf5\n",
      "Epoch 2/60\n",
      "1988/1988 [==============================] - 385s 194ms/step - loss: 1.4596 - accuracy: 0.4935 - val_loss: 1.6192 - val_accuracy: 0.3682\n",
      "\n",
      "Epoch 00002: val_loss did not improve from 1.52434\n",
      "Epoch 3/60\n",
      "1988/1988 [==============================] - 383s 193ms/step - loss: 1.4250 - accuracy: 0.5015 - val_loss: 1.4954 - val_accuracy: 0.4950\n",
      "\n",
      "Epoch 00003: val_loss improved from 1.52434 to 1.49538, saving model to models/model1_6C_weights.hdf5\n",
      "Epoch 4/60\n",
      "1988/1988 [==============================] - 380s 191ms/step - loss: 1.3752 - accuracy: 0.5010 - val_loss: 1.3430 - val_accuracy: 0.5312\n",
      "\n",
      "Epoch 00004: val_loss improved from 1.49538 to 1.34299, saving model to models/model1_6C_weights.hdf5\n",
      "Epoch 5/60\n",
      "1988/1988 [==============================] - 380s 191ms/step - loss: 1.3205 - accuracy: 0.5287 - val_loss: 1.2304 - val_accuracy: 0.5694\n",
      "\n",
      "Epoch 00005: val_loss improved from 1.34299 to 1.23040, saving model to models/model1_6C_weights.hdf5\n",
      "Epoch 6/60\n",
      "1988/1988 [==============================] - 393s 198ms/step - loss: 1.4109 - accuracy: 0.5231 - val_loss: 1.3029 - val_accuracy: 0.5352\n",
      "\n",
      "Epoch 00006: val_loss did not improve from 1.23040\n",
      "Epoch 7/60\n",
      "1988/1988 [==============================] - 389s 196ms/step - loss: 1.3160 - accuracy: 0.5352 - val_loss: 1.2759 - val_accuracy: 0.5292\n",
      "\n",
      "Epoch 00007: val_loss did not improve from 1.23040\n",
      "Epoch 8/60\n",
      "1988/1988 [==============================] - 396s 199ms/step - loss: 1.2533 - accuracy: 0.5634 - val_loss: 1.2028 - val_accuracy: 0.5956\n",
      "\n",
      "Epoch 00008: val_loss improved from 1.23040 to 1.20282, saving model to models/model1_6C_weights.hdf5\n",
      "Epoch 9/60\n",
      "1988/1988 [==============================] - 336s 169ms/step - loss: 1.1720 - accuracy: 0.6182 - val_loss: 1.6843 - val_accuracy: 0.3159\n",
      "\n",
      "Epoch 00009: val_loss did not improve from 1.20282\n",
      "Epoch 10/60\n",
      "1988/1988 [==============================] - 316s 159ms/step - loss: 1.1290 - accuracy: 0.6373 - val_loss: 1.2099 - val_accuracy: 0.6157\n",
      "\n",
      "Epoch 00010: val_loss did not improve from 1.20282\n",
      "Epoch 11/60\n",
      "1988/1988 [==============================] - 313s 158ms/step - loss: 1.0989 - accuracy: 0.6504 - val_loss: 1.1627 - val_accuracy: 0.6378\n",
      "\n",
      "Epoch 00011: val_loss improved from 1.20282 to 1.16273, saving model to models/model1_6C_weights.hdf5\n",
      "Epoch 12/60\n",
      "1988/1988 [==============================] - 314s 158ms/step - loss: 1.0694 - accuracy: 0.6670 - val_loss: 1.1077 - val_accuracy: 0.6419\n",
      "\n",
      "Epoch 00012: val_loss improved from 1.16273 to 1.10772, saving model to models/model1_6C_weights.hdf5\n",
      "Epoch 13/60\n",
      "1988/1988 [==============================] - 314s 158ms/step - loss: 1.0291 - accuracy: 0.6771 - val_loss: 1.1497 - val_accuracy: 0.6398\n",
      "\n",
      "Epoch 00013: val_loss did not improve from 1.10772\n",
      "Epoch 14/60\n",
      "1988/1988 [==============================] - 313s 157ms/step - loss: 1.0335 - accuracy: 0.6730 - val_loss: 1.0944 - val_accuracy: 0.6479\n",
      "\n",
      "Epoch 00014: val_loss improved from 1.10772 to 1.09435, saving model to models/model1_6C_weights.hdf5\n",
      "Epoch 15/60\n",
      "1988/1988 [==============================] - 315s 158ms/step - loss: 1.0122 - accuracy: 0.6836 - val_loss: 1.1197 - val_accuracy: 0.6600\n",
      "\n",
      "Epoch 00015: val_loss did not improve from 1.09435\n",
      "Epoch 16/60\n",
      "1988/1988 [==============================] - 314s 158ms/step - loss: 1.0074 - accuracy: 0.6766 - val_loss: 1.0430 - val_accuracy: 0.6559\n",
      "\n",
      "Epoch 00016: val_loss improved from 1.09435 to 1.04303, saving model to models/model1_6C_weights.hdf5\n",
      "Epoch 17/60\n",
      "1988/1988 [==============================] - 316s 159ms/step - loss: 0.9916 - accuracy: 0.6871 - val_loss: 1.0639 - val_accuracy: 0.6499\n",
      "\n",
      "Epoch 00017: val_loss did not improve from 1.04303\n",
      "Epoch 18/60\n",
      "1988/1988 [==============================] - 315s 158ms/step - loss: 0.9613 - accuracy: 0.6947 - val_loss: 1.0603 - val_accuracy: 0.6600\n",
      "\n",
      "Epoch 00018: val_loss did not improve from 1.04303\n",
      "Epoch 19/60\n",
      "1988/1988 [==============================] - 315s 159ms/step - loss: 0.9529 - accuracy: 0.6997 - val_loss: 1.1318 - val_accuracy: 0.6137\n",
      "\n",
      "Epoch 00019: val_loss did not improve from 1.04303\n",
      "Epoch 20/60\n",
      "1988/1988 [==============================] - 314s 158ms/step - loss: 0.9558 - accuracy: 0.6977 - val_loss: 1.0594 - val_accuracy: 0.6660\n",
      "\n",
      "Epoch 00020: val_loss did not improve from 1.04303\n",
      "Epoch 21/60\n",
      "1988/1988 [==============================] - 314s 158ms/step - loss: 0.9314 - accuracy: 0.6932 - val_loss: 1.1301 - val_accuracy: 0.6398\n",
      "\n",
      "Epoch 00021: val_loss did not improve from 1.04303\n",
      "Epoch 22/60\n",
      "1988/1988 [==============================] - 314s 158ms/step - loss: 0.9572 - accuracy: 0.6962 - val_loss: 1.0368 - val_accuracy: 0.6519\n",
      "\n",
      "Epoch 00022: val_loss improved from 1.04303 to 1.03683, saving model to models/model1_6C_weights.hdf5\n",
      "Epoch 23/60\n",
      "1988/1988 [==============================] - 315s 158ms/step - loss: 0.9375 - accuracy: 0.6992 - val_loss: 1.1192 - val_accuracy: 0.6378\n",
      "\n",
      "Epoch 00023: val_loss did not improve from 1.03683\n",
      "Epoch 24/60\n",
      "1988/1988 [==============================] - 315s 158ms/step - loss: 0.9094 - accuracy: 0.7082 - val_loss: 1.0424 - val_accuracy: 0.6781\n",
      "\n",
      "Epoch 00024: val_loss did not improve from 1.03683\n",
      "Epoch 25/60\n",
      "1988/1988 [==============================] - 314s 158ms/step - loss: 0.8975 - accuracy: 0.7098 - val_loss: 1.0277 - val_accuracy: 0.6720\n",
      "\n",
      "Epoch 00025: val_loss improved from 1.03683 to 1.02772, saving model to models/model1_6C_weights.hdf5\n",
      "Epoch 26/60\n",
      "1988/1988 [==============================] - 314s 158ms/step - loss: 0.8805 - accuracy: 0.7238 - val_loss: 1.0233 - val_accuracy: 0.6720\n",
      "\n",
      "Epoch 00026: val_loss improved from 1.02772 to 1.02329, saving model to models/model1_6C_weights.hdf5\n",
      "Epoch 27/60\n",
      "1988/1988 [==============================] - 316s 159ms/step - loss: 0.8778 - accuracy: 0.7148 - val_loss: 1.2380 - val_accuracy: 0.5996\n",
      "\n",
      "Epoch 00027: val_loss did not improve from 1.02329\n",
      "Epoch 28/60\n",
      "1988/1988 [==============================] - 314s 158ms/step - loss: 0.8913 - accuracy: 0.7133 - val_loss: 1.0793 - val_accuracy: 0.6559\n",
      "\n",
      "Epoch 00028: val_loss did not improve from 1.02329\n",
      "Epoch 29/60\n",
      "1988/1988 [==============================] - 314s 158ms/step - loss: 0.8683 - accuracy: 0.7213 - val_loss: 1.0317 - val_accuracy: 0.6700\n",
      "\n",
      "Epoch 00029: val_loss did not improve from 1.02329\n",
      "Epoch 30/60\n",
      "1988/1988 [==============================] - 313s 158ms/step - loss: 0.8529 - accuracy: 0.7193 - val_loss: 0.9951 - val_accuracy: 0.6720\n",
      "\n",
      "Epoch 00030: val_loss improved from 1.02329 to 0.99507, saving model to models/model1_6C_weights.hdf5\n",
      "Epoch 31/60\n",
      "1988/1988 [==============================] - 314s 158ms/step - loss: 0.8366 - accuracy: 0.7319 - val_loss: 1.0599 - val_accuracy: 0.6801\n",
      "\n",
      "Epoch 00031: val_loss did not improve from 0.99507\n",
      "Epoch 32/60\n",
      "1988/1988 [==============================] - 314s 158ms/step - loss: 0.8240 - accuracy: 0.7299 - val_loss: 1.0405 - val_accuracy: 0.6660\n",
      "\n",
      "Epoch 00032: val_loss did not improve from 0.99507\n",
      "Epoch 33/60\n",
      "1988/1988 [==============================] - 314s 158ms/step - loss: 0.8219 - accuracy: 0.7344 - val_loss: 1.0180 - val_accuracy: 0.6901\n",
      "\n",
      "Epoch 00033: val_loss did not improve from 0.99507\n",
      "Epoch 34/60\n",
      "1988/1988 [==============================] - 313s 157ms/step - loss: 0.8003 - accuracy: 0.7435 - val_loss: 1.0507 - val_accuracy: 0.6781\n",
      "\n",
      "Epoch 00034: val_loss did not improve from 0.99507\n",
      "Epoch 35/60\n",
      "1988/1988 [==============================] - 190s 96ms/step - loss: 0.7890 - accuracy: 0.7450 - val_loss: 1.0688 - val_accuracy: 0.6761\n",
      "\n",
      "Epoch 00035: val_loss did not improve from 0.99507\n",
      "Epoch 36/60\n",
      "1988/1988 [==============================] - 162s 81ms/step - loss: 0.7980 - accuracy: 0.7425 - val_loss: 1.0602 - val_accuracy: 0.6962\n",
      "\n",
      "Epoch 00036: val_loss did not improve from 0.99507\n",
      "Epoch 37/60\n"
     ]
    },
    {
     "name": "stdout",
     "output_type": "stream",
     "text": [
      "1988/1988 [==============================] - 161s 81ms/step - loss: 0.7725 - accuracy: 0.7500 - val_loss: 1.2023 - val_accuracy: 0.6338\n",
      "\n",
      "Epoch 00037: val_loss did not improve from 0.99507\n",
      "Epoch 38/60\n",
      "1988/1988 [==============================] - 161s 81ms/step - loss: 0.7759 - accuracy: 0.7510 - val_loss: 1.0093 - val_accuracy: 0.6801\n",
      "\n",
      "Epoch 00038: val_loss did not improve from 0.99507\n",
      "Epoch 39/60\n",
      "1988/1988 [==============================] - 161s 81ms/step - loss: 0.7489 - accuracy: 0.7636 - val_loss: 1.0457 - val_accuracy: 0.6801\n",
      "\n",
      "Epoch 00039: val_loss did not improve from 0.99507\n",
      "Epoch 40/60\n",
      "1988/1988 [==============================] - 161s 81ms/step - loss: 0.7426 - accuracy: 0.7555 - val_loss: 1.1307 - val_accuracy: 0.6660\n",
      "\n",
      "Epoch 00040: val_loss did not improve from 0.99507\n",
      "Epoch 41/60\n",
      "1988/1988 [==============================] - 161s 81ms/step - loss: 0.7370 - accuracy: 0.7535 - val_loss: 1.0346 - val_accuracy: 0.6861\n",
      "\n",
      "Epoch 00041: val_loss did not improve from 0.99507\n",
      "Epoch 42/60\n",
      "1988/1988 [==============================] - 161s 81ms/step - loss: 0.7136 - accuracy: 0.7656 - val_loss: 1.1571 - val_accuracy: 0.6519\n",
      "\n",
      "Epoch 00042: val_loss did not improve from 0.99507\n",
      "Epoch 43/60\n",
      "1988/1988 [==============================] - 161s 81ms/step - loss: 0.7213 - accuracy: 0.7691 - val_loss: 1.0676 - val_accuracy: 0.6861\n",
      "\n",
      "Epoch 00043: val_loss did not improve from 0.99507\n",
      "Epoch 44/60\n",
      "1988/1988 [==============================] - 161s 81ms/step - loss: 0.7188 - accuracy: 0.7636 - val_loss: 1.1337 - val_accuracy: 0.6600\n",
      "\n",
      "Epoch 00044: val_loss did not improve from 0.99507\n",
      "Epoch 45/60\n",
      "1988/1988 [==============================] - 161s 81ms/step - loss: 0.7079 - accuracy: 0.7636 - val_loss: 1.0358 - val_accuracy: 0.6841\n",
      "\n",
      "Epoch 00045: val_loss did not improve from 0.99507\n",
      "Epoch 46/60\n",
      "1988/1988 [==============================] - 160s 81ms/step - loss: 0.6668 - accuracy: 0.7872 - val_loss: 1.1280 - val_accuracy: 0.6579\n",
      "\n",
      "Epoch 00046: val_loss did not improve from 0.99507\n",
      "Epoch 47/60\n",
      "1988/1988 [==============================] - 161s 81ms/step - loss: 0.6775 - accuracy: 0.7762 - val_loss: 1.1140 - val_accuracy: 0.6841\n",
      "\n",
      "Epoch 00047: val_loss did not improve from 0.99507\n",
      "Epoch 48/60\n",
      "1988/1988 [==============================] - 161s 81ms/step - loss: 0.6803 - accuracy: 0.7741 - val_loss: 1.0915 - val_accuracy: 0.6881\n",
      "\n",
      "Epoch 00048: val_loss did not improve from 0.99507\n",
      "Epoch 49/60\n",
      "1988/1988 [==============================] - 161s 81ms/step - loss: 0.6715 - accuracy: 0.7802 - val_loss: 1.0486 - val_accuracy: 0.7022\n",
      "\n",
      "Epoch 00049: val_loss did not improve from 0.99507\n",
      "Epoch 50/60\n",
      "1988/1988 [==============================] - 161s 81ms/step - loss: 0.6350 - accuracy: 0.7923 - val_loss: 1.0794 - val_accuracy: 0.6861\n",
      "\n",
      "Epoch 00050: val_loss did not improve from 0.99507\n",
      "Epoch 51/60\n",
      "1988/1988 [==============================] - 161s 81ms/step - loss: 0.6244 - accuracy: 0.7958 - val_loss: 1.1326 - val_accuracy: 0.6841\n",
      "\n",
      "Epoch 00051: val_loss did not improve from 0.99507\n",
      "Epoch 52/60\n",
      "1988/1988 [==============================] - 161s 81ms/step - loss: 0.6147 - accuracy: 0.7993 - val_loss: 1.1490 - val_accuracy: 0.6761\n",
      "\n",
      "Epoch 00052: val_loss did not improve from 0.99507\n",
      "Epoch 53/60\n",
      "1988/1988 [==============================] - 160s 81ms/step - loss: 0.6119 - accuracy: 0.7867 - val_loss: 1.1255 - val_accuracy: 0.6881\n",
      "\n",
      "Epoch 00053: val_loss did not improve from 0.99507\n",
      "Epoch 54/60\n",
      "1988/1988 [==============================] - 161s 81ms/step - loss: 0.6042 - accuracy: 0.7993 - val_loss: 1.0801 - val_accuracy: 0.6861\n",
      "\n",
      "Epoch 00054: val_loss did not improve from 0.99507\n",
      "Epoch 55/60\n",
      "1988/1988 [==============================] - 161s 81ms/step - loss: 0.5741 - accuracy: 0.8089 - val_loss: 1.1400 - val_accuracy: 0.6881\n",
      "\n",
      "Epoch 00055: val_loss did not improve from 0.99507\n",
      "Epoch 56/60\n",
      "1988/1988 [==============================] - 161s 81ms/step - loss: 0.5717 - accuracy: 0.8078 - val_loss: 1.1476 - val_accuracy: 0.6841\n",
      "\n",
      "Epoch 00056: val_loss did not improve from 0.99507\n",
      "Epoch 57/60\n",
      "1988/1988 [==============================] - 161s 81ms/step - loss: 0.5543 - accuracy: 0.8154 - val_loss: 1.1925 - val_accuracy: 0.6740\n",
      "\n",
      "Epoch 00057: val_loss did not improve from 0.99507\n",
      "Epoch 58/60\n",
      "1988/1988 [==============================] - 161s 81ms/step - loss: 0.5397 - accuracy: 0.8134 - val_loss: 1.1904 - val_accuracy: 0.6821\n",
      "\n",
      "Epoch 00058: val_loss did not improve from 0.99507\n",
      "Epoch 59/60\n",
      "1988/1988 [==============================] - 161s 81ms/step - loss: 0.5410 - accuracy: 0.8119 - val_loss: 1.0986 - val_accuracy: 0.6962\n",
      "\n",
      "Epoch 00059: val_loss did not improve from 0.99507\n",
      "Epoch 60/60\n",
      "1988/1988 [==============================] - 161s 81ms/step - loss: 0.5170 - accuracy: 0.8285 - val_loss: 1.2608 - val_accuracy: 0.6398\n",
      "\n",
      "Epoch 00060: val_loss did not improve from 0.99507\n"
     ]
    }
   ],
   "source": [
    "class_weights = class_weight.compute_class_weight('balanced',\n",
    "                                                 np.unique(y_train),\n",
    "                                                 y_train)\n",
    "d_class_weights = dict(enumerate(class_weights))\n",
    "\n",
    "model.compile('Nadam', 'categorical_crossentropy', metrics=['accuracy'])\n",
    "ckpt = ModelCheckpoint(filepath='models/model1_6C_weights.hdf5', \n",
    "                           verbose=1, save_best_only=True)\n",
    "# Train, train, train\n",
    "history = model.fit(x_train_pad, y_train_OH, \n",
    "                    batch_size=32, epochs=60,\n",
    "                    class_weight = class_weights,\n",
    "          validation_data=[x_valid_pad, y_valid_OH], callbacks=[ckpt])"
   ]
  },
  {
   "cell_type": "code",
   "execution_count": 25,
   "metadata": {},
   "outputs": [
    {
     "data": {
      "image/png": "[encoded data removed]",
      "text/plain": [
       "<Figure size 432x288 with 1 Axes>"
      ]
     },
     "metadata": {
      "needs_background": "light"
     },
     "output_type": "display_data"
    },
    {
     "data": {
      "image/png": "[encoded data removed]",
      "text/plain": [
       "<Figure size 432x288 with 1 Axes>"
      ]
     },
     "metadata": {
      "needs_background": "light"
     },
     "output_type": "display_data"
    }
   ],
   "source": [
    "def history_plot(history):\n",
    "    # Plot training & validation accuracy values\n",
    "    plt.plot(history.history['accuracy'])\n",
    "    plt.plot(history.history['val_accuracy'])\n",
    "    plt.title('Model accuracy')\n",
    "    plt.ylabel('Accuracy')\n",
    "    plt.xlabel('Epoch')\n",
    "    plt.legend(['Train', 'Valid'], loc='upper left')\n",
    "    plt.show()\n",
    "\n",
    "    # Plot training & validation loss values\n",
    "    plt.plot(history.history['loss'])\n",
    "    plt.plot(history.history['val_loss'])\n",
    "    plt.title('Model loss')\n",
    "    plt.ylabel('Loss')\n",
    "    plt.xlabel('Epoch')\n",
    "    plt.legend(['Train', 'Valid'], loc='upper left')\n",
    "    plt.show()\n",
    "    \n",
    "history_plot(history)"
   ]
  },
  {
   "cell_type": "code",
   "execution_count": 26,
   "metadata": {},
   "outputs": [
    {
     "name": "stdout",
     "output_type": "stream",
     "text": [
      "497/497 [==============================] - 15s 30ms/step\n"
     ]
    },
    {
     "data": {
      "text/plain": [
       "[0.9950692573303668, 0.6720321774482727]"
      ]
     },
     "execution_count": 26,
     "metadata": {},
     "output_type": "execute_result"
    }
   ],
   "source": [
    "model = load_model('models/model1_6C_weights.hdf5')\n",
    "model.evaluate(x_valid_pad, y_valid_OH)"
   ]
  },
  {
   "cell_type": "code",
   "execution_count": 27,
   "metadata": {},
   "outputs": [],
   "source": [
    "y_pred = model.predict(x_valid_pad)\n",
    "y_pred_indices = OH_to_label_indices(y_pred)\n",
    "y_pred_label = indices_to_cat(y_pred_indices)"
   ]
  },
  {
   "cell_type": "code",
   "execution_count": 28,
   "metadata": {},
   "outputs": [],
   "source": [
    "def confusion_plot(y_valid, y_pred_label, cat):\n",
    "    conf_mx = confusion_matrix(y_valid, y_pred_label, labels=cat)\n",
    "    fig = plt.figure()\n",
    "    ax = fig.add_subplot(111)\n",
    "    cax = ax.matshow(conf_mx, cmap=plt.cm.gray)\n",
    "    fig.colorbar(cax)\n",
    "    ax.xaxis.set_major_locator(MultipleLocator(1))\n",
    "    ax.yaxis.set_major_locator(MultipleLocator(1))\n",
    "    ax.set_xticklabels([''] + cat,  rotation='vertical')\n",
    "    ax.set_yticklabels([''] + cat)\n",
    "    plt.xlabel('Predicted')\n",
    "    plt.ylabel('True')\n",
    "    plt.show()"
   ]
  },
  {
   "cell_type": "code",
   "execution_count": 29,
   "metadata": {},
   "outputs": [
    {
     "data": {
      "image/png": "[encoded data removed]",
      "text/plain": [
       "<Figure size 432x288 with 2 Axes>"
      ]
     },
     "metadata": {
      "needs_background": "light"
     },
     "output_type": "display_data"
    }
   ],
   "source": [
    "confusion_plot(y_valid, y_pred_label, cat)"
   ]
  },
  {
   "cell_type": "code",
   "execution_count": 30,
   "metadata": {},
   "outputs": [],
   "source": [
    "def confusion_plot_norm(y_valid, y_pred_label, cat, axis=1):\n",
    "    conf_mx = confusion_matrix(y_valid, y_pred_label, labels=cat)\n",
    "    fig = plt.figure()\n",
    "    ax = fig.add_subplot(111)\n",
    "    cax = ax.matshow(conf_mx / (conf_mx.max(axis=axis)+1), cmap=plt.cm.gray)\n",
    "    fig.colorbar(cax)\n",
    "    ax.xaxis.set_major_locator(MultipleLocator(1))\n",
    "    ax.yaxis.set_major_locator(MultipleLocator(1))\n",
    "    ax.set_xticklabels([''] + cat,  rotation='vertical')\n",
    "    ax.set_yticklabels([''] + cat)\n",
    "    plt.xlabel('Predicted')\n",
    "    plt.ylabel('True')\n",
    "    plt.show()\n",
    "    return(conf_mx)"
   ]
  },
  {
   "cell_type": "code",
   "execution_count": 31,
   "metadata": {},
   "outputs": [
    {
     "data": {
      "image/png": "[encoded data removed]",
      "text/plain": [
       "<Figure size 432x288 with 2 Axes>"
      ]
     },
     "metadata": {
      "needs_background": "light"
     },
     "output_type": "display_data"
    }
   ],
   "source": [
    "conf = confusion_plot_norm(y_valid, y_pred_label, cat, axis=1)"
   ]
  },
  {
   "cell_type": "code",
   "execution_count": 32,
   "metadata": {},
   "outputs": [
    {
     "name": "stdout",
     "output_type": "stream",
     "text": [
      "                 precision    recall  f1-score   support\n",
      "\n",
      "             ER       0.49      0.43      0.46        51\n",
      "       Endosome       0.27      0.08      0.13        48\n",
      "          Golgi       0.00      0.00      0.00        16\n",
      "       Lysosome       0.00      0.00      0.00         9\n",
      "  Mitochondrion       0.76      0.78      0.77        80\n",
      " No Compartment       0.72      0.93      0.81       247\n",
      "Plasma membrane       0.48      0.35      0.41        46\n",
      "\n",
      "       accuracy                           0.67       497\n",
      "      macro avg       0.39      0.37      0.37       497\n",
      "   weighted avg       0.60      0.67      0.62       497\n",
      "\n"
     ]
    }
   ],
   "source": [
    "print(classification_report(y_valid, y_pred_label))"
   ]
  },
  {
   "cell_type": "code",
   "execution_count": null,
   "metadata": {},
   "outputs": [],
   "source": []
  }
 ],
 "metadata": {
  "kernelspec": {
   "display_name": "Python 3",
   "language": "python",
   "name": "python3"
  },
  "language_info": {
   "codemirror_mode": {
    "name": "ipython",
    "version": 3
   },
   "file_extension": ".py",
   "mimetype": "text/x-python",
   "name": "python",
   "nbconvert_exporter": "python",
   "pygments_lexer": "ipython3",
   "version": "3.7.3"
  }
 },
 "nbformat": 4,
 "nbformat_minor": 2
}
