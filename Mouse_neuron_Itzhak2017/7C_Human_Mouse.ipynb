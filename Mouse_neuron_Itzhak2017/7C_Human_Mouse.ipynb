{
 "cells": [
  {
   "cell_type": "code",
   "execution_count": 1,
   "metadata": {},
   "outputs": [
    {
     "name": "stderr",
     "output_type": "stream",
     "text": [
      "Using TensorFlow backend.\n",
      "/home/julie/anaconda3/lib/python3.7/site-packages/tensorflow/python/framework/dtypes.py:526: FutureWarning: Passing (type, 1) or '1type' as a synonym of type is deprecated; in a future version of numpy, it will be understood as (type, (1,)) / '(1,)type'.\n",
      "  _np_qint8 = np.dtype([(\"qint8\", np.int8, 1)])\n",
      "/home/julie/anaconda3/lib/python3.7/site-packages/tensorflow/python/framework/dtypes.py:527: FutureWarning: Passing (type, 1) or '1type' as a synonym of type is deprecated; in a future version of numpy, it will be understood as (type, (1,)) / '(1,)type'.\n",
      "  _np_quint8 = np.dtype([(\"quint8\", np.uint8, 1)])\n",
      "/home/julie/anaconda3/lib/python3.7/site-packages/tensorflow/python/framework/dtypes.py:528: FutureWarning: Passing (type, 1) or '1type' as a synonym of type is deprecated; in a future version of numpy, it will be understood as (type, (1,)) / '(1,)type'.\n",
      "  _np_qint16 = np.dtype([(\"qint16\", np.int16, 1)])\n",
      "/home/julie/anaconda3/lib/python3.7/site-packages/tensorflow/python/framework/dtypes.py:529: FutureWarning: Passing (type, 1) or '1type' as a synonym of type is deprecated; in a future version of numpy, it will be understood as (type, (1,)) / '(1,)type'.\n",
      "  _np_quint16 = np.dtype([(\"quint16\", np.uint16, 1)])\n",
      "/home/julie/anaconda3/lib/python3.7/site-packages/tensorflow/python/framework/dtypes.py:530: FutureWarning: Passing (type, 1) or '1type' as a synonym of type is deprecated; in a future version of numpy, it will be understood as (type, (1,)) / '(1,)type'.\n",
      "  _np_qint32 = np.dtype([(\"qint32\", np.int32, 1)])\n",
      "/home/julie/anaconda3/lib/python3.7/site-packages/tensorflow/python/framework/dtypes.py:535: FutureWarning: Passing (type, 1) or '1type' as a synonym of type is deprecated; in a future version of numpy, it will be understood as (type, (1,)) / '(1,)type'.\n",
      "  np_resource = np.dtype([(\"resource\", np.ubyte, 1)])\n"
     ]
    }
   ],
   "source": [
    "import matplotlib\n",
    "import matplotlib.pyplot as plt\n",
    "import pandas as pd\n",
    "import csv\n",
    "import numpy as np\n",
    "%matplotlib inline \n",
    "from matplotlib.ticker import MultipleLocator\n",
    "from sklearn.preprocessing import normalize\n",
    "import pandas as pd\n",
    "from sklearn.decomposition import PCA\n",
    "import umap\n",
    "from sklearn.manifold import TSNE\n",
    "from sklearn.metrics import classification_report\n",
    "\n",
    "import os \n",
    "from keras.layers import Conv1D, MaxPooling1D, SpatialDropout1D\n",
    "from keras.models import load_model\n",
    "from sklearn.metrics import confusion_matrix\n",
    "from sklearn.utils import class_weight\n",
    "from keras.utils.vis_utils import plot_model\n",
    "from keras import initializers\n",
    "from keras import regularizers\n",
    "from keras.preprocessing import sequence\n",
    "from keras.models import Sequential\n",
    "from keras.layers import * # Keras is the most friendly Neural Network library, this Kernel use a lot of layers classes\n",
    "from keras.models import Model\n",
    "from tqdm import tqdm # Processing time measurement\n",
    "from sklearn.model_selection import train_test_split \n",
    "from keras import backend as K # The backend give us access to tensorflow operations and allow us to create the Attention class\n",
    "from keras import optimizers # Allow us to access the Adam class to modify some parameters\n",
    "from sklearn.model_selection import GridSearchCV, StratifiedKFold # Used to use Kfold to train our model\n",
    "from keras.callbacks import * # This object helps the model to train in a smarter way, avoiding overfitting"
   ]
  },
  {
   "cell_type": "code",
   "execution_count": 13,
   "metadata": {},
   "outputs": [],
   "source": [
    "train = pd.read_csv(\"data/7C_train.csv\", sep=\"\\t\")\n",
    "valid = pd.read_csv(\"data/7C_valid.csv\", sep=\"\\t\")\n",
    "\n",
    "y_train = train[\"Prediction\"]\n",
    "y_valid = valid[\"Prediction\"]\n",
    "\n",
    "x_train = train[\"Sequence\"].copy()\n",
    "x_valid = valid[\"Sequence\"].copy()"
   ]
  },
  {
   "cell_type": "code",
   "execution_count": 14,
   "metadata": {},
   "outputs": [
    {
     "name": "stdout",
     "output_type": "stream",
     "text": [
      "1988 train sequences\n",
      "497 valid sequences\n"
     ]
    }
   ],
   "source": [
    "print(len(x_train), 'train sequences')\n",
    "print(len(x_valid), 'valid sequences')"
   ]
  },
  {
   "cell_type": "code",
   "execution_count": 15,
   "metadata": {},
   "outputs": [],
   "source": [
    "max_len = 1500"
   ]
  },
  {
   "cell_type": "code",
   "execution_count": 16,
   "metadata": {},
   "outputs": [],
   "source": [
    "# all amino acids (in blosum order)\n",
    "aa = \"*ARNDCQEGHILKMFPSTWYVU\"\n",
    "tot_aa = len(aa)\n",
    "\n",
    "# define a mapping of aa to integers\n",
    "aa_to_int = dict((c, i) for i, c in enumerate(aa))\n",
    "int_to_aa = dict((i, c) for i, c in enumerate(aa))"
   ]
  },
  {
   "cell_type": "markdown",
   "metadata": {},
   "source": [
    "## One hot encoding of Labels"
   ]
  },
  {
   "cell_type": "code",
   "execution_count": 17,
   "metadata": {},
   "outputs": [],
   "source": [
    "# NB: DO NOT USE SET, IT CHANGES ORDER OF CATEGORY EVERYTIME I RUN THE NOTEBOOK!!!!\n",
    "#cat = list(set(y_train))\n",
    "cat = ['ER',\n",
    " 'Golgi',\n",
    " 'Mitochondrion',\n",
    " 'Endosome',\n",
    " 'Large Protein Complex',\n",
    " 'Plasma membrane',\n",
    " 'Lysosome']"
   ]
  },
  {
   "cell_type": "code",
   "execution_count": 18,
   "metadata": {},
   "outputs": [],
   "source": [
    "tot_cat = len(cat)\n",
    "cat_to_int = {}\n",
    "int_to_cat = {}\n",
    "for i in range(tot_cat):\n",
    "    cat_to_int[cat[i]] = i\n",
    "    int_to_cat[i] = cat[i]   "
   ]
  },
  {
   "cell_type": "code",
   "execution_count": 19,
   "metadata": {},
   "outputs": [],
   "source": [
    "def cat_to_indices(Y):\n",
    "    Y_indices = np.zeros([Y.shape[0],], dtype=int)\n",
    "    for i in range(len(Y)):\n",
    "        Y_indices[i] = cat_to_int[Y[i]]\n",
    "    return Y_indices\n",
    "\n",
    "# one hot encode\n",
    "def convert_to_one_hot(Y, C):\n",
    "    Y = np.eye(C)[Y.reshape(-1)]\n",
    "    return Y"
   ]
  },
  {
   "cell_type": "code",
   "execution_count": 20,
   "metadata": {},
   "outputs": [],
   "source": [
    "y_train_indices = cat_to_indices(y_train)\n",
    "y_valid_indices = cat_to_indices(y_valid)\n",
    "\n",
    "y_train_OH = convert_to_one_hot(y_train_indices, C = tot_cat)\n",
    "y_valid_OH = convert_to_one_hot(y_valid_indices, C = tot_cat)"
   ]
  },
  {
   "cell_type": "markdown",
   "metadata": {},
   "source": [
    "## X_train processing: \n",
    "### From Sequences to list of indices"
   ]
  },
  {
   "cell_type": "code",
   "execution_count": 21,
   "metadata": {},
   "outputs": [],
   "source": [
    "# Function to convert sequences to array of indices. I will use that one for embedding \n",
    "\n",
    "def seq_to_indices(X, aa_to_int, max_len):\n",
    "    \n",
    "    m = X.shape[0]                                   # number of training examples\n",
    "    \n",
    "    ### START CODE HERE ###\n",
    "    # Initialize X_indices as a numpy matrix of zeros and the correct shape (≈ 1 line)\n",
    "    X_indices = []\n",
    "    \n",
    "    for i in range(m):                               # loop over training examples\n",
    "        seq_aa = X[i]\n",
    "        seq_ind = []\n",
    "        \n",
    "        # Loop over the words of sentence_words\n",
    "        for w in range(len(seq_aa)):\n",
    "            seq_ind.append(aa_to_int[seq_aa[w]])\n",
    "            \n",
    "        X_indices.append(seq_ind)\n",
    "            \n",
    "    ### END CODE HERE ###\n",
    "    \n",
    "    return X_indices"
   ]
  },
  {
   "cell_type": "code",
   "execution_count": 22,
   "metadata": {},
   "outputs": [],
   "source": [
    "x_train_indices = seq_to_indices(x_train, aa_to_int, max_len)"
   ]
  },
  {
   "cell_type": "code",
   "execution_count": 23,
   "metadata": {},
   "outputs": [],
   "source": [
    "x_valid_indices = seq_to_indices(x_valid, aa_to_int, max_len)"
   ]
  },
  {
   "cell_type": "code",
   "execution_count": 24,
   "metadata": {},
   "outputs": [
    {
     "name": "stdout",
     "output_type": "stream",
     "text": [
      "x_train shape: (1988, 1500)\n",
      "x_valid shape: (497, 1500)\n"
     ]
    }
   ],
   "source": [
    "# Pad sequences\n",
    "# By default, the padding is added before the sequence\n",
    "x_train_pad = sequence.pad_sequences(x_train_indices, maxlen=max_len, value=aa_to_int[\"*\"])\n",
    "x_valid_pad = sequence.pad_sequences(x_valid_indices, maxlen=max_len, value=aa_to_int[\"*\"])\n",
    "print('x_train shape:', x_train_pad.shape)\n",
    "print('x_valid shape:', x_valid_pad.shape)"
   ]
  },
  {
   "cell_type": "code",
   "execution_count": 25,
   "metadata": {},
   "outputs": [],
   "source": [
    "# One hot to label \n",
    "#Y is list of OH vector\n",
    "def OH_to_label_indices(Y):\n",
    "    labels = []\n",
    "    for a in Y:\n",
    "        indices = np.argmax(a)\n",
    "        labels.append(indices)\n",
    "    return labels"
   ]
  },
  {
   "cell_type": "code",
   "execution_count": 26,
   "metadata": {},
   "outputs": [],
   "source": [
    "def indices_to_cat(Y):\n",
    "    Y_cat = []\n",
    "    for i in range(len(Y)):\n",
    "        Y_cat.append(int_to_cat[Y[i]])\n",
    "    return Y_cat"
   ]
  },
  {
   "cell_type": "code",
   "execution_count": 28,
   "metadata": {},
   "outputs": [
    {
     "name": "stdout",
     "output_type": "stream",
     "text": [
      "WARNING:tensorflow:From /home/julie/anaconda3/lib/python3.7/site-packages/tensorflow/python/ops/resource_variable_ops.py:435: colocate_with (from tensorflow.python.framework.ops) is deprecated and will be removed in a future version.\n",
      "Instructions for updating:\n",
      "Colocations handled automatically by placer.\n",
      "WARNING:tensorflow:From /home/julie/anaconda3/lib/python3.7/site-packages/tensorflow/python/ops/math_ops.py:3066: to_int32 (from tensorflow.python.ops.math_ops) is deprecated and will be removed in a future version.\n",
      "Instructions for updating:\n",
      "Use tf.cast instead.\n"
     ]
    },
    {
     "data": {
      "text/plain": [
       "[0.9644226951138595, 0.72635817527771]"
      ]
     },
     "execution_count": 28,
     "metadata": {},
     "output_type": "execute_result"
    }
   ],
   "source": [
    "model = load_model('models/model1_weights.hdf5')\n",
    "model.evaluate(x_valid_pad, y_valid_OH, verbose=0)"
   ]
  },
  {
   "cell_type": "code",
   "execution_count": 29,
   "metadata": {},
   "outputs": [],
   "source": [
    "y_pred = model.predict(x_valid_pad)\n",
    "y_pred_indices = OH_to_label_indices(y_pred)\n",
    "y_pred_label = indices_to_cat(y_pred_indices)"
   ]
  },
  {
   "cell_type": "code",
   "execution_count": 30,
   "metadata": {},
   "outputs": [],
   "source": [
    "def confusion_plot(y_valid, y_pred_label, cat):\n",
    "    conf_mx = confusion_matrix(y_valid, y_pred_label, labels=cat)\n",
    "    fig = plt.figure()\n",
    "    ax = fig.add_subplot(111)\n",
    "    cax = ax.matshow(conf_mx, cmap=plt.cm.gray)\n",
    "    fig.colorbar(cax)\n",
    "    ax.xaxis.set_major_locator(MultipleLocator(1))\n",
    "    ax.yaxis.set_major_locator(MultipleLocator(1))\n",
    "    ax.set_xticklabels([''] + cat,  rotation='vertical')\n",
    "    ax.set_yticklabels([''] + cat)\n",
    "    plt.xlabel('Predicted')\n",
    "    plt.ylabel('True')\n",
    "    plt.show()"
   ]
  },
  {
   "cell_type": "code",
   "execution_count": 31,
   "metadata": {},
   "outputs": [
    {
     "data": {
      "image/png": "[encoded data removed]",
      "text/plain": [
       "<Figure size 432x288 with 2 Axes>"
      ]
     },
     "metadata": {
      "needs_background": "light"
     },
     "output_type": "display_data"
    }
   ],
   "source": [
    "confusion_plot(y_valid, y_pred_label, cat)"
   ]
  },
  {
   "cell_type": "code",
   "execution_count": 32,
   "metadata": {},
   "outputs": [],
   "source": [
    "def confusion_plot_norm(y_valid, y_pred_label, cat, axis=1):\n",
    "    conf_mx = confusion_matrix(y_valid, y_pred_label, labels=cat)\n",
    "    fig = plt.figure()\n",
    "    ax = fig.add_subplot(111)\n",
    "    cax = ax.matshow(conf_mx / (conf_mx.max(axis=axis)+1), cmap=plt.cm.gray)\n",
    "    fig.colorbar(cax)\n",
    "    ax.xaxis.set_major_locator(MultipleLocator(1))\n",
    "    ax.yaxis.set_major_locator(MultipleLocator(1))\n",
    "    ax.set_xticklabels([''] + cat,  rotation='vertical')\n",
    "    ax.set_yticklabels([''] + cat)\n",
    "    plt.xlabel('Predicted')\n",
    "    plt.ylabel('True')\n",
    "    plt.show()\n",
    "    return(conf_mx)"
   ]
  },
  {
   "cell_type": "code",
   "execution_count": 33,
   "metadata": {},
   "outputs": [
    {
     "data": {
      "image/png": "[encoded data removed]",
      "text/plain": [
       "<Figure size 432x288 with 2 Axes>"
      ]
     },
     "metadata": {
      "needs_background": "light"
     },
     "output_type": "display_data"
    }
   ],
   "source": [
    "conf = confusion_plot_norm(y_valid, y_pred_label, cat, axis=1)"
   ]
  },
  {
   "cell_type": "code",
   "execution_count": 34,
   "metadata": {},
   "outputs": [
    {
     "data": {
      "text/plain": [
       "array([[ 34,   2,   3,   1,   7,   4,   0],\n",
       "       [  3,   2,   5,   0,   5,   1,   0],\n",
       "       [  1,   0,  65,   0,  12,   2,   0],\n",
       "       [  6,   0,   0,   1,  30,  11,   0],\n",
       "       [  2,   0,   1,   1, 242,   1,   0],\n",
       "       [  3,   1,   2,   0,  23,  16,   1],\n",
       "       [  2,   0,   0,   0,   3,   3,   1]])"
      ]
     },
     "execution_count": 34,
     "metadata": {},
     "output_type": "execute_result"
    }
   ],
   "source": [
    "conf"
   ]
  },
  {
   "cell_type": "code",
   "execution_count": 35,
   "metadata": {},
   "outputs": [
    {
     "name": "stdout",
     "output_type": "stream",
     "text": [
      "                       precision    recall  f1-score   support\n",
      "\n",
      "                   ER       0.67      0.67      0.67        51\n",
      "             Endosome       0.33      0.02      0.04        48\n",
      "                Golgi       0.40      0.12      0.19        16\n",
      "Large Protein Complex       0.75      0.98      0.85       247\n",
      "             Lysosome       0.50      0.11      0.18         9\n",
      "        Mitochondrion       0.86      0.81      0.83        80\n",
      "      Plasma membrane       0.42      0.35      0.38        46\n",
      "\n",
      "             accuracy                           0.73       497\n",
      "            macro avg       0.56      0.44      0.45       497\n",
      "         weighted avg       0.67      0.73      0.67       497\n",
      "\n"
     ]
    }
   ],
   "source": [
    "print(classification_report(y_valid, y_pred_label))"
   ]
  },
  {
   "cell_type": "markdown",
   "metadata": {},
   "source": [
    "### Train Model 1 one mouse dataset"
   ]
  },
  {
   "cell_type": "code",
   "execution_count": 36,
   "metadata": {},
   "outputs": [],
   "source": [
    "max_features = tot_aa\n",
    "batch_size = 32\n",
    "\n",
    "#LSTM\n",
    "units = 128\n",
    "# Embedding\n",
    "embedding_size = 48\n",
    "# Convolution\n",
    "filters = 20\n",
    "pool_size = 2\n",
    "\n",
    "_input = Input(shape=[max_len], dtype='int32')\n",
    "\n",
    "# get the embedding layer\n",
    "embedded = Embedding(input_dim=max_features,output_dim=embedding_size,\n",
    "        input_length=max_len, name = 'embedding_layer', trainable=True, mask_zero=False)(_input)\n",
    "\n",
    "drop = Dropout(0.2)(embedded)\n",
    "# Convolution layer of different size\n",
    "\n",
    "conv2 = Conv1D(filters, 2, padding='same', activation='relu', \n",
    "              strides=1)(drop)\n",
    "drop2 = SpatialDropout1D(0.2)(conv2)\n",
    "pool2 = MaxPooling1D(pool_size=pool_size)(drop2)\n",
    "\n",
    "conv3 = Conv1D(filters, 3, padding='same', activation='relu', \n",
    "              strides=1)(drop)\n",
    "drop3 = SpatialDropout1D(0.2)(conv3)\n",
    "pool3 = MaxPooling1D(pool_size=pool_size)(drop3)\n",
    "\n",
    "conv5 = Conv1D(filters, 5, padding='same', activation='relu', \n",
    "              strides=1)(drop)\n",
    "drop5 = SpatialDropout1D(0.2)(conv5)\n",
    "pool5 = MaxPooling1D(pool_size=pool_size)(drop5)\n",
    "\n",
    "conv9 = Conv1D(filters, 9, padding='same', activation='relu', \n",
    "              strides=1)(drop)\n",
    "drop9 = SpatialDropout1D(0.2)(conv9)\n",
    "pool9 = MaxPooling1D(pool_size=pool_size)(drop9)\n",
    "\n",
    "conv12 = Conv1D(filters, 12, padding='same', activation='relu', \n",
    "              strides=1)(drop)\n",
    "drop12 = SpatialDropout1D(0.2)(conv12)\n",
    "pool12 = MaxPooling1D(pool_size=pool_size)(drop12)\n",
    "\n",
    "conv16 = Conv1D(filters, 16, padding='same', activation='relu', \n",
    "              strides=1)(drop)\n",
    "drop16 = SpatialDropout1D(0.2)(conv16)\n",
    "pool16 = MaxPooling1D(pool_size=pool_size)(drop16)\n",
    "\n",
    "# Concatenate the filters\n",
    "#concat = concatenate([drop2, drop3, drop5, drop9, drop12], axis=2)\n",
    "concat = concatenate([pool2, pool3, pool5, pool9, pool12, pool16], axis=2)\n",
    "\n",
    "#pool = MaxPooling1D(pool_size=pool_size)(concat)\n",
    "\n",
    "activations = Bidirectional(LSTM(units, return_sequences=True, \n",
    "                                 dropout=0.2, recurrent_dropout=0.2))(concat)\n",
    "\n",
    "# compute importance for each step\n",
    "attention = Dense(1, activation='tanh')(activations)\n",
    "attention = Flatten()(attention)\n",
    "attention = Activation('softmax', name = 'attention_vect')(attention) # attention_vect for visualization\n",
    "attention = RepeatVector(units*2)(attention)\n",
    "attention = Permute([2, 1])(attention)\n",
    "sent_representation = Multiply()([activations, attention])\n",
    "sent_representation = Lambda(lambda xin: K.sum(xin, axis=-2), output_shape=(units*2,))(sent_representation)\n",
    "\n",
    "probabilities = Dense(7, activation='softmax')(sent_representation)\n",
    "\n",
    "model = Model(inputs=_input, outputs=probabilities)"
   ]
  },
  {
   "cell_type": "code",
   "execution_count": 37,
   "metadata": {},
   "outputs": [
    {
     "name": "stdout",
     "output_type": "stream",
     "text": [
      "Train on 1988 samples, validate on 497 samples\n",
      "Epoch 1/60\n",
      "1988/1988 [==============================] - 213s 107ms/step - loss: 1.5324 - accuracy: 0.4889 - val_loss: 1.5062 - val_accuracy: 0.4970\n",
      "\n",
      "Epoch 00001: val_loss improved from inf to 1.50615, saving model to models/model1_mouse_weights.hdf5\n",
      "Epoch 2/60\n",
      "1988/1988 [==============================] - 195s 98ms/step - loss: 1.4661 - accuracy: 0.4995 - val_loss: 1.4522 - val_accuracy: 0.4970\n",
      "\n",
      "Epoch 00002: val_loss improved from 1.50615 to 1.45219, saving model to models/model1_mouse_weights.hdf5\n",
      "Epoch 3/60\n",
      "1988/1988 [==============================] - 192s 97ms/step - loss: 1.4100 - accuracy: 0.4985 - val_loss: 1.4067 - val_accuracy: 0.5292\n",
      "\n",
      "Epoch 00003: val_loss improved from 1.45219 to 1.40671, saving model to models/model1_mouse_weights.hdf5\n",
      "Epoch 4/60\n",
      "1988/1988 [==============================] - 193s 97ms/step - loss: 1.3579 - accuracy: 0.5257 - val_loss: 1.3554 - val_accuracy: 0.5533\n",
      "\n",
      "Epoch 00004: val_loss improved from 1.40671 to 1.35539, saving model to models/model1_mouse_weights.hdf5\n",
      "Epoch 5/60\n",
      "1988/1988 [==============================] - 191s 96ms/step - loss: 1.2986 - accuracy: 0.5468 - val_loss: 1.4936 - val_accuracy: 0.4366\n",
      "\n",
      "Epoch 00005: val_loss did not improve from 1.35539\n",
      "Epoch 6/60\n",
      "1988/1988 [==============================] - 193s 97ms/step - loss: 1.3698 - accuracy: 0.5272 - val_loss: 1.2422 - val_accuracy: 0.6016\n",
      "\n",
      "Epoch 00006: val_loss improved from 1.35539 to 1.24217, saving model to models/model1_mouse_weights.hdf5\n",
      "Epoch 7/60\n",
      "1988/1988 [==============================] - 168s 85ms/step - loss: 1.2737 - accuracy: 0.5719 - val_loss: 1.2655 - val_accuracy: 0.5755\n",
      "\n",
      "Epoch 00007: val_loss did not improve from 1.24217\n",
      "Epoch 8/60\n",
      "1988/1988 [==============================] - 165s 83ms/step - loss: 1.1890 - accuracy: 0.6147 - val_loss: 1.3043 - val_accuracy: 0.5634\n",
      "\n",
      "Epoch 00008: val_loss did not improve from 1.24217\n",
      "Epoch 9/60\n",
      "1988/1988 [==============================] - 164s 82ms/step - loss: 1.1630 - accuracy: 0.6373 - val_loss: 1.1942 - val_accuracy: 0.6258\n",
      "\n",
      "Epoch 00009: val_loss improved from 1.24217 to 1.19422, saving model to models/model1_mouse_weights.hdf5\n",
      "Epoch 10/60\n",
      "1988/1988 [==============================] - 165s 83ms/step - loss: 1.0971 - accuracy: 0.6539 - val_loss: 1.1010 - val_accuracy: 0.6620\n",
      "\n",
      "Epoch 00010: val_loss improved from 1.19422 to 1.10100, saving model to models/model1_mouse_weights.hdf5\n",
      "Epoch 11/60\n",
      "1988/1988 [==============================] - 192s 97ms/step - loss: 1.0980 - accuracy: 0.6524 - val_loss: 1.2164 - val_accuracy: 0.5855\n",
      "\n",
      "Epoch 00011: val_loss did not improve from 1.10100\n",
      "Epoch 12/60\n",
      "1988/1988 [==============================] - 194s 97ms/step - loss: 1.0585 - accuracy: 0.6630 - val_loss: 1.2554 - val_accuracy: 0.6278\n",
      "\n",
      "Epoch 00012: val_loss did not improve from 1.10100\n",
      "Epoch 13/60\n",
      "1988/1988 [==============================] - 193s 97ms/step - loss: 1.0474 - accuracy: 0.6670 - val_loss: 1.0816 - val_accuracy: 0.6700\n",
      "\n",
      "Epoch 00013: val_loss improved from 1.10100 to 1.08160, saving model to models/model1_mouse_weights.hdf5\n",
      "Epoch 14/60\n",
      "1988/1988 [==============================] - 188s 94ms/step - loss: 1.0171 - accuracy: 0.6836 - val_loss: 1.0956 - val_accuracy: 0.6660\n",
      "\n",
      "Epoch 00014: val_loss did not improve from 1.08160\n",
      "Epoch 15/60\n",
      "1988/1988 [==============================] - 164s 82ms/step - loss: 1.0136 - accuracy: 0.6796 - val_loss: 1.1005 - val_accuracy: 0.6439\n",
      "\n",
      "Epoch 00015: val_loss did not improve from 1.08160\n",
      "Epoch 16/60\n",
      "1988/1988 [==============================] - 176s 89ms/step - loss: 0.9884 - accuracy: 0.6876 - val_loss: 1.0828 - val_accuracy: 0.6579\n",
      "\n",
      "Epoch 00016: val_loss did not improve from 1.08160\n",
      "Epoch 17/60\n",
      "1988/1988 [==============================] - 210s 106ms/step - loss: 0.9647 - accuracy: 0.6932 - val_loss: 1.0747 - val_accuracy: 0.6700\n",
      "\n",
      "Epoch 00017: val_loss improved from 1.08160 to 1.07472, saving model to models/model1_mouse_weights.hdf5\n",
      "Epoch 18/60\n",
      "1988/1988 [==============================] - 205s 103ms/step - loss: 0.9666 - accuracy: 0.6982 - val_loss: 1.1268 - val_accuracy: 0.6398\n",
      "\n",
      "Epoch 00018: val_loss did not improve from 1.07472\n",
      "Epoch 19/60\n",
      "1988/1988 [==============================] - 194s 97ms/step - loss: 0.9612 - accuracy: 0.7037 - val_loss: 1.2264 - val_accuracy: 0.6117\n",
      "\n",
      "Epoch 00019: val_loss did not improve from 1.07472\n",
      "Epoch 20/60\n",
      "1988/1988 [==============================] - 189s 95ms/step - loss: 0.9429 - accuracy: 0.7002 - val_loss: 1.1132 - val_accuracy: 0.6499\n",
      "\n",
      "Epoch 00020: val_loss did not improve from 1.07472\n",
      "Epoch 21/60\n",
      "1988/1988 [==============================] - 172s 87ms/step - loss: 0.9264 - accuracy: 0.7062 - val_loss: 1.0501 - val_accuracy: 0.6740\n",
      "\n",
      "Epoch 00021: val_loss improved from 1.07472 to 1.05006, saving model to models/model1_mouse_weights.hdf5\n",
      "Epoch 22/60\n",
      "1988/1988 [==============================] - 189s 95ms/step - loss: 0.9166 - accuracy: 0.7072 - val_loss: 1.0373 - val_accuracy: 0.6740\n",
      "\n",
      "Epoch 00022: val_loss improved from 1.05006 to 1.03727, saving model to models/model1_mouse_weights.hdf5\n",
      "Epoch 23/60\n",
      "1988/1988 [==============================] - 181s 91ms/step - loss: 0.8969 - accuracy: 0.7123 - val_loss: 1.4668 - val_accuracy: 0.5835\n",
      "\n",
      "Epoch 00023: val_loss did not improve from 1.03727\n",
      "Epoch 24/60\n",
      "1988/1988 [==============================] - 181s 91ms/step - loss: 0.9477 - accuracy: 0.7007 - val_loss: 1.3081 - val_accuracy: 0.6217\n",
      "\n",
      "Epoch 00024: val_loss did not improve from 1.03727\n",
      "Epoch 25/60\n",
      "1988/1988 [==============================] - 193s 97ms/step - loss: 0.9345 - accuracy: 0.7067 - val_loss: 1.0719 - val_accuracy: 0.6579\n",
      "\n",
      "Epoch 00025: val_loss did not improve from 1.03727\n",
      "Epoch 26/60\n",
      "1988/1988 [==============================] - 245s 123ms/step - loss: 0.8909 - accuracy: 0.7123 - val_loss: 1.0502 - val_accuracy: 0.6720\n",
      "\n",
      "Epoch 00026: val_loss did not improve from 1.03727\n",
      "Epoch 27/60\n",
      "1988/1988 [==============================] - 377s 189ms/step - loss: 0.8809 - accuracy: 0.7178 - val_loss: 1.0501 - val_accuracy: 0.6761\n",
      "\n",
      "Epoch 00027: val_loss did not improve from 1.03727\n",
      "Epoch 28/60\n",
      "1988/1988 [==============================] - 368s 185ms/step - loss: 0.8789 - accuracy: 0.7193 - val_loss: 1.0543 - val_accuracy: 0.6680\n",
      "\n",
      "Epoch 00028: val_loss did not improve from 1.03727\n",
      "Epoch 29/60\n",
      "1988/1988 [==============================] - 371s 187ms/step - loss: 0.8728 - accuracy: 0.7173 - val_loss: 1.1214 - val_accuracy: 0.6499\n",
      "\n",
      "Epoch 00029: val_loss did not improve from 1.03727\n",
      "Epoch 30/60\n",
      "1988/1988 [==============================] - 389s 196ms/step - loss: 0.8725 - accuracy: 0.7238 - val_loss: 1.0053 - val_accuracy: 0.6861\n",
      "\n",
      "Epoch 00030: val_loss improved from 1.03727 to 1.00530, saving model to models/model1_mouse_weights.hdf5\n",
      "Epoch 31/60\n",
      "1988/1988 [==============================] - 368s 185ms/step - loss: 0.8412 - accuracy: 0.7299 - val_loss: 1.0172 - val_accuracy: 0.6801\n",
      "\n",
      "Epoch 00031: val_loss did not improve from 1.00530\n",
      "Epoch 32/60\n",
      "1988/1988 [==============================] - 390s 196ms/step - loss: 0.8423 - accuracy: 0.7304 - val_loss: 1.0539 - val_accuracy: 0.6761\n",
      "\n",
      "Epoch 00032: val_loss did not improve from 1.00530\n",
      "Epoch 33/60\n",
      "1988/1988 [==============================] - 393s 198ms/step - loss: 0.8499 - accuracy: 0.7213 - val_loss: 1.0492 - val_accuracy: 0.6680\n",
      "\n",
      "Epoch 00033: val_loss did not improve from 1.00530\n",
      "Epoch 34/60\n",
      "1988/1988 [==============================] - 402s 202ms/step - loss: 0.8297 - accuracy: 0.7294 - val_loss: 1.0770 - val_accuracy: 0.6579\n",
      "\n",
      "Epoch 00034: val_loss did not improve from 1.00530\n",
      "Epoch 35/60\n",
      "1988/1988 [==============================] - 321s 162ms/step - loss: 0.8312 - accuracy: 0.7369 - val_loss: 1.0107 - val_accuracy: 0.6841\n",
      "\n",
      "Epoch 00035: val_loss did not improve from 1.00530\n",
      "Epoch 36/60\n",
      "1988/1988 [==============================] - 314s 158ms/step - loss: 0.8069 - accuracy: 0.7369 - val_loss: 1.0302 - val_accuracy: 0.6841\n",
      "\n",
      "Epoch 00036: val_loss did not improve from 1.00530\n",
      "Epoch 37/60\n",
      "1988/1988 [==============================] - 313s 158ms/step - loss: 0.7932 - accuracy: 0.7435 - val_loss: 1.0269 - val_accuracy: 0.6801\n",
      "\n",
      "Epoch 00037: val_loss did not improve from 1.00530\n",
      "Epoch 38/60\n"
     ]
    },
    {
     "name": "stdout",
     "output_type": "stream",
     "text": [
      "1988/1988 [==============================] - 314s 158ms/step - loss: 0.8060 - accuracy: 0.7384 - val_loss: 1.0285 - val_accuracy: 0.6821\n",
      "\n",
      "Epoch 00038: val_loss did not improve from 1.00530\n",
      "Epoch 39/60\n",
      "1988/1988 [==============================] - 313s 158ms/step - loss: 0.7888 - accuracy: 0.7414 - val_loss: 1.0643 - val_accuracy: 0.6781\n",
      "\n",
      "Epoch 00039: val_loss did not improve from 1.00530\n",
      "Epoch 40/60\n",
      "1988/1988 [==============================] - 315s 158ms/step - loss: 0.7919 - accuracy: 0.7394 - val_loss: 1.0584 - val_accuracy: 0.6781\n",
      "\n",
      "Epoch 00040: val_loss did not improve from 1.00530\n",
      "Epoch 41/60\n",
      "1988/1988 [==============================] - 313s 158ms/step - loss: 0.7852 - accuracy: 0.7399 - val_loss: 1.0238 - val_accuracy: 0.6781\n",
      "\n",
      "Epoch 00041: val_loss did not improve from 1.00530\n",
      "Epoch 42/60\n",
      "1988/1988 [==============================] - 315s 158ms/step - loss: 0.7766 - accuracy: 0.7455 - val_loss: 1.0378 - val_accuracy: 0.6801\n",
      "\n",
      "Epoch 00042: val_loss did not improve from 1.00530\n",
      "Epoch 43/60\n",
      "1988/1988 [==============================] - 316s 159ms/step - loss: 0.7763 - accuracy: 0.7525 - val_loss: 1.0303 - val_accuracy: 0.6861\n",
      "\n",
      "Epoch 00043: val_loss did not improve from 1.00530\n",
      "Epoch 44/60\n",
      "1988/1988 [==============================] - 313s 158ms/step - loss: 0.7608 - accuracy: 0.7480 - val_loss: 1.0383 - val_accuracy: 0.6821\n",
      "\n",
      "Epoch 00044: val_loss did not improve from 1.00530\n",
      "Epoch 45/60\n",
      "1988/1988 [==============================] - 312s 157ms/step - loss: 0.7534 - accuracy: 0.7515 - val_loss: 1.0315 - val_accuracy: 0.6821\n",
      "\n",
      "Epoch 00045: val_loss did not improve from 1.00530\n",
      "Epoch 46/60\n",
      "1988/1988 [==============================] - 314s 158ms/step - loss: 0.7216 - accuracy: 0.7656 - val_loss: 1.0766 - val_accuracy: 0.6781\n",
      "\n",
      "Epoch 00046: val_loss did not improve from 1.00530\n",
      "Epoch 47/60\n",
      "1988/1988 [==============================] - 314s 158ms/step - loss: 0.7396 - accuracy: 0.7540 - val_loss: 1.0560 - val_accuracy: 0.6841\n",
      "\n",
      "Epoch 00047: val_loss did not improve from 1.00530\n",
      "Epoch 48/60\n",
      "1988/1988 [==============================] - 314s 158ms/step - loss: 0.7134 - accuracy: 0.7636 - val_loss: 1.0997 - val_accuracy: 0.6539\n",
      "\n",
      "Epoch 00048: val_loss did not improve from 1.00530\n",
      "Epoch 49/60\n",
      "1988/1988 [==============================] - 314s 158ms/step - loss: 0.7268 - accuracy: 0.7570 - val_loss: 1.0409 - val_accuracy: 0.6942\n",
      "\n",
      "Epoch 00049: val_loss did not improve from 1.00530\n",
      "Epoch 50/60\n",
      "1988/1988 [==============================] - 316s 159ms/step - loss: 0.6922 - accuracy: 0.7686 - val_loss: 1.0504 - val_accuracy: 0.7022\n",
      "\n",
      "Epoch 00050: val_loss did not improve from 1.00530\n",
      "Epoch 51/60\n",
      "1988/1988 [==============================] - 312s 157ms/step - loss: 0.6778 - accuracy: 0.7721 - val_loss: 1.0219 - val_accuracy: 0.6942\n",
      "\n",
      "Epoch 00051: val_loss did not improve from 1.00530\n",
      "Epoch 52/60\n",
      "1988/1988 [==============================] - 314s 158ms/step - loss: 0.6889 - accuracy: 0.7762 - val_loss: 1.0763 - val_accuracy: 0.6740\n",
      "\n",
      "Epoch 00052: val_loss did not improve from 1.00530\n",
      "Epoch 53/60\n",
      "1988/1988 [==============================] - 313s 157ms/step - loss: 0.6563 - accuracy: 0.7867 - val_loss: 1.1097 - val_accuracy: 0.6901\n",
      "\n",
      "Epoch 00053: val_loss did not improve from 1.00530\n",
      "Epoch 54/60\n",
      "1988/1988 [==============================] - 314s 158ms/step - loss: 0.6689 - accuracy: 0.7721 - val_loss: 1.1204 - val_accuracy: 0.6861\n",
      "\n",
      "Epoch 00054: val_loss did not improve from 1.00530\n",
      "Epoch 55/60\n",
      "1988/1988 [==============================] - 314s 158ms/step - loss: 0.6607 - accuracy: 0.7787 - val_loss: 1.0531 - val_accuracy: 0.6801\n",
      "\n",
      "Epoch 00055: val_loss did not improve from 1.00530\n",
      "Epoch 56/60\n",
      "1988/1988 [==============================] - 314s 158ms/step - loss: 0.6514 - accuracy: 0.7787 - val_loss: 1.0901 - val_accuracy: 0.6861\n",
      "\n",
      "Epoch 00056: val_loss did not improve from 1.00530\n",
      "Epoch 57/60\n",
      "1988/1988 [==============================] - 314s 158ms/step - loss: 0.6126 - accuracy: 0.7938 - val_loss: 1.3834 - val_accuracy: 0.6620\n",
      "\n",
      "Epoch 00057: val_loss did not improve from 1.00530\n",
      "Epoch 58/60\n",
      "1988/1988 [==============================] - 313s 158ms/step - loss: 0.6647 - accuracy: 0.7762 - val_loss: 1.0945 - val_accuracy: 0.6962\n",
      "\n",
      "Epoch 00058: val_loss did not improve from 1.00530\n",
      "Epoch 59/60\n",
      "1988/1988 [==============================] - 313s 158ms/step - loss: 0.6403 - accuracy: 0.7867 - val_loss: 1.0911 - val_accuracy: 0.6841\n",
      "\n",
      "Epoch 00059: val_loss did not improve from 1.00530\n",
      "Epoch 60/60\n",
      "1988/1988 [==============================] - 314s 158ms/step - loss: 0.6397 - accuracy: 0.7852 - val_loss: 1.2505 - val_accuracy: 0.5835\n",
      "\n",
      "Epoch 00060: val_loss did not improve from 1.00530\n"
     ]
    }
   ],
   "source": [
    "class_weights = class_weight.compute_class_weight('balanced',\n",
    "                                                 np.unique(y_train),\n",
    "                                                 y_train)\n",
    "d_class_weights = dict(enumerate(class_weights))\n",
    "\n",
    "model.compile('Nadam', 'categorical_crossentropy', metrics=['accuracy'])\n",
    "ckpt = ModelCheckpoint(filepath='models/model1_mouse_weights.hdf5', \n",
    "                           verbose=1, save_best_only=True)\n",
    "# Train, train, train\n",
    "history = model.fit(x_train_pad, y_train_OH, \n",
    "                    batch_size=32, epochs=60,\n",
    "                    class_weight = class_weights,\n",
    "          validation_data=[x_valid_pad, y_valid_OH], callbacks=[ckpt])"
   ]
  },
  {
   "cell_type": "code",
   "execution_count": 38,
   "metadata": {},
   "outputs": [
    {
     "data": {
      "image/png": "[encoded data removed]",
      "text/plain": [
       "<Figure size 432x288 with 1 Axes>"
      ]
     },
     "metadata": {
      "needs_background": "light"
     },
     "output_type": "display_data"
    },
    {
     "data": {
      "image/png": "[encoded data removed]",
      "text/plain": [
       "<Figure size 432x288 with 1 Axes>"
      ]
     },
     "metadata": {
      "needs_background": "light"
     },
     "output_type": "display_data"
    }
   ],
   "source": [
    "def history_plot(history):\n",
    "    # Plot training & validation accuracy values\n",
    "    plt.plot(history.history['accuracy'])\n",
    "    plt.plot(history.history['val_accuracy'])\n",
    "    plt.title('Model accuracy')\n",
    "    plt.ylabel('Accuracy')\n",
    "    plt.xlabel('Epoch')\n",
    "    plt.legend(['Train', 'Valid'], loc='upper left')\n",
    "    plt.show()\n",
    "\n",
    "    # Plot training & validation loss values\n",
    "    plt.plot(history.history['loss'])\n",
    "    plt.plot(history.history['val_loss'])\n",
    "    plt.title('Model loss')\n",
    "    plt.ylabel('Loss')\n",
    "    plt.xlabel('Epoch')\n",
    "    plt.legend(['Train', 'Valid'], loc='upper left')\n",
    "    plt.show()\n",
    "    \n",
    "history_plot(history)"
   ]
  },
  {
   "cell_type": "code",
   "execution_count": 39,
   "metadata": {},
   "outputs": [
    {
     "name": "stdout",
     "output_type": "stream",
     "text": [
      "497/497 [==============================] - 13s 27ms/step\n"
     ]
    },
    {
     "data": {
      "text/plain": [
       "[1.005297534662473, 0.6861166954040527]"
      ]
     },
     "execution_count": 39,
     "metadata": {},
     "output_type": "execute_result"
    }
   ],
   "source": [
    "model = load_model('models/model1_mouse_weights.hdf5')\n",
    "model.evaluate(x_valid_pad, y_valid_OH)"
   ]
  },
  {
   "cell_type": "code",
   "execution_count": 40,
   "metadata": {},
   "outputs": [],
   "source": [
    "y_pred = model.predict(x_valid_pad)\n",
    "y_pred_indices = OH_to_label_indices(y_pred)\n",
    "y_pred_label = indices_to_cat(y_pred_indices)"
   ]
  },
  {
   "cell_type": "code",
   "execution_count": 41,
   "metadata": {},
   "outputs": [
    {
     "data": {
      "image/png": "[encoded data removed]",
      "text/plain": [
       "<Figure size 432x288 with 2 Axes>"
      ]
     },
     "metadata": {
      "needs_background": "light"
     },
     "output_type": "display_data"
    }
   ],
   "source": [
    "confusion_plot(y_valid, y_pred_label, cat)"
   ]
  },
  {
   "cell_type": "code",
   "execution_count": 42,
   "metadata": {},
   "outputs": [
    {
     "data": {
      "image/png": "[encoded data removed]",
      "text/plain": [
       "<Figure size 432x288 with 2 Axes>"
      ]
     },
     "metadata": {
      "needs_background": "light"
     },
     "output_type": "display_data"
    }
   ],
   "source": [
    "conf = confusion_plot_norm(y_valid, y_pred_label, cat, axis=1)"
   ]
  },
  {
   "cell_type": "code",
   "execution_count": 43,
   "metadata": {},
   "outputs": [
    {
     "name": "stdout",
     "output_type": "stream",
     "text": [
      "                       precision    recall  f1-score   support\n",
      "\n",
      "                   ER       0.54      0.51      0.53        51\n",
      "             Endosome       0.30      0.06      0.10        48\n",
      "                Golgi       0.00      0.00      0.00        16\n",
      "Large Protein Complex       0.71      0.98      0.82       247\n",
      "             Lysosome       0.00      0.00      0.00         9\n",
      "        Mitochondrion       0.89      0.68      0.77        80\n",
      "      Plasma membrane       0.42      0.37      0.40        46\n",
      "\n",
      "             accuracy                           0.69       497\n",
      "            macro avg       0.41      0.37      0.37       497\n",
      "         weighted avg       0.62      0.69      0.63       497\n",
      "\n"
     ]
    },
    {
     "name": "stderr",
     "output_type": "stream",
     "text": [
      "/home/julie/anaconda3/lib/python3.7/site-packages/sklearn/metrics/_classification.py:1268: UndefinedMetricWarning: Precision and F-score are ill-defined and being set to 0.0 in labels with no predicted samples. Use `zero_division` parameter to control this behavior.\n",
      "  _warn_prf(average, modifier, msg_start, len(result))\n"
     ]
    }
   ],
   "source": [
    "print(classification_report(y_valid, y_pred_label))"
   ]
  },
  {
   "cell_type": "raw",
   "metadata": {},
   "source": [
    "6C compartment, same model: \n",
    "\n",
    "        precision    recall  f1-score   support\n",
    "\n",
    "             ER       0.49      0.43      0.46        51\n",
    "       Endosome       0.27      0.08      0.13        48\n",
    "          Golgi       0.00      0.00      0.00        16\n",
    "       Lysosome       0.00      0.00      0.00         9\n",
    "  Mitochondrion       0.76      0.78      0.77        80\n",
    " No Compartment       0.72      0.93      0.81       247\n",
    "Plasma membrane       0.48      0.35      0.41        46\n",
    "\n",
    "       accuracy                           0.67       497\n",
    "      macro avg       0.39      0.37      0.37       497\n",
    "   weighted avg       0.60      0.67      0.62       497\n",
    "   \n",
    "So... using the unlabelled data is not helping. This data is properly very noisy. \n",
    "So what to do?"
   ]
  }
 ],
 "metadata": {
  "kernelspec": {
   "display_name": "Python 3",
   "language": "python",
   "name": "python3"
  },
  "language_info": {
   "codemirror_mode": {
    "name": "ipython",
    "version": 3
   },
   "file_extension": ".py",
   "mimetype": "text/x-python",
   "name": "python",
   "nbconvert_exporter": "python",
   "pygments_lexer": "ipython3",
   "version": "3.7.3"
  }
 },
 "nbformat": 4,
 "nbformat_minor": 2
}
