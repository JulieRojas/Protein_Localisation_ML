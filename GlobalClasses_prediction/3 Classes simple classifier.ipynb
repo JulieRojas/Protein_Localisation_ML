{
 "cells": [
  {
   "cell_type": "code",
   "execution_count": 15,
   "metadata": {},
   "outputs": [],
   "source": [
    "import matplotlib\n",
    "import matplotlib.pyplot as plt\n",
    "import pandas as pd\n",
    "import csv\n",
    "import numpy as np\n",
    "%matplotlib inline \n",
    "from sklearn.decomposition import PCA\n",
    "\n",
    "import tempfile, sys, os\n",
    "from keras.models import Model\n",
    "sys.path.insert(0, os.path.abspath('..'))\n",
    "from matplotlib.ticker import MultipleLocator\n",
    "from keras.utils.vis_utils import plot_model\n",
    "from keras.callbacks import ModelCheckpoint\n",
    "from sklearn.utils import class_weight\n",
    "from sklearn.metrics import confusion_matrix\n",
    "from keras.preprocessing import sequence\n",
    "from keras.models import Sequential\n",
    "from keras.layers import Dense, Dropout, Embedding, LSTM, Bidirectional, Conv1D, MaxPooling1D\n",
    "from numpy import loadtxt\n",
    "from keras.models import load_model\n",
    "from keras import backend as K\n",
    "import deepexplain\n",
    "#from deepexplain.tensorflow import DeepExplain"
   ]
  },
  {
   "cell_type": "code",
   "execution_count": 2,
   "metadata": {},
   "outputs": [],
   "source": [
    "train = pd.read_csv(\"data/3Classes_train.csv\", sep=\"\\t\")\n",
    "valid = pd.read_csv(\"data/3Classes_valid.csv\", sep=\"\\t\")\n",
    "\n",
    "y_train = train[\"Global classifier2\"]\n",
    "y_valid = valid[\"Global classifier2\"]\n",
    "\n",
    "x_train = train[\"Sequence\"].copy()\n",
    "x_valid = valid[\"Sequence\"].copy()"
   ]
  },
  {
   "cell_type": "code",
   "execution_count": 3,
   "metadata": {},
   "outputs": [
    {
     "name": "stdout",
     "output_type": "stream",
     "text": [
      "4015 train sequences\n",
      "709 test sequences\n"
     ]
    }
   ],
   "source": [
    "print(len(x_train), 'train sequences')\n",
    "print(len(x_valid), 'test sequences')"
   ]
  },
  {
   "cell_type": "code",
   "execution_count": 4,
   "metadata": {},
   "outputs": [
    {
     "name": "stdout",
     "output_type": "stream",
     "text": [
      "1500\n"
     ]
    }
   ],
   "source": [
    "max_len = len(max(x_train, key=len))\n",
    "print(max_len)"
   ]
  },
  {
   "cell_type": "code",
   "execution_count": 5,
   "metadata": {},
   "outputs": [],
   "source": [
    "# all amino acids (in blosum order)\n",
    "aa = \"*ARNDCQEGHILKMFPSTWYVU\"\n",
    "tot_aa = len(aa)\n",
    "\n",
    "# define a mapping of aa to integers\n",
    "aa_to_int = dict((c, i) for i, c in enumerate(aa))\n",
    "int_to_aa = dict((i, c) for i, c in enumerate(aa))"
   ]
  },
  {
   "cell_type": "markdown",
   "metadata": {},
   "source": [
    "## One hot encoding of Labels"
   ]
  },
  {
   "cell_type": "code",
   "execution_count": 6,
   "metadata": {},
   "outputs": [],
   "source": [
    "cat = ['Mostly Cytosolic', 'Mostly Nuclear', 'Mostly Organellar']\n",
    "\n",
    "tot_cat = len(cat)\n",
    "cat_to_int = {}\n",
    "int_to_cat = {}\n",
    "for i in range(tot_cat):\n",
    "    cat_to_int[cat[i]] = i\n",
    "    int_to_cat[i] = cat[i]   "
   ]
  },
  {
   "cell_type": "code",
   "execution_count": 7,
   "metadata": {},
   "outputs": [],
   "source": [
    "def cat_to_indices(Y):\n",
    "    Y_indices = np.zeros([Y.shape[0],], dtype=int)\n",
    "    for i in range(len(Y)):\n",
    "        Y_indices[i] = cat_to_int[Y[i]]\n",
    "    return Y_indices\n",
    "\n",
    "# one hot encode\n",
    "def convert_to_one_hot(Y, C):\n",
    "    Y = np.eye(C)[Y.reshape(-1)]\n",
    "    return Y"
   ]
  },
  {
   "cell_type": "code",
   "execution_count": 8,
   "metadata": {},
   "outputs": [],
   "source": [
    "y_train_indices = cat_to_indices(y_train)\n",
    "y_valid_indices = cat_to_indices(y_valid)\n",
    "\n",
    "y_train_OH = convert_to_one_hot(y_train_indices, C = tot_cat)\n",
    "y_valid_OH = convert_to_one_hot(y_valid_indices, C = tot_cat)"
   ]
  },
  {
   "cell_type": "markdown",
   "metadata": {},
   "source": [
    "## X_train processing: \n",
    "### From Sequences to list of indices"
   ]
  },
  {
   "cell_type": "code",
   "execution_count": 9,
   "metadata": {},
   "outputs": [],
   "source": [
    "# Function to convert sequences to array of indices. I will that that one for embedding \n",
    "\n",
    "def seq_to_indices(X, aa_to_int, max_len):\n",
    "    \n",
    "    m = X.shape[0]                                   # number of training examples\n",
    "    \n",
    "    ### START CODE HERE ###\n",
    "    # Initialize X_indices as a numpy matrix of zeros and the correct shape (≈ 1 line)\n",
    "    X_indices = []\n",
    "    \n",
    "    for i in range(m):                               # loop over training examples\n",
    "        seq_aa = X[i]\n",
    "        seq_ind = []\n",
    "        \n",
    "        # Loop over the words of sentence_words\n",
    "        for w in range(len(seq_aa)):\n",
    "            seq_ind.append(aa_to_int[seq_aa[w]])\n",
    "            \n",
    "        X_indices.append(seq_ind)\n",
    "            \n",
    "    ### END CODE HERE ###\n",
    "    \n",
    "    return X_indices"
   ]
  },
  {
   "cell_type": "code",
   "execution_count": 10,
   "metadata": {},
   "outputs": [],
   "source": [
    "x_train_indices = seq_to_indices(x_train, aa_to_int, max_len)\n",
    "x_valid_indices = seq_to_indices(x_valid, aa_to_int, max_len)"
   ]
  },
  {
   "cell_type": "code",
   "execution_count": 11,
   "metadata": {},
   "outputs": [
    {
     "name": "stdout",
     "output_type": "stream",
     "text": [
      "x_train shape: (4015, 1500)\n",
      "x_valid shape: (709, 1500)\n"
     ]
    }
   ],
   "source": [
    "# Pad sequences\n",
    "# By default, the padding is added before the sequence\n",
    "x_train_pad = sequence.pad_sequences(x_train_indices, maxlen=max_len, value=aa_to_int[\"*\"])\n",
    "x_valid_pad = sequence.pad_sequences(x_valid_indices, maxlen=max_len, value=aa_to_int[\"*\"])\n",
    "print('x_train shape:', x_train_pad.shape)\n",
    "print('x_valid shape:', x_valid_pad.shape)"
   ]
  },
  {
   "cell_type": "code",
   "execution_count": 12,
   "metadata": {},
   "outputs": [],
   "source": [
    "# One hot to label \n",
    "#Y is list of OH vector\n",
    "def OH_to_label_indices(Y):\n",
    "    labels = []\n",
    "    for a in Y:\n",
    "        indices = np.argmax(a)\n",
    "        labels.append(indices)\n",
    "    return labels"
   ]
  },
  {
   "cell_type": "code",
   "execution_count": 13,
   "metadata": {},
   "outputs": [],
   "source": [
    "def indices_to_cat(Y):\n",
    "    Y_cat = []\n",
    "    for i in range(len(Y)):\n",
    "        Y_cat.append(int_to_cat[Y[i]])\n",
    "    return Y_cat"
   ]
  },
  {
   "cell_type": "markdown",
   "metadata": {},
   "source": [
    "# First Model\n",
    "\n",
    "Saved in model, folder 1 "
   ]
  },
  {
   "cell_type": "code",
   "execution_count": 22,
   "metadata": {},
   "outputs": [],
   "source": [
    "class_weights = class_weight.compute_class_weight('balanced',\n",
    "                                                 np.unique(y_train),\n",
    "                                                 y_train)\n",
    "d_class_weights = dict(enumerate(class_weights))"
   ]
  },
  {
   "cell_type": "code",
   "execution_count": 18,
   "metadata": {
    "scrolled": false
   },
   "outputs": [
    {
     "name": "stdout",
     "output_type": "stream",
     "text": [
      "Train...\n",
      "Train on 4015 samples, validate on 709 samples\n",
      "Epoch 1/50\n",
      "4015/4015 [==============================] - 188s 47ms/step - loss: 1.0303 - accuracy: 0.4715 - val_loss: 1.0150 - val_accuracy: 0.4838\n",
      "\n",
      "Epoch 00001: val_loss improved from inf to 1.01503, saving model to models/1/weights.01-1.02.hdf5\n",
      "Epoch 2/50\n",
      "4015/4015 [==============================] - 188s 47ms/step - loss: 0.9846 - accuracy: 0.4984 - val_loss: 1.0159 - val_accuracy: 0.4908\n",
      "\n",
      "Epoch 00002: val_loss did not improve from 1.01503\n",
      "Epoch 3/50\n",
      "4015/4015 [==============================] - 188s 47ms/step - loss: 1.0146 - accuracy: 0.4874 - val_loss: 1.0129 - val_accuracy: 0.4908\n",
      "\n",
      "Epoch 00003: val_loss improved from 1.01503 to 1.01293, saving model to models/1/weights.03-1.01.hdf5\n",
      "Epoch 4/50\n",
      "4015/4015 [==============================] - 187s 47ms/step - loss: 1.0102 - accuracy: 0.4904 - val_loss: 1.0135 - val_accuracy: 0.4894\n",
      "\n",
      "Epoch 00004: val_loss did not improve from 1.01293\n",
      "Epoch 5/50\n",
      "4015/4015 [==============================] - 188s 47ms/step - loss: 0.9969 - accuracy: 0.5021 - val_loss: 0.9969 - val_accuracy: 0.5078\n",
      "\n",
      "Epoch 00005: val_loss improved from 1.01293 to 0.99686, saving model to models/1/weights.05-1.00.hdf5\n",
      "Epoch 6/50\n",
      "4015/4015 [==============================] - 189s 47ms/step - loss: 0.9684 - accuracy: 0.5153 - val_loss: 1.0273 - val_accuracy: 0.4415\n",
      "\n",
      "Epoch 00006: val_loss did not improve from 0.99686\n",
      "Epoch 7/50\n",
      "4015/4015 [==============================] - 191s 48ms/step - loss: 0.9290 - accuracy: 0.5300 - val_loss: 0.9560 - val_accuracy: 0.5219\n",
      "\n",
      "Epoch 00007: val_loss improved from 0.99686 to 0.95599, saving model to models/1/weights.07-0.96.hdf5\n",
      "Epoch 8/50\n",
      "4015/4015 [==============================] - 188s 47ms/step - loss: 0.9997 - accuracy: 0.5019 - val_loss: 1.0124 - val_accuracy: 0.4894\n",
      "\n",
      "Epoch 00008: val_loss did not improve from 0.95599\n",
      "Epoch 9/50\n",
      "4015/4015 [==============================] - 187s 47ms/step - loss: 1.0025 - accuracy: 0.5036 - val_loss: 0.9925 - val_accuracy: 0.5021\n",
      "\n",
      "Epoch 00009: val_loss did not improve from 0.95599\n",
      "Epoch 10/50\n",
      "4015/4015 [==============================] - 187s 47ms/step - loss: 0.9889 - accuracy: 0.5086 - val_loss: 1.0083 - val_accuracy: 0.4979\n",
      "\n",
      "Epoch 00010: val_loss did not improve from 0.95599\n",
      "Epoch 11/50\n",
      "4015/4015 [==============================] - 192s 48ms/step - loss: 0.9945 - accuracy: 0.5061 - val_loss: 0.9947 - val_accuracy: 0.5021\n",
      "\n",
      "Epoch 00011: val_loss did not improve from 0.95599\n",
      "Epoch 12/50\n",
      "4015/4015 [==============================] - 187s 47ms/step - loss: 0.9327 - accuracy: 0.5407 - val_loss: 0.9636 - val_accuracy: 0.5472\n",
      "\n",
      "Epoch 00012: val_loss did not improve from 0.95599\n",
      "Epoch 13/50\n",
      "4015/4015 [==============================] - 187s 47ms/step - loss: 0.8980 - accuracy: 0.5601 - val_loss: 0.9152 - val_accuracy: 0.5910\n",
      "\n",
      "Epoch 00013: val_loss improved from 0.95599 to 0.91517, saving model to models/1/weights.13-0.92.hdf5\n",
      "Epoch 14/50\n",
      "4015/4015 [==============================] - 188s 47ms/step - loss: 0.8681 - accuracy: 0.5998 - val_loss: 0.8995 - val_accuracy: 0.5205\n",
      "\n",
      "Epoch 00014: val_loss improved from 0.91517 to 0.89955, saving model to models/1/weights.14-0.90.hdf5\n",
      "Epoch 15/50\n",
      "4015/4015 [==============================] - 189s 47ms/step - loss: 0.9008 - accuracy: 0.5756 - val_loss: 1.0124 - val_accuracy: 0.4767\n",
      "\n",
      "Epoch 00015: val_loss did not improve from 0.89955\n",
      "Epoch 16/50\n",
      "4015/4015 [==============================] - 188s 47ms/step - loss: 0.9519 - accuracy: 0.5203 - val_loss: 0.9030 - val_accuracy: 0.5571\n",
      "\n",
      "Epoch 00016: val_loss did not improve from 0.89955\n",
      "Epoch 17/50\n",
      "4015/4015 [==============================] - 189s 47ms/step - loss: 0.8778 - accuracy: 0.5729 - val_loss: 0.8938 - val_accuracy: 0.5740\n",
      "\n",
      "Epoch 00017: val_loss improved from 0.89955 to 0.89384, saving model to models/1/weights.17-0.89.hdf5\n",
      "Epoch 18/50\n",
      "4015/4015 [==============================] - 188s 47ms/step - loss: 0.7914 - accuracy: 0.6431 - val_loss: 0.7690 - val_accuracy: 0.6361\n",
      "\n",
      "Epoch 00018: val_loss improved from 0.89384 to 0.76904, saving model to models/1/weights.18-0.77.hdf5\n",
      "Epoch 19/50\n",
      "4015/4015 [==============================] - 188s 47ms/step - loss: 0.7421 - accuracy: 0.6867 - val_loss: 0.7650 - val_accuracy: 0.6516\n",
      "\n",
      "Epoch 00019: val_loss improved from 0.76904 to 0.76499, saving model to models/1/weights.19-0.76.hdf5\n",
      "Epoch 20/50\n",
      "4015/4015 [==============================] - 187s 47ms/step - loss: 0.7035 - accuracy: 0.7088 - val_loss: 0.7006 - val_accuracy: 0.7094\n",
      "\n",
      "Epoch 00020: val_loss improved from 0.76499 to 0.70059, saving model to models/1/weights.20-0.70.hdf5\n",
      "Epoch 21/50\n",
      "4015/4015 [==============================] - 187s 47ms/step - loss: 0.6540 - accuracy: 0.7310 - val_loss: 0.6488 - val_accuracy: 0.7292\n",
      "\n",
      "Epoch 00021: val_loss improved from 0.70059 to 0.64876, saving model to models/1/weights.21-0.65.hdf5\n",
      "Epoch 22/50\n",
      "4015/4015 [==============================] - 187s 47ms/step - loss: 0.6183 - accuracy: 0.7539 - val_loss: 0.6470 - val_accuracy: 0.7377\n",
      "\n",
      "Epoch 00022: val_loss improved from 0.64876 to 0.64703, saving model to models/1/weights.22-0.65.hdf5\n",
      "Epoch 23/50\n",
      "4015/4015 [==============================] - 187s 47ms/step - loss: 0.5985 - accuracy: 0.7716 - val_loss: 0.6555 - val_accuracy: 0.7447\n",
      "\n",
      "Epoch 00023: val_loss did not improve from 0.64703\n",
      "Epoch 24/50\n",
      "4015/4015 [==============================] - 187s 47ms/step - loss: 0.6138 - accuracy: 0.7537 - val_loss: 0.6414 - val_accuracy: 0.7320\n",
      "\n",
      "Epoch 00024: val_loss improved from 0.64703 to 0.64136, saving model to models/1/weights.24-0.64.hdf5\n",
      "Epoch 25/50\n",
      "4015/4015 [==============================] - 187s 47ms/step - loss: 0.5848 - accuracy: 0.7731 - val_loss: 0.6626 - val_accuracy: 0.7292\n",
      "\n",
      "Epoch 00025: val_loss did not improve from 0.64136\n",
      "Epoch 26/50\n",
      "4015/4015 [==============================] - 187s 47ms/step - loss: 0.5728 - accuracy: 0.7741 - val_loss: 0.6507 - val_accuracy: 0.7207\n",
      "\n",
      "Epoch 00026: val_loss did not improve from 0.64136\n",
      "Epoch 27/50\n",
      "4015/4015 [==============================] - 188s 47ms/step - loss: 0.5730 - accuracy: 0.7773 - val_loss: 0.8110 - val_accuracy: 0.6939\n",
      "\n",
      "Epoch 00027: val_loss did not improve from 0.64136\n",
      "Epoch 28/50\n",
      "4015/4015 [==============================] - 187s 47ms/step - loss: 0.5614 - accuracy: 0.7848 - val_loss: 0.6339 - val_accuracy: 0.7532\n",
      "\n",
      "Epoch 00028: val_loss improved from 0.64136 to 0.63389, saving model to models/1/weights.28-0.63.hdf5\n",
      "Epoch 29/50\n",
      "4015/4015 [==============================] - 187s 47ms/step - loss: 0.5422 - accuracy: 0.7918 - val_loss: 0.6152 - val_accuracy: 0.7616\n",
      "\n",
      "Epoch 00029: val_loss improved from 0.63389 to 0.61516, saving model to models/1/weights.29-0.62.hdf5\n",
      "Epoch 30/50\n",
      "4015/4015 [==============================] - 192s 48ms/step - loss: 0.5295 - accuracy: 0.7960 - val_loss: 0.6096 - val_accuracy: 0.7701\n",
      "\n",
      "Epoch 00030: val_loss improved from 0.61516 to 0.60959, saving model to models/1/weights.30-0.61.hdf5\n",
      "Epoch 31/50\n",
      "4015/4015 [==============================] - 187s 47ms/step - loss: 0.5183 - accuracy: 0.8022 - val_loss: 0.6184 - val_accuracy: 0.7645\n",
      "\n",
      "Epoch 00031: val_loss did not improve from 0.60959\n",
      "Epoch 32/50\n",
      "4015/4015 [==============================] - 187s 47ms/step - loss: 0.4975 - accuracy: 0.8077 - val_loss: 0.6093 - val_accuracy: 0.7701\n",
      "\n",
      "Epoch 00032: val_loss improved from 0.60959 to 0.60934, saving model to models/1/weights.32-0.61.hdf5\n",
      "Epoch 33/50\n",
      "4015/4015 [==============================] - 187s 47ms/step - loss: 0.4981 - accuracy: 0.8117 - val_loss: 0.6403 - val_accuracy: 0.7405\n",
      "\n",
      "Epoch 00033: val_loss did not improve from 0.60934\n",
      "Epoch 34/50\n",
      "4015/4015 [==============================] - 187s 47ms/step - loss: 0.4828 - accuracy: 0.8184 - val_loss: 0.6174 - val_accuracy: 0.7729\n",
      "\n",
      "Epoch 00034: val_loss did not improve from 0.60934\n",
      "Epoch 35/50\n",
      "4015/4015 [==============================] - 188s 47ms/step - loss: 0.4736 - accuracy: 0.8232 - val_loss: 0.5832 - val_accuracy: 0.7842\n",
      "\n",
      "Epoch 00035: val_loss improved from 0.60934 to 0.58321, saving model to models/1/weights.35-0.58.hdf5\n",
      "Epoch 36/50\n",
      "4015/4015 [==============================] - 187s 47ms/step - loss: 0.4611 - accuracy: 0.8304 - val_loss: 0.5853 - val_accuracy: 0.7743\n",
      "\n",
      "Epoch 00036: val_loss did not improve from 0.58321\n",
      "Epoch 37/50\n",
      "4015/4015 [==============================] - 187s 47ms/step - loss: 0.4488 - accuracy: 0.8356 - val_loss: 0.6487 - val_accuracy: 0.7518\n",
      "\n",
      "Epoch 00037: val_loss did not improve from 0.58321\n",
      "Epoch 38/50\n",
      "4015/4015 [==============================] - 187s 47ms/step - loss: 0.4410 - accuracy: 0.8354 - val_loss: 0.7038 - val_accuracy: 0.7052\n",
      "\n",
      "Epoch 00038: val_loss did not improve from 0.58321\n",
      "Epoch 39/50\n",
      "4015/4015 [==============================] - 193s 48ms/step - loss: 0.4478 - accuracy: 0.8324 - val_loss: 0.5931 - val_accuracy: 0.7884\n",
      "\n",
      "Epoch 00039: val_loss did not improve from 0.58321\n",
      "Epoch 40/50\n",
      "4015/4015 [==============================] - 188s 47ms/step - loss: 0.4302 - accuracy: 0.8408 - val_loss: 0.6061 - val_accuracy: 0.7757\n",
      "\n",
      "Epoch 00040: val_loss did not improve from 0.58321\n",
      "Epoch 41/50\n",
      "4015/4015 [==============================] - 188s 47ms/step - loss: 0.4213 - accuracy: 0.8488 - val_loss: 0.5922 - val_accuracy: 0.7757\n",
      "\n",
      "Epoch 00041: val_loss did not improve from 0.58321\n",
      "Epoch 42/50\n",
      "4015/4015 [==============================] - 187s 47ms/step - loss: 0.4031 - accuracy: 0.8498 - val_loss: 0.6143 - val_accuracy: 0.7828\n",
      "\n",
      "Epoch 00042: val_loss did not improve from 0.58321\n",
      "Epoch 43/50\n",
      "4015/4015 [==============================] - 187s 47ms/step - loss: 0.3844 - accuracy: 0.8605 - val_loss: 0.6490 - val_accuracy: 0.7701\n",
      "\n",
      "Epoch 00043: val_loss did not improve from 0.58321\n",
      "Epoch 44/50\n",
      "4015/4015 [==============================] - 187s 47ms/step - loss: 0.3895 - accuracy: 0.8588 - val_loss: 0.6393 - val_accuracy: 0.7687\n",
      "\n",
      "Epoch 00044: val_loss did not improve from 0.58321\n",
      "Epoch 45/50\n",
      "4015/4015 [==============================] - 187s 47ms/step - loss: 0.4397 - accuracy: 0.8394 - val_loss: 0.6137 - val_accuracy: 0.7772\n",
      "\n",
      "Epoch 00045: val_loss did not improve from 0.58321\n",
      "Epoch 46/50\n",
      "4015/4015 [==============================] - 187s 47ms/step - loss: 0.3807 - accuracy: 0.8630 - val_loss: 0.5832 - val_accuracy: 0.7898\n",
      "\n",
      "Epoch 00046: val_loss improved from 0.58321 to 0.58320, saving model to models/1/weights.46-0.58.hdf5\n",
      "Epoch 47/50\n",
      "4015/4015 [==============================] - 187s 47ms/step - loss: 0.4109 - accuracy: 0.8491 - val_loss: 0.6123 - val_accuracy: 0.7814\n",
      "\n",
      "Epoch 00047: val_loss did not improve from 0.58320\n",
      "Epoch 48/50\n",
      "4015/4015 [==============================] - 187s 47ms/step - loss: 0.4199 - accuracy: 0.8421 - val_loss: 0.6223 - val_accuracy: 0.7645\n",
      "\n",
      "Epoch 00048: val_loss did not improve from 0.58320\n",
      "Epoch 49/50\n",
      "4015/4015 [==============================] - 191s 48ms/step - loss: 0.3638 - accuracy: 0.8677 - val_loss: 0.6164 - val_accuracy: 0.7687\n",
      "\n",
      "Epoch 00049: val_loss did not improve from 0.58320\n",
      "Epoch 50/50\n",
      "4015/4015 [==============================] - 187s 46ms/step - loss: 0.3396 - accuracy: 0.8814 - val_loss: 0.6216 - val_accuracy: 0.7800\n",
      "\n",
      "Epoch 00050: val_loss did not improve from 0.58320\n"
     ]
    },
    {
     "data": {
      "text/plain": [
       "<keras.callbacks.callbacks.History at 0x7fb75c2deba8>"
      ]
     },
     "execution_count": 18,
     "metadata": {},
     "output_type": "execute_result"
    }
   ],
   "source": [
    "max_features = tot_aa +1\n",
    "batch_size = 32\n",
    "\n",
    "model = Sequential()\n",
    "model.add(Embedding(max_features, 64, input_length=max_len))\n",
    "model.add(Bidirectional(LSTM(64)))\n",
    "model.add(Dropout(0.2))\n",
    "model.add(Dense(3, activation='softmax'))\n",
    "\n",
    "# try using different optimizers and different optimizer configs\n",
    "model.compile('NAdam', 'categorical_crossentropy', metrics=['accuracy'])\n",
    "checkpointer = ModelCheckpoint(filepath='models/1/weights.{epoch:02d}-{val_loss:.2f}.hdf5', \n",
    "                               verbose=1, save_best_only=True)\n",
    "\n",
    "print('Train...')\n",
    "model.fit(x_train_pad, y_train_OH,\n",
    "          batch_size=batch_size,\n",
    "          epochs=50, \n",
    "          class_weight= class_weights,\n",
    "          validation_data=[x_valid_pad, y_valid_OH],\n",
    "          callbacks=[checkpointer])"
   ]
  },
  {
   "cell_type": "code",
   "execution_count": 14,
   "metadata": {},
   "outputs": [
    {
     "name": "stdout",
     "output_type": "stream",
     "text": [
      "WARNING:tensorflow:From /home/julie/anaconda3/lib/python3.7/site-packages/tensorflow/python/ops/resource_variable_ops.py:435: colocate_with (from tensorflow.python.framework.ops) is deprecated and will be removed in a future version.\n",
      "Instructions for updating:\n",
      "Colocations handled automatically by placer.\n",
      "WARNING:tensorflow:From /home/julie/anaconda3/lib/python3.7/site-packages/tensorflow/python/ops/math_ops.py:3066: to_int32 (from tensorflow.python.ops.math_ops) is deprecated and will be removed in a future version.\n",
      "Instructions for updating:\n",
      "Use tf.cast instead.\n"
     ]
    }
   ],
   "source": [
    "model = load_model('models/1/weights.46-0.58.hdf5')\n",
    "plot_model(model, to_file='models/1/model_plot.png', show_shapes=True, show_layer_names=True)"
   ]
  },
  {
   "cell_type": "code",
   "execution_count": 15,
   "metadata": {},
   "outputs": [],
   "source": [
    "y_pred = model.predict(x_valid_pad)\n",
    "y_pred_indices = OH_to_label_indices(y_pred)\n",
    "y_pred_labels = indices_to_cat(y_pred_indices)"
   ]
  },
  {
   "cell_type": "code",
   "execution_count": 20,
   "metadata": {},
   "outputs": [
    {
     "name": "stdout",
     "output_type": "stream",
     "text": [
      "709/709 [==============================] - 8s 11ms/step\n"
     ]
    },
    {
     "data": {
      "text/plain": [
       "[0.5831989122000333, 0.7898448705673218]"
      ]
     },
     "execution_count": 20,
     "metadata": {},
     "output_type": "execute_result"
    }
   ],
   "source": [
    "model.evaluate(x_valid_pad,y_valid_OH)"
   ]
  },
  {
   "cell_type": "code",
   "execution_count": 16,
   "metadata": {},
   "outputs": [
    {
     "data": {
      "image/png": "[encoded data removed]",
      "text/plain": [
       "<Figure size 432x288 with 2 Axes>"
      ]
     },
     "metadata": {
      "needs_background": "light"
     },
     "output_type": "display_data"
    }
   ],
   "source": [
    "conf_mx = confusion_matrix(y_valid, y_pred_labels, labels=cat)\n",
    "\n",
    "fig = plt.figure()\n",
    "ax = fig.add_subplot(111)\n",
    "cax = ax.matshow(conf_mx, cmap=plt.cm.gray)\n",
    "fig.colorbar(cax)\n",
    "ax.xaxis.set_major_locator(MultipleLocator(1))\n",
    "ax.yaxis.set_major_locator(MultipleLocator(1))\n",
    "ax.set_xticklabels([''] + cat,  rotation='vertical')\n",
    "ax.set_yticklabels([''] + cat)\n",
    "plt.xlabel('Predicted')\n",
    "plt.ylabel('True')\n",
    "plt.show()"
   ]
  },
  {
   "cell_type": "code",
   "execution_count": 17,
   "metadata": {},
   "outputs": [
    {
     "data": {
      "text/plain": [
       "array([[195,  27,  23],\n",
       "       [ 28,  89,  11],\n",
       "       [ 44,  16, 276]])"
      ]
     },
     "execution_count": 17,
     "metadata": {},
     "output_type": "execute_result"
    }
   ],
   "source": [
    "conf_mx"
   ]
  },
  {
   "cell_type": "code",
   "execution_count": 18,
   "metadata": {},
   "outputs": [
    {
     "data": {
      "image/png": "[encoded data removed]",
      "text/plain": [
       "<Figure size 432x288 with 2 Axes>"
      ]
     },
     "metadata": {
      "needs_background": "light"
     },
     "output_type": "display_data"
    }
   ],
   "source": [
    "fig = plt.figure()\n",
    "ax = fig.add_subplot(111)\n",
    "cax = ax.matshow(conf_mx / (conf_mx.max(axis=0)+1), cmap=plt.cm.gray)\n",
    "fig.colorbar(cax)\n",
    "ax.xaxis.set_major_locator(MultipleLocator(1))\n",
    "ax.yaxis.set_major_locator(MultipleLocator(1))\n",
    "ax.set_xticklabels([''] + cat,  rotation='vertical')\n",
    "ax.set_yticklabels([''] + cat)\n",
    "plt.xlabel('Predicted')\n",
    "plt.ylabel('True')\n",
    "plt.show()"
   ]
  },
  {
   "cell_type": "markdown",
   "metadata": {},
   "source": [
    "# Second Model \n",
    "\n",
    "I tried Adadelta, but the accuracy improves extremely slowly, same for SGD.\n",
    "I couldn't reach the same accuracy then with NAdam.\n",
    "RMSprop and SGD do not learn anything. \n",
    "\n",
    "I, therefore, deleted the trained models. Let's keep NAdam\n",
    "\n",
    "Also tried embedding size of 32 with LSTM of 128, not as good as first model, I suspect embedding size should not be too small."
   ]
  },
  {
   "cell_type": "code",
   "execution_count": 26,
   "metadata": {},
   "outputs": [
    {
     "name": "stdout",
     "output_type": "stream",
     "text": [
      "Train...\n",
      "Train on 4015 samples, validate on 709 samples\n",
      "Epoch 1/50\n",
      "4015/4015 [==============================] - 151s 37ms/step - loss: 1.0291 - accuracy: 0.4677 - val_loss: 1.4544 - val_accuracy: 0.1946\n",
      "\n",
      "Epoch 00001: val_loss improved from inf to 1.45437, saving model to models/2/weights.01-1.45.hdf5\n",
      "Epoch 2/50\n",
      "4015/4015 [==============================] - 149s 37ms/step - loss: 1.0158 - accuracy: 0.4819 - val_loss: 1.0244 - val_accuracy: 0.4767\n",
      "\n",
      "Epoch 00002: val_loss improved from 1.45437 to 1.02444, saving model to models/2/weights.02-1.02.hdf5\n",
      "Epoch 3/50\n",
      "4015/4015 [==============================] - 158s 39ms/step - loss: 0.9916 - accuracy: 0.4999 - val_loss: 0.9478 - val_accuracy: 0.5247\n",
      "\n",
      "Epoch 00003: val_loss improved from 1.02444 to 0.94778, saving model to models/2/weights.03-0.95.hdf5\n",
      "Epoch 4/50\n",
      "4015/4015 [==============================] - 157s 39ms/step - loss: 0.9777 - accuracy: 0.5168 - val_loss: 0.9849 - val_accuracy: 0.4937\n",
      "\n",
      "Epoch 00004: val_loss did not improve from 0.94778\n",
      "Epoch 5/50\n",
      "4015/4015 [==============================] - 146s 36ms/step - loss: 0.9782 - accuracy: 0.5133 - val_loss: 0.9412 - val_accuracy: 0.5247\n",
      "\n",
      "Epoch 00005: val_loss improved from 0.94778 to 0.94124, saving model to models/2/weights.05-0.94.hdf5\n",
      "Epoch 6/50\n",
      "4015/4015 [==============================] - 148s 37ms/step - loss: 0.9854 - accuracy: 0.4994 - val_loss: 1.0204 - val_accuracy: 0.4880\n",
      "\n",
      "Epoch 00006: val_loss did not improve from 0.94124\n",
      "Epoch 7/50\n",
      "4015/4015 [==============================] - 146s 36ms/step - loss: 1.0077 - accuracy: 0.4941 - val_loss: 1.0129 - val_accuracy: 0.4922\n",
      "\n",
      "Epoch 00007: val_loss did not improve from 0.94124\n",
      "Epoch 8/50\n",
      "4015/4015 [==============================] - 146s 36ms/step - loss: 0.9904 - accuracy: 0.4989 - val_loss: 1.0176 - val_accuracy: 0.4640\n",
      "\n",
      "Epoch 00008: val_loss did not improve from 0.94124\n",
      "Epoch 9/50\n",
      "4015/4015 [==============================] - 146s 36ms/step - loss: 0.9824 - accuracy: 0.5146 - val_loss: 0.9731 - val_accuracy: 0.5162\n",
      "\n",
      "Epoch 00009: val_loss did not improve from 0.94124\n",
      "Epoch 10/50\n",
      "4015/4015 [==============================] - 146s 36ms/step - loss: 0.9723 - accuracy: 0.5215 - val_loss: 0.9926 - val_accuracy: 0.5021\n",
      "\n",
      "Epoch 00010: val_loss did not improve from 0.94124\n",
      "Epoch 11/50\n",
      "4015/4015 [==============================] - 146s 36ms/step - loss: 0.9501 - accuracy: 0.5355 - val_loss: 0.9413 - val_accuracy: 0.5487\n",
      "\n",
      "Epoch 00011: val_loss did not improve from 0.94124\n",
      "Epoch 12/50\n",
      "4015/4015 [==============================] - 146s 36ms/step - loss: 0.9923 - accuracy: 0.4984 - val_loss: 0.9471 - val_accuracy: 0.5176\n",
      "\n",
      "Epoch 00012: val_loss did not improve from 0.94124\n",
      "Epoch 13/50\n",
      "4015/4015 [==============================] - 146s 36ms/step - loss: 0.9906 - accuracy: 0.5146 - val_loss: 1.0127 - val_accuracy: 0.4810\n",
      "\n",
      "Epoch 00013: val_loss did not improve from 0.94124\n",
      "Epoch 14/50\n",
      "4015/4015 [==============================] - 146s 36ms/step - loss: 0.9938 - accuracy: 0.4961 - val_loss: 1.0011 - val_accuracy: 0.4965\n",
      "\n",
      "Epoch 00014: val_loss did not improve from 0.94124\n",
      "Epoch 15/50\n",
      "4015/4015 [==============================] - 146s 36ms/step - loss: 0.9692 - accuracy: 0.5240 - val_loss: 0.9258 - val_accuracy: 0.5726\n",
      "\n",
      "Epoch 00015: val_loss improved from 0.94124 to 0.92583, saving model to models/2/weights.15-0.93.hdf5\n",
      "Epoch 16/50\n",
      "4015/4015 [==============================] - 146s 36ms/step - loss: 0.8800 - accuracy: 0.5783 - val_loss: 0.7982 - val_accuracy: 0.6291\n",
      "\n",
      "Epoch 00016: val_loss improved from 0.92583 to 0.79824, saving model to models/2/weights.16-0.80.hdf5\n",
      "Epoch 17/50\n",
      "4015/4015 [==============================] - 146s 36ms/step - loss: 0.8786 - accuracy: 0.5776 - val_loss: 1.0249 - val_accuracy: 0.4542\n",
      "\n",
      "Epoch 00017: val_loss did not improve from 0.79824\n",
      "Epoch 18/50\n",
      "4015/4015 [==============================] - 146s 36ms/step - loss: 0.7849 - accuracy: 0.6473 - val_loss: 0.7734 - val_accuracy: 0.6601\n",
      "\n",
      "Epoch 00018: val_loss improved from 0.79824 to 0.77337, saving model to models/2/weights.18-0.77.hdf5\n",
      "Epoch 19/50\n",
      "4015/4015 [==============================] - 150s 37ms/step - loss: 0.7187 - accuracy: 0.6964 - val_loss: 0.6811 - val_accuracy: 0.7109\n",
      "\n",
      "Epoch 00019: val_loss improved from 0.77337 to 0.68108, saving model to models/2/weights.19-0.68.hdf5\n",
      "Epoch 20/50\n",
      "4015/4015 [==============================] - 147s 37ms/step - loss: 0.7169 - accuracy: 0.6927 - val_loss: 1.0295 - val_accuracy: 0.4795\n",
      "\n",
      "Epoch 00020: val_loss did not improve from 0.68108\n",
      "Epoch 21/50\n",
      "4015/4015 [==============================] - 169s 42ms/step - loss: 0.9611 - accuracy: 0.5163 - val_loss: 1.0009 - val_accuracy: 0.4852\n",
      "\n",
      "Epoch 00021: val_loss did not improve from 0.68108\n",
      "Epoch 22/50\n",
      "4015/4015 [==============================] - 146s 36ms/step - loss: 0.7892 - accuracy: 0.6488 - val_loss: 0.7051 - val_accuracy: 0.7151\n",
      "\n",
      "Epoch 00022: val_loss did not improve from 0.68108\n",
      "Epoch 23/50\n",
      "4015/4015 [==============================] - 170s 42ms/step - loss: 0.6634 - accuracy: 0.7258 - val_loss: 0.6396 - val_accuracy: 0.7320\n",
      "\n",
      "Epoch 00023: val_loss improved from 0.68108 to 0.63959, saving model to models/2/weights.23-0.64.hdf5\n",
      "Epoch 24/50\n",
      "4015/4015 [==============================] - 168s 42ms/step - loss: 0.6380 - accuracy: 0.7422 - val_loss: 0.6417 - val_accuracy: 0.7221\n",
      "\n",
      "Epoch 00024: val_loss did not improve from 0.63959\n",
      "Epoch 25/50\n",
      "4015/4015 [==============================] - 162s 40ms/step - loss: 0.6239 - accuracy: 0.7502 - val_loss: 0.6137 - val_accuracy: 0.7518\n",
      "\n",
      "Epoch 00025: val_loss improved from 0.63959 to 0.61369, saving model to models/2/weights.25-0.61.hdf5\n",
      "Epoch 26/50\n",
      "4015/4015 [==============================] - 152s 38ms/step - loss: 0.6021 - accuracy: 0.7669 - val_loss: 0.5935 - val_accuracy: 0.7616\n",
      "\n",
      "Epoch 00026: val_loss improved from 0.61369 to 0.59354, saving model to models/2/weights.26-0.59.hdf5\n",
      "Epoch 27/50\n",
      "4015/4015 [==============================] - 147s 37ms/step - loss: 0.5797 - accuracy: 0.7758 - val_loss: 0.6330 - val_accuracy: 0.7362\n",
      "\n",
      "Epoch 00027: val_loss did not improve from 0.59354\n",
      "Epoch 28/50\n",
      "4015/4015 [==============================] - 157s 39ms/step - loss: 0.5806 - accuracy: 0.7751 - val_loss: 0.5904 - val_accuracy: 0.7715\n",
      "\n",
      "Epoch 00028: val_loss improved from 0.59354 to 0.59040, saving model to models/2/weights.28-0.59.hdf5\n",
      "Epoch 29/50\n",
      "4015/4015 [==============================] - 147s 37ms/step - loss: 0.5646 - accuracy: 0.7818 - val_loss: 0.6239 - val_accuracy: 0.7334\n",
      "\n",
      "Epoch 00029: val_loss did not improve from 0.59040\n",
      "Epoch 30/50\n",
      "4015/4015 [==============================] - 147s 37ms/step - loss: 0.5599 - accuracy: 0.7853 - val_loss: 0.5791 - val_accuracy: 0.7687\n",
      "\n",
      "Epoch 00030: val_loss improved from 0.59040 to 0.57905, saving model to models/2/weights.30-0.58.hdf5\n",
      "Epoch 31/50\n",
      "4015/4015 [==============================] - 150s 37ms/step - loss: 0.5572 - accuracy: 0.7818 - val_loss: 0.5705 - val_accuracy: 0.7772\n",
      "\n",
      "Epoch 00031: val_loss improved from 0.57905 to 0.57049, saving model to models/2/weights.31-0.57.hdf5\n",
      "Epoch 32/50\n",
      "4015/4015 [==============================] - 150s 37ms/step - loss: 0.5539 - accuracy: 0.7885 - val_loss: 0.5852 - val_accuracy: 0.7588\n",
      "\n",
      "Epoch 00032: val_loss did not improve from 0.57049\n",
      "Epoch 33/50\n",
      "4015/4015 [==============================] - 160s 40ms/step - loss: 0.5485 - accuracy: 0.7878 - val_loss: 0.5651 - val_accuracy: 0.7701\n",
      "\n",
      "Epoch 00033: val_loss improved from 0.57049 to 0.56506, saving model to models/2/weights.33-0.57.hdf5\n",
      "Epoch 34/50\n",
      "4015/4015 [==============================] - 169s 42ms/step - loss: 0.5366 - accuracy: 0.7968 - val_loss: 0.5666 - val_accuracy: 0.7687\n",
      "\n",
      "Epoch 00034: val_loss did not improve from 0.56506\n",
      "Epoch 35/50\n",
      "4015/4015 [==============================] - 153s 38ms/step - loss: 0.5287 - accuracy: 0.7968 - val_loss: 0.5731 - val_accuracy: 0.7800\n",
      "\n",
      "Epoch 00035: val_loss did not improve from 0.56506\n",
      "Epoch 36/50\n",
      "4015/4015 [==============================] - 154s 38ms/step - loss: 0.5363 - accuracy: 0.7938 - val_loss: 0.5748 - val_accuracy: 0.7743\n",
      "\n",
      "Epoch 00036: val_loss did not improve from 0.56506\n",
      "Epoch 37/50\n",
      "4015/4015 [==============================] - 153s 38ms/step - loss: 0.5253 - accuracy: 0.8032 - val_loss: 0.5568 - val_accuracy: 0.7786\n",
      "\n",
      "Epoch 00037: val_loss improved from 0.56506 to 0.55682, saving model to models/2/weights.37-0.56.hdf5\n",
      "Epoch 38/50\n"
     ]
    },
    {
     "name": "stdout",
     "output_type": "stream",
     "text": [
      "4015/4015 [==============================] - 151s 38ms/step - loss: 0.5256 - accuracy: 0.7965 - val_loss: 0.5590 - val_accuracy: 0.7870\n",
      "\n",
      "Epoch 00038: val_loss did not improve from 0.55682\n",
      "Epoch 39/50\n",
      "4015/4015 [==============================] - 152s 38ms/step - loss: 0.5162 - accuracy: 0.8030 - val_loss: 0.5501 - val_accuracy: 0.7870\n",
      "\n",
      "Epoch 00039: val_loss improved from 0.55682 to 0.55007, saving model to models/2/weights.39-0.55.hdf5\n",
      "Epoch 40/50\n",
      "4015/4015 [==============================] - 150s 37ms/step - loss: 0.5181 - accuracy: 0.8037 - val_loss: 0.5716 - val_accuracy: 0.7757\n",
      "\n",
      "Epoch 00040: val_loss did not improve from 0.55007\n",
      "Epoch 41/50\n",
      "4015/4015 [==============================] - 153s 38ms/step - loss: 0.5109 - accuracy: 0.8065 - val_loss: 0.5558 - val_accuracy: 0.7884\n",
      "\n",
      "Epoch 00041: val_loss did not improve from 0.55007\n",
      "Epoch 42/50\n",
      "4015/4015 [==============================] - 148s 37ms/step - loss: 0.5030 - accuracy: 0.8120 - val_loss: 0.5543 - val_accuracy: 0.7814\n",
      "\n",
      "Epoch 00042: val_loss did not improve from 0.55007\n",
      "Epoch 43/50\n",
      "4015/4015 [==============================] - 154s 38ms/step - loss: 0.5845 - accuracy: 0.7664 - val_loss: 0.6241 - val_accuracy: 0.7461\n",
      "\n",
      "Epoch 00043: val_loss did not improve from 0.55007\n",
      "Epoch 44/50\n",
      "4015/4015 [==============================] - 154s 38ms/step - loss: 0.5569 - accuracy: 0.7731 - val_loss: 0.5738 - val_accuracy: 0.7715\n",
      "\n",
      "Epoch 00044: val_loss did not improve from 0.55007\n",
      "Epoch 45/50\n",
      "4015/4015 [==============================] - 165s 41ms/step - loss: 0.5327 - accuracy: 0.7960 - val_loss: 0.5544 - val_accuracy: 0.7842\n",
      "\n",
      "Epoch 00045: val_loss did not improve from 0.55007\n",
      "Epoch 46/50\n",
      "4015/4015 [==============================] - 149s 37ms/step - loss: 0.5219 - accuracy: 0.7970 - val_loss: 0.5786 - val_accuracy: 0.7743\n",
      "\n",
      "Epoch 00046: val_loss did not improve from 0.55007\n",
      "Epoch 47/50\n",
      "4015/4015 [==============================] - 176s 44ms/step - loss: 0.5122 - accuracy: 0.8042 - val_loss: 0.5629 - val_accuracy: 0.7856\n",
      "\n",
      "Epoch 00047: val_loss did not improve from 0.55007\n",
      "Epoch 48/50\n",
      "4015/4015 [==============================] - 187s 46ms/step - loss: 0.5098 - accuracy: 0.8055 - val_loss: 0.5562 - val_accuracy: 0.7800\n",
      "\n",
      "Epoch 00048: val_loss did not improve from 0.55007\n",
      "Epoch 49/50\n",
      "4015/4015 [==============================] - 205s 51ms/step - loss: 0.5111 - accuracy: 0.8000 - val_loss: 0.5448 - val_accuracy: 0.7898\n",
      "\n",
      "Epoch 00049: val_loss improved from 0.55007 to 0.54478, saving model to models/2/weights.49-0.54.hdf5\n",
      "Epoch 50/50\n",
      "4015/4015 [==============================] - 208s 52ms/step - loss: 0.4983 - accuracy: 0.8065 - val_loss: 0.5429 - val_accuracy: 0.7870\n",
      "\n",
      "Epoch 00050: val_loss improved from 0.54478 to 0.54295, saving model to models/2/weights.50-0.54.hdf5\n"
     ]
    }
   ],
   "source": [
    "max_features = tot_aa +1\n",
    "batch_size = 64\n",
    "\n",
    "model2 = Sequential()\n",
    "model2.add(Embedding(max_features, 64, input_length=max_len, \n",
    "                     name='embedding_layer', trainable=True))\n",
    "model2.add(Bidirectional(LSTM(64, dropout = 0.15, recurrent_dropout=0.15)))\n",
    "model2.add(Dense(3, activation='softmax'))\n",
    "\n",
    "# try using different optimizers and different optimizer configs\n",
    "model2.compile('NAdam', 'categorical_crossentropy', metrics=['accuracy'])\n",
    "checkpointer = ModelCheckpoint(filepath='models/2/weights.{epoch:02d}-{val_loss:.2f}.hdf5', \n",
    "                               verbose=1, save_best_only=True)\n",
    "\n",
    "print('Train...')\n",
    "history = model2.fit(x_train_pad, y_train_OH,\n",
    "          batch_size=batch_size,\n",
    "          epochs=50, \n",
    "          class_weight= class_weights,\n",
    "          validation_data=[x_valid_pad, y_valid_OH],\n",
    "          callbacks=[checkpointer])"
   ]
  },
  {
   "cell_type": "code",
   "execution_count": 32,
   "metadata": {},
   "outputs": [
    {
     "data": {
      "image/png": "[encoded data removed]",
      "text/plain": [
       "<IPython.core.display.Image object>"
      ]
     },
     "execution_count": 32,
     "metadata": {},
     "output_type": "execute_result"
    }
   ],
   "source": [
    "plot_model(model2, to_file='models/2/model_plot.png', show_shapes=True, show_layer_names=True)"
   ]
  },
  {
   "cell_type": "code",
   "execution_count": 17,
   "metadata": {},
   "outputs": [
    {
     "name": "stdout",
     "output_type": "stream",
     "text": [
      "709/709 [==============================] - 9s 12ms/step\n"
     ]
    },
    {
     "data": {
      "text/plain": [
       "[0.5429465517674918, 0.7870239615440369]"
      ]
     },
     "execution_count": 17,
     "metadata": {},
     "output_type": "execute_result"
    }
   ],
   "source": [
    "model2 = load_model('models/2/weights.50-0.54.hdf5')\n",
    "model2.evaluate(x_valid_pad,y_valid_OH)"
   ]
  },
  {
   "cell_type": "code",
   "execution_count": 38,
   "metadata": {},
   "outputs": [
    {
     "name": "stdout",
     "output_type": "stream",
     "text": [
      "Model: \"model_1\"\n",
      "_________________________________________________________________\n",
      "Layer (type)                 Output Shape              Param #   \n",
      "=================================================================\n",
      "embedding_layer_input (Input (None, 1500)              0         \n",
      "_________________________________________________________________\n",
      "embedding_layer (Embedding)  (None, 1500, 64)          1472      \n",
      "_________________________________________________________________\n",
      "bidirectional_4 (Bidirection (None, 128)               66048     \n",
      "_________________________________________________________________\n",
      "dense_4 (Dense)              (None, 3)                 387       \n",
      "=================================================================\n",
      "Total params: 67,907\n",
      "Trainable params: 67,907\n",
      "Non-trainable params: 0\n",
      "_________________________________________________________________\n"
     ]
    }
   ],
   "source": [
    "model2.summary()"
   ]
  },
  {
   "cell_type": "code",
   "execution_count": 19,
   "metadata": {},
   "outputs": [],
   "source": [
    "y_pred2 = model2.predict(x_valid_pad)\n",
    "y_pred_indices2 = OH_to_label_indices(y_pred2)\n",
    "y_pred_labels2 = indices_to_cat(y_pred_indices2)"
   ]
  },
  {
   "cell_type": "code",
   "execution_count": 27,
   "metadata": {},
   "outputs": [
    {
     "name": "stdout",
     "output_type": "stream",
     "text": [
      "                   precision    recall  f1-score   support\n",
      "\n",
      " Mostly Cytosolic       0.74      0.81      0.77       245\n",
      "   Mostly Nuclear       0.63      0.72      0.67       128\n",
      "Mostly Organellar       0.91      0.80      0.85       336\n",
      "\n",
      "         accuracy                           0.79       709\n",
      "        macro avg       0.76      0.77      0.76       709\n",
      "     weighted avg       0.80      0.79      0.79       709\n",
      "\n"
     ]
    }
   ],
   "source": [
    "from sklearn.metrics import classification_report\n",
    "\n",
    "print(classification_report(y_valid, y_pred_labels2, target_names=cat))"
   ]
  },
  {
   "cell_type": "code",
   "execution_count": 20,
   "metadata": {},
   "outputs": [
    {
     "data": {
      "image/png": "[encoded data removed]",
      "text/plain": [
       "<Figure size 432x288 with 2 Axes>"
      ]
     },
     "metadata": {
      "needs_background": "light"
     },
     "output_type": "display_data"
    }
   ],
   "source": [
    "conf_mx2 = confusion_matrix(y_valid, y_pred_labels2, labels=cat)\n",
    "\n",
    "fig = plt.figure()\n",
    "ax = fig.add_subplot(111)\n",
    "cax = ax.matshow(conf_mx2, cmap=plt.cm.gray)\n",
    "fig.colorbar(cax)\n",
    "ax.xaxis.set_major_locator(MultipleLocator(1))\n",
    "ax.yaxis.set_major_locator(MultipleLocator(1))\n",
    "ax.set_xticklabels([''] + cat,  rotation='vertical')\n",
    "ax.set_yticklabels([''] + cat)\n",
    "plt.xlabel('Predicted')\n",
    "plt.ylabel('True')\n",
    "plt.show()"
   ]
  },
  {
   "cell_type": "code",
   "execution_count": 24,
   "metadata": {},
   "outputs": [
    {
     "data": {
      "image/png": "[encoded data removed]",
      "text/plain": [
       "<Figure size 432x288 with 2 Axes>"
      ]
     },
     "metadata": {
      "needs_background": "light"
     },
     "output_type": "display_data"
    }
   ],
   "source": [
    "fig = plt.figure()\n",
    "ax = fig.add_subplot(111)\n",
    "cax = ax.matshow(conf_mx2 / (conf_mx2.max(axis=0)+1), cmap=plt.cm.gray)\n",
    "fig.colorbar(cax)\n",
    "ax.xaxis.set_major_locator(MultipleLocator(1))\n",
    "ax.yaxis.set_major_locator(MultipleLocator(1))\n",
    "ax.set_xticklabels([''] + cat,  rotation='vertical')\n",
    "ax.set_yticklabels([''] + cat)\n",
    "plt.xlabel('Predicted')\n",
    "plt.ylabel('True')\n",
    "plt.show()"
   ]
  },
  {
   "cell_type": "code",
   "execution_count": 27,
   "metadata": {},
   "outputs": [
    {
     "data": {
      "image/png": "[encoded data removed]",
      "text/plain": [
       "<Figure size 432x288 with 1 Axes>"
      ]
     },
     "metadata": {
      "needs_background": "light"
     },
     "output_type": "display_data"
    },
    {
     "data": {
      "image/png": "[encoded data removed]",
      "text/plain": [
       "<Figure size 432x288 with 1 Axes>"
      ]
     },
     "metadata": {
      "needs_background": "light"
     },
     "output_type": "display_data"
    }
   ],
   "source": [
    "# Plot training & validation accuracy values\n",
    "plt.plot(history.history['accuracy'])\n",
    "plt.plot(history.history['val_accuracy'])\n",
    "plt.title('Model accuracy')\n",
    "plt.ylabel('Accuracy')\n",
    "plt.xlabel('Epoch')\n",
    "plt.legend(['Train', 'Valid'], loc='upper left')\n",
    "plt.show()\n",
    "\n",
    "# Plot training & validation loss values\n",
    "plt.plot(history.history['loss'])\n",
    "plt.plot(history.history['val_loss'])\n",
    "plt.title('Model loss')\n",
    "plt.ylabel('Loss')\n",
    "plt.xlabel('Epoch')\n",
    "plt.legend(['Train', 'Valid'], loc='upper left')\n",
    "plt.show()"
   ]
  },
  {
   "cell_type": "code",
   "execution_count": 55,
   "metadata": {},
   "outputs": [
    {
     "name": "stdout",
     "output_type": "stream",
     "text": [
      "709/709 [==============================] - 8s 12ms/step\n"
     ]
    },
    {
     "data": {
      "text/plain": [
       "[0.5429465517674918, 0.7870239615440369]"
      ]
     },
     "execution_count": 55,
     "metadata": {},
     "output_type": "execute_result"
    }
   ],
   "source": [
    "# Get the Embedding Layer\n",
    "model2 = load_model(\"models/2/weights.50-0.54.hdf5\")\n",
    "model2.evaluate(x_valid_pad, y_valid_OH)"
   ]
  },
  {
   "cell_type": "code",
   "execution_count": 46,
   "metadata": {},
   "outputs": [
    {
     "data": {
      "text/plain": [
       "(23, 64)"
      ]
     },
     "execution_count": 46,
     "metadata": {},
     "output_type": "execute_result"
    }
   ],
   "source": [
    "embedding = model2.get_layer('embedding_layer').get_weights()\n",
    "embedding = embedding[0]\n",
    "embedding.shape"
   ]
  },
  {
   "cell_type": "code",
   "execution_count": 47,
   "metadata": {},
   "outputs": [
    {
     "name": "stdout",
     "output_type": "stream",
     "text": [
      "original shape:    (23, 64)\n",
      "transformed shape: (23, 2)\n"
     ]
    }
   ],
   "source": [
    "# PCA plots of Embedding \n",
    "pca = PCA(n_components=2)\n",
    "pca.fit(embedding)\n",
    "embedding_pca = pca.transform(embedding)\n",
    "print(\"original shape:   \", embedding.shape)\n",
    "print(\"transformed shape:\", embedding_pca.shape)"
   ]
  },
  {
   "cell_type": "code",
   "execution_count": 50,
   "metadata": {},
   "outputs": [
    {
     "data": {
      "image/png": "[encoded data removed]",
      "text/plain": [
       "<Figure size 432x288 with 1 Axes>"
      ]
     },
     "metadata": {
      "needs_background": "light"
     },
     "output_type": "display_data"
    }
   ],
   "source": [
    "fig, ax = plt.subplots()\n",
    "plt.scatter(embedding_pca[:, 0], embedding_pca[:, 1], edgecolor='none')\n",
    "aaL = list(aa)\n",
    "for i in range(len(aaL)):\n",
    "    ax.annotate(aaL[i], (embedding_pca[:, 0][i], embedding_pca[:, 1][i]))\n",
    "    \n",
    "\n",
    "plt.show()"
   ]
  },
  {
   "cell_type": "markdown",
   "metadata": {},
   "source": [
    "### Error Analysis"
   ]
  },
  {
   "cell_type": "code",
   "execution_count": 28,
   "metadata": {},
   "outputs": [],
   "source": [
    "valid[\"Model Prediction\"] = y_pred_labels2"
   ]
  },
  {
   "cell_type": "code",
   "execution_count": 30,
   "metadata": {},
   "outputs": [
    {
     "data": {
      "text/html": [
       "<div>\n",
       "<style scoped>\n",
       "    .dataframe tbody tr th:only-of-type {\n",
       "        vertical-align: middle;\n",
       "    }\n",
       "\n",
       "    .dataframe tbody tr th {\n",
       "        vertical-align: top;\n",
       "    }\n",
       "\n",
       "    .dataframe thead th {\n",
       "        text-align: right;\n",
       "    }\n",
       "</style>\n",
       "<table border=\"1\" class=\"dataframe\">\n",
       "  <thead>\n",
       "    <tr style=\"text-align: right;\">\n",
       "      <th></th>\n",
       "      <th>Lead Protein ID</th>\n",
       "      <th>Global classifier2</th>\n",
       "      <th>Sequence</th>\n",
       "      <th>Sequence Lengh</th>\n",
       "      <th>Model Prediction</th>\n",
       "    </tr>\n",
       "  </thead>\n",
       "  <tbody>\n",
       "    <tr>\n",
       "      <th>0</th>\n",
       "      <td>Q96MN5</td>\n",
       "      <td>Mostly Organellar</td>\n",
       "      <td>MDKFVIRTPRIQNSPQKKDSGGKVYKQATIESLKRVVVVEDIKRWK...</td>\n",
       "      <td>208</td>\n",
       "      <td>Mostly Nuclear</td>\n",
       "    </tr>\n",
       "    <tr>\n",
       "      <th>1</th>\n",
       "      <td>P42575</td>\n",
       "      <td>Mostly Cytosolic</td>\n",
       "      <td>MAAPSAGSWSTFQHKELMAADRGRRILGVCGMHPHHQETLKKNRVV...</td>\n",
       "      <td>452</td>\n",
       "      <td>Mostly Cytosolic</td>\n",
       "    </tr>\n",
       "    <tr>\n",
       "      <th>2</th>\n",
       "      <td>Q9NZP8</td>\n",
       "      <td>Mostly Organellar</td>\n",
       "      <td>MPGPRVWGKYLWRSPHSKGCPGAMWWLLLWGVLQACPTRGSVLLAQ...</td>\n",
       "      <td>487</td>\n",
       "      <td>Mostly Organellar</td>\n",
       "    </tr>\n",
       "    <tr>\n",
       "      <th>3</th>\n",
       "      <td>Q96K80</td>\n",
       "      <td>Mostly Nuclear</td>\n",
       "      <td>MPDRDSYANGTGSSGGGPGGGGSEEASGAGVGSGGASSDAICRDFL...</td>\n",
       "      <td>434</td>\n",
       "      <td>Mostly Nuclear</td>\n",
       "    </tr>\n",
       "    <tr>\n",
       "      <th>4</th>\n",
       "      <td>Q86TA1</td>\n",
       "      <td>Mostly Cytosolic</td>\n",
       "      <td>MSIALKQVFNKDKTFRPKRKFEPGTQRFELHKRAQASLNSGVDLKA...</td>\n",
       "      <td>216</td>\n",
       "      <td>Mostly Cytosolic</td>\n",
       "    </tr>\n",
       "  </tbody>\n",
       "</table>\n",
       "</div>"
      ],
      "text/plain": [
       "  Lead Protein ID Global classifier2  \\\n",
       "0          Q96MN5  Mostly Organellar   \n",
       "1          P42575   Mostly Cytosolic   \n",
       "2          Q9NZP8  Mostly Organellar   \n",
       "3          Q96K80     Mostly Nuclear   \n",
       "4          Q86TA1   Mostly Cytosolic   \n",
       "\n",
       "                                            Sequence  Sequence Lengh  \\\n",
       "0  MDKFVIRTPRIQNSPQKKDSGGKVYKQATIESLKRVVVVEDIKRWK...             208   \n",
       "1  MAAPSAGSWSTFQHKELMAADRGRRILGVCGMHPHHQETLKKNRVV...             452   \n",
       "2  MPGPRVWGKYLWRSPHSKGCPGAMWWLLLWGVLQACPTRGSVLLAQ...             487   \n",
       "3  MPDRDSYANGTGSSGGGPGGGGSEEASGAGVGSGGASSDAICRDFL...             434   \n",
       "4  MSIALKQVFNKDKTFRPKRKFEPGTQRFELHKRAQASLNSGVDLKA...             216   \n",
       "\n",
       "    Model Prediction  \n",
       "0     Mostly Nuclear  \n",
       "1   Mostly Cytosolic  \n",
       "2  Mostly Organellar  \n",
       "3     Mostly Nuclear  \n",
       "4   Mostly Cytosolic  "
      ]
     },
     "execution_count": 30,
     "metadata": {},
     "output_type": "execute_result"
    }
   ],
   "source": [
    "valid.head()"
   ]
  },
  {
   "cell_type": "code",
   "execution_count": 32,
   "metadata": {},
   "outputs": [
    {
     "data": {
      "text/html": [
       "<div>\n",
       "<style scoped>\n",
       "    .dataframe tbody tr th:only-of-type {\n",
       "        vertical-align: middle;\n",
       "    }\n",
       "\n",
       "    .dataframe tbody tr th {\n",
       "        vertical-align: top;\n",
       "    }\n",
       "\n",
       "    .dataframe thead th {\n",
       "        text-align: right;\n",
       "    }\n",
       "</style>\n",
       "<table border=\"1\" class=\"dataframe\">\n",
       "  <thead>\n",
       "    <tr style=\"text-align: right;\">\n",
       "      <th></th>\n",
       "      <th></th>\n",
       "      <th>Lead Protein ID</th>\n",
       "      <th>Sequence</th>\n",
       "      <th>Sequence Lengh</th>\n",
       "    </tr>\n",
       "    <tr>\n",
       "      <th>Global classifier2</th>\n",
       "      <th>Model Prediction</th>\n",
       "      <th></th>\n",
       "      <th></th>\n",
       "      <th></th>\n",
       "    </tr>\n",
       "  </thead>\n",
       "  <tbody>\n",
       "    <tr>\n",
       "      <th rowspan=\"3\" valign=\"top\">Mostly Cytosolic</th>\n",
       "      <th>Mostly Cytosolic</th>\n",
       "      <td>27.926657</td>\n",
       "      <td>27.926657</td>\n",
       "      <td>27.926657</td>\n",
       "    </tr>\n",
       "    <tr>\n",
       "      <th>Mostly Nuclear</th>\n",
       "      <td>4.090268</td>\n",
       "      <td>4.090268</td>\n",
       "      <td>4.090268</td>\n",
       "    </tr>\n",
       "    <tr>\n",
       "      <th>Mostly Organellar</th>\n",
       "      <td>2.538787</td>\n",
       "      <td>2.538787</td>\n",
       "      <td>2.538787</td>\n",
       "    </tr>\n",
       "    <tr>\n",
       "      <th rowspan=\"3\" valign=\"top\">Mostly Nuclear</th>\n",
       "      <th>Mostly Cytosolic</th>\n",
       "      <td>3.667137</td>\n",
       "      <td>3.667137</td>\n",
       "      <td>3.667137</td>\n",
       "    </tr>\n",
       "    <tr>\n",
       "      <th>Mostly Nuclear</th>\n",
       "      <td>12.976023</td>\n",
       "      <td>12.976023</td>\n",
       "      <td>12.976023</td>\n",
       "    </tr>\n",
       "    <tr>\n",
       "      <th>Mostly Organellar</th>\n",
       "      <td>1.410437</td>\n",
       "      <td>1.410437</td>\n",
       "      <td>1.410437</td>\n",
       "    </tr>\n",
       "    <tr>\n",
       "      <th rowspan=\"3\" valign=\"top\">Mostly Organellar</th>\n",
       "      <th>Mostly Cytosolic</th>\n",
       "      <td>6.064880</td>\n",
       "      <td>6.064880</td>\n",
       "      <td>6.064880</td>\n",
       "    </tr>\n",
       "    <tr>\n",
       "      <th>Mostly Nuclear</th>\n",
       "      <td>3.526093</td>\n",
       "      <td>3.526093</td>\n",
       "      <td>3.526093</td>\n",
       "    </tr>\n",
       "    <tr>\n",
       "      <th>Mostly Organellar</th>\n",
       "      <td>37.799718</td>\n",
       "      <td>37.799718</td>\n",
       "      <td>37.799718</td>\n",
       "    </tr>\n",
       "  </tbody>\n",
       "</table>\n",
       "</div>"
      ],
      "text/plain": [
       "                                      Lead Protein ID   Sequence  \\\n",
       "Global classifier2 Model Prediction                                \n",
       "Mostly Cytosolic   Mostly Cytosolic         27.926657  27.926657   \n",
       "                   Mostly Nuclear            4.090268   4.090268   \n",
       "                   Mostly Organellar         2.538787   2.538787   \n",
       "Mostly Nuclear     Mostly Cytosolic          3.667137   3.667137   \n",
       "                   Mostly Nuclear           12.976023  12.976023   \n",
       "                   Mostly Organellar         1.410437   1.410437   \n",
       "Mostly Organellar  Mostly Cytosolic          6.064880   6.064880   \n",
       "                   Mostly Nuclear            3.526093   3.526093   \n",
       "                   Mostly Organellar        37.799718  37.799718   \n",
       "\n",
       "                                      Sequence Lengh  \n",
       "Global classifier2 Model Prediction                   \n",
       "Mostly Cytosolic   Mostly Cytosolic        27.926657  \n",
       "                   Mostly Nuclear           4.090268  \n",
       "                   Mostly Organellar        2.538787  \n",
       "Mostly Nuclear     Mostly Cytosolic         3.667137  \n",
       "                   Mostly Nuclear          12.976023  \n",
       "                   Mostly Organellar        1.410437  \n",
       "Mostly Organellar  Mostly Cytosolic         6.064880  \n",
       "                   Mostly Nuclear           3.526093  \n",
       "                   Mostly Organellar       37.799718  "
      ]
     },
     "execution_count": 32,
     "metadata": {},
     "output_type": "execute_result"
    }
   ],
   "source": [
    "valid.groupby([\"Global classifier2\", \"Model Prediction\"]).count()/len(valid)*100"
   ]
  },
  {
   "cell_type": "code",
   "execution_count": 33,
   "metadata": {},
   "outputs": [],
   "source": [
    "# THIS CODE OUTPUT THE INDICES FOR CORRECT AND INCORRECT EXEMPLES.\n",
    "corrects = []\n",
    "falses = []\n",
    "for x in range(len(y_valid)):\n",
    "    if y_valid_indices[x] == y_pred_indices2[x]:\n",
    "        corrects.append(x)\n",
    "    else:\n",
    "        falses.append(x)"
   ]
  },
  {
   "cell_type": "code",
   "execution_count": 34,
   "metadata": {},
   "outputs": [
    {
     "name": "stdout",
     "output_type": "stream",
     "text": [
      "There is 558 correctly classified exemples\n",
      "There is 151 incorrectly classified exemples\n",
      "So the accuracy is: 78.70239774330042\n"
     ]
    }
   ],
   "source": [
    "print('There is ' + str(len(corrects)) + ' correctly classified exemples')\n",
    "print('There is ' + str(len(falses)) + ' incorrectly classified exemples')\n",
    "print('So the accuracy is: ' + str(len(corrects)/len(x_valid)*100))"
   ]
  },
  {
   "cell_type": "code",
   "execution_count": 35,
   "metadata": {},
   "outputs": [],
   "source": [
    "corrects_df = valid[valid.index.isin(corrects)]\n",
    "falses_df = valid[valid.index.isin(falses)]"
   ]
  },
  {
   "cell_type": "code",
   "execution_count": 37,
   "metadata": {},
   "outputs": [
    {
     "data": {
      "text/html": [
       "<div>\n",
       "<style scoped>\n",
       "    .dataframe tbody tr th:only-of-type {\n",
       "        vertical-align: middle;\n",
       "    }\n",
       "\n",
       "    .dataframe tbody tr th {\n",
       "        vertical-align: top;\n",
       "    }\n",
       "\n",
       "    .dataframe thead th {\n",
       "        text-align: right;\n",
       "    }\n",
       "</style>\n",
       "<table border=\"1\" class=\"dataframe\">\n",
       "  <thead>\n",
       "    <tr style=\"text-align: right;\">\n",
       "      <th></th>\n",
       "      <th>Lead Protein ID</th>\n",
       "      <th>Global classifier2</th>\n",
       "      <th>Sequence</th>\n",
       "      <th>Sequence Lengh</th>\n",
       "      <th>Model Prediction</th>\n",
       "    </tr>\n",
       "  </thead>\n",
       "  <tbody>\n",
       "    <tr>\n",
       "      <th>0</th>\n",
       "      <td>Q96MN5</td>\n",
       "      <td>Mostly Organellar</td>\n",
       "      <td>MDKFVIRTPRIQNSPQKKDSGGKVYKQATIESLKRVVVVEDIKRWK...</td>\n",
       "      <td>208</td>\n",
       "      <td>Mostly Nuclear</td>\n",
       "    </tr>\n",
       "    <tr>\n",
       "      <th>8</th>\n",
       "      <td>P82663</td>\n",
       "      <td>Mostly Organellar</td>\n",
       "      <td>MPMKGRFPIRRTLQYLSQGNVVFKDSVKVMTVNYNTHGELGEGARK...</td>\n",
       "      <td>173</td>\n",
       "      <td>Mostly Cytosolic</td>\n",
       "    </tr>\n",
       "    <tr>\n",
       "      <th>15</th>\n",
       "      <td>Q92802</td>\n",
       "      <td>Mostly Nuclear</td>\n",
       "      <td>MSYGEIEGKFLGPREEVTSEPRCKKLKSTTESYVFHNHSNADFHRI...</td>\n",
       "      <td>583</td>\n",
       "      <td>Mostly Cytosolic</td>\n",
       "    </tr>\n",
       "    <tr>\n",
       "      <th>17</th>\n",
       "      <td>Q6ICC9</td>\n",
       "      <td>Mostly Cytosolic</td>\n",
       "      <td>MVQPQTSKAESPALAASPNAQMDDVIDTLTSLRLTNSALRREASTL...</td>\n",
       "      <td>239</td>\n",
       "      <td>Mostly Nuclear</td>\n",
       "    </tr>\n",
       "    <tr>\n",
       "      <th>19</th>\n",
       "      <td>Q6IQ19</td>\n",
       "      <td>Mostly Organellar</td>\n",
       "      <td>MSPGSGVKSEYMKRYQEPRWEEYGPCYRELLHYRLGRRLLEQAHAP...</td>\n",
       "      <td>270</td>\n",
       "      <td>Mostly Nuclear</td>\n",
       "    </tr>\n",
       "  </tbody>\n",
       "</table>\n",
       "</div>"
      ],
      "text/plain": [
       "   Lead Protein ID Global classifier2  \\\n",
       "0           Q96MN5  Mostly Organellar   \n",
       "8           P82663  Mostly Organellar   \n",
       "15          Q92802     Mostly Nuclear   \n",
       "17          Q6ICC9   Mostly Cytosolic   \n",
       "19          Q6IQ19  Mostly Organellar   \n",
       "\n",
       "                                             Sequence  Sequence Lengh  \\\n",
       "0   MDKFVIRTPRIQNSPQKKDSGGKVYKQATIESLKRVVVVEDIKRWK...             208   \n",
       "8   MPMKGRFPIRRTLQYLSQGNVVFKDSVKVMTVNYNTHGELGEGARK...             173   \n",
       "15  MSYGEIEGKFLGPREEVTSEPRCKKLKSTTESYVFHNHSNADFHRI...             583   \n",
       "17  MVQPQTSKAESPALAASPNAQMDDVIDTLTSLRLTNSALRREASTL...             239   \n",
       "19  MSPGSGVKSEYMKRYQEPRWEEYGPCYRELLHYRLGRRLLEQAHAP...             270   \n",
       "\n",
       "    Model Prediction  \n",
       "0     Mostly Nuclear  \n",
       "8   Mostly Cytosolic  \n",
       "15  Mostly Cytosolic  \n",
       "17    Mostly Nuclear  \n",
       "19    Mostly Nuclear  "
      ]
     },
     "execution_count": 37,
     "metadata": {},
     "output_type": "execute_result"
    }
   ],
   "source": [
    "falses_df.head()"
   ]
  },
  {
   "cell_type": "markdown",
   "metadata": {},
   "source": [
    "# Model 3: CNN LSTM\n",
    "\n",
    "https://keras.io/examples/imdb_cnn_lstm/"
   ]
  },
  {
   "cell_type": "code",
   "execution_count": 68,
   "metadata": {},
   "outputs": [
    {
     "name": "stdout",
     "output_type": "stream",
     "text": [
      "Train...\n",
      "Train on 4015 samples, validate on 709 samples\n",
      "Epoch 1/25\n",
      "4015/4015 [==============================] - 85s 21ms/step - loss: 0.9740 - accuracy: 0.5078 - val_loss: 0.8765 - val_accuracy: 0.5853\n",
      "\n",
      "Epoch 00001: saving model to models/3/weights.01-0.88.hdf5\n",
      "Epoch 2/25\n",
      "4015/4015 [==============================] - 82s 20ms/step - loss: 0.8806 - accuracy: 0.5676 - val_loss: 0.8527 - val_accuracy: 0.5952\n",
      "\n",
      "Epoch 00002: saving model to models/3/weights.02-0.85.hdf5\n",
      "Epoch 3/25\n",
      "4015/4015 [==============================] - 84s 21ms/step - loss: 0.8800 - accuracy: 0.5724 - val_loss: 0.8684 - val_accuracy: 0.5543\n",
      "\n",
      "Epoch 00003: saving model to models/3/weights.03-0.87.hdf5\n",
      "Epoch 4/25\n",
      "4015/4015 [==============================] - 83s 21ms/step - loss: 0.6999 - accuracy: 0.6956 - val_loss: 0.6376 - val_accuracy: 0.7320\n",
      "\n",
      "Epoch 00004: saving model to models/3/weights.04-0.64.hdf5\n",
      "Epoch 5/25\n",
      "4015/4015 [==============================] - 87s 22ms/step - loss: 0.6189 - accuracy: 0.7497 - val_loss: 0.5983 - val_accuracy: 0.7645\n",
      "\n",
      "Epoch 00005: saving model to models/3/weights.05-0.60.hdf5\n",
      "Epoch 6/25\n",
      "4015/4015 [==============================] - 87s 22ms/step - loss: 0.5887 - accuracy: 0.7604 - val_loss: 0.6025 - val_accuracy: 0.7673\n",
      "\n",
      "Epoch 00006: saving model to models/3/weights.06-0.60.hdf5\n",
      "Epoch 7/25\n",
      "4015/4015 [==============================] - 86s 21ms/step - loss: 0.5633 - accuracy: 0.7811 - val_loss: 0.5779 - val_accuracy: 0.7729\n",
      "\n",
      "Epoch 00007: saving model to models/3/weights.07-0.58.hdf5\n",
      "Epoch 8/25\n",
      "4015/4015 [==============================] - 88s 22ms/step - loss: 0.5352 - accuracy: 0.7905 - val_loss: 0.5700 - val_accuracy: 0.7687\n",
      "\n",
      "Epoch 00008: saving model to models/3/weights.08-0.57.hdf5\n",
      "Epoch 9/25\n",
      "4015/4015 [==============================] - 88s 22ms/step - loss: 0.5212 - accuracy: 0.7938 - val_loss: 0.5945 - val_accuracy: 0.7729\n",
      "\n",
      "Epoch 00009: saving model to models/3/weights.09-0.59.hdf5\n",
      "Epoch 10/25\n",
      "4015/4015 [==============================] - 85s 21ms/step - loss: 0.5038 - accuracy: 0.8052 - val_loss: 0.6183 - val_accuracy: 0.7447\n",
      "\n",
      "Epoch 00010: saving model to models/3/weights.10-0.62.hdf5\n",
      "Epoch 11/25\n",
      "4015/4015 [==============================] - 82s 20ms/step - loss: 0.4893 - accuracy: 0.8110 - val_loss: 0.5546 - val_accuracy: 0.7870\n",
      "\n",
      "Epoch 00011: saving model to models/3/weights.11-0.55.hdf5\n",
      "Epoch 12/25\n",
      "4015/4015 [==============================] - 85s 21ms/step - loss: 0.4606 - accuracy: 0.8234 - val_loss: 0.6518 - val_accuracy: 0.7560\n",
      "\n",
      "Epoch 00012: saving model to models/3/weights.12-0.65.hdf5\n",
      "Epoch 13/25\n",
      "4015/4015 [==============================] - 84s 21ms/step - loss: 0.4529 - accuracy: 0.8209 - val_loss: 0.5630 - val_accuracy: 0.7856\n",
      "\n",
      "Epoch 00013: saving model to models/3/weights.13-0.56.hdf5\n",
      "Epoch 14/25\n",
      "4015/4015 [==============================] - 83s 21ms/step - loss: 0.4285 - accuracy: 0.8403 - val_loss: 0.5500 - val_accuracy: 0.7955\n",
      "\n",
      "Epoch 00014: saving model to models/3/weights.14-0.55.hdf5\n",
      "Epoch 15/25\n",
      "4015/4015 [==============================] - 84s 21ms/step - loss: 0.3985 - accuracy: 0.8471 - val_loss: 0.5454 - val_accuracy: 0.8039\n",
      "\n",
      "Epoch 00015: saving model to models/3/weights.15-0.55.hdf5\n",
      "Epoch 16/25\n",
      "4015/4015 [==============================] - 88s 22ms/step - loss: 0.3677 - accuracy: 0.8615 - val_loss: 0.5876 - val_accuracy: 0.7997\n",
      "\n",
      "Epoch 00016: saving model to models/3/weights.16-0.59.hdf5\n",
      "Epoch 17/25\n",
      "4015/4015 [==============================] - 89s 22ms/step - loss: 0.3463 - accuracy: 0.8712 - val_loss: 0.5807 - val_accuracy: 0.7941\n",
      "\n",
      "Epoch 00017: saving model to models/3/weights.17-0.58.hdf5\n",
      "Epoch 18/25\n",
      "4015/4015 [==============================] - 83s 21ms/step - loss: 0.3286 - accuracy: 0.8760 - val_loss: 0.6108 - val_accuracy: 0.7856\n",
      "\n",
      "Epoch 00018: saving model to models/3/weights.18-0.61.hdf5\n",
      "Epoch 19/25\n",
      "4015/4015 [==============================] - 83s 21ms/step - loss: 0.3128 - accuracy: 0.8817 - val_loss: 0.6634 - val_accuracy: 0.7659\n",
      "\n",
      "Epoch 00019: saving model to models/3/weights.19-0.66.hdf5\n",
      "Epoch 20/25\n",
      "4015/4015 [==============================] - 84s 21ms/step - loss: 0.2778 - accuracy: 0.8989 - val_loss: 0.6097 - val_accuracy: 0.7955\n",
      "\n",
      "Epoch 00020: saving model to models/3/weights.20-0.61.hdf5\n",
      "Epoch 21/25\n",
      "4015/4015 [==============================] - 83s 21ms/step - loss: 0.2481 - accuracy: 0.9121 - val_loss: 0.7217 - val_accuracy: 0.7602\n",
      "\n",
      "Epoch 00021: saving model to models/3/weights.21-0.72.hdf5\n",
      "Epoch 22/25\n",
      "4015/4015 [==============================] - 84s 21ms/step - loss: 0.2438 - accuracy: 0.9123 - val_loss: 0.6728 - val_accuracy: 0.7729\n",
      "\n",
      "Epoch 00022: saving model to models/3/weights.22-0.67.hdf5\n",
      "Epoch 23/25\n",
      "4015/4015 [==============================] - 85s 21ms/step - loss: 0.2138 - accuracy: 0.9191 - val_loss: 0.7295 - val_accuracy: 0.7687\n",
      "\n",
      "Epoch 00023: saving model to models/3/weights.23-0.73.hdf5\n",
      "Epoch 24/25\n",
      "4015/4015 [==============================] - 83s 21ms/step - loss: 0.2131 - accuracy: 0.9245 - val_loss: 0.7040 - val_accuracy: 0.7913\n",
      "\n",
      "Epoch 00024: saving model to models/3/weights.24-0.70.hdf5\n",
      "Epoch 25/25\n",
      "4015/4015 [==============================] - 84s 21ms/step - loss: 0.1957 - accuracy: 0.9250 - val_loss: 0.7147 - val_accuracy: 0.7884\n",
      "\n",
      "Epoch 00025: saving model to models/3/weights.25-0.71.hdf5\n"
     ]
    }
   ],
   "source": [
    "max_features = tot_aa +1\n",
    "batch_size = 32\n",
    "\n",
    "# Convolution\n",
    "kernel_size = 15\n",
    "filters = 48\n",
    "pool_size = 4\n",
    "\n",
    "model = Sequential()\n",
    "model.add(Embedding(max_features, 64, input_length=max_len, name= 'embedding_layer'))\n",
    "model.add(Dropout(0.2))\n",
    "model.add(Conv1D(filters,\n",
    "                 kernel_size,\n",
    "                 padding='same',\n",
    "                 activation='relu',\n",
    "                 strides=1))\n",
    "model.add(MaxPooling1D(pool_size=pool_size))\n",
    "model.add(LSTM(80, dropout = 0.2, recurrent_dropout=0.2))\n",
    "model.add(Dense(3, activation='softmax'))\n",
    "\n",
    "# try using different optimizers and different optimizer configs\n",
    "model.compile('NAdam', 'categorical_crossentropy', metrics=['accuracy'])\n",
    "checkpointer = ModelCheckpoint(filepath='models/3/weights.{epoch:02d}-{val_loss:.2f}.hdf5', \n",
    "                               verbose=1, save_best_only=False)\n",
    "\n",
    "print('Train...')\n",
    "history = model.fit(x_train_pad, y_train_OH,\n",
    "          batch_size=batch_size,\n",
    "          epochs=25, \n",
    "          class_weight= class_weights,\n",
    "          validation_data=[x_valid_pad, y_valid_OH],\n",
    "          callbacks=[checkpointer])"
   ]
  },
  {
   "cell_type": "code",
   "execution_count": 69,
   "metadata": {},
   "outputs": [
    {
     "data": {
      "image/png": "[encoded data removed]",
      "text/plain": [
       "<Figure size 432x288 with 1 Axes>"
      ]
     },
     "metadata": {
      "needs_background": "light"
     },
     "output_type": "display_data"
    },
    {
     "data": {
      "image/png": "[encoded data removed]",
      "text/plain": [
       "<Figure size 432x288 with 1 Axes>"
      ]
     },
     "metadata": {
      "needs_background": "light"
     },
     "output_type": "display_data"
    }
   ],
   "source": [
    "# Plot training & validation accuracy values\n",
    "plt.plot(history.history['accuracy'])\n",
    "plt.plot(history.history['val_accuracy'])\n",
    "plt.title('Model accuracy')\n",
    "plt.ylabel('Accuracy')\n",
    "plt.xlabel('Epoch')\n",
    "plt.legend(['Train', 'Valid'], loc='upper left')\n",
    "plt.show()\n",
    "\n",
    "# Plot training & validation loss values\n",
    "plt.plot(history.history['loss'])\n",
    "plt.plot(history.history['val_loss'])\n",
    "plt.title('Model loss')\n",
    "plt.ylabel('Loss')\n",
    "plt.xlabel('Epoch')\n",
    "plt.legend(['Train', 'Valid'], loc='upper left')\n",
    "plt.show()"
   ]
  },
  {
   "cell_type": "markdown",
   "metadata": {},
   "source": [
    "Notes:\n",
    "    \n",
    "    CNN LSTM train really fast\n",
    "    I need to optimize kernel size and filter size \n",
    "    Then, need to check if it work with attention \n",
    "    I could try to find a way to combine different filter size\n",
    "    \n",
    "Tested:\n",
    "\n",
    "    kernel_size = 12, filters = 64, padding = valid, LSTM(64, 0.2, 0.2), strongly overfit after 15 epoch \n",
    "    kernel_size = 9, filters = 32, padding = valid LSTM(64, 0.2, 0.2), did not perform as good as first\n",
    "    kernel_size = 15, filters = 48, padding = same LSTM(64, 0.2, 0.2), best so far\n",
    "    "
   ]
  },
  {
   "cell_type": "code",
   "execution_count": 14,
   "metadata": {},
   "outputs": [
    {
     "name": "stdout",
     "output_type": "stream",
     "text": [
      "WARNING:tensorflow:From /home/julie/anaconda3/lib/python3.7/site-packages/tensorflow/python/ops/resource_variable_ops.py:435: colocate_with (from tensorflow.python.framework.ops) is deprecated and will be removed in a future version.\n",
      "Instructions for updating:\n",
      "Colocations handled automatically by placer.\n",
      "WARNING:tensorflow:From /home/julie/anaconda3/lib/python3.7/site-packages/tensorflow/python/ops/math_ops.py:3066: to_int32 (from tensorflow.python.ops.math_ops) is deprecated and will be removed in a future version.\n",
      "Instructions for updating:\n",
      "Use tf.cast instead.\n"
     ]
    },
    {
     "data": {
      "image/png": "[encoded data removed]",
      "text/plain": [
       "<IPython.core.display.Image object>"
      ]
     },
     "execution_count": 14,
     "metadata": {},
     "output_type": "execute_result"
    }
   ],
   "source": [
    "model3 = load_model('models/3/weights.15-0.55.hdf5')\n",
    "plot_model(model3, to_file='models/3/model_plot.png', show_shapes=True, show_layer_names=True)"
   ]
  },
  {
   "cell_type": "code",
   "execution_count": 72,
   "metadata": {},
   "outputs": [
    {
     "name": "stdout",
     "output_type": "stream",
     "text": [
      "709/709 [==============================] - 5s 7ms/step\n"
     ]
    },
    {
     "data": {
      "text/plain": [
       "[0.5454247957686611, 0.803949236869812]"
      ]
     },
     "execution_count": 72,
     "metadata": {},
     "output_type": "execute_result"
    }
   ],
   "source": [
    "model3.evaluate(x_valid_pad,y_valid_OH)"
   ]
  },
  {
   "cell_type": "code",
   "execution_count": 76,
   "metadata": {},
   "outputs": [],
   "source": [
    "y_pred3 = model.predict(x_valid_pad)\n",
    "y_pred_indices3 = OH_to_label_indices(y_pred3)\n",
    "y_pred_labels3 = indices_to_cat(y_pred_indices3)"
   ]
  },
  {
   "cell_type": "code",
   "execution_count": 77,
   "metadata": {},
   "outputs": [
    {
     "data": {
      "image/png": "[encoded data removed]",
      "text/plain": [
       "<Figure size 432x288 with 2 Axes>"
      ]
     },
     "metadata": {
      "needs_background": "light"
     },
     "output_type": "display_data"
    }
   ],
   "source": [
    "conf_mx3 = confusion_matrix(y_valid, y_pred_labels3, labels=cat)\n",
    "\n",
    "fig = plt.figure()\n",
    "ax = fig.add_subplot(111)\n",
    "cax = ax.matshow(conf_mx3, cmap=plt.cm.gray)\n",
    "fig.colorbar(cax)\n",
    "ax.xaxis.set_major_locator(MultipleLocator(1))\n",
    "ax.yaxis.set_major_locator(MultipleLocator(1))\n",
    "ax.set_xticklabels([''] + cat,  rotation='vertical')\n",
    "ax.set_yticklabels([''] + cat)\n",
    "plt.xlabel('Predicted')\n",
    "plt.ylabel('True')\n",
    "plt.show()"
   ]
  },
  {
   "cell_type": "code",
   "execution_count": 79,
   "metadata": {},
   "outputs": [
    {
     "data": {
      "image/png": "[encoded data removed]",
      "text/plain": [
       "<Figure size 432x288 with 2 Axes>"
      ]
     },
     "metadata": {
      "needs_background": "light"
     },
     "output_type": "display_data"
    }
   ],
   "source": [
    "fig = plt.figure()\n",
    "ax = fig.add_subplot(111)\n",
    "cax = ax.matshow(conf_mx3 / (conf_mx3.max(axis=0)+1), cmap=plt.cm.gray)\n",
    "fig.colorbar(cax)\n",
    "ax.xaxis.set_major_locator(MultipleLocator(1))\n",
    "ax.yaxis.set_major_locator(MultipleLocator(1))\n",
    "ax.set_xticklabels([''] + cat,  rotation='vertical')\n",
    "ax.set_yticklabels([''] + cat)\n",
    "plt.xlabel('Predicted')\n",
    "plt.ylabel('True')\n",
    "plt.show()"
   ]
  },
  {
   "cell_type": "markdown",
   "metadata": {},
   "source": [
    "### Embedding"
   ]
  },
  {
   "cell_type": "code",
   "execution_count": 73,
   "metadata": {},
   "outputs": [
    {
     "data": {
      "text/plain": [
       "(23, 64)"
      ]
     },
     "execution_count": 73,
     "metadata": {},
     "output_type": "execute_result"
    }
   ],
   "source": [
    "embedding = model3.get_layer('embedding_layer').get_weights()\n",
    "embedding = embedding[0]\n",
    "embedding.shape"
   ]
  },
  {
   "cell_type": "code",
   "execution_count": 74,
   "metadata": {},
   "outputs": [
    {
     "name": "stdout",
     "output_type": "stream",
     "text": [
      "original shape:    (23, 64)\n",
      "transformed shape: (23, 2)\n"
     ]
    }
   ],
   "source": [
    "# PCA plots of Embedding \n",
    "pca = PCA(n_components=2)\n",
    "pca.fit(embedding)\n",
    "embedding_pca = pca.transform(embedding)\n",
    "print(\"original shape:   \", embedding.shape)\n",
    "print(\"transformed shape:\", embedding_pca.shape)"
   ]
  },
  {
   "cell_type": "code",
   "execution_count": 75,
   "metadata": {},
   "outputs": [
    {
     "data": {
      "image/png": "[encoded data removed]",
      "text/plain": [
       "<Figure size 432x288 with 1 Axes>"
      ]
     },
     "metadata": {
      "needs_background": "light"
     },
     "output_type": "display_data"
    }
   ],
   "source": [
    "fig, ax = plt.subplots()\n",
    "plt.scatter(embedding_pca[:, 0], embedding_pca[:, 1], edgecolor='none')\n",
    "aaL = list(aa)\n",
    "for i in range(len(aaL)):\n",
    "    ax.annotate(aaL[i], (embedding_pca[:, 0][i], embedding_pca[:, 1][i]))\n",
    "    \n",
    "\n",
    "plt.show()"
   ]
  },
  {
   "cell_type": "markdown",
   "metadata": {},
   "source": [
    "## Checking the model on the test set"
   ]
  },
  {
   "cell_type": "code",
   "execution_count": 52,
   "metadata": {},
   "outputs": [],
   "source": [
    "test = pd.read_csv(\"data/3Classes_test.csv\", sep=\"\\t\")\n",
    "y_test = test[\"Global classifier2\"]\n",
    "y_test_indices = cat_to_indices(y_test)\n",
    "y_test_OH = convert_to_one_hot(y_test_indices, C = tot_cat)\n",
    "\n",
    "x_test = test[\"Sequence\"].copy()\n",
    "x_test_indices = seq_to_indices(x_test, aa_to_int, max_len)\n",
    "x_test_pad = sequence.pad_sequences(x_test_indices, maxlen=max_len, value=aa_to_int[\"*\"])"
   ]
  },
  {
   "cell_type": "code",
   "execution_count": 53,
   "metadata": {},
   "outputs": [
    {
     "name": "stdout",
     "output_type": "stream",
     "text": [
      "Test loss: 0.5222583223375485\n",
      "Test accuracy: 0.821342945098877\n"
     ]
    }
   ],
   "source": [
    "score = model.evaluate(x_test_pad, y_test_OH, verbose=0)\n",
    "print('Test loss:', score[0])\n",
    "print('Test accuracy:', score[1])"
   ]
  },
  {
   "cell_type": "code",
   "execution_count": 56,
   "metadata": {},
   "outputs": [
    {
     "name": "stdout",
     "output_type": "stream",
     "text": [
      "Test loss: 0.4906710890843142\n",
      "Test accuracy: 0.8045563697814941\n"
     ]
    }
   ],
   "source": [
    "score2 = model2.evaluate(x_test_pad, y_test_OH, verbose=0)\n",
    "print('Test loss:', score2[0])\n",
    "print('Test accuracy:', score2[1])"
   ]
  },
  {
   "cell_type": "code",
   "execution_count": 82,
   "metadata": {},
   "outputs": [
    {
     "name": "stdout",
     "output_type": "stream",
     "text": [
      "Test loss: 0.500200130599294\n",
      "Test accuracy: 0.8153477311134338\n"
     ]
    }
   ],
   "source": [
    "score3 = model3.evaluate(x_test_pad, y_test_OH, verbose=0)\n",
    "print('Test loss:', score3[0])\n",
    "print('Test accuracy:', score3[1])"
   ]
  },
  {
   "cell_type": "code",
   "execution_count": null,
   "metadata": {},
   "outputs": [],
   "source": []
  }
 ],
 "metadata": {
  "kernelspec": {
   "display_name": "Python 3",
   "language": "python",
   "name": "python3"
  },
  "language_info": {
   "codemirror_mode": {
    "name": "ipython",
    "version": 3
   },
   "file_extension": ".py",
   "mimetype": "text/x-python",
   "name": "python",
   "nbconvert_exporter": "python",
   "pygments_lexer": "ipython3",
   "version": "3.7.3"
  }
 },
 "nbformat": 4,
 "nbformat_minor": 2
}
