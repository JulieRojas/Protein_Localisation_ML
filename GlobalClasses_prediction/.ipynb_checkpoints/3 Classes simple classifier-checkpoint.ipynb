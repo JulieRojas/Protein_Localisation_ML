{
 "cells": [
  {
   "cell_type": "code",
   "execution_count": 40,
   "metadata": {},
   "outputs": [],
   "source": [
    "import matplotlib\n",
    "import matplotlib.pyplot as plt\n",
    "import pandas as pd\n",
    "import csv\n",
    "import numpy as np\n",
    "%matplotlib inline \n",
    "import tempfile, sys, os\n",
    "from keras.models import Model\n",
    "sys.path.insert(0, os.path.abspath('..'))\n",
    "from matplotlib.ticker import MultipleLocator\n",
    "from keras.utils.vis_utils import plot_model\n",
    "from keras.callbacks import ModelCheckpoint\n",
    "from sklearn.utils import class_weight\n",
    "from sklearn.metrics import confusion_matrix\n",
    "from keras.preprocessing import sequence\n",
    "from keras.models import Sequential\n",
    "from keras.layers import Dense, Dropout, Embedding, LSTM, Bidirectional\n",
    "from numpy import loadtxt\n",
    "from keras.models import load_model\n",
    "from keras import backend as K\n",
    "import deepexplain\n",
    "#from deepexplain.tensorflow import DeepExplain"
   ]
  },
  {
   "cell_type": "code",
   "execution_count": 2,
   "metadata": {},
   "outputs": [],
   "source": [
    "train = pd.read_csv(\"data/3Classes_train.csv\", sep=\"\\t\")\n",
    "valid = pd.read_csv(\"data/3Classes_valid.csv\", sep=\"\\t\")\n",
    "\n",
    "y_train = train[\"Global classifier2\"]\n",
    "y_valid = valid[\"Global classifier2\"]\n",
    "\n",
    "x_train = train[\"Sequence\"].copy()\n",
    "x_valid = valid[\"Sequence\"].copy()"
   ]
  },
  {
   "cell_type": "code",
   "execution_count": 3,
   "metadata": {},
   "outputs": [
    {
     "name": "stdout",
     "output_type": "stream",
     "text": [
      "4015 train sequences\n",
      "709 test sequences\n"
     ]
    }
   ],
   "source": [
    "print(len(x_train), 'train sequences')\n",
    "print(len(x_valid), 'test sequences')"
   ]
  },
  {
   "cell_type": "code",
   "execution_count": 4,
   "metadata": {},
   "outputs": [
    {
     "name": "stdout",
     "output_type": "stream",
     "text": [
      "1500\n"
     ]
    }
   ],
   "source": [
    "max_len = len(max(x_train, key=len))\n",
    "print(max_len)"
   ]
  },
  {
   "cell_type": "code",
   "execution_count": 5,
   "metadata": {},
   "outputs": [],
   "source": [
    "# all amino acids (in blosum order)\n",
    "aa = \"*ARNDCQEGHILKMFPSTWYVU\"\n",
    "tot_aa = len(aa)\n",
    "\n",
    "# define a mapping of aa to integers\n",
    "aa_to_int = dict((c, i) for i, c in enumerate(aa))\n",
    "int_to_aa = dict((i, c) for i, c in enumerate(aa))"
   ]
  },
  {
   "cell_type": "markdown",
   "metadata": {},
   "source": [
    "## One hot encoding of Labels"
   ]
  },
  {
   "cell_type": "code",
   "execution_count": 6,
   "metadata": {},
   "outputs": [],
   "source": [
    "cat = ['Mostly Cytosolic', 'Mostly Nuclear', 'Mostly Organellar']\n",
    "\n",
    "tot_cat = len(cat)\n",
    "cat_to_int = {}\n",
    "int_to_cat = {}\n",
    "for i in range(tot_cat):\n",
    "    cat_to_int[cat[i]] = i\n",
    "    int_to_cat[i] = cat[i]   "
   ]
  },
  {
   "cell_type": "code",
   "execution_count": 7,
   "metadata": {},
   "outputs": [],
   "source": [
    "def cat_to_indices(Y):\n",
    "    Y_indices = np.zeros([Y.shape[0],], dtype=int)\n",
    "    for i in range(len(Y)):\n",
    "        Y_indices[i] = cat_to_int[Y[i]]\n",
    "    return Y_indices\n",
    "\n",
    "# one hot encode\n",
    "def convert_to_one_hot(Y, C):\n",
    "    Y = np.eye(C)[Y.reshape(-1)]\n",
    "    return Y"
   ]
  },
  {
   "cell_type": "code",
   "execution_count": 8,
   "metadata": {},
   "outputs": [],
   "source": [
    "y_train_indices = cat_to_indices(y_train)\n",
    "y_valid_indices = cat_to_indices(y_valid)\n",
    "\n",
    "y_train_OH = convert_to_one_hot(y_train_indices, C = tot_cat)\n",
    "y_valid_OH = convert_to_one_hot(y_valid_indices, C = tot_cat)"
   ]
  },
  {
   "cell_type": "markdown",
   "metadata": {},
   "source": [
    "## X_train processing: \n",
    "### From Sequences to list of indices"
   ]
  },
  {
   "cell_type": "code",
   "execution_count": 9,
   "metadata": {},
   "outputs": [],
   "source": [
    "# Function to convert sequences to array of indices. I will that that one for embedding \n",
    "\n",
    "def seq_to_indices(X, aa_to_int, max_len):\n",
    "    \n",
    "    m = X.shape[0]                                   # number of training examples\n",
    "    \n",
    "    ### START CODE HERE ###\n",
    "    # Initialize X_indices as a numpy matrix of zeros and the correct shape (≈ 1 line)\n",
    "    X_indices = []\n",
    "    \n",
    "    for i in range(m):                               # loop over training examples\n",
    "        seq_aa = X[i]\n",
    "        seq_ind = []\n",
    "        \n",
    "        # Loop over the words of sentence_words\n",
    "        for w in range(len(seq_aa)):\n",
    "            seq_ind.append(aa_to_int[seq_aa[w]])\n",
    "            \n",
    "        X_indices.append(seq_ind)\n",
    "            \n",
    "    ### END CODE HERE ###\n",
    "    \n",
    "    return X_indices"
   ]
  },
  {
   "cell_type": "code",
   "execution_count": 10,
   "metadata": {},
   "outputs": [],
   "source": [
    "x_train_indices = seq_to_indices(x_train, aa_to_int, max_len)\n",
    "x_valid_indices = seq_to_indices(x_valid, aa_to_int, max_len)"
   ]
  },
  {
   "cell_type": "code",
   "execution_count": 11,
   "metadata": {},
   "outputs": [
    {
     "name": "stdout",
     "output_type": "stream",
     "text": [
      "x_train shape: (4015, 1500)\n",
      "x_valid shape: (709, 1500)\n"
     ]
    }
   ],
   "source": [
    "# Pad sequences\n",
    "# By default, the padding is added before the sequence\n",
    "x_train_pad = sequence.pad_sequences(x_train_indices, maxlen=max_len, value=aa_to_int[\"*\"])\n",
    "x_valid_pad = sequence.pad_sequences(x_valid_indices, maxlen=max_len, value=aa_to_int[\"*\"])\n",
    "print('x_train shape:', x_train_pad.shape)\n",
    "print('x_valid shape:', x_valid_pad.shape)"
   ]
  },
  {
   "cell_type": "code",
   "execution_count": 12,
   "metadata": {},
   "outputs": [],
   "source": [
    "# One hot to label \n",
    "#Y is list of OH vector\n",
    "def OH_to_label_indices(Y):\n",
    "    labels = []\n",
    "    for a in Y:\n",
    "        indices = np.argmax(a)\n",
    "        labels.append(indices)\n",
    "    return labels"
   ]
  },
  {
   "cell_type": "code",
   "execution_count": 13,
   "metadata": {},
   "outputs": [],
   "source": [
    "def indices_to_cat(Y):\n",
    "    Y_cat = []\n",
    "    for i in range(len(Y)):\n",
    "        Y_cat.append(int_to_cat[Y[i]])\n",
    "    return Y_cat"
   ]
  },
  {
   "cell_type": "markdown",
   "metadata": {},
   "source": [
    "# First Model\n",
    "\n",
    "Saved in model, folder 1 "
   ]
  },
  {
   "cell_type": "code",
   "execution_count": 15,
   "metadata": {},
   "outputs": [],
   "source": [
    "class_weights = class_weight.compute_class_weight('balanced',\n",
    "                                                 np.unique(y_train),\n",
    "                                                 y_train)\n",
    "d_class_weights = dict(enumerate(class_weights))"
   ]
  },
  {
   "cell_type": "code",
   "execution_count": 18,
   "metadata": {
    "scrolled": false
   },
   "outputs": [
    {
     "name": "stdout",
     "output_type": "stream",
     "text": [
      "Train...\n",
      "Train on 4015 samples, validate on 709 samples\n",
      "Epoch 1/50\n",
      "4015/4015 [==============================] - 188s 47ms/step - loss: 1.0303 - accuracy: 0.4715 - val_loss: 1.0150 - val_accuracy: 0.4838\n",
      "\n",
      "Epoch 00001: val_loss improved from inf to 1.01503, saving model to models/1/weights.01-1.02.hdf5\n",
      "Epoch 2/50\n",
      "4015/4015 [==============================] - 188s 47ms/step - loss: 0.9846 - accuracy: 0.4984 - val_loss: 1.0159 - val_accuracy: 0.4908\n",
      "\n",
      "Epoch 00002: val_loss did not improve from 1.01503\n",
      "Epoch 3/50\n",
      "4015/4015 [==============================] - 188s 47ms/step - loss: 1.0146 - accuracy: 0.4874 - val_loss: 1.0129 - val_accuracy: 0.4908\n",
      "\n",
      "Epoch 00003: val_loss improved from 1.01503 to 1.01293, saving model to models/1/weights.03-1.01.hdf5\n",
      "Epoch 4/50\n",
      "4015/4015 [==============================] - 187s 47ms/step - loss: 1.0102 - accuracy: 0.4904 - val_loss: 1.0135 - val_accuracy: 0.4894\n",
      "\n",
      "Epoch 00004: val_loss did not improve from 1.01293\n",
      "Epoch 5/50\n",
      "4015/4015 [==============================] - 188s 47ms/step - loss: 0.9969 - accuracy: 0.5021 - val_loss: 0.9969 - val_accuracy: 0.5078\n",
      "\n",
      "Epoch 00005: val_loss improved from 1.01293 to 0.99686, saving model to models/1/weights.05-1.00.hdf5\n",
      "Epoch 6/50\n",
      "4015/4015 [==============================] - 189s 47ms/step - loss: 0.9684 - accuracy: 0.5153 - val_loss: 1.0273 - val_accuracy: 0.4415\n",
      "\n",
      "Epoch 00006: val_loss did not improve from 0.99686\n",
      "Epoch 7/50\n",
      "4015/4015 [==============================] - 191s 48ms/step - loss: 0.9290 - accuracy: 0.5300 - val_loss: 0.9560 - val_accuracy: 0.5219\n",
      "\n",
      "Epoch 00007: val_loss improved from 0.99686 to 0.95599, saving model to models/1/weights.07-0.96.hdf5\n",
      "Epoch 8/50\n",
      "4015/4015 [==============================] - 188s 47ms/step - loss: 0.9997 - accuracy: 0.5019 - val_loss: 1.0124 - val_accuracy: 0.4894\n",
      "\n",
      "Epoch 00008: val_loss did not improve from 0.95599\n",
      "Epoch 9/50\n",
      "4015/4015 [==============================] - 187s 47ms/step - loss: 1.0025 - accuracy: 0.5036 - val_loss: 0.9925 - val_accuracy: 0.5021\n",
      "\n",
      "Epoch 00009: val_loss did not improve from 0.95599\n",
      "Epoch 10/50\n",
      "4015/4015 [==============================] - 187s 47ms/step - loss: 0.9889 - accuracy: 0.5086 - val_loss: 1.0083 - val_accuracy: 0.4979\n",
      "\n",
      "Epoch 00010: val_loss did not improve from 0.95599\n",
      "Epoch 11/50\n",
      "4015/4015 [==============================] - 192s 48ms/step - loss: 0.9945 - accuracy: 0.5061 - val_loss: 0.9947 - val_accuracy: 0.5021\n",
      "\n",
      "Epoch 00011: val_loss did not improve from 0.95599\n",
      "Epoch 12/50\n",
      "4015/4015 [==============================] - 187s 47ms/step - loss: 0.9327 - accuracy: 0.5407 - val_loss: 0.9636 - val_accuracy: 0.5472\n",
      "\n",
      "Epoch 00012: val_loss did not improve from 0.95599\n",
      "Epoch 13/50\n",
      "4015/4015 [==============================] - 187s 47ms/step - loss: 0.8980 - accuracy: 0.5601 - val_loss: 0.9152 - val_accuracy: 0.5910\n",
      "\n",
      "Epoch 00013: val_loss improved from 0.95599 to 0.91517, saving model to models/1/weights.13-0.92.hdf5\n",
      "Epoch 14/50\n",
      "4015/4015 [==============================] - 188s 47ms/step - loss: 0.8681 - accuracy: 0.5998 - val_loss: 0.8995 - val_accuracy: 0.5205\n",
      "\n",
      "Epoch 00014: val_loss improved from 0.91517 to 0.89955, saving model to models/1/weights.14-0.90.hdf5\n",
      "Epoch 15/50\n",
      "4015/4015 [==============================] - 189s 47ms/step - loss: 0.9008 - accuracy: 0.5756 - val_loss: 1.0124 - val_accuracy: 0.4767\n",
      "\n",
      "Epoch 00015: val_loss did not improve from 0.89955\n",
      "Epoch 16/50\n",
      "4015/4015 [==============================] - 188s 47ms/step - loss: 0.9519 - accuracy: 0.5203 - val_loss: 0.9030 - val_accuracy: 0.5571\n",
      "\n",
      "Epoch 00016: val_loss did not improve from 0.89955\n",
      "Epoch 17/50\n",
      "4015/4015 [==============================] - 189s 47ms/step - loss: 0.8778 - accuracy: 0.5729 - val_loss: 0.8938 - val_accuracy: 0.5740\n",
      "\n",
      "Epoch 00017: val_loss improved from 0.89955 to 0.89384, saving model to models/1/weights.17-0.89.hdf5\n",
      "Epoch 18/50\n",
      "4015/4015 [==============================] - 188s 47ms/step - loss: 0.7914 - accuracy: 0.6431 - val_loss: 0.7690 - val_accuracy: 0.6361\n",
      "\n",
      "Epoch 00018: val_loss improved from 0.89384 to 0.76904, saving model to models/1/weights.18-0.77.hdf5\n",
      "Epoch 19/50\n",
      "4015/4015 [==============================] - 188s 47ms/step - loss: 0.7421 - accuracy: 0.6867 - val_loss: 0.7650 - val_accuracy: 0.6516\n",
      "\n",
      "Epoch 00019: val_loss improved from 0.76904 to 0.76499, saving model to models/1/weights.19-0.76.hdf5\n",
      "Epoch 20/50\n",
      "4015/4015 [==============================] - 187s 47ms/step - loss: 0.7035 - accuracy: 0.7088 - val_loss: 0.7006 - val_accuracy: 0.7094\n",
      "\n",
      "Epoch 00020: val_loss improved from 0.76499 to 0.70059, saving model to models/1/weights.20-0.70.hdf5\n",
      "Epoch 21/50\n",
      "4015/4015 [==============================] - 187s 47ms/step - loss: 0.6540 - accuracy: 0.7310 - val_loss: 0.6488 - val_accuracy: 0.7292\n",
      "\n",
      "Epoch 00021: val_loss improved from 0.70059 to 0.64876, saving model to models/1/weights.21-0.65.hdf5\n",
      "Epoch 22/50\n",
      "4015/4015 [==============================] - 187s 47ms/step - loss: 0.6183 - accuracy: 0.7539 - val_loss: 0.6470 - val_accuracy: 0.7377\n",
      "\n",
      "Epoch 00022: val_loss improved from 0.64876 to 0.64703, saving model to models/1/weights.22-0.65.hdf5\n",
      "Epoch 23/50\n",
      "4015/4015 [==============================] - 187s 47ms/step - loss: 0.5985 - accuracy: 0.7716 - val_loss: 0.6555 - val_accuracy: 0.7447\n",
      "\n",
      "Epoch 00023: val_loss did not improve from 0.64703\n",
      "Epoch 24/50\n",
      "4015/4015 [==============================] - 187s 47ms/step - loss: 0.6138 - accuracy: 0.7537 - val_loss: 0.6414 - val_accuracy: 0.7320\n",
      "\n",
      "Epoch 00024: val_loss improved from 0.64703 to 0.64136, saving model to models/1/weights.24-0.64.hdf5\n",
      "Epoch 25/50\n",
      "4015/4015 [==============================] - 187s 47ms/step - loss: 0.5848 - accuracy: 0.7731 - val_loss: 0.6626 - val_accuracy: 0.7292\n",
      "\n",
      "Epoch 00025: val_loss did not improve from 0.64136\n",
      "Epoch 26/50\n",
      "4015/4015 [==============================] - 187s 47ms/step - loss: 0.5728 - accuracy: 0.7741 - val_loss: 0.6507 - val_accuracy: 0.7207\n",
      "\n",
      "Epoch 00026: val_loss did not improve from 0.64136\n",
      "Epoch 27/50\n",
      "4015/4015 [==============================] - 188s 47ms/step - loss: 0.5730 - accuracy: 0.7773 - val_loss: 0.8110 - val_accuracy: 0.6939\n",
      "\n",
      "Epoch 00027: val_loss did not improve from 0.64136\n",
      "Epoch 28/50\n",
      "4015/4015 [==============================] - 187s 47ms/step - loss: 0.5614 - accuracy: 0.7848 - val_loss: 0.6339 - val_accuracy: 0.7532\n",
      "\n",
      "Epoch 00028: val_loss improved from 0.64136 to 0.63389, saving model to models/1/weights.28-0.63.hdf5\n",
      "Epoch 29/50\n",
      "4015/4015 [==============================] - 187s 47ms/step - loss: 0.5422 - accuracy: 0.7918 - val_loss: 0.6152 - val_accuracy: 0.7616\n",
      "\n",
      "Epoch 00029: val_loss improved from 0.63389 to 0.61516, saving model to models/1/weights.29-0.62.hdf5\n",
      "Epoch 30/50\n",
      "4015/4015 [==============================] - 192s 48ms/step - loss: 0.5295 - accuracy: 0.7960 - val_loss: 0.6096 - val_accuracy: 0.7701\n",
      "\n",
      "Epoch 00030: val_loss improved from 0.61516 to 0.60959, saving model to models/1/weights.30-0.61.hdf5\n",
      "Epoch 31/50\n",
      "4015/4015 [==============================] - 187s 47ms/step - loss: 0.5183 - accuracy: 0.8022 - val_loss: 0.6184 - val_accuracy: 0.7645\n",
      "\n",
      "Epoch 00031: val_loss did not improve from 0.60959\n",
      "Epoch 32/50\n",
      "4015/4015 [==============================] - 187s 47ms/step - loss: 0.4975 - accuracy: 0.8077 - val_loss: 0.6093 - val_accuracy: 0.7701\n",
      "\n",
      "Epoch 00032: val_loss improved from 0.60959 to 0.60934, saving model to models/1/weights.32-0.61.hdf5\n",
      "Epoch 33/50\n",
      "4015/4015 [==============================] - 187s 47ms/step - loss: 0.4981 - accuracy: 0.8117 - val_loss: 0.6403 - val_accuracy: 0.7405\n",
      "\n",
      "Epoch 00033: val_loss did not improve from 0.60934\n",
      "Epoch 34/50\n",
      "4015/4015 [==============================] - 187s 47ms/step - loss: 0.4828 - accuracy: 0.8184 - val_loss: 0.6174 - val_accuracy: 0.7729\n",
      "\n",
      "Epoch 00034: val_loss did not improve from 0.60934\n",
      "Epoch 35/50\n",
      "4015/4015 [==============================] - 188s 47ms/step - loss: 0.4736 - accuracy: 0.8232 - val_loss: 0.5832 - val_accuracy: 0.7842\n",
      "\n",
      "Epoch 00035: val_loss improved from 0.60934 to 0.58321, saving model to models/1/weights.35-0.58.hdf5\n",
      "Epoch 36/50\n",
      "4015/4015 [==============================] - 187s 47ms/step - loss: 0.4611 - accuracy: 0.8304 - val_loss: 0.5853 - val_accuracy: 0.7743\n",
      "\n",
      "Epoch 00036: val_loss did not improve from 0.58321\n",
      "Epoch 37/50\n"
     ]
    },
    {
     "name": "stdout",
     "output_type": "stream",
     "text": [
      "4015/4015 [==============================] - 187s 47ms/step - loss: 0.4488 - accuracy: 0.8356 - val_loss: 0.6487 - val_accuracy: 0.7518\n",
      "\n",
      "Epoch 00037: val_loss did not improve from 0.58321\n",
      "Epoch 38/50\n",
      "4015/4015 [==============================] - 187s 47ms/step - loss: 0.4410 - accuracy: 0.8354 - val_loss: 0.7038 - val_accuracy: 0.7052\n",
      "\n",
      "Epoch 00038: val_loss did not improve from 0.58321\n",
      "Epoch 39/50\n",
      "4015/4015 [==============================] - 193s 48ms/step - loss: 0.4478 - accuracy: 0.8324 - val_loss: 0.5931 - val_accuracy: 0.7884\n",
      "\n",
      "Epoch 00039: val_loss did not improve from 0.58321\n",
      "Epoch 40/50\n",
      "4015/4015 [==============================] - 188s 47ms/step - loss: 0.4302 - accuracy: 0.8408 - val_loss: 0.6061 - val_accuracy: 0.7757\n",
      "\n",
      "Epoch 00040: val_loss did not improve from 0.58321\n",
      "Epoch 41/50\n",
      "4015/4015 [==============================] - 188s 47ms/step - loss: 0.4213 - accuracy: 0.8488 - val_loss: 0.5922 - val_accuracy: 0.7757\n",
      "\n",
      "Epoch 00041: val_loss did not improve from 0.58321\n",
      "Epoch 42/50\n",
      "4015/4015 [==============================] - 187s 47ms/step - loss: 0.4031 - accuracy: 0.8498 - val_loss: 0.6143 - val_accuracy: 0.7828\n",
      "\n",
      "Epoch 00042: val_loss did not improve from 0.58321\n",
      "Epoch 43/50\n",
      "4015/4015 [==============================] - 187s 47ms/step - loss: 0.3844 - accuracy: 0.8605 - val_loss: 0.6490 - val_accuracy: 0.7701\n",
      "\n",
      "Epoch 00043: val_loss did not improve from 0.58321\n",
      "Epoch 44/50\n",
      "4015/4015 [==============================] - 187s 47ms/step - loss: 0.3895 - accuracy: 0.8588 - val_loss: 0.6393 - val_accuracy: 0.7687\n",
      "\n",
      "Epoch 00044: val_loss did not improve from 0.58321\n",
      "Epoch 45/50\n",
      "4015/4015 [==============================] - 187s 47ms/step - loss: 0.4397 - accuracy: 0.8394 - val_loss: 0.6137 - val_accuracy: 0.7772\n",
      "\n",
      "Epoch 00045: val_loss did not improve from 0.58321\n",
      "Epoch 46/50\n",
      "4015/4015 [==============================] - 187s 47ms/step - loss: 0.3807 - accuracy: 0.8630 - val_loss: 0.5832 - val_accuracy: 0.7898\n",
      "\n",
      "Epoch 00046: val_loss improved from 0.58321 to 0.58320, saving model to models/1/weights.46-0.58.hdf5\n",
      "Epoch 47/50\n",
      "4015/4015 [==============================] - 187s 47ms/step - loss: 0.4109 - accuracy: 0.8491 - val_loss: 0.6123 - val_accuracy: 0.7814\n",
      "\n",
      "Epoch 00047: val_loss did not improve from 0.58320\n",
      "Epoch 48/50\n",
      "4015/4015 [==============================] - 187s 47ms/step - loss: 0.4199 - accuracy: 0.8421 - val_loss: 0.6223 - val_accuracy: 0.7645\n",
      "\n",
      "Epoch 00048: val_loss did not improve from 0.58320\n",
      "Epoch 49/50\n",
      "4015/4015 [==============================] - 191s 48ms/step - loss: 0.3638 - accuracy: 0.8677 - val_loss: 0.6164 - val_accuracy: 0.7687\n",
      "\n",
      "Epoch 00049: val_loss did not improve from 0.58320\n",
      "Epoch 50/50\n",
      "4015/4015 [==============================] - 187s 46ms/step - loss: 0.3396 - accuracy: 0.8814 - val_loss: 0.6216 - val_accuracy: 0.7800\n",
      "\n",
      "Epoch 00050: val_loss did not improve from 0.58320\n"
     ]
    },
    {
     "data": {
      "text/plain": [
       "<keras.callbacks.callbacks.History at 0x7fb75c2deba8>"
      ]
     },
     "execution_count": 18,
     "metadata": {},
     "output_type": "execute_result"
    }
   ],
   "source": [
    "max_features = tot_aa +1\n",
    "batch_size = 32\n",
    "\n",
    "model = Sequential()\n",
    "model.add(Embedding(max_features, 64, input_length=max_len))\n",
    "model.add(Bidirectional(LSTM(64)))\n",
    "model.add(Dropout(0.2))\n",
    "model.add(Dense(3, activation='softmax'))\n",
    "\n",
    "# try using different optimizers and different optimizer configs\n",
    "model.compile('NAdam', 'categorical_crossentropy', metrics=['accuracy'])\n",
    "checkpointer = ModelCheckpoint(filepath='models/1/weights.{epoch:02d}-{val_loss:.2f}.hdf5', \n",
    "                               verbose=1, save_best_only=True)\n",
    "\n",
    "print('Train...')\n",
    "model.fit(x_train_pad, y_train_OH,\n",
    "          batch_size=batch_size,\n",
    "          epochs=50, \n",
    "          class_weight= class_weights,\n",
    "          validation_data=[x_valid_pad, y_valid_OH],\n",
    "          callbacks=[checkpointer])"
   ]
  },
  {
   "cell_type": "code",
   "execution_count": 21,
   "metadata": {},
   "outputs": [
    {
     "data": {
      "image/png": "[encoded data removed]",
      "text/plain": [
       "<IPython.core.display.Image object>"
      ]
     },
     "execution_count": 21,
     "metadata": {},
     "output_type": "execute_result"
    }
   ],
   "source": [
    "model = load_model('models/1/weights.46-0.58.hdf5')\n",
    "plot_model(model, to_file='models/1/model_plot.png', show_shapes=True, show_layer_names=True)"
   ]
  },
  {
   "cell_type": "code",
   "execution_count": 23,
   "metadata": {},
   "outputs": [],
   "source": [
    "y_pred = model.predict(x_valid_pad)\n",
    "y_pred_indices = OH_to_label_indices(y_pred)\n",
    "y_pred_labels = indices_to_cat(y_pred_indices)"
   ]
  },
  {
   "cell_type": "code",
   "execution_count": 29,
   "metadata": {},
   "outputs": [
    {
     "data": {
      "image/png": "[encoded data removed]",
      "text/plain": [
       "<Figure size 432x288 with 2 Axes>"
      ]
     },
     "metadata": {
      "needs_background": "light"
     },
     "output_type": "display_data"
    }
   ],
   "source": [
    "conf_mx = confusion_matrix(y_valid, y_pred_labels, labels=cat)\n",
    "\n",
    "fig = plt.figure()\n",
    "ax = fig.add_subplot(111)\n",
    "cax = ax.matshow(conf_mx, cmap=plt.cm.gray)\n",
    "fig.colorbar(cax)\n",
    "ax.xaxis.set_major_locator(MultipleLocator(1))\n",
    "ax.yaxis.set_major_locator(MultipleLocator(1))\n",
    "ax.set_xticklabels([''] + cat,  rotation='vertical')\n",
    "ax.set_yticklabels([''] + cat)\n",
    "plt.xlabel('Predicted')\n",
    "plt.ylabel('True')\n",
    "plt.show()"
   ]
  },
  {
   "cell_type": "code",
   "execution_count": 30,
   "metadata": {},
   "outputs": [
    {
     "data": {
      "image/png": "[encoded data removed]",
      "text/plain": [
       "<Figure size 432x288 with 2 Axes>"
      ]
     },
     "metadata": {
      "needs_background": "light"
     },
     "output_type": "display_data"
    }
   ],
   "source": [
    "fig = plt.figure()\n",
    "ax = fig.add_subplot(111)\n",
    "cax = ax.matshow(conf_mx / (conf_mx.max(axis=0)+1), cmap=plt.cm.gray)\n",
    "fig.colorbar(cax)\n",
    "ax.xaxis.set_major_locator(MultipleLocator(1))\n",
    "ax.yaxis.set_major_locator(MultipleLocator(1))\n",
    "ax.set_xticklabels([''] + cat,  rotation='vertical')\n",
    "ax.set_yticklabels([''] + cat)\n",
    "plt.xlabel('Predicted')\n",
    "plt.ylabel('True')\n",
    "plt.show()"
   ]
  },
  {
   "cell_type": "markdown",
   "metadata": {},
   "source": [
    "# Second Model \n",
    "\n",
    "I tried Adadelta, but the accuracy improves extremely slowly, same for SGD.\n",
    "I couldn't reach the same accuracy then with NAdam.\n",
    "RMSprop and SGD do not learn anything. \n",
    "\n",
    "I, therefore, deleted the trained models. Let's keep NAdam"
   ]
  },
  {
   "cell_type": "code",
   "execution_count": 37,
   "metadata": {},
   "outputs": [
    {
     "name": "stdout",
     "output_type": "stream",
     "text": [
      "Train...\n",
      "Train on 4015 samples, validate on 709 samples\n",
      "Epoch 1/50\n",
      "4015/4015 [==============================] - 291s 73ms/step - loss: 1.0318 - accuracy: 0.4695 - val_loss: 1.0183 - val_accuracy: 0.4753\n",
      "\n",
      "Epoch 00001: val_loss improved from inf to 1.01826, saving model to models/2/weights.01-1.02.hdf5\n",
      "Epoch 2/50\n",
      "4015/4015 [==============================] - 282s 70ms/step - loss: 1.0354 - accuracy: 0.4892 - val_loss: 0.9986 - val_accuracy: 0.4880\n",
      "\n",
      "Epoch 00002: val_loss improved from 1.01826 to 0.99863, saving model to models/2/weights.02-1.00.hdf5\n",
      "Epoch 3/50\n",
      "4015/4015 [==============================] - 265s 66ms/step - loss: 0.9918 - accuracy: 0.4964 - val_loss: 1.0434 - val_accuracy: 0.4584\n",
      "\n",
      "Epoch 00003: val_loss did not improve from 0.99863\n",
      "Epoch 4/50\n",
      "4015/4015 [==============================] - 265s 66ms/step - loss: 1.0029 - accuracy: 0.4954 - val_loss: 1.0291 - val_accuracy: 0.4753\n",
      "\n",
      "Epoch 00004: val_loss did not improve from 0.99863\n",
      "Epoch 5/50\n",
      "4015/4015 [==============================] - 264s 66ms/step - loss: 1.0549 - accuracy: 0.4518 - val_loss: 1.0483 - val_accuracy: 0.4795\n",
      "\n",
      "Epoch 00005: val_loss did not improve from 0.99863\n",
      "Epoch 6/50\n",
      "4015/4015 [==============================] - 282s 70ms/step - loss: 1.0482 - accuracy: 0.4528 - val_loss: 1.0270 - val_accuracy: 0.4739\n",
      "\n",
      "Epoch 00006: val_loss did not improve from 0.99863\n",
      "Epoch 7/50\n",
      "4015/4015 [==============================] - 275s 68ms/step - loss: 1.0403 - accuracy: 0.4650 - val_loss: 1.0328 - val_accuracy: 0.4810\n",
      "\n",
      "Epoch 00007: val_loss did not improve from 0.99863\n",
      "Epoch 8/50\n",
      "4015/4015 [==============================] - 264s 66ms/step - loss: 1.0301 - accuracy: 0.4730 - val_loss: 1.0220 - val_accuracy: 0.4767\n",
      "\n",
      "Epoch 00008: val_loss did not improve from 0.99863\n",
      "Epoch 9/50\n",
      "4015/4015 [==============================] - 263s 66ms/step - loss: 1.0178 - accuracy: 0.4745 - val_loss: 1.0201 - val_accuracy: 0.4697\n",
      "\n",
      "Epoch 00009: val_loss did not improve from 0.99863\n",
      "Epoch 10/50\n",
      "4015/4015 [==============================] - 263s 66ms/step - loss: 1.0160 - accuracy: 0.4742 - val_loss: 0.9679 - val_accuracy: 0.5106\n",
      "\n",
      "Epoch 00010: val_loss improved from 0.99863 to 0.96785, saving model to models/2/weights.10-0.97.hdf5\n",
      "Epoch 11/50\n",
      "4015/4015 [==============================] - 272s 68ms/step - loss: 1.0119 - accuracy: 0.4924 - val_loss: 1.0099 - val_accuracy: 0.4810\n",
      "\n",
      "Epoch 00011: val_loss did not improve from 0.96785\n",
      "Epoch 12/50\n",
      "4015/4015 [==============================] - 267s 67ms/step - loss: 0.9972 - accuracy: 0.4899 - val_loss: 0.9972 - val_accuracy: 0.4767\n",
      "\n",
      "Epoch 00012: val_loss did not improve from 0.96785\n",
      "Epoch 13/50\n",
      "4015/4015 [==============================] - 264s 66ms/step - loss: 0.9950 - accuracy: 0.4829 - val_loss: 0.9682 - val_accuracy: 0.5092\n",
      "\n",
      "Epoch 00013: val_loss did not improve from 0.96785\n",
      "Epoch 14/50\n",
      "4015/4015 [==============================] - 266s 66ms/step - loss: 0.9689 - accuracy: 0.5181 - val_loss: 0.9481 - val_accuracy: 0.4951\n",
      "\n",
      "Epoch 00014: val_loss improved from 0.96785 to 0.94809, saving model to models/2/weights.14-0.95.hdf5\n",
      "Epoch 15/50\n",
      "4015/4015 [==============================] - 267s 67ms/step - loss: 0.9128 - accuracy: 0.5440 - val_loss: 0.9320 - val_accuracy: 0.5331\n",
      "\n",
      "Epoch 00015: val_loss improved from 0.94809 to 0.93197, saving model to models/2/weights.15-0.93.hdf5\n",
      "Epoch 16/50\n",
      "4015/4015 [==============================] - 274s 68ms/step - loss: 0.9050 - accuracy: 0.5594 - val_loss: 0.9154 - val_accuracy: 0.5261\n",
      "\n",
      "Epoch 00016: val_loss improved from 0.93197 to 0.91543, saving model to models/2/weights.16-0.92.hdf5\n",
      "Epoch 17/50\n",
      "4015/4015 [==============================] - 282s 70ms/step - loss: 0.8871 - accuracy: 0.5597 - val_loss: 0.9419 - val_accuracy: 0.5162\n",
      "\n",
      "Epoch 00017: val_loss did not improve from 0.91543\n",
      "Epoch 18/50\n",
      "4015/4015 [==============================] - 313s 78ms/step - loss: 0.8544 - accuracy: 0.5846 - val_loss: 0.8751 - val_accuracy: 0.5628\n",
      "\n",
      "Epoch 00018: val_loss improved from 0.91543 to 0.87510, saving model to models/2/weights.18-0.88.hdf5\n",
      "Epoch 19/50\n",
      "4015/4015 [==============================] - 267s 66ms/step - loss: 0.7990 - accuracy: 0.6177 - val_loss: 0.8061 - val_accuracy: 0.6347\n",
      "\n",
      "Epoch 00019: val_loss improved from 0.87510 to 0.80614, saving model to models/2/weights.19-0.81.hdf5\n",
      "Epoch 20/50\n",
      "4015/4015 [==============================] - 276s 69ms/step - loss: 0.7376 - accuracy: 0.6717 - val_loss: 0.7159 - val_accuracy: 0.6911\n",
      "\n",
      "Epoch 00020: val_loss improved from 0.80614 to 0.71592, saving model to models/2/weights.20-0.72.hdf5\n",
      "Epoch 21/50\n",
      "4015/4015 [==============================] - 278s 69ms/step - loss: 0.6707 - accuracy: 0.7250 - val_loss: 0.6868 - val_accuracy: 0.7264\n",
      "\n",
      "Epoch 00021: val_loss improved from 0.71592 to 0.68679, saving model to models/2/weights.21-0.69.hdf5\n",
      "Epoch 22/50\n",
      "4015/4015 [==============================] - 263s 66ms/step - loss: 0.6214 - accuracy: 0.7507 - val_loss: 0.6280 - val_accuracy: 0.7334\n",
      "\n",
      "Epoch 00022: val_loss improved from 0.68679 to 0.62796, saving model to models/2/weights.22-0.63.hdf5\n",
      "Epoch 23/50\n",
      "4015/4015 [==============================] - 263s 65ms/step - loss: 0.6045 - accuracy: 0.7549 - val_loss: 0.6389 - val_accuracy: 0.7306\n",
      "\n",
      "Epoch 00023: val_loss did not improve from 0.62796\n",
      "Epoch 24/50\n",
      "4015/4015 [==============================] - 272s 68ms/step - loss: 0.6085 - accuracy: 0.7597 - val_loss: 0.6252 - val_accuracy: 0.7362\n",
      "\n",
      "Epoch 00024: val_loss improved from 0.62796 to 0.62515, saving model to models/2/weights.24-0.63.hdf5\n",
      "Epoch 25/50\n",
      "4015/4015 [==============================] - 291s 72ms/step - loss: 0.5731 - accuracy: 0.7783 - val_loss: 0.6117 - val_accuracy: 0.7518\n",
      "\n",
      "Epoch 00025: val_loss improved from 0.62515 to 0.61169, saving model to models/2/weights.25-0.61.hdf5\n",
      "Epoch 26/50\n",
      "4015/4015 [==============================] - 299s 75ms/step - loss: 0.5643 - accuracy: 0.7793 - val_loss: 0.5877 - val_accuracy: 0.7687\n",
      "\n",
      "Epoch 00026: val_loss improved from 0.61169 to 0.58768, saving model to models/2/weights.26-0.59.hdf5\n",
      "Epoch 27/50\n",
      "4015/4015 [==============================] - 296s 74ms/step - loss: 0.5555 - accuracy: 0.7813 - val_loss: 0.6194 - val_accuracy: 0.7532\n",
      "\n",
      "Epoch 00027: val_loss did not improve from 0.58768\n",
      "Epoch 28/50\n",
      "4015/4015 [==============================] - 290s 72ms/step - loss: 0.5493 - accuracy: 0.7861 - val_loss: 0.5681 - val_accuracy: 0.7786\n",
      "\n",
      "Epoch 00028: val_loss improved from 0.58768 to 0.56805, saving model to models/2/weights.28-0.57.hdf5\n",
      "Epoch 29/50\n",
      "4015/4015 [==============================] - 268s 67ms/step - loss: 0.5434 - accuracy: 0.7888 - val_loss: 0.5673 - val_accuracy: 0.7800\n",
      "\n",
      "Epoch 00029: val_loss improved from 0.56805 to 0.56730, saving model to models/2/weights.29-0.57.hdf5\n",
      "Epoch 30/50\n",
      "4015/4015 [==============================] - 267s 66ms/step - loss: 0.5326 - accuracy: 0.7910 - val_loss: 0.5761 - val_accuracy: 0.7743\n",
      "\n",
      "Epoch 00030: val_loss did not improve from 0.56730\n",
      "Epoch 31/50\n",
      "4015/4015 [==============================] - 293s 73ms/step - loss: 0.5178 - accuracy: 0.7973 - val_loss: 0.5697 - val_accuracy: 0.7814\n",
      "\n",
      "Epoch 00031: val_loss did not improve from 0.56730\n",
      "Epoch 32/50\n",
      "4015/4015 [==============================] - 280s 70ms/step - loss: 0.5292 - accuracy: 0.7925 - val_loss: 0.5703 - val_accuracy: 0.7757\n",
      "\n",
      "Epoch 00032: val_loss did not improve from 0.56730\n",
      "Epoch 33/50\n",
      "4015/4015 [==============================] - 263s 66ms/step - loss: 0.5031 - accuracy: 0.8047 - val_loss: 0.5721 - val_accuracy: 0.7772\n",
      "\n",
      "Epoch 00033: val_loss did not improve from 0.56730\n",
      "Epoch 34/50\n",
      "4015/4015 [==============================] - 265s 66ms/step - loss: 0.8328 - accuracy: 0.6085 - val_loss: 1.0072 - val_accuracy: 0.4880\n",
      "\n",
      "Epoch 00034: val_loss did not improve from 0.56730\n",
      "Epoch 35/50\n",
      "4015/4015 [==============================] - 263s 66ms/step - loss: 0.9787 - accuracy: 0.4919 - val_loss: 0.9418 - val_accuracy: 0.5190\n",
      "\n",
      "Epoch 00035: val_loss did not improve from 0.56730\n",
      "Epoch 36/50\n",
      "4015/4015 [==============================] - 263s 66ms/step - loss: 1.0168 - accuracy: 0.4989 - val_loss: 0.9863 - val_accuracy: 0.4669\n",
      "\n",
      "Epoch 00036: val_loss did not improve from 0.56730\n",
      "Epoch 37/50\n",
      "4015/4015 [==============================] - 268s 67ms/step - loss: 1.0035 - accuracy: 0.4767 - val_loss: 0.9325 - val_accuracy: 0.5261\n"
     ]
    },
    {
     "name": "stdout",
     "output_type": "stream",
     "text": [
      "\n",
      "Epoch 00037: val_loss did not improve from 0.56730\n",
      "Epoch 38/50\n",
      "4015/4015 [==============================] - 270s 67ms/step - loss: 1.0389 - accuracy: 0.4585 - val_loss: 1.0375 - val_accuracy: 0.4739\n",
      "\n",
      "Epoch 00038: val_loss did not improve from 0.56730\n",
      "Epoch 39/50\n",
      "4015/4015 [==============================] - 267s 66ms/step - loss: 1.0455 - accuracy: 0.4498 - val_loss: 1.0240 - val_accuracy: 0.4739\n",
      "\n",
      "Epoch 00039: val_loss did not improve from 0.56730\n",
      "Epoch 40/50\n",
      "4015/4015 [==============================] - 263s 65ms/step - loss: 1.0394 - accuracy: 0.4560 - val_loss: 1.0208 - val_accuracy: 0.4753\n",
      "\n",
      "Epoch 00040: val_loss did not improve from 0.56730\n",
      "Epoch 41/50\n",
      "4015/4015 [==============================] - 267s 66ms/step - loss: 1.0197 - accuracy: 0.4772 - val_loss: 0.9820 - val_accuracy: 0.4951\n",
      "\n",
      "Epoch 00041: val_loss did not improve from 0.56730\n",
      "Epoch 42/50\n",
      "4015/4015 [==============================] - 262s 65ms/step - loss: 1.0052 - accuracy: 0.4795 - val_loss: 0.9800 - val_accuracy: 0.4979\n",
      "\n",
      "Epoch 00042: val_loss did not improve from 0.56730\n",
      "Epoch 43/50\n",
      "4015/4015 [==============================] - 261s 65ms/step - loss: 0.9992 - accuracy: 0.4775 - val_loss: 0.9850 - val_accuracy: 0.4866\n",
      "\n",
      "Epoch 00043: val_loss did not improve from 0.56730\n",
      "Epoch 44/50\n",
      "4015/4015 [==============================] - 261s 65ms/step - loss: 0.9842 - accuracy: 0.4894 - val_loss: 0.9525 - val_accuracy: 0.5120\n",
      "\n",
      "Epoch 00044: val_loss did not improve from 0.56730\n",
      "Epoch 45/50\n",
      "4015/4015 [==============================] - 260s 65ms/step - loss: 0.9725 - accuracy: 0.5061 - val_loss: 0.9448 - val_accuracy: 0.5134\n",
      "\n",
      "Epoch 00045: val_loss did not improve from 0.56730\n",
      "Epoch 46/50\n",
      "4015/4015 [==============================] - 261s 65ms/step - loss: 0.9670 - accuracy: 0.5061 - val_loss: 0.9442 - val_accuracy: 0.5275\n",
      "\n",
      "Epoch 00046: val_loss did not improve from 0.56730\n",
      "Epoch 47/50\n",
      "4015/4015 [==============================] - 262s 65ms/step - loss: 0.9621 - accuracy: 0.5024 - val_loss: 0.9445 - val_accuracy: 0.5261\n",
      "\n",
      "Epoch 00047: val_loss did not improve from 0.56730\n",
      "Epoch 48/50\n",
      "4015/4015 [==============================] - 261s 65ms/step - loss: 0.9546 - accuracy: 0.5133 - val_loss: 0.9250 - val_accuracy: 0.5444\n",
      "\n",
      "Epoch 00048: val_loss did not improve from 0.56730\n",
      "Epoch 49/50\n",
      "4015/4015 [==============================] - 262s 65ms/step - loss: 0.9416 - accuracy: 0.5156 - val_loss: 0.9222 - val_accuracy: 0.5529\n",
      "\n",
      "Epoch 00049: val_loss did not improve from 0.56730\n",
      "Epoch 50/50\n",
      "4015/4015 [==============================] - 262s 65ms/step - loss: 0.9444 - accuracy: 0.5245 - val_loss: 0.9164 - val_accuracy: 0.5501\n",
      "\n",
      "Epoch 00050: val_loss did not improve from 0.56730\n"
     ]
    }
   ],
   "source": [
    "max_features = tot_aa +1\n",
    "batch_size = 64\n",
    "\n",
    "model2 = Sequential()\n",
    "model2.add(Embedding(max_features, 32, input_length=max_len, \n",
    "                     name='embedding_layer', trainable=True))\n",
    "model2.add(Bidirectional(LSTM(128, recurrent_dropout=0.1)))\n",
    "model2.add(Dropout(0.15))\n",
    "model2.add(Dense(3, activation='softmax'))\n",
    "\n",
    "# try using different optimizers and different optimizer configs\n",
    "model2.compile('NAdam', 'sparse_categorical_crossentropy', metrics=['accuracy'])\n",
    "checkpointer = ModelCheckpoint(filepath='models/2/weights.{epoch:02d}-{val_loss:.2f}.hdf5', \n",
    "                               verbose=1, save_best_only=True)\n",
    "\n",
    "print('Train...')\n",
    "history = model2.fit(x_train_pad, y_train_indices,\n",
    "          batch_size=batch_size,\n",
    "          epochs=50, \n",
    "          class_weight= class_weights,\n",
    "          validation_data=[x_valid_pad, y_valid_indices],\n",
    "          callbacks=[checkpointer])"
   ]
  },
  {
   "cell_type": "code",
   "execution_count": 38,
   "metadata": {},
   "outputs": [
    {
     "data": {
      "image/png": "[encoded data removed]",
      "text/plain": [
       "<Figure size 432x288 with 1 Axes>"
      ]
     },
     "metadata": {
      "needs_background": "light"
     },
     "output_type": "display_data"
    },
    {
     "data": {
      "image/png": "[encoded data removed]",
      "text/plain": [
       "<Figure size 432x288 with 1 Axes>"
      ]
     },
     "metadata": {
      "needs_background": "light"
     },
     "output_type": "display_data"
    }
   ],
   "source": [
    "# Plot training & validation accuracy values\n",
    "plt.plot(history.history['accuracy'])\n",
    "plt.plot(history.history['val_accuracy'])\n",
    "plt.title('Model accuracy')\n",
    "plt.ylabel('Accuracy')\n",
    "plt.xlabel('Epoch')\n",
    "plt.legend(['Train', 'Valid'], loc='upper left')\n",
    "plt.show()\n",
    "\n",
    "# Plot training & validation loss values\n",
    "plt.plot(history.history['loss'])\n",
    "plt.plot(history.history['val_loss'])\n",
    "plt.title('Model loss')\n",
    "plt.ylabel('Loss')\n",
    "plt.xlabel('Epoch')\n",
    "plt.legend(['Train', 'Valid'], loc='upper left')\n",
    "plt.show()"
   ]
  },
  {
   "cell_type": "markdown",
   "metadata": {},
   "source": [
    "### TO DO:\n",
    "\n",
    "do PCA of embedding layer, see if it fit to what we would expect.\n",
    "plot history \n",
    "clean weight and commit "
   ]
  },
  {
   "cell_type": "code",
   "execution_count": 46,
   "metadata": {},
   "outputs": [],
   "source": [
    "# Get the Embedding Layer\n",
    "model2 = load_model(\"models/2/weights.29-0.57.hdf5\")\n",
    "model2 = Model(inputs=model2.input,\n",
    "              outputs=[model2.output, model2.get_layer('embedding_layer').output])\n",
    "outputs = model2.predict(x_valid_pad)\n",
    "model_outputs = outputs[0]\n",
    "embedding_outputs = outputs[1]"
   ]
  },
  {
   "cell_type": "code",
   "execution_count": 49,
   "metadata": {},
   "outputs": [
    {
     "data": {
      "text/plain": [
       "(709, 3)"
      ]
     },
     "execution_count": 49,
     "metadata": {},
     "output_type": "execute_result"
    }
   ],
   "source": [
    "model_outputs.shape"
   ]
  },
  {
   "cell_type": "code",
   "execution_count": 48,
   "metadata": {},
   "outputs": [
    {
     "data": {
      "text/plain": [
       "(709, 1500, 32)"
      ]
     },
     "execution_count": 48,
     "metadata": {},
     "output_type": "execute_result"
    }
   ],
   "source": [
    "embedding_outputs.shape"
   ]
  },
  {
   "cell_type": "code",
   "execution_count": 50,
   "metadata": {},
   "outputs": [
    {
     "data": {
      "text/plain": [
       "array([[ 0.01950345, -0.00698717, -0.03422602, ...,  0.02328517,\n",
       "         0.11123388, -0.120763  ],\n",
       "       [ 0.01950345, -0.00698717, -0.03422602, ...,  0.02328517,\n",
       "         0.11123388, -0.120763  ],\n",
       "       [ 0.01950345, -0.00698717, -0.03422602, ...,  0.02328517,\n",
       "         0.11123388, -0.120763  ],\n",
       "       ...,\n",
       "       [ 0.2505175 , -0.11854098,  0.26884466, ...,  0.3261827 ,\n",
       "        -0.1384523 ,  0.15345049],\n",
       "       [ 0.3143646 ,  0.05819634,  0.33928013, ...,  0.2862577 ,\n",
       "        -0.31684896,  0.3431946 ],\n",
       "       [ 0.3143646 ,  0.05819634,  0.33928013, ...,  0.2862577 ,\n",
       "        -0.31684896,  0.3431946 ]], dtype=float32)"
      ]
     },
     "execution_count": 50,
     "metadata": {},
     "output_type": "execute_result"
    }
   ],
   "source": [
    "embedding_outputs[0]"
   ]
  },
  {
   "cell_type": "code",
   "execution_count": 52,
   "metadata": {},
   "outputs": [
    {
     "data": {
      "text/plain": [
       "array([[ 0.01950345, -0.00698717, -0.03422602, ...,  0.02328517,\n",
       "         0.11123388, -0.120763  ],\n",
       "       [ 0.01950345, -0.00698717, -0.03422602, ...,  0.02328517,\n",
       "         0.11123388, -0.120763  ],\n",
       "       [ 0.01950345, -0.00698717, -0.03422602, ...,  0.02328517,\n",
       "         0.11123388, -0.120763  ],\n",
       "       ...,\n",
       "       [ 0.12531646, -0.1230028 ,  0.13997388, ...,  0.07003798,\n",
       "         0.13174987, -0.1182822 ],\n",
       "       [ 0.12531646, -0.1230028 ,  0.13997388, ...,  0.07003798,\n",
       "         0.13174987, -0.1182822 ],\n",
       "       [ 0.02594436, -0.05727919,  0.03329619, ...,  0.03527346,\n",
       "        -0.00517418, -0.01011505]], dtype=float32)"
      ]
     },
     "execution_count": 52,
     "metadata": {},
     "output_type": "execute_result"
    }
   ],
   "source": [
    "embedding_outputs[1]"
   ]
  },
  {
   "cell_type": "code",
   "execution_count": 53,
   "metadata": {},
   "outputs": [],
   "source": [
    "# Transform embedding back to letter\n",
    "embedding = embedding_outputs[0]\n",
    "# Use int to aa "
   ]
  },
  {
   "cell_type": "code",
   "execution_count": 55,
   "metadata": {},
   "outputs": [
    {
     "name": "stdout",
     "output_type": "stream",
     "text": [
      "original shape:    (1500, 32)\n",
      "transformed shape: (1500, 2)\n"
     ]
    }
   ],
   "source": [
    "# PCA plots of Embedding \n",
    "\n",
    "from sklearn.decomposition import PCA\n",
    "import matplotlib.pyplot as plt\n",
    "\n",
    "pca = PCA(n_components=2)\n",
    "pca.fit(embedding)\n",
    "embedding_pca = pca.transform(embedding)\n",
    "print(\"original shape:   \", embedding.shape)\n",
    "print(\"transformed shape:\", embedding_pca.shape)"
   ]
  },
  {
   "cell_type": "code",
   "execution_count": 56,
   "metadata": {},
   "outputs": [
    {
     "ename": "NameError",
     "evalue": "name 'rows' is not defined",
     "output_type": "error",
     "traceback": [
      "\u001b[0;31m---------------------------------------------------------------------------\u001b[0m",
      "\u001b[0;31mNameError\u001b[0m                                 Traceback (most recent call last)",
      "\u001b[0;32m<ipython-input-56-a690ff801961>\u001b[0m in \u001b[0;36m<module>\u001b[0;34m\u001b[0m\n\u001b[1;32m      2\u001b[0m \u001b[0mplt\u001b[0m\u001b[0;34m.\u001b[0m\u001b[0mscatter\u001b[0m\u001b[0;34m(\u001b[0m\u001b[0membedding_pca\u001b[0m\u001b[0;34m[\u001b[0m\u001b[0;34m:\u001b[0m\u001b[0;34m,\u001b[0m \u001b[0;36m0\u001b[0m\u001b[0;34m]\u001b[0m\u001b[0;34m,\u001b[0m \u001b[0membedding_pca\u001b[0m\u001b[0;34m[\u001b[0m\u001b[0;34m:\u001b[0m\u001b[0;34m,\u001b[0m \u001b[0;36m1\u001b[0m\u001b[0;34m]\u001b[0m\u001b[0;34m,\u001b[0m \u001b[0medgecolor\u001b[0m\u001b[0;34m=\u001b[0m\u001b[0;34m'none'\u001b[0m\u001b[0;34m)\u001b[0m\u001b[0;34m\u001b[0m\u001b[0;34m\u001b[0m\u001b[0m\n\u001b[1;32m      3\u001b[0m \u001b[0;34m\u001b[0m\u001b[0m\n\u001b[0;32m----> 4\u001b[0;31m \u001b[0;32mfor\u001b[0m \u001b[0mi\u001b[0m\u001b[0;34m,\u001b[0m \u001b[0mtxt\u001b[0m \u001b[0;32min\u001b[0m \u001b[0menumerate\u001b[0m\u001b[0;34m(\u001b[0m\u001b[0mrows\u001b[0m\u001b[0;34m)\u001b[0m\u001b[0;34m:\u001b[0m\u001b[0;34m\u001b[0m\u001b[0;34m\u001b[0m\u001b[0m\n\u001b[0m\u001b[1;32m      5\u001b[0m     \u001b[0max\u001b[0m\u001b[0;34m.\u001b[0m\u001b[0mannotate\u001b[0m\u001b[0;34m(\u001b[0m\u001b[0mtxt\u001b[0m\u001b[0;34m,\u001b[0m \u001b[0;34m(\u001b[0m\u001b[0membedding_pca\u001b[0m\u001b[0;34m[\u001b[0m\u001b[0;34m:\u001b[0m\u001b[0;34m,\u001b[0m \u001b[0;36m0\u001b[0m\u001b[0;34m]\u001b[0m\u001b[0;34m[\u001b[0m\u001b[0mi\u001b[0m\u001b[0;34m]\u001b[0m\u001b[0;34m,\u001b[0m \u001b[0membedding_pca\u001b[0m\u001b[0;34m[\u001b[0m\u001b[0;34m:\u001b[0m\u001b[0;34m,\u001b[0m \u001b[0;36m1\u001b[0m\u001b[0;34m]\u001b[0m\u001b[0;34m[\u001b[0m\u001b[0mi\u001b[0m\u001b[0;34m]\u001b[0m\u001b[0;34m)\u001b[0m\u001b[0;34m)\u001b[0m\u001b[0;34m\u001b[0m\u001b[0;34m\u001b[0m\u001b[0m\n\u001b[1;32m      6\u001b[0m \u001b[0;34m\u001b[0m\u001b[0m\n",
      "\u001b[0;31mNameError\u001b[0m: name 'rows' is not defined"
     ]
    },
    {
     "data": {
      "image/png": "[encoded data removed]",
      "text/plain": [
       "<Figure size 432x288 with 1 Axes>"
      ]
     },
     "metadata": {
      "needs_background": "light"
     },
     "output_type": "display_data"
    }
   ],
   "source": [
    "fig, ax = plt.subplots()\n",
    "plt.scatter(embedding_pca[:, 0], embedding_pca[:, 1], edgecolor='none')\n",
    "\n",
    "for i, txt in enumerate(rows):\n",
    "    ax.annotate(txt, (embedding_pca[:, 0][i], embedding_pca[:, 1][i]))\n",
    "    \n",
    "\n",
    "plt.show()"
   ]
  },
  {
   "cell_type": "code",
   "execution_count": null,
   "metadata": {},
   "outputs": [],
   "source": [
    "# Plot training & validation accuracy values\n",
    "plt.plot(history.history['accuracy'])\n",
    "plt.plot(history.history['val_accuracy'])\n",
    "plt.title('Model accuracy')\n",
    "plt.ylabel('Accuracy')\n",
    "plt.xlabel('Epoch')\n",
    "plt.legend(['Train', 'Valid'], loc='upper left')\n",
    "plt.show()\n",
    "\n",
    "# Plot training & validation loss values\n",
    "plt.plot(history.history['loss'])\n",
    "plt.plot(history.history['val_loss'])\n",
    "plt.title('Model loss')\n",
    "plt.ylabel('Loss')\n",
    "plt.xlabel('Epoch')\n",
    "plt.legend(['Train', 'Valid'], loc='upper left')\n",
    "plt.show()"
   ]
  },
  {
   "cell_type": "code",
   "execution_count": 34,
   "metadata": {},
   "outputs": [
    {
     "data": {
      "image/png": "[encoded data removed]",
      "text/plain": [
       "<IPython.core.display.Image object>"
      ]
     },
     "execution_count": 34,
     "metadata": {},
     "output_type": "execute_result"
    }
   ],
   "source": [
    "plot_model(model2, to_file='models/2/model_plot.png', show_shapes=True, show_layer_names=True)"
   ]
  },
  {
   "cell_type": "code",
   "execution_count": 40,
   "metadata": {},
   "outputs": [],
   "source": [
    "# evaluate the model\n",
    "y_pred = model.predict(x_valid_pad)\n",
    "y_pred_indices = OH_to_label_indices(y_pred)\n",
    "y_pred_labels = indices_to_cat(y_pred_indices)"
   ]
  },
  {
   "cell_type": "code",
   "execution_count": 41,
   "metadata": {},
   "outputs": [
    {
     "data": {
      "image/png": "[encoded data removed]",
      "text/plain": [
       "<Figure size 288x288 with 1 Axes>"
      ]
     },
     "metadata": {
      "needs_background": "light"
     },
     "output_type": "display_data"
    }
   ],
   "source": [
    "conf_mx = confusion_matrix(y_valid, y_pred_labels, labels=cat)\n",
    "\n",
    "fig = plt.figure()\n",
    "ax = fig.add_subplot(111)\n",
    "cax = ax.matshow(conf_mx, cmap=plt.cm.gray)\n",
    "fig.colorbar(cax)\n",
    "ax.xaxis.set_major_locator(MultipleLocator(1))\n",
    "ax.yaxis.set_major_locator(MultipleLocator(1))\n",
    "ax.set_xticklabels([''] + cat,  rotation='vertical')\n",
    "ax.set_yticklabels([''] + cat)\n",
    "plt.xlabel('Predicted')\n",
    "plt.ylabel('True')\n",
    "plt.show()"
   ]
  },
  {
   "cell_type": "markdown",
   "metadata": {},
   "source": [
    "## Checking the model on the test set"
   ]
  },
  {
   "cell_type": "code",
   "execution_count": null,
   "metadata": {},
   "outputs": [],
   "source": [
    "test = pd.read_csv(\"data/3Classes_test.csv\", sep=\"\\t\")\n",
    "y_test = test[\"Global classifier2\"]\n",
    "y_test_indices = cat_to_indices(y_test)\n",
    "y_test_OH = convert_to_one_hot(y_test_indices, C = tot_cat)\n",
    "\n",
    "x_test = test[\"Sequence\"].copy()\n",
    "x_test = end_adder(x_test)\n",
    "x_test_indices = seq_to_indices(x_test, aa_to_int, max_len)\n",
    "x_test_pad = sequence.pad_sequences(x_test_indices, maxlen=max_len, value=aa_to_int[\"*\"])"
   ]
  },
  {
   "cell_type": "code",
   "execution_count": null,
   "metadata": {},
   "outputs": [],
   "source": [
    "score = model.evaluate(x_test_pad, y_test_OH, verbose=0)\n",
    "print('Test loss:', score[0])\n",
    "print('Test accuracy:', score[1])"
   ]
  }
 ],
 "metadata": {
  "kernelspec": {
   "display_name": "Python 3",
   "language": "python",
   "name": "python3"
  },
  "language_info": {
   "codemirror_mode": {
    "name": "ipython",
    "version": 3
   },
   "file_extension": ".py",
   "mimetype": "text/x-python",
   "name": "python",
   "nbconvert_exporter": "python",
   "pygments_lexer": "ipython3",
   "version": "3.7.3"
  }
 },
 "nbformat": 4,
 "nbformat_minor": 2
}
