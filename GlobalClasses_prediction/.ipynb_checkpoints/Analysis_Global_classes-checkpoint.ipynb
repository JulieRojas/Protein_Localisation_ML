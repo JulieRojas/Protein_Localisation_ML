{
 "cells": [
  {
   "cell_type": "code",
   "execution_count": 1,
   "metadata": {},
   "outputs": [],
   "source": [
    "import matplotlib\n",
    "import pandas as pd\n",
    "import numpy as np\n",
    "import csv\n",
    "%matplotlib inline \n",
    "import matplotlib.pyplot as plt"
   ]
  },
  {
   "cell_type": "code",
   "execution_count": 2,
   "metadata": {},
   "outputs": [
    {
     "data": {
      "text/html": [
       "<div>\n",
       "<style scoped>\n",
       "    .dataframe tbody tr th:only-of-type {\n",
       "        vertical-align: middle;\n",
       "    }\n",
       "\n",
       "    .dataframe tbody tr th {\n",
       "        vertical-align: top;\n",
       "    }\n",
       "\n",
       "    .dataframe thead th {\n",
       "        text-align: right;\n",
       "    }\n",
       "</style>\n",
       "<table border=\"1\" class=\"dataframe\">\n",
       "  <thead>\n",
       "    <tr style=\"text-align: right;\">\n",
       "      <th></th>\n",
       "      <th>Lead Protein ID</th>\n",
       "      <th>Global classifier2</th>\n",
       "      <th>Sequence</th>\n",
       "    </tr>\n",
       "  </thead>\n",
       "  <tbody>\n",
       "    <tr>\n",
       "      <th>0</th>\n",
       "      <td>Q9BZC7</td>\n",
       "      <td>Mostly Organellar</td>\n",
       "      <td>MGFLHQLQLLLWKNVTLKRRSPWVLAFEIFIPLVLFFILLGLRQKK...</td>\n",
       "    </tr>\n",
       "    <tr>\n",
       "      <th>1</th>\n",
       "      <td>Q6RW13</td>\n",
       "      <td>Organellar and Cytosolic</td>\n",
       "      <td>MELPAVNLKVILLGHWLLTTWGCIVFSGSYAWANFTILALGVWAVA...</td>\n",
       "    </tr>\n",
       "    <tr>\n",
       "      <th>2</th>\n",
       "      <td>Q9P2R3</td>\n",
       "      <td>Mostly Cytosolic</td>\n",
       "      <td>MAEEEVAKLEKHLMLLRQEYVKLQKKLAETEKRCALLAAQANKESS...</td>\n",
       "    </tr>\n",
       "    <tr>\n",
       "      <th>3</th>\n",
       "      <td>Q96NW4</td>\n",
       "      <td>Organellar and Cytosolic</td>\n",
       "      <td>MALYDEDLLKNPFYLALQKCRPDLCSKVAQIHGIVLVPCKGSLSSS...</td>\n",
       "    </tr>\n",
       "    <tr>\n",
       "      <th>4</th>\n",
       "      <td>O00203</td>\n",
       "      <td>Organellar and Cytosolic</td>\n",
       "      <td>MSSNSFPYNEQSGGGEATELGQEATSTISPSGAFGLFSSDLKKNED...</td>\n",
       "    </tr>\n",
       "  </tbody>\n",
       "</table>\n",
       "</div>"
      ],
      "text/plain": [
       "  Lead Protein ID        Global classifier2  \\\n",
       "0          Q9BZC7         Mostly Organellar   \n",
       "1          Q6RW13  Organellar and Cytosolic   \n",
       "2          Q9P2R3          Mostly Cytosolic   \n",
       "3          Q96NW4  Organellar and Cytosolic   \n",
       "4          O00203  Organellar and Cytosolic   \n",
       "\n",
       "                                            Sequence  \n",
       "0  MGFLHQLQLLLWKNVTLKRRSPWVLAFEIFIPLVLFFILLGLRQKK...  \n",
       "1  MELPAVNLKVILLGHWLLTTWGCIVFSGSYAWANFTILALGVWAVA...  \n",
       "2  MAEEEVAKLEKHLMLLRQEYVKLQKKLAETEKRCALLAAQANKESS...  \n",
       "3  MALYDEDLLKNPFYLALQKCRPDLCSKVAQIHGIVLVPCKGSLSSS...  \n",
       "4  MSSNSFPYNEQSGGGEATELGQEATSTISPSGAFGLFSSDLKKNED...  "
      ]
     },
     "execution_count": 2,
     "metadata": {},
     "output_type": "execute_result"
    }
   ],
   "source": [
    "df = pd.read_csv('data/Dataset_GlobalClass.csv', sep=\"\\t\")\n",
    "df.head()"
   ]
  },
  {
   "cell_type": "code",
   "execution_count": 3,
   "metadata": {},
   "outputs": [
    {
     "data": {
      "text/plain": [
       "(8710, 3)"
      ]
     },
     "execution_count": 3,
     "metadata": {},
     "output_type": "execute_result"
    }
   ],
   "source": [
    "df.shape"
   ]
  },
  {
   "cell_type": "code",
   "execution_count": 4,
   "metadata": {},
   "outputs": [],
   "source": [
    "lengh_seq = []\n",
    "for seq in df[\"Sequence\"]:\n",
    "    lengh_seq.append(len(seq))\n",
    "lengh_seq = np.asarray(lengh_seq)\n",
    "df[\"Sequence Lengh\"] = lengh_seq"
   ]
  },
  {
   "cell_type": "code",
   "execution_count": 5,
   "metadata": {},
   "outputs": [
    {
     "data": {
      "text/html": [
       "<div>\n",
       "<style scoped>\n",
       "    .dataframe tbody tr th:only-of-type {\n",
       "        vertical-align: middle;\n",
       "    }\n",
       "\n",
       "    .dataframe tbody tr th {\n",
       "        vertical-align: top;\n",
       "    }\n",
       "\n",
       "    .dataframe thead th {\n",
       "        text-align: right;\n",
       "    }\n",
       "</style>\n",
       "<table border=\"1\" class=\"dataframe\">\n",
       "  <thead>\n",
       "    <tr style=\"text-align: right;\">\n",
       "      <th></th>\n",
       "      <th>Lead Protein ID</th>\n",
       "      <th>Global classifier2</th>\n",
       "      <th>Sequence</th>\n",
       "      <th>Sequence Lengh</th>\n",
       "    </tr>\n",
       "  </thead>\n",
       "  <tbody>\n",
       "    <tr>\n",
       "      <th>0</th>\n",
       "      <td>Q9BZC7</td>\n",
       "      <td>Mostly Organellar</td>\n",
       "      <td>MGFLHQLQLLLWKNVTLKRRSPWVLAFEIFIPLVLFFILLGLRQKK...</td>\n",
       "      <td>2435</td>\n",
       "    </tr>\n",
       "    <tr>\n",
       "      <th>1</th>\n",
       "      <td>Q6RW13</td>\n",
       "      <td>Organellar and Cytosolic</td>\n",
       "      <td>MELPAVNLKVILLGHWLLTTWGCIVFSGSYAWANFTILALGVWAVA...</td>\n",
       "      <td>159</td>\n",
       "    </tr>\n",
       "    <tr>\n",
       "      <th>2</th>\n",
       "      <td>Q9P2R3</td>\n",
       "      <td>Mostly Cytosolic</td>\n",
       "      <td>MAEEEVAKLEKHLMLLRQEYVKLQKKLAETEKRCALLAAQANKESS...</td>\n",
       "      <td>1169</td>\n",
       "    </tr>\n",
       "    <tr>\n",
       "      <th>3</th>\n",
       "      <td>Q96NW4</td>\n",
       "      <td>Organellar and Cytosolic</td>\n",
       "      <td>MALYDEDLLKNPFYLALQKCRPDLCSKVAQIHGIVLVPCKGSLSSS...</td>\n",
       "      <td>1050</td>\n",
       "    </tr>\n",
       "    <tr>\n",
       "      <th>4</th>\n",
       "      <td>O00203</td>\n",
       "      <td>Organellar and Cytosolic</td>\n",
       "      <td>MSSNSFPYNEQSGGGEATELGQEATSTISPSGAFGLFSSDLKKNED...</td>\n",
       "      <td>1094</td>\n",
       "    </tr>\n",
       "  </tbody>\n",
       "</table>\n",
       "</div>"
      ],
      "text/plain": [
       "  Lead Protein ID        Global classifier2  \\\n",
       "0          Q9BZC7         Mostly Organellar   \n",
       "1          Q6RW13  Organellar and Cytosolic   \n",
       "2          Q9P2R3          Mostly Cytosolic   \n",
       "3          Q96NW4  Organellar and Cytosolic   \n",
       "4          O00203  Organellar and Cytosolic   \n",
       "\n",
       "                                            Sequence  Sequence Lengh  \n",
       "0  MGFLHQLQLLLWKNVTLKRRSPWVLAFEIFIPLVLFFILLGLRQKK...            2435  \n",
       "1  MELPAVNLKVILLGHWLLTTWGCIVFSGSYAWANFTILALGVWAVA...             159  \n",
       "2  MAEEEVAKLEKHLMLLRQEYVKLQKKLAETEKRCALLAAQANKESS...            1169  \n",
       "3  MALYDEDLLKNPFYLALQKCRPDLCSKVAQIHGIVLVPCKGSLSSS...            1050  \n",
       "4  MSSNSFPYNEQSGGGEATELGQEATSTISPSGAFGLFSSDLKKNED...            1094  "
      ]
     },
     "execution_count": 5,
     "metadata": {},
     "output_type": "execute_result"
    }
   ],
   "source": [
    "df.head()"
   ]
  },
  {
   "cell_type": "code",
   "execution_count": 6,
   "metadata": {},
   "outputs": [
    {
     "data": {
      "text/html": [
       "<div>\n",
       "<style scoped>\n",
       "    .dataframe tbody tr th:only-of-type {\n",
       "        vertical-align: middle;\n",
       "    }\n",
       "\n",
       "    .dataframe tbody tr th {\n",
       "        vertical-align: top;\n",
       "    }\n",
       "\n",
       "    .dataframe thead th {\n",
       "        text-align: right;\n",
       "    }\n",
       "</style>\n",
       "<table border=\"1\" class=\"dataframe\">\n",
       "  <thead>\n",
       "    <tr style=\"text-align: right;\">\n",
       "      <th></th>\n",
       "      <th>Lead Protein ID</th>\n",
       "      <th>Global classifier2</th>\n",
       "      <th>Sequence</th>\n",
       "      <th>Sequence Lengh</th>\n",
       "    </tr>\n",
       "  </thead>\n",
       "  <tbody>\n",
       "    <tr>\n",
       "      <th>0</th>\n",
       "      <td>Q6RW13</td>\n",
       "      <td>Organellar and Cytosolic</td>\n",
       "      <td>MELPAVNLKVILLGHWLLTTWGCIVFSGSYAWANFTILALGVWAVA...</td>\n",
       "      <td>159</td>\n",
       "    </tr>\n",
       "    <tr>\n",
       "      <th>1</th>\n",
       "      <td>Q9P2R3</td>\n",
       "      <td>Mostly Cytosolic</td>\n",
       "      <td>MAEEEVAKLEKHLMLLRQEYVKLQKKLAETEKRCALLAAQANKESS...</td>\n",
       "      <td>1169</td>\n",
       "    </tr>\n",
       "    <tr>\n",
       "      <th>2</th>\n",
       "      <td>Q96NW4</td>\n",
       "      <td>Organellar and Cytosolic</td>\n",
       "      <td>MALYDEDLLKNPFYLALQKCRPDLCSKVAQIHGIVLVPCKGSLSSS...</td>\n",
       "      <td>1050</td>\n",
       "    </tr>\n",
       "    <tr>\n",
       "      <th>3</th>\n",
       "      <td>O00203</td>\n",
       "      <td>Organellar and Cytosolic</td>\n",
       "      <td>MSSNSFPYNEQSGGGEATELGQEATSTISPSGAFGLFSSDLKKNED...</td>\n",
       "      <td>1094</td>\n",
       "    </tr>\n",
       "    <tr>\n",
       "      <th>4</th>\n",
       "      <td>O14617</td>\n",
       "      <td>Organellar and Cytosolic</td>\n",
       "      <td>MALKMVKGSIDRMFDKNLQDLVRGIRNHKEDEAKYISQCIDEIKQE...</td>\n",
       "      <td>1153</td>\n",
       "    </tr>\n",
       "  </tbody>\n",
       "</table>\n",
       "</div>"
      ],
      "text/plain": [
       "  Lead Protein ID        Global classifier2  \\\n",
       "0          Q6RW13  Organellar and Cytosolic   \n",
       "1          Q9P2R3          Mostly Cytosolic   \n",
       "2          Q96NW4  Organellar and Cytosolic   \n",
       "3          O00203  Organellar and Cytosolic   \n",
       "4          O14617  Organellar and Cytosolic   \n",
       "\n",
       "                                            Sequence  Sequence Lengh  \n",
       "0  MELPAVNLKVILLGHWLLTTWGCIVFSGSYAWANFTILALGVWAVA...             159  \n",
       "1  MAEEEVAKLEKHLMLLRQEYVKLQKKLAETEKRCALLAAQANKESS...            1169  \n",
       "2  MALYDEDLLKNPFYLALQKCRPDLCSKVAQIHGIVLVPCKGSLSSS...            1050  \n",
       "3  MSSNSFPYNEQSGGGEATELGQEATSTISPSGAFGLFSSDLKKNED...            1094  \n",
       "4  MALKMVKGSIDRMFDKNLQDLVRGIRNHKEDEAKYISQCIDEIKQE...            1153  "
      ]
     },
     "execution_count": 6,
     "metadata": {},
     "output_type": "execute_result"
    }
   ],
   "source": [
    "indexNames = df[ df['Sequence Lengh'] > 1500 ].index\n",
    " \n",
    "# Delete these row indexes from dataFrame\n",
    "df_short = df.drop(indexNames , inplace=False).reset_index(drop=True)\n",
    "df_short.head()"
   ]
  },
  {
   "cell_type": "code",
   "execution_count": 7,
   "metadata": {},
   "outputs": [
    {
     "data": {
      "text/html": [
       "<div>\n",
       "<style scoped>\n",
       "    .dataframe tbody tr th:only-of-type {\n",
       "        vertical-align: middle;\n",
       "    }\n",
       "\n",
       "    .dataframe tbody tr th {\n",
       "        vertical-align: top;\n",
       "    }\n",
       "\n",
       "    .dataframe thead th {\n",
       "        text-align: right;\n",
       "    }\n",
       "</style>\n",
       "<table border=\"1\" class=\"dataframe\">\n",
       "  <thead>\n",
       "    <tr style=\"text-align: right;\">\n",
       "      <th></th>\n",
       "      <th>Lead Protein ID</th>\n",
       "      <th>Sequence</th>\n",
       "      <th>Sequence Lengh</th>\n",
       "    </tr>\n",
       "    <tr>\n",
       "      <th>Global classifier2</th>\n",
       "      <th></th>\n",
       "      <th></th>\n",
       "      <th></th>\n",
       "    </tr>\n",
       "  </thead>\n",
       "  <tbody>\n",
       "    <tr>\n",
       "      <th>Broad distribution</th>\n",
       "      <td>812</td>\n",
       "      <td>812</td>\n",
       "      <td>812</td>\n",
       "    </tr>\n",
       "    <tr>\n",
       "      <th>Mostly Cytosolic</th>\n",
       "      <td>1919</td>\n",
       "      <td>1919</td>\n",
       "      <td>1919</td>\n",
       "    </tr>\n",
       "    <tr>\n",
       "      <th>Mostly Nuclear</th>\n",
       "      <td>1006</td>\n",
       "      <td>1006</td>\n",
       "      <td>1006</td>\n",
       "    </tr>\n",
       "    <tr>\n",
       "      <th>Mostly Organellar</th>\n",
       "      <td>2633</td>\n",
       "      <td>2633</td>\n",
       "      <td>2633</td>\n",
       "    </tr>\n",
       "    <tr>\n",
       "      <th>Nuclear and Cytosolic</th>\n",
       "      <td>630</td>\n",
       "      <td>630</td>\n",
       "      <td>630</td>\n",
       "    </tr>\n",
       "    <tr>\n",
       "      <th>Organellar and Cytosolic</th>\n",
       "      <td>1161</td>\n",
       "      <td>1161</td>\n",
       "      <td>1161</td>\n",
       "    </tr>\n",
       "  </tbody>\n",
       "</table>\n",
       "</div>"
      ],
      "text/plain": [
       "                          Lead Protein ID  Sequence  Sequence Lengh\n",
       "Global classifier2                                                 \n",
       "Broad distribution                    812       812             812\n",
       "Mostly Cytosolic                     1919      1919            1919\n",
       "Mostly Nuclear                       1006      1006            1006\n",
       "Mostly Organellar                    2633      2633            2633\n",
       "Nuclear and Cytosolic                 630       630             630\n",
       "Organellar and Cytosolic             1161      1161            1161"
      ]
     },
     "execution_count": 7,
     "metadata": {},
     "output_type": "execute_result"
    }
   ],
   "source": [
    "df_short.groupby([\"Global classifier2\"]).count()\n",
    "# I will remove all the No Prediction rows"
   ]
  },
  {
   "cell_type": "code",
   "execution_count": 8,
   "metadata": {},
   "outputs": [
    {
     "data": {
      "text/plain": [
       "<matplotlib.axes._subplots.AxesSubplot at 0x7f8b8b2fac18>"
      ]
     },
     "execution_count": 8,
     "metadata": {},
     "output_type": "execute_result"
    },
    {
     "data": {
      "image/png": "[encoded data removed]",
      "text/plain": [
       "<Figure size 432x288 with 1 Axes>"
      ]
     },
     "metadata": {
      "needs_background": "light"
     },
     "output_type": "display_data"
    }
   ],
   "source": [
    "df_short['Global classifier2'].value_counts().plot.bar()"
   ]
  },
  {
   "cell_type": "markdown",
   "metadata": {},
   "source": [
    "## Splitting Dataset"
   ]
  },
  {
   "cell_type": "code",
   "execution_count": 9,
   "metadata": {},
   "outputs": [],
   "source": [
    "# Stratified Sampling\n",
    "from sklearn.model_selection import StratifiedShuffleSplit\n",
    "\n",
    "split = StratifiedShuffleSplit(n_splits=1, test_size=0.15, random_state=42)\n",
    "for train_index, test_index in split.split(df_short, df_short[\"Global classifier2\"]):\n",
    "    train_set = df_short.loc[train_index]\n",
    "    test_set = df_short.loc[test_index]"
   ]
  },
  {
   "cell_type": "code",
   "execution_count": 10,
   "metadata": {},
   "outputs": [
    {
     "data": {
      "text/plain": [
       "Mostly Organellar           32.266436\n",
       "Mostly Cytosolic            23.514994\n",
       "Organellar and Cytosolic    14.230104\n",
       "Mostly Nuclear              12.326990\n",
       "Broad distribution           9.948097\n",
       "Nuclear and Cytosolic        7.713379\n",
       "Name: Global classifier2, dtype: float64"
      ]
     },
     "execution_count": 10,
     "metadata": {},
     "output_type": "execute_result"
    }
   ],
   "source": [
    "train_set[\"Global classifier2\"].value_counts() / len(train_set) *100"
   ]
  },
  {
   "cell_type": "code",
   "execution_count": 11,
   "metadata": {
    "scrolled": true
   },
   "outputs": [
    {
     "data": {
      "text/plain": [
       "Mostly Organellar           32.244898\n",
       "Mostly Cytosolic            23.510204\n",
       "Organellar and Cytosolic    14.204082\n",
       "Mostly Nuclear              12.326531\n",
       "Broad distribution           9.959184\n",
       "Nuclear and Cytosolic        7.755102\n",
       "Name: Global classifier2, dtype: float64"
      ]
     },
     "execution_count": 11,
     "metadata": {},
     "output_type": "execute_result"
    }
   ],
   "source": [
    "test_set[\"Global classifier2\"].value_counts() / len(test_set) *100"
   ]
  },
  {
   "cell_type": "code",
   "execution_count": 12,
   "metadata": {},
   "outputs": [],
   "source": [
    "split = StratifiedShuffleSplit(n_splits=1, test_size=0.15, random_state=42)\n",
    "for train_index, valid_index in split.split(train_set, train_set[\"Global classifier2\"]):\n",
    "    train = df_short.loc[train_index]\n",
    "    valid = df_short.loc[valid_index]"
   ]
  },
  {
   "cell_type": "code",
   "execution_count": 13,
   "metadata": {},
   "outputs": [
    {
     "data": {
      "text/plain": [
       "(5895, 4)"
      ]
     },
     "execution_count": 13,
     "metadata": {},
     "output_type": "execute_result"
    }
   ],
   "source": [
    "train.shape"
   ]
  },
  {
   "cell_type": "code",
   "execution_count": 14,
   "metadata": {},
   "outputs": [
    {
     "data": {
      "text/plain": [
       "(1041, 4)"
      ]
     },
     "execution_count": 14,
     "metadata": {},
     "output_type": "execute_result"
    }
   ],
   "source": [
    "valid.shape"
   ]
  },
  {
   "cell_type": "code",
   "execution_count": 15,
   "metadata": {},
   "outputs": [
    {
     "data": {
      "text/plain": [
       "(1225, 4)"
      ]
     },
     "execution_count": 15,
     "metadata": {},
     "output_type": "execute_result"
    }
   ],
   "source": [
    "test_set.shape"
   ]
  },
  {
   "cell_type": "code",
   "execution_count": 16,
   "metadata": {},
   "outputs": [],
   "source": [
    "train.to_csv(path_or_buf= \"data/globalClasses_train.csv\", sep=\"\\t\", index=False)\n",
    "valid.to_csv(path_or_buf= \"data/globalClasses_valid.csv\", sep=\"\\t\", index=False)\n",
    "test_set.to_csv(path_or_buf=\"data/globalClasses_test.csv\", sep=\"\\t\", index=False)"
   ]
  },
  {
   "cell_type": "markdown",
   "metadata": {},
   "source": [
    "## Make a 3 classes dataset"
   ]
  },
  {
   "cell_type": "code",
   "execution_count": 17,
   "metadata": {},
   "outputs": [],
   "source": [
    "df_3classes = df_short[df_short[\"Global classifier2\"] != 'Organellar and Cytosolic'].reset_index(drop=True)\n",
    "df_3classes = df_3classes[df_3classes[\"Global classifier2\"] != 'Broad distribution'].reset_index(drop=True)\n",
    "df_3classes = df_3classes[df_3classes[\"Global classifier2\"] != 'Nuclear and Cytosolic'].reset_index(drop=True)"
   ]
  },
  {
   "cell_type": "code",
   "execution_count": 18,
   "metadata": {},
   "outputs": [
    {
     "data": {
      "text/html": [
       "<div>\n",
       "<style scoped>\n",
       "    .dataframe tbody tr th:only-of-type {\n",
       "        vertical-align: middle;\n",
       "    }\n",
       "\n",
       "    .dataframe tbody tr th {\n",
       "        vertical-align: top;\n",
       "    }\n",
       "\n",
       "    .dataframe thead th {\n",
       "        text-align: right;\n",
       "    }\n",
       "</style>\n",
       "<table border=\"1\" class=\"dataframe\">\n",
       "  <thead>\n",
       "    <tr style=\"text-align: right;\">\n",
       "      <th></th>\n",
       "      <th>Lead Protein ID</th>\n",
       "      <th>Global classifier2</th>\n",
       "      <th>Sequence</th>\n",
       "      <th>Sequence Lengh</th>\n",
       "    </tr>\n",
       "  </thead>\n",
       "  <tbody>\n",
       "    <tr>\n",
       "      <th>0</th>\n",
       "      <td>Q9P2R3</td>\n",
       "      <td>Mostly Cytosolic</td>\n",
       "      <td>MAEEEVAKLEKHLMLLRQEYVKLQKKLAETEKRCALLAAQANKESS...</td>\n",
       "      <td>1169</td>\n",
       "    </tr>\n",
       "    <tr>\n",
       "      <th>1</th>\n",
       "      <td>Q96BM9</td>\n",
       "      <td>Mostly Organellar</td>\n",
       "      <td>MIALFNKLLDWFKALFWKEEMELTLVGLQYSGKTTFVNVIASGQFN...</td>\n",
       "      <td>186</td>\n",
       "    </tr>\n",
       "    <tr>\n",
       "      <th>2</th>\n",
       "      <td>Q93050</td>\n",
       "      <td>Mostly Organellar</td>\n",
       "      <td>MGELFRSEEMTLAQLFLQSEAAYCCVSELGELGKVQFRDLNPDVNV...</td>\n",
       "      <td>837</td>\n",
       "    </tr>\n",
       "    <tr>\n",
       "      <th>3</th>\n",
       "      <td>Q9HBG4</td>\n",
       "      <td>Mostly Organellar</td>\n",
       "      <td>MVSVFRSEEMCLSQLFLQVEAAYCCVAELGELGLVQFKDLNMNVNS...</td>\n",
       "      <td>840</td>\n",
       "    </tr>\n",
       "    <tr>\n",
       "      <th>4</th>\n",
       "      <td>P61421</td>\n",
       "      <td>Mostly Organellar</td>\n",
       "      <td>MSFFPELYFNVDNGYLEGLVRGLKAGVLSQADYLNLVQCETLEDLK...</td>\n",
       "      <td>351</td>\n",
       "    </tr>\n",
       "    <tr>\n",
       "      <th>...</th>\n",
       "      <td>...</td>\n",
       "      <td>...</td>\n",
       "      <td>...</td>\n",
       "      <td>...</td>\n",
       "    </tr>\n",
       "    <tr>\n",
       "      <th>5553</th>\n",
       "      <td>Q96LW9</td>\n",
       "      <td>Mostly Nuclear</td>\n",
       "      <td>MASTEEQYDLKIVKVEEDPIWDQETHLRGNNFSGQEASRQLFRQFC...</td>\n",
       "      <td>406</td>\n",
       "    </tr>\n",
       "    <tr>\n",
       "      <th>5554</th>\n",
       "      <td>Q9H900</td>\n",
       "      <td>Mostly Cytosolic</td>\n",
       "      <td>MWERLNCAAEDFYSRLLQKFNEEKKGIRKDPFLYEADVQVQLISKG...</td>\n",
       "      <td>591</td>\n",
       "    </tr>\n",
       "    <tr>\n",
       "      <th>5555</th>\n",
       "      <td>O95229</td>\n",
       "      <td>Mostly Cytosolic</td>\n",
       "      <td>MEAAETEAEAAALEVLAEVAGILEPVGLQEEAELPAKILVEFVVDS...</td>\n",
       "      <td>277</td>\n",
       "    </tr>\n",
       "    <tr>\n",
       "      <th>5556</th>\n",
       "      <td>Q2QGD7</td>\n",
       "      <td>Mostly Nuclear</td>\n",
       "      <td>MDLPALLPAPTARGGQHGGGPGPLRRAPAPLGASPARRRLLLVRGP...</td>\n",
       "      <td>858</td>\n",
       "    </tr>\n",
       "    <tr>\n",
       "      <th>5557</th>\n",
       "      <td>Q8IYH5</td>\n",
       "      <td>Mostly Nuclear</td>\n",
       "      <td>MAASRSTRVTRSTVGLNGLDESFCGRTLRNRSIAHPEEISSNSQVR...</td>\n",
       "      <td>903</td>\n",
       "    </tr>\n",
       "  </tbody>\n",
       "</table>\n",
       "<p>5558 rows × 4 columns</p>\n",
       "</div>"
      ],
      "text/plain": [
       "     Lead Protein ID Global classifier2  \\\n",
       "0             Q9P2R3   Mostly Cytosolic   \n",
       "1             Q96BM9  Mostly Organellar   \n",
       "2             Q93050  Mostly Organellar   \n",
       "3             Q9HBG4  Mostly Organellar   \n",
       "4             P61421  Mostly Organellar   \n",
       "...              ...                ...   \n",
       "5553          Q96LW9     Mostly Nuclear   \n",
       "5554          Q9H900   Mostly Cytosolic   \n",
       "5555          O95229   Mostly Cytosolic   \n",
       "5556          Q2QGD7     Mostly Nuclear   \n",
       "5557          Q8IYH5     Mostly Nuclear   \n",
       "\n",
       "                                               Sequence  Sequence Lengh  \n",
       "0     MAEEEVAKLEKHLMLLRQEYVKLQKKLAETEKRCALLAAQANKESS...            1169  \n",
       "1     MIALFNKLLDWFKALFWKEEMELTLVGLQYSGKTTFVNVIASGQFN...             186  \n",
       "2     MGELFRSEEMTLAQLFLQSEAAYCCVSELGELGKVQFRDLNPDVNV...             837  \n",
       "3     MVSVFRSEEMCLSQLFLQVEAAYCCVAELGELGLVQFKDLNMNVNS...             840  \n",
       "4     MSFFPELYFNVDNGYLEGLVRGLKAGVLSQADYLNLVQCETLEDLK...             351  \n",
       "...                                                 ...             ...  \n",
       "5553  MASTEEQYDLKIVKVEEDPIWDQETHLRGNNFSGQEASRQLFRQFC...             406  \n",
       "5554  MWERLNCAAEDFYSRLLQKFNEEKKGIRKDPFLYEADVQVQLISKG...             591  \n",
       "5555  MEAAETEAEAAALEVLAEVAGILEPVGLQEEAELPAKILVEFVVDS...             277  \n",
       "5556  MDLPALLPAPTARGGQHGGGPGPLRRAPAPLGASPARRRLLLVRGP...             858  \n",
       "5557  MAASRSTRVTRSTVGLNGLDESFCGRTLRNRSIAHPEEISSNSQVR...             903  \n",
       "\n",
       "[5558 rows x 4 columns]"
      ]
     },
     "execution_count": 18,
     "metadata": {},
     "output_type": "execute_result"
    }
   ],
   "source": [
    "df_3classes"
   ]
  },
  {
   "cell_type": "code",
   "execution_count": 19,
   "metadata": {},
   "outputs": [
    {
     "data": {
      "text/plain": [
       "Mostly Organellar    47.373156\n",
       "Mostly Cytosolic     34.526808\n",
       "Mostly Nuclear       18.100036\n",
       "Name: Global classifier2, dtype: float64"
      ]
     },
     "execution_count": 19,
     "metadata": {},
     "output_type": "execute_result"
    }
   ],
   "source": [
    "df_3classes[\"Global classifier2\"].value_counts() / len(df_3classes) *100"
   ]
  },
  {
   "cell_type": "code",
   "execution_count": 20,
   "metadata": {},
   "outputs": [],
   "source": [
    "split = StratifiedShuffleSplit(n_splits=5, test_size=0.15, random_state=42)\n",
    "for train_i, test_i in split.split(df_3classes, df_3classes[\"Global classifier2\"]):\n",
    "    train_3C = df_3classes.loc[train_i]\n",
    "    test_3C = df_3classes.loc[test_i]"
   ]
  },
  {
   "cell_type": "code",
   "execution_count": 21,
   "metadata": {},
   "outputs": [],
   "source": [
    "train_3C = train_3C.reset_index(drop=True)"
   ]
  },
  {
   "cell_type": "code",
   "execution_count": 22,
   "metadata": {},
   "outputs": [],
   "source": [
    "split = StratifiedShuffleSplit(n_splits=1, test_size=0.15, random_state=42)\n",
    "for train_index, valid_index in split.split(train_3C, train_3C[\"Global classifier2\"]):\n",
    "    train_3C_2 = train_3C.loc[train_index]\n",
    "    valid_3C = train_3C.loc[valid_index]"
   ]
  },
  {
   "cell_type": "code",
   "execution_count": 23,
   "metadata": {},
   "outputs": [
    {
     "data": {
      "text/plain": [
       "Mostly Organellar    47.372354\n",
       "Mostly Cytosolic     34.520548\n",
       "Mostly Nuclear       18.107098\n",
       "Name: Global classifier2, dtype: float64"
      ]
     },
     "execution_count": 23,
     "metadata": {},
     "output_type": "execute_result"
    }
   ],
   "source": [
    "train_3C_2[\"Global classifier2\"].value_counts() / len(train_3C_2) *100"
   ]
  },
  {
   "cell_type": "code",
   "execution_count": 24,
   "metadata": {},
   "outputs": [
    {
     "data": {
      "text/plain": [
       "Mostly Organellar    47.362110\n",
       "Mostly Cytosolic     34.532374\n",
       "Mostly Nuclear       18.105516\n",
       "Name: Global classifier2, dtype: float64"
      ]
     },
     "execution_count": 24,
     "metadata": {},
     "output_type": "execute_result"
    }
   ],
   "source": [
    "test_3C[\"Global classifier2\"].value_counts() / len(test_3C) *100"
   ]
  },
  {
   "cell_type": "code",
   "execution_count": 25,
   "metadata": {},
   "outputs": [
    {
     "data": {
      "text/plain": [
       "Mostly Organellar    47.390691\n",
       "Mostly Cytosolic     34.555712\n",
       "Mostly Nuclear       18.053597\n",
       "Name: Global classifier2, dtype: float64"
      ]
     },
     "execution_count": 25,
     "metadata": {},
     "output_type": "execute_result"
    }
   ],
   "source": [
    "valid_3C[\"Global classifier2\"].value_counts() / len(valid_3C) *100"
   ]
  },
  {
   "cell_type": "code",
   "execution_count": 58,
   "metadata": {},
   "outputs": [],
   "source": [
    "train_3C_2.to_csv(path_or_buf= \"data/3Classes_train.csv\", sep=\"\\t\", index=False)\n",
    "valid_3C.to_csv(path_or_buf= \"data/3Classes_valid.csv\", sep=\"\\t\", index=False)\n",
    "test_3C.to_csv(path_or_buf=\"data/3Classes_test.csv\", sep=\"\\t\", index=False)"
   ]
  }
 ],
 "metadata": {
  "kernelspec": {
   "display_name": "Python 3",
   "language": "python",
   "name": "python3"
  },
  "language_info": {
   "codemirror_mode": {
    "name": "ipython",
    "version": 3
   },
   "file_extension": ".py",
   "mimetype": "text/x-python",
   "name": "python",
   "nbconvert_exporter": "python",
   "pygments_lexer": "ipython3",
   "version": "3.7.3"
  }
 },
 "nbformat": 4,
 "nbformat_minor": 2
}
