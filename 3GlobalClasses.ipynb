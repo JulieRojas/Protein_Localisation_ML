{
 "cells": [
  {
   "cell_type": "code",
   "execution_count": 1,
   "metadata": {},
   "outputs": [],
   "source": [
    "import matplotlib\n",
    "import pandas as pd\n",
    "import csv\n",
    "import numpy as np\n",
    "%matplotlib inline "
   ]
  },
  {
   "cell_type": "code",
   "execution_count": 12,
   "metadata": {},
   "outputs": [
    {
     "data": {
      "text/html": [
       "<div>\n",
       "<style scoped>\n",
       "    .dataframe tbody tr th:only-of-type {\n",
       "        vertical-align: middle;\n",
       "    }\n",
       "\n",
       "    .dataframe tbody tr th {\n",
       "        vertical-align: top;\n",
       "    }\n",
       "\n",
       "    .dataframe thead th {\n",
       "        text-align: right;\n",
       "    }\n",
       "</style>\n",
       "<table border=\"1\" class=\"dataframe\">\n",
       "  <thead>\n",
       "    <tr style=\"text-align: right;\">\n",
       "      <th></th>\n",
       "      <th>Lead Protein ID</th>\n",
       "      <th>Global classifier2</th>\n",
       "      <th>Sequence</th>\n",
       "      <th>Sequence Lengh</th>\n",
       "    </tr>\n",
       "  </thead>\n",
       "  <tbody>\n",
       "    <tr>\n",
       "      <th>0</th>\n",
       "      <td>Q9H3M7</td>\n",
       "      <td>Mostly Organellar</td>\n",
       "      <td>MVMFKKIKSFEVVFNDPEKVYGSGEKVAGRVIVEVCEVTRVKAVRI...</td>\n",
       "      <td>391</td>\n",
       "    </tr>\n",
       "    <tr>\n",
       "      <th>1</th>\n",
       "      <td>P22314</td>\n",
       "      <td>Mostly Cytosolic</td>\n",
       "      <td>MSSSPLSKKRRVSGPDPKPGSNCSPAQSVLSEVPSVPTNGMAKNGS...</td>\n",
       "      <td>1058</td>\n",
       "    </tr>\n",
       "    <tr>\n",
       "      <th>2</th>\n",
       "      <td>P27348</td>\n",
       "      <td>Mostly Cytosolic</td>\n",
       "      <td>MEKTELIQKAKLAEQAERYDDMATCMKAVTEQGAELSNEERNLLSV...</td>\n",
       "      <td>245</td>\n",
       "    </tr>\n",
       "    <tr>\n",
       "      <th>3</th>\n",
       "      <td>Q9Y2V7</td>\n",
       "      <td>Mostly Cytosolic</td>\n",
       "      <td>MAEGSGEVVAVSATGAANGLNNGAGGTSATTCNPLSRKLHKILETR...</td>\n",
       "      <td>657</td>\n",
       "    </tr>\n",
       "    <tr>\n",
       "      <th>4</th>\n",
       "      <td>Q53F19</td>\n",
       "      <td>Mostly Nuclear</td>\n",
       "      <td>MAAVRGLRVSVKAEAPAGPALGLPSPEAESGVDRGEPEPMEVEEGE...</td>\n",
       "      <td>620</td>\n",
       "    </tr>\n",
       "  </tbody>\n",
       "</table>\n",
       "</div>"
      ],
      "text/plain": [
       "  Lead Protein ID Global classifier2  \\\n",
       "0          Q9H3M7  Mostly Organellar   \n",
       "1          P22314   Mostly Cytosolic   \n",
       "2          P27348   Mostly Cytosolic   \n",
       "3          Q9Y2V7   Mostly Cytosolic   \n",
       "4          Q53F19     Mostly Nuclear   \n",
       "\n",
       "                                            Sequence  Sequence Lengh  \n",
       "0  MVMFKKIKSFEVVFNDPEKVYGSGEKVAGRVIVEVCEVTRVKAVRI...             391  \n",
       "1  MSSSPLSKKRRVSGPDPKPGSNCSPAQSVLSEVPSVPTNGMAKNGS...            1058  \n",
       "2  MEKTELIQKAKLAEQAERYDDMATCMKAVTEQGAELSNEERNLLSV...             245  \n",
       "3  MAEGSGEVVAVSATGAANGLNNGAGGTSATTCNPLSRKLHKILETR...             657  \n",
       "4  MAAVRGLRVSVKAEAPAGPALGLPSPEAESGVDRGEPEPMEVEEGE...             620  "
      ]
     },
     "execution_count": 12,
     "metadata": {},
     "output_type": "execute_result"
    }
   ],
   "source": [
    "train = pd.read_csv(\"data/3Classes_train.csv\", sep=\"\\t\")\n",
    "train.head()"
   ]
  },
  {
   "cell_type": "code",
   "execution_count": 13,
   "metadata": {},
   "outputs": [
    {
     "data": {
      "text/plain": [
       "(4446, 4)"
      ]
     },
     "execution_count": 13,
     "metadata": {},
     "output_type": "execute_result"
    }
   ],
   "source": [
    "train.shape"
   ]
  },
  {
   "cell_type": "code",
   "execution_count": 14,
   "metadata": {
    "scrolled": true
   },
   "outputs": [
    {
     "data": {
      "text/html": [
       "<div>\n",
       "<style scoped>\n",
       "    .dataframe tbody tr th:only-of-type {\n",
       "        vertical-align: middle;\n",
       "    }\n",
       "\n",
       "    .dataframe tbody tr th {\n",
       "        vertical-align: top;\n",
       "    }\n",
       "\n",
       "    .dataframe thead th {\n",
       "        text-align: right;\n",
       "    }\n",
       "</style>\n",
       "<table border=\"1\" class=\"dataframe\">\n",
       "  <thead>\n",
       "    <tr style=\"text-align: right;\">\n",
       "      <th></th>\n",
       "      <th>Lead Protein ID</th>\n",
       "      <th>Global classifier2</th>\n",
       "      <th>Sequence</th>\n",
       "      <th>Sequence Lengh</th>\n",
       "    </tr>\n",
       "  </thead>\n",
       "  <tbody>\n",
       "    <tr>\n",
       "      <th>0</th>\n",
       "      <td>P10620</td>\n",
       "      <td>Mostly Organellar</td>\n",
       "      <td>MVDLTQVMDDEVFMAFASYATIILSKMMLMSTATAFYRLTRKVFAN...</td>\n",
       "      <td>155</td>\n",
       "    </tr>\n",
       "    <tr>\n",
       "      <th>1</th>\n",
       "      <td>Q9BZM5</td>\n",
       "      <td>Mostly Organellar</td>\n",
       "      <td>MAAAAATKILLCLPLLLLLSGWSRAGRADPHSLCYDITVIPKFRPG...</td>\n",
       "      <td>246</td>\n",
       "    </tr>\n",
       "    <tr>\n",
       "      <th>2</th>\n",
       "      <td>Q99829</td>\n",
       "      <td>Mostly Cytosolic</td>\n",
       "      <td>MAHCVTLVQLSISCDHLIDKDIGSKSDPLCVLLQDVGGGSWAELGR...</td>\n",
       "      <td>537</td>\n",
       "    </tr>\n",
       "    <tr>\n",
       "      <th>3</th>\n",
       "      <td>Q9BW92</td>\n",
       "      <td>Mostly Organellar</td>\n",
       "      <td>MALYQRWRCLRLQGLQACRLHTAVVSTPPRWLAERLGLFEELWAAQ...</td>\n",
       "      <td>718</td>\n",
       "    </tr>\n",
       "    <tr>\n",
       "      <th>4</th>\n",
       "      <td>Q8WVZ9</td>\n",
       "      <td>Mostly Cytosolic</td>\n",
       "      <td>MQSREDVPRSRRLASPRGGRRPKRISKPSVSAFFTGPEELKDTAHS...</td>\n",
       "      <td>684</td>\n",
       "    </tr>\n",
       "  </tbody>\n",
       "</table>\n",
       "</div>"
      ],
      "text/plain": [
       "  Lead Protein ID Global classifier2  \\\n",
       "0          P10620  Mostly Organellar   \n",
       "1          Q9BZM5  Mostly Organellar   \n",
       "2          Q99829   Mostly Cytosolic   \n",
       "3          Q9BW92  Mostly Organellar   \n",
       "4          Q8WVZ9   Mostly Cytosolic   \n",
       "\n",
       "                                            Sequence  Sequence Lengh  \n",
       "0  MVDLTQVMDDEVFMAFASYATIILSKMMLMSTATAFYRLTRKVFAN...             155  \n",
       "1  MAAAAATKILLCLPLLLLLSGWSRAGRADPHSLCYDITVIPKFRPG...             246  \n",
       "2  MAHCVTLVQLSISCDHLIDKDIGSKSDPLCVLLQDVGGGSWAELGR...             537  \n",
       "3  MALYQRWRCLRLQGLQACRLHTAVVSTPPRWLAERLGLFEELWAAQ...             718  \n",
       "4  MQSREDVPRSRRLASPRGGRRPKRISKPSVSAFFTGPEELKDTAHS...             684  "
      ]
     },
     "execution_count": 14,
     "metadata": {},
     "output_type": "execute_result"
    }
   ],
   "source": [
    "test = pd.read_csv(\"data/3Classes_test.csv\", sep=\"\\t\")\n",
    "test.head()"
   ]
  },
  {
   "cell_type": "code",
   "execution_count": 15,
   "metadata": {},
   "outputs": [
    {
     "data": {
      "text/plain": [
       "(1112, 4)"
      ]
     },
     "execution_count": 15,
     "metadata": {},
     "output_type": "execute_result"
    }
   ],
   "source": [
    "test.shape"
   ]
  },
  {
   "cell_type": "markdown",
   "metadata": {},
   "source": [
    "## Preparing data "
   ]
  },
  {
   "cell_type": "code",
   "execution_count": 16,
   "metadata": {},
   "outputs": [],
   "source": [
    "train_y = train[\"Global classifier2\"]\n",
    "test_y = test[\"Global classifier2\"]"
   ]
  },
  {
   "cell_type": "code",
   "execution_count": 17,
   "metadata": {},
   "outputs": [],
   "source": [
    "train_x = train[\"Sequence\"].copy()\n",
    "test_x = test[\"Sequence\"].copy()"
   ]
  },
  {
   "cell_type": "code",
   "execution_count": 18,
   "metadata": {},
   "outputs": [],
   "source": [
    "# Add * at the end of each sequence\n",
    "def end_adder(X):\n",
    "    for s in range(len(X)):\n",
    "        X.loc[s] += '*'\n",
    "    return X"
   ]
  },
  {
   "cell_type": "code",
   "execution_count": 19,
   "metadata": {},
   "outputs": [],
   "source": [
    "train_x = end_adder(train_x)"
   ]
  },
  {
   "cell_type": "code",
   "execution_count": 20,
   "metadata": {},
   "outputs": [],
   "source": [
    "test_x = end_adder(test_x)"
   ]
  },
  {
   "cell_type": "code",
   "execution_count": 21,
   "metadata": {},
   "outputs": [
    {
     "name": "stdout",
     "output_type": "stream",
     "text": [
      "1501\n"
     ]
    }
   ],
   "source": [
    "max_len = len(max(train_x, key=len))\n",
    "print(max_len)\n",
    "# I checked that there is no longer sequence in test set"
   ]
  },
  {
   "cell_type": "code",
   "execution_count": 22,
   "metadata": {},
   "outputs": [],
   "source": [
    "for x in range(len(train_x)):\n",
    "    seq =train_x[x]\n",
    "    train_x[x] = seq.replace('U', 'C')\n",
    "for x in range(len(test_x)):\n",
    "    seq =test_x[x]\n",
    "    test_x[x] = seq.replace('U', 'C')"
   ]
  },
  {
   "cell_type": "markdown",
   "metadata": {},
   "source": [
    "### One hot encoding of amino acids\n",
    "\n",
    "this was really helpfull:\n",
    "https://machinelearningmastery.com/how-to-one-hot-encode-sequence-data-in-python/.\n",
    "\n",
    "But I probably won't need this, who knows"
   ]
  },
  {
   "cell_type": "code",
   "execution_count": 23,
   "metadata": {},
   "outputs": [],
   "source": [
    "test_seq = \"MQNVINTVKGKA*\"\n",
    "\n",
    "# all amino acids (in blosum order)\n",
    "aa = \"ARNDCQEGHILKMFPSTWYV*\"\n",
    "tot_aa = len(aa)\n",
    "\n",
    "# define a mapping of aa to integers\n",
    "aa_to_int = dict((c, i) for i, c in enumerate(aa))\n",
    "int_to_aa = dict((i, c) for i, c in enumerate(aa))"
   ]
  },
  {
   "cell_type": "code",
   "execution_count": null,
   "metadata": {},
   "outputs": [],
   "source": [
    "# one hot encode\n",
    "onehot_encoded = np.zeros((tot_aa, len(test_seq)))\n",
    "for a in range(len(test_seq)):\n",
    "    onehot_encoded[aa_to_int[test_seq[a]], a] = 1\n",
    "print(onehot_encoded)\n",
    "\n",
    "# One hot to aa\n",
    "new_seq = ''\n",
    "for a in range(len(onehot_encoded[1])):\n",
    "    vect = np.argmax(onehot_encoded[:,a])\n",
    "    new_seq += int_to_aa[vect]\n",
    "print(new_seq)"
   ]
  },
  {
   "cell_type": "markdown",
   "metadata": {},
   "source": [
    "## One hot encoding of Labels"
   ]
  },
  {
   "cell_type": "code",
   "execution_count": 24,
   "metadata": {},
   "outputs": [
    {
     "data": {
      "text/plain": [
       "{'Mostly Cytosolic', 'Mostly Nuclear', 'Mostly Organellar'}"
      ]
     },
     "execution_count": 24,
     "metadata": {},
     "output_type": "execute_result"
    }
   ],
   "source": [
    "set(train_y)"
   ]
  },
  {
   "cell_type": "code",
   "execution_count": 25,
   "metadata": {},
   "outputs": [],
   "source": [
    "cat = ['Mostly Cytosolic', 'Mostly Nuclear', 'Mostly Organellar']"
   ]
  },
  {
   "cell_type": "code",
   "execution_count": 26,
   "metadata": {},
   "outputs": [],
   "source": [
    "tot_cat = len(cat)\n",
    "cat_to_int = {}\n",
    "int_to_cat = {}\n",
    "for i in range(tot_cat):\n",
    "    cat_to_int[cat[i]] = i\n",
    "    int_to_cat[i] = cat[i]    "
   ]
  },
  {
   "cell_type": "code",
   "execution_count": 27,
   "metadata": {},
   "outputs": [],
   "source": [
    "def cat_to_indices(Y):\n",
    "    Y_indices = np.zeros([Y.shape[0],], dtype=int)\n",
    "    for i in range(len(Y)):\n",
    "        Y_indices[i] = cat_to_int[Y[i]]\n",
    "    return Y_indices\n",
    "\n",
    "# one hot encode\n",
    "def convert_to_one_hot(Y, C):\n",
    "    Y = np.eye(C)[Y.reshape(-1)]\n",
    "    return Y"
   ]
  },
  {
   "cell_type": "code",
   "execution_count": 28,
   "metadata": {},
   "outputs": [],
   "source": [
    "train_y_indices = cat_to_indices(train_y)\n",
    "test_y_indices = cat_to_indices(test_y)"
   ]
  },
  {
   "cell_type": "code",
   "execution_count": 29,
   "metadata": {},
   "outputs": [],
   "source": [
    "train_y_OH = convert_to_one_hot(train_y_indices, C = tot_cat)\n",
    "test_y_OH = convert_to_one_hot(test_y_indices, C = tot_cat)"
   ]
  },
  {
   "cell_type": "markdown",
   "metadata": {},
   "source": [
    "## Encoding of Protein sequences to list of indices"
   ]
  },
  {
   "cell_type": "code",
   "execution_count": 30,
   "metadata": {},
   "outputs": [],
   "source": [
    "# Function to convert sequences to array of indices. I will that that one for embedding \n",
    "\n",
    "def seq_to_indices(X, aa_to_int, max_len):\n",
    "    \"\"\"\n",
    "    Converts an array of senquences (strings) into an array of indices corresponding to aa in the sequence.\n",
    "    \n",
    "    Arguments:\n",
    "    X -- array of sequences (strings), of shape (m, 1)\n",
    "    aa_to_int -- a dictionary containing the each aa mapped to its index\n",
    "    max_len -- maximum lengh of sequences array, bigger than test set \n",
    "    \n",
    "    Returns:\n",
    "    X_indices -- array of indices corresponding to aa in the sequences from X, of shape (m, max_len), padded\n",
    "    \"\"\"\n",
    "    \n",
    "    m = X.shape[0]                                   # number of training examples\n",
    "    \n",
    "    ### START CODE HERE ###\n",
    "    # Initialize X_indices as a numpy matrix of zeros and the correct shape (≈ 1 line)\n",
    "    X_indices = np.zeros([m,max_len])\n",
    "    X_indices.fill(aa_to_int[\"*\"])\n",
    "    \n",
    "    for i in range(m):                               # loop over training examples\n",
    "        seq_aa = X[i]\n",
    "        \n",
    "        # Initialize j to 0\n",
    "        j = 0\n",
    "        \n",
    "        # Loop over the words of sentence_words\n",
    "        for w in range(len(seq_aa)):\n",
    "            # Set the (i,j)th entry of X_indices to the index of the correct word.\n",
    "            X_indices[i, j] = aa_to_int[seq_aa[w]]\n",
    "            # Increment j to j + 1\n",
    "            j = j+1\n",
    "            \n",
    "    ### END CODE HERE ###\n",
    "    \n",
    "    return X_indices"
   ]
  },
  {
   "cell_type": "code",
   "execution_count": 31,
   "metadata": {},
   "outputs": [],
   "source": [
    "train_indices = seq_to_indices(train_x, aa_to_int, max_len)"
   ]
  },
  {
   "cell_type": "code",
   "execution_count": 32,
   "metadata": {},
   "outputs": [],
   "source": [
    "test_indices = seq_to_indices(test_x, aa_to_int, max_len)"
   ]
  },
  {
   "cell_type": "code",
   "execution_count": 33,
   "metadata": {},
   "outputs": [
    {
     "data": {
      "text/plain": [
       "array([12., 19., 12., ..., 20., 20., 20.])"
      ]
     },
     "execution_count": 33,
     "metadata": {},
     "output_type": "execute_result"
    }
   ],
   "source": [
    "train_indices[0]"
   ]
  },
  {
   "cell_type": "code",
   "execution_count": 34,
   "metadata": {},
   "outputs": [],
   "source": [
    "test_indices = seq_to_indices(test_x, aa_to_int, max_len)"
   ]
  },
  {
   "cell_type": "code",
   "execution_count": 35,
   "metadata": {},
   "outputs": [],
   "source": [
    "# this function convert all the sequences for train and test set directly to one hot encoding\n",
    "# I don't new it now\n",
    "def OH_converter(X):\n",
    "    OH_X = []\n",
    "    for sequences in X:\n",
    "        seq = sequences\n",
    "        OH_seq = np.zeros((tot_aa, len(seq)))\n",
    "        for a in range(len(seq)):\n",
    "            OH_seq[aa_to_int[seq[a]], a] = 1\n",
    "        OH_X.append(OH_seq)\n",
    "    return OH_X"
   ]
  },
  {
   "cell_type": "code",
   "execution_count": 36,
   "metadata": {
    "scrolled": true
   },
   "outputs": [],
   "source": [
    "train_OH = OH_converter(train_x)"
   ]
  },
  {
   "cell_type": "code",
   "execution_count": 37,
   "metadata": {},
   "outputs": [],
   "source": [
    "test_OH = OH_converter(test_x)"
   ]
  },
  {
   "cell_type": "code",
   "execution_count": 38,
   "metadata": {},
   "outputs": [],
   "source": [
    "#to decode one OH_encoded sequence\n",
    "def OH_to_seq(data):\n",
    "    encoded_seq = data\n",
    "    seq = ''\n",
    "    for a in range(len(encoded_seq[1])):\n",
    "        vect = np.argmax(encoded_seq[:,a])\n",
    "        seq += int_to_aa[vect]\n",
    "    return seq"
   ]
  },
  {
   "cell_type": "code",
   "execution_count": 39,
   "metadata": {},
   "outputs": [
    {
     "data": {
      "text/plain": [
       "'MVMFKKIKSFEVVFNDPEKVYGSGEKVAGRVIVEVCEVTRVKAVRILACGVAKVLWMQGSQQCKQTSEYLRYEDTLLLEDQPTGENEMVIMRPGNKYEYKFGFELPQGPLGTSFKGKYGCVDYWVKAFLDRPSQPTQETKKNFEVVDLVDVNTPDLMAPVSAKKEKKVSCMFIPDGRVSVSARIDRKGFCEGDEISIHADFENTCSRIVVPKAAIVARHTYLANGQTKVLTQKLSSVRGNHIISGTCASWRGKSLRVQKIRPSILGCNILRVEYSLLIYVSVPGSKKVILDLPLVIGSRSGLSSRTSSMASRTSSEMSWVDLNIPDTPEAPPCYMDVIPEDHRLESPTTPLLDDMDGSQDSPIFMYAPEFKFMPPPTYTEVDPCILNNNVQ*'"
      ]
     },
     "execution_count": 39,
     "metadata": {},
     "output_type": "execute_result"
    }
   ],
   "source": [
    "OH_to_seq(train_OH[0])"
   ]
  },
  {
   "cell_type": "code",
   "execution_count": 40,
   "metadata": {},
   "outputs": [
    {
     "data": {
      "text/plain": [
       "'MVMFKKIKSFEVVFNDPEKVYGSGEKVAGRVIVEVCEVTRVKAVRILACGVAKVLWMQGSQQCKQTSEYLRYEDTLLLEDQPTGENEMVIMRPGNKYEYKFGFELPQGPLGTSFKGKYGCVDYWVKAFLDRPSQPTQETKKNFEVVDLVDVNTPDLMAPVSAKKEKKVSCMFIPDGRVSVSARIDRKGFCEGDEISIHADFENTCSRIVVPKAAIVARHTYLANGQTKVLTQKLSSVRGNHIISGTCASWRGKSLRVQKIRPSILGCNILRVEYSLLIYVSVPGSKKVILDLPLVIGSRSGLSSRTSSMASRTSSEMSWVDLNIPDTPEAPPCYMDVIPEDHRLESPTTPLLDDMDGSQDSPIFMYAPEFKFMPPPTYTEVDPCILNNNVQ*'"
      ]
     },
     "execution_count": 40,
     "metadata": {},
     "output_type": "execute_result"
    }
   ],
   "source": [
    "train_x[0]"
   ]
  },
  {
   "cell_type": "markdown",
   "metadata": {},
   "source": [
    "## BLOSUM62 matrix"
   ]
  },
  {
   "cell_type": "code",
   "execution_count": 41,
   "metadata": {},
   "outputs": [],
   "source": [
    "def read_blosum(filename):\n",
    "    rows = []\n",
    "    data = []\n",
    "    with open(filename, \"r\") as fs:\n",
    "        line = fs.readline()\n",
    "        while line[0] == \"#\":\n",
    "            line = fs.readline()\n",
    "        for line in fs:\n",
    "            lspl = line.rstrip().replace('  ', ' ').split(' ')\n",
    "            rows.append(lspl[0])\n",
    "            data.append([float(i) for i in lspl[1:]])\n",
    "    data = np.asarray(data)\n",
    "    # Remove Z X B rows and colums\n",
    "    data = np.delete(data, [20, 21, 22], axis=0)\n",
    "    data = np.delete(data, [20, 21, 22], axis=1)\n",
    "    del rows[20:23]\n",
    "    return(data, rows)\n",
    "\n",
    "blosum, rows = read_blosum(\"data/BLOSUM62.txt\")"
   ]
  },
  {
   "cell_type": "code",
   "execution_count": 42,
   "metadata": {},
   "outputs": [
    {
     "name": "stdout",
     "output_type": "stream",
     "text": [
      "original shape:    (21, 21)\n",
      "transformed shape: (21, 2)\n"
     ]
    }
   ],
   "source": [
    "from sklearn.decomposition import PCA\n",
    "import matplotlib.pyplot as plt\n",
    "\n",
    "pca = PCA(n_components=2)\n",
    "pca.fit(blosum)\n",
    "blosum_pca = pca.transform(blosum)\n",
    "print(\"original shape:   \", blosum.shape)\n",
    "print(\"transformed shape:\", blosum_pca.shape)"
   ]
  },
  {
   "cell_type": "code",
   "execution_count": 43,
   "metadata": {},
   "outputs": [
    {
     "data": {
      "image/png": "[encoded data removed]",
      "text/plain": [
       "<Figure size 432x288 with 1 Axes>"
      ]
     },
     "metadata": {
      "needs_background": "light"
     },
     "output_type": "display_data"
    }
   ],
   "source": [
    "fig, ax = plt.subplots()\n",
    "plt.scatter(blosum_pca[:, 0], blosum_pca[:, 1], edgecolor='none')\n",
    "\n",
    "for i, txt in enumerate(rows):\n",
    "    ax.annotate(txt, (blosum_pca[:, 0][i], blosum_pca[:, 1][i]))\n",
    "    \n",
    "\n",
    "plt.show()"
   ]
  },
  {
   "cell_type": "code",
   "execution_count": 44,
   "metadata": {},
   "outputs": [],
   "source": [
    "v = blosum[:, :]   # foo[:, -1] for the last column\n",
    "blosum[:, :] = (v - v.min()) / (v.max() - v.min())"
   ]
  },
  {
   "cell_type": "code",
   "execution_count": 45,
   "metadata": {},
   "outputs": [],
   "source": [
    "blosum_dict = {}\n",
    "for i in range(len(rows)):\n",
    "    blosum_dict[rows[i]]= blosum[i]"
   ]
  },
  {
   "cell_type": "code",
   "execution_count": 46,
   "metadata": {},
   "outputs": [
    {
     "data": {
      "text/plain": [
       "{'A': array([0.53333333, 0.2       , 0.13333333, 0.13333333, 0.26666667,\n",
       "        0.2       , 0.2       , 0.26666667, 0.13333333, 0.2       ,\n",
       "        0.2       , 0.2       , 0.2       , 0.13333333, 0.2       ,\n",
       "        0.33333333, 0.26666667, 0.06666667, 0.13333333, 0.26666667,\n",
       "        0.        ]),\n",
       " 'R': array([0.2       , 0.6       , 0.26666667, 0.13333333, 0.06666667,\n",
       "        0.33333333, 0.26666667, 0.13333333, 0.26666667, 0.06666667,\n",
       "        0.13333333, 0.4       , 0.2       , 0.06666667, 0.13333333,\n",
       "        0.2       , 0.2       , 0.06666667, 0.13333333, 0.06666667,\n",
       "        0.        ]),\n",
       " 'N': array([0.13333333, 0.26666667, 0.66666667, 0.33333333, 0.06666667,\n",
       "        0.26666667, 0.26666667, 0.26666667, 0.33333333, 0.06666667,\n",
       "        0.06666667, 0.26666667, 0.13333333, 0.06666667, 0.13333333,\n",
       "        0.33333333, 0.26666667, 0.        , 0.13333333, 0.06666667,\n",
       "        0.        ]),\n",
       " 'D': array([0.13333333, 0.13333333, 0.33333333, 0.66666667, 0.06666667,\n",
       "        0.26666667, 0.4       , 0.2       , 0.2       , 0.06666667,\n",
       "        0.        , 0.2       , 0.06666667, 0.06666667, 0.2       ,\n",
       "        0.26666667, 0.2       , 0.        , 0.06666667, 0.06666667,\n",
       "        0.        ]),\n",
       " 'C': array([0.26666667, 0.06666667, 0.06666667, 0.06666667, 0.86666667,\n",
       "        0.06666667, 0.        , 0.06666667, 0.06666667, 0.2       ,\n",
       "        0.2       , 0.06666667, 0.2       , 0.13333333, 0.06666667,\n",
       "        0.2       , 0.2       , 0.13333333, 0.13333333, 0.2       ,\n",
       "        0.        ]),\n",
       " 'Q': array([0.2       , 0.33333333, 0.26666667, 0.26666667, 0.06666667,\n",
       "        0.6       , 0.4       , 0.13333333, 0.26666667, 0.06666667,\n",
       "        0.13333333, 0.33333333, 0.26666667, 0.06666667, 0.2       ,\n",
       "        0.26666667, 0.2       , 0.13333333, 0.2       , 0.13333333,\n",
       "        0.        ]),\n",
       " 'E': array([0.2       , 0.26666667, 0.26666667, 0.4       , 0.        ,\n",
       "        0.4       , 0.6       , 0.13333333, 0.26666667, 0.06666667,\n",
       "        0.06666667, 0.33333333, 0.13333333, 0.06666667, 0.2       ,\n",
       "        0.26666667, 0.2       , 0.06666667, 0.13333333, 0.13333333,\n",
       "        0.        ]),\n",
       " 'G': array([0.26666667, 0.13333333, 0.26666667, 0.2       , 0.06666667,\n",
       "        0.13333333, 0.13333333, 0.66666667, 0.13333333, 0.        ,\n",
       "        0.        , 0.13333333, 0.06666667, 0.06666667, 0.13333333,\n",
       "        0.26666667, 0.13333333, 0.13333333, 0.06666667, 0.06666667,\n",
       "        0.        ]),\n",
       " 'H': array([0.13333333, 0.26666667, 0.33333333, 0.2       , 0.06666667,\n",
       "        0.26666667, 0.26666667, 0.13333333, 0.8       , 0.06666667,\n",
       "        0.06666667, 0.2       , 0.13333333, 0.2       , 0.13333333,\n",
       "        0.2       , 0.13333333, 0.13333333, 0.4       , 0.06666667,\n",
       "        0.        ]),\n",
       " 'I': array([0.2       , 0.06666667, 0.06666667, 0.06666667, 0.2       ,\n",
       "        0.06666667, 0.06666667, 0.        , 0.06666667, 0.53333333,\n",
       "        0.4       , 0.06666667, 0.33333333, 0.26666667, 0.06666667,\n",
       "        0.13333333, 0.2       , 0.06666667, 0.2       , 0.46666667,\n",
       "        0.        ]),\n",
       " 'L': array([0.2       , 0.13333333, 0.06666667, 0.        , 0.2       ,\n",
       "        0.13333333, 0.06666667, 0.        , 0.06666667, 0.4       ,\n",
       "        0.53333333, 0.13333333, 0.4       , 0.26666667, 0.06666667,\n",
       "        0.13333333, 0.2       , 0.13333333, 0.2       , 0.33333333,\n",
       "        0.        ]),\n",
       " 'K': array([0.2       , 0.4       , 0.26666667, 0.2       , 0.06666667,\n",
       "        0.33333333, 0.33333333, 0.13333333, 0.2       , 0.06666667,\n",
       "        0.13333333, 0.6       , 0.2       , 0.06666667, 0.2       ,\n",
       "        0.26666667, 0.2       , 0.06666667, 0.13333333, 0.13333333,\n",
       "        0.        ]),\n",
       " 'M': array([0.2       , 0.2       , 0.13333333, 0.06666667, 0.2       ,\n",
       "        0.26666667, 0.13333333, 0.06666667, 0.13333333, 0.33333333,\n",
       "        0.4       , 0.2       , 0.6       , 0.26666667, 0.13333333,\n",
       "        0.2       , 0.2       , 0.2       , 0.2       , 0.33333333,\n",
       "        0.        ]),\n",
       " 'F': array([0.13333333, 0.06666667, 0.06666667, 0.06666667, 0.13333333,\n",
       "        0.06666667, 0.06666667, 0.06666667, 0.2       , 0.26666667,\n",
       "        0.26666667, 0.06666667, 0.26666667, 0.66666667, 0.        ,\n",
       "        0.13333333, 0.13333333, 0.33333333, 0.46666667, 0.2       ,\n",
       "        0.        ]),\n",
       " 'P': array([0.2       , 0.13333333, 0.13333333, 0.2       , 0.06666667,\n",
       "        0.2       , 0.2       , 0.13333333, 0.13333333, 0.06666667,\n",
       "        0.06666667, 0.2       , 0.13333333, 0.        , 0.73333333,\n",
       "        0.2       , 0.2       , 0.        , 0.06666667, 0.13333333,\n",
       "        0.        ]),\n",
       " 'S': array([0.33333333, 0.2       , 0.33333333, 0.26666667, 0.2       ,\n",
       "        0.26666667, 0.26666667, 0.26666667, 0.2       , 0.13333333,\n",
       "        0.13333333, 0.26666667, 0.2       , 0.13333333, 0.2       ,\n",
       "        0.53333333, 0.33333333, 0.06666667, 0.13333333, 0.13333333,\n",
       "        0.        ]),\n",
       " 'T': array([0.26666667, 0.2       , 0.26666667, 0.2       , 0.2       ,\n",
       "        0.2       , 0.2       , 0.13333333, 0.13333333, 0.2       ,\n",
       "        0.2       , 0.2       , 0.2       , 0.13333333, 0.2       ,\n",
       "        0.33333333, 0.6       , 0.13333333, 0.13333333, 0.26666667,\n",
       "        0.        ]),\n",
       " 'W': array([0.06666667, 0.06666667, 0.        , 0.        , 0.13333333,\n",
       "        0.13333333, 0.06666667, 0.13333333, 0.13333333, 0.06666667,\n",
       "        0.13333333, 0.06666667, 0.2       , 0.33333333, 0.        ,\n",
       "        0.06666667, 0.13333333, 1.        , 0.4       , 0.06666667,\n",
       "        0.        ]),\n",
       " 'Y': array([0.13333333, 0.13333333, 0.13333333, 0.06666667, 0.13333333,\n",
       "        0.2       , 0.13333333, 0.06666667, 0.4       , 0.2       ,\n",
       "        0.2       , 0.13333333, 0.2       , 0.46666667, 0.06666667,\n",
       "        0.13333333, 0.13333333, 0.4       , 0.73333333, 0.2       ,\n",
       "        0.        ]),\n",
       " 'V': array([0.26666667, 0.06666667, 0.06666667, 0.06666667, 0.2       ,\n",
       "        0.13333333, 0.13333333, 0.06666667, 0.06666667, 0.46666667,\n",
       "        0.33333333, 0.13333333, 0.33333333, 0.2       , 0.13333333,\n",
       "        0.13333333, 0.26666667, 0.06666667, 0.2       , 0.53333333,\n",
       "        0.        ]),\n",
       " '*': array([0.        , 0.        , 0.        , 0.        , 0.        ,\n",
       "        0.        , 0.        , 0.        , 0.        , 0.        ,\n",
       "        0.        , 0.        , 0.        , 0.        , 0.        ,\n",
       "        0.        , 0.        , 0.        , 0.        , 0.        ,\n",
       "        0.33333333])}"
      ]
     },
     "execution_count": 46,
     "metadata": {},
     "output_type": "execute_result"
    }
   ],
   "source": [
    "blosum_dict"
   ]
  },
  {
   "cell_type": "markdown",
   "metadata": {},
   "source": [
    "# LSTM with Keras "
   ]
  },
  {
   "cell_type": "code",
   "execution_count": 47,
   "metadata": {},
   "outputs": [
    {
     "name": "stderr",
     "output_type": "stream",
     "text": [
      "Using TensorFlow backend.\n"
     ]
    }
   ],
   "source": [
    "np.random.seed(0)\n",
    "from keras.models import Model\n",
    "from keras.layers import Dense, Input, Dropout, LSTM, Activation, Bidirectional\n",
    "from keras.layers.embeddings import Embedding\n",
    "from keras.preprocessing import sequence\n",
    "from keras.initializers import glorot_uniform\n",
    "from keras.optimizers import Adam, Nadam\n",
    "np.random.seed(1)"
   ]
  },
  {
   "cell_type": "code",
   "execution_count": 48,
   "metadata": {},
   "outputs": [],
   "source": [
    "def pretrained_embedding_layer(blosum_dict, aa_to_int):\n",
    "    \"\"\"\n",
    "    Creates a Keras Embedding() layer based on Blosum62\n",
    "    \n",
    "    Arguments:\n",
    "    blosum_dict -- dictionary mapping aa to their Blosum62 representation.\n",
    "    aa_to_int -- dictionary mapping from amino acid to their indices \n",
    "\n",
    "    Returns:\n",
    "    embedding_layer -- pretrained layer Keras instance\n",
    "    \"\"\"\n",
    "    \n",
    "    aa_len = len(aa_to_int) + 1                  # adding 1 to fit Keras embedding (requirement)\n",
    "    emb_dim = blosum_dict[\"A\"].shape[0]      # define dimensionality of your blosum vectors \n",
    "    \n",
    "    ### START CODE HERE ###\n",
    "    # Initialize the embedding matrix as a numpy array of zeros of shape (aa_len, dimensions of aa vectors = emb_dim)\n",
    "    emb_matrix = np.zeros([aa_len,emb_dim])\n",
    "    \n",
    "    # Set each row \"index\" of the embedding matrix to be the word vector representation of the \"index\"th word of the vocabulary\n",
    "    for aa, index in aa_to_int.items():\n",
    "        emb_matrix[index, :] = blosum_dict[aa]\n",
    "\n",
    "    # Define Keras embedding layer with the correct output/input sizes, make it trainable. Use Embedding(...). Make sure to set trainable=False. \n",
    "    embedding_layer = Embedding(aa_len, emb_dim, trainable=True)\n",
    "    ### END CODE HERE ###\n",
    "\n",
    "    # Build the embedding layer, it is required before setting the weights of the embedding layer. Do not modify the \"None\".\n",
    "    embedding_layer.build((None,))\n",
    "    \n",
    "    # Set the weights of the embedding layer to the embedding matrix. Your layer is now pretrained.\n",
    "    embedding_layer.set_weights([emb_matrix])\n",
    "    \n",
    "    return embedding_layer"
   ]
  },
  {
   "cell_type": "code",
   "execution_count": 49,
   "metadata": {},
   "outputs": [
    {
     "name": "stdout",
     "output_type": "stream",
     "text": [
      "WARNING:tensorflow:From /home/julie/anaconda3/lib/python3.7/site-packages/tensorflow/python/ops/resource_variable_ops.py:435: colocate_with (from tensorflow.python.framework.ops) is deprecated and will be removed in a future version.\n",
      "Instructions for updating:\n",
      "Colocations handled automatically by placer.\n"
     ]
    }
   ],
   "source": [
    "embedding_layer = pretrained_embedding_layer(blosum_dict, aa_to_int)"
   ]
  },
  {
   "cell_type": "markdown",
   "metadata": {},
   "source": [
    "## MODEL"
   ]
  },
  {
   "cell_type": "code",
   "execution_count": null,
   "metadata": {},
   "outputs": [],
   "source": [
    "   X = LSTM(128, return_sequences=True)(embeddings)\n",
    "    # Add dropout with a probability of 0.5\n",
    "    X = Dropout(0.5)(X)\n",
    "    # Propagate X trough another LSTM layer with 128-dimensional hidden state\n",
    "    # Be careful, the returned output should be a single hidden state, not a batch of sequences.\n",
    "    X = LSTM(128, return_sequences=False)(X)\n",
    "    # Add dropout with a probability of 0.5\n",
    "    X = Dropout(0.5)(X)\n",
    "    # Propagate X through a Dense layer with softmax activation to get back a batch of 5-dimensional vectors.\n",
    "    X = Dense(5, activation=None)(X)\n",
    "    # Add a softmax activation\n",
    "    X = Activation('softmax')(X)"
   ]
  },
  {
   "cell_type": "code",
   "execution_count": 77,
   "metadata": {},
   "outputs": [],
   "source": [
    "def Loc_predict(input_shape, blosum_dict, aa_to_int):\n",
    "    \"\"\"\n",
    "    Function creating the a protein localization prediction model's graph.\n",
    "    \n",
    "    Arguments:\n",
    "    input_shape -- shape of the input, usually (max_len,)\n",
    "    blosum_dict -- dictionary mapping everyaa into its blosum vector representation\n",
    "    aa_to_int -- dictionary mapping from aa to their indices \n",
    "    \n",
    "    Returns:\n",
    "    model -- a model instance in Keras\n",
    "    \"\"\"\n",
    "    \n",
    "    ### START CODE HERE ###\n",
    "    # Define sentence_indices as the input of the graph, it should be of shape input_shape and dtype 'int32' (as it contains indices).\n",
    "    aa_indices = Input(input_shape, dtype='int32')\n",
    "    \n",
    "    # Create the embedding layer pretrained with GloVe Vectors (≈1 line)\n",
    "    embedding_layer = pretrained_embedding_layer(blosum_dict, aa_to_int)\n",
    "    \n",
    "    # Propagate sentence_indices through your embedding layer, you get back the embeddings\n",
    "    embeddings = embedding_layer(aa_indices)\n",
    "    #embeddings = Embedding(input_shape, 30)\n",
    "    \n",
    "    # Propagate the embeddings through an LSTM layer with 128-dimensional hidden state\n",
    "    # Be careful, the returned output should be a batch of sequences.\n",
    "    #X =  LSTM(64, return_sequences=True)(embeddings)\n",
    "    X = LSTM(128, return_sequences=True)(embeddings)\n",
    "    # Add dropout with a probability of 0.5\n",
    "    #X = Dropout(0.1)(X)\n",
    "    \n",
    "    #X = LSTM(64, return_sequences=True)(embeddings)\n",
    "    # Add dropout with a probability of 0.5\n",
    "    X = Dropout(0.2)(X)\n",
    "    # Propagate X trough another LSTM layer with 128-dimensional hidden state\n",
    "    # Be careful, the returned output should be a single hidden state, not a batch of sequences.\n",
    "    X = LSTM(128, return_sequences=False)(X)\n",
    "    # Add dropout with a probability of 0.5\n",
    "    X = Dropout(0.2)(X)\n",
    "    #X = Dense(64, activation='relu')(X)\n",
    "    # X = Dense(128, activation='relu')(X)\n",
    "    # Propagate X through a Dense layer with softmax activation to get back a batch of 5-dimensional vectors.\n",
    "    X = Dense(tot_cat, activation=None)(X)\n",
    "    # Add a softmax activation\n",
    "    X = Activation('softmax')(X)\n",
    "    \n",
    "    # Create Model instance which converts sentence_indices into X.\n",
    "    model = Model(inputs=[aa_indices], outputs=[X])\n",
    "    \n",
    "    ### END CODE HERE ###\n",
    "    \n",
    "    return model"
   ]
  },
  {
   "cell_type": "code",
   "execution_count": 78,
   "metadata": {},
   "outputs": [
    {
     "name": "stdout",
     "output_type": "stream",
     "text": [
      "Model: \"model_4\"\n",
      "_________________________________________________________________\n",
      "Layer (type)                 Output Shape              Param #   \n",
      "=================================================================\n",
      "input_4 (InputLayer)         (None, 1501)              0         \n",
      "_________________________________________________________________\n",
      "embedding_5 (Embedding)      (None, 1501, 21)          462       \n",
      "_________________________________________________________________\n",
      "lstm_8 (LSTM)                (None, 1501, 128)         76800     \n",
      "_________________________________________________________________\n",
      "dropout_8 (Dropout)          (None, 1501, 128)         0         \n",
      "_________________________________________________________________\n",
      "lstm_9 (LSTM)                (None, 128)               131584    \n",
      "_________________________________________________________________\n",
      "dropout_9 (Dropout)          (None, 128)               0         \n",
      "_________________________________________________________________\n",
      "dense_5 (Dense)              (None, 3)                 387       \n",
      "_________________________________________________________________\n",
      "activation_4 (Activation)    (None, 3)                 0         \n",
      "=================================================================\n",
      "Total params: 209,233\n",
      "Trainable params: 209,233\n",
      "Non-trainable params: 0\n",
      "_________________________________________________________________\n"
     ]
    }
   ],
   "source": [
    "model = Loc_predict((max_len,), blosum_dict, aa_to_int)\n",
    "model.summary()"
   ]
  },
  {
   "cell_type": "code",
   "execution_count": 64,
   "metadata": {},
   "outputs": [],
   "source": [
    "from keras.metrics import categorical_accuracy"
   ]
  },
  {
   "cell_type": "code",
   "execution_count": 79,
   "metadata": {},
   "outputs": [],
   "source": [
    "model.compile(loss='categorical_crossentropy', \n",
    "              optimizer='adam', \n",
    "              metrics=['accuracy'])"
   ]
  },
  {
   "cell_type": "code",
   "execution_count": 66,
   "metadata": {},
   "outputs": [],
   "source": [
    "from sklearn.utils import class_weight\n",
    "class_weights = class_weight.compute_class_weight('balanced',\n",
    "                                                 np.unique(train_y),\n",
    "                                                 train_y)\n",
    "d_class_weights = dict(enumerate(class_weights))"
   ]
  },
  {
   "cell_type": "code",
   "execution_count": 80,
   "metadata": {},
   "outputs": [
    {
     "name": "stdout",
     "output_type": "stream",
     "text": [
      "Epoch 1/25\n",
      "4446/4446 [==============================] - 427s 96ms/step - loss: 1.0403 - accuracy: 0.4600\n",
      "Epoch 2/25\n",
      "4446/4446 [==============================] - 395s 89ms/step - loss: 1.0337 - accuracy: 0.4737\n",
      "Epoch 3/25\n",
      "4446/4446 [==============================] - 401s 90ms/step - loss: 1.0328 - accuracy: 0.4737\n",
      "Epoch 4/25\n",
      "4446/4446 [==============================] - 365s 82ms/step - loss: 1.0333 - accuracy: 0.4737\n",
      "Epoch 5/25\n",
      "4446/4446 [==============================] - 361s 81ms/step - loss: 1.0325 - accuracy: 0.4737\n",
      "Epoch 6/25\n",
      "4446/4446 [==============================] - 367s 83ms/step - loss: 1.0326 - accuracy: 0.4737\n",
      "Epoch 7/25\n",
      "4446/4446 [==============================] - 364s 82ms/step - loss: 1.0320 - accuracy: 0.4737\n",
      "Epoch 8/25\n",
      "4446/4446 [==============================] - 363s 82ms/step - loss: 1.0328 - accuracy: 0.4737\n",
      "Epoch 9/25\n",
      "4446/4446 [==============================] - 362s 82ms/step - loss: 1.0346 - accuracy: 0.4737\n",
      "Epoch 10/25\n",
      "4446/4446 [==============================] - 364s 82ms/step - loss: 1.0327 - accuracy: 0.4737\n",
      "Epoch 11/25\n",
      "4446/4446 [==============================] - 362s 82ms/step - loss: 1.0310 - accuracy: 0.4737\n",
      "Epoch 12/25\n",
      "4446/4446 [==============================] - 365s 82ms/step - loss: 1.0329 - accuracy: 0.4737\n",
      "Epoch 13/25\n",
      "4446/4446 [==============================] - 363s 82ms/step - loss: 1.0319 - accuracy: 0.4737\n",
      "Epoch 14/25\n",
      "4446/4446 [==============================] - 363s 82ms/step - loss: 1.0320 - accuracy: 0.4737\n",
      "Epoch 15/25\n",
      "4446/4446 [==============================] - 363s 82ms/step - loss: 1.0317 - accuracy: 0.4737\n",
      "Epoch 16/25\n",
      "4446/4446 [==============================] - 363s 82ms/step - loss: 1.0315 - accuracy: 0.4737\n",
      "Epoch 17/25\n",
      "4446/4446 [==============================] - 362s 81ms/step - loss: 1.0309 - accuracy: 0.4739\n",
      "Epoch 18/25\n",
      "4446/4446 [==============================] - 374s 84ms/step - loss: 1.0325 - accuracy: 0.4737\n",
      "Epoch 19/25\n",
      "4446/4446 [==============================] - 407s 92ms/step - loss: 1.0323 - accuracy: 0.4737\n",
      "Epoch 20/25\n",
      "4446/4446 [==============================] - 368s 83ms/step - loss: 1.0317 - accuracy: 0.4737\n",
      "Epoch 21/25\n",
      "4446/4446 [==============================] - 372s 84ms/step - loss: 1.0314 - accuracy: 0.4737\n",
      "Epoch 22/25\n",
      "4446/4446 [==============================] - 396s 89ms/step - loss: 1.0310 - accuracy: 0.4737\n",
      "Epoch 23/25\n",
      "4446/4446 [==============================] - 396s 89ms/step - loss: 1.0307 - accuracy: 0.4737\n",
      "Epoch 24/25\n",
      "4446/4446 [==============================] - 374s 84ms/step - loss: 1.0324 - accuracy: 0.4737\n",
      "Epoch 25/25\n",
      "4446/4446 [==============================] - 390s 88ms/step - loss: 1.0319 - accuracy: 0.4737\n"
     ]
    },
    {
     "data": {
      "text/plain": [
       "<keras.callbacks.callbacks.History at 0x7f8354f06ef0>"
      ]
     },
     "execution_count": 80,
     "metadata": {},
     "output_type": "execute_result"
    }
   ],
   "source": [
    "#, class_weight=d_class_weights\n",
    "model.fit(train_indices, train_y_OH, epochs = 25, batch_size = 64, shuffle=True)"
   ]
  },
  {
   "cell_type": "code",
   "execution_count": 82,
   "metadata": {},
   "outputs": [
    {
     "name": "stdout",
     "output_type": "stream",
     "text": [
      "1112/1112 [==============================] - 41s 37ms/step\n",
      "\n",
      "Test accuracy =  0.4739208519458771\n"
     ]
    }
   ],
   "source": [
    "# Accuracy = 0.326 for several epoch, no further improvment\n",
    "loss, acc = model.evaluate(test_indices, test_y_OH)\n",
    "print()\n",
    "print(\"Test accuracy = \", acc)"
   ]
  },
  {
   "cell_type": "code",
   "execution_count": 70,
   "metadata": {},
   "outputs": [],
   "source": [
    "model.save(\"3Classes_model1.h5\")"
   ]
  },
  {
   "cell_type": "code",
   "execution_count": 72,
   "metadata": {},
   "outputs": [
    {
     "data": {
      "text/plain": [
       "array([[0.323337  , 0.23053128, 0.44613174],\n",
       "       [0.323337  , 0.23053128, 0.44613174],\n",
       "       [0.323337  , 0.23053128, 0.44613174],\n",
       "       ...,\n",
       "       [0.323337  , 0.23053128, 0.44613174],\n",
       "       [0.323337  , 0.23053128, 0.44613174],\n",
       "       [0.32333702, 0.23053128, 0.44613174]], dtype=float32)"
      ]
     },
     "execution_count": 72,
     "metadata": {},
     "output_type": "execute_result"
    }
   ],
   "source": [
    "y_pred = model.predict(test_indices)\n",
    "#should be array#\n",
    "#matrix = metrics.confusion_matrix(y_test.argmax(axis=1), y_pred.argmax(axis=1))\n",
    "y_pred"
   ]
  },
  {
   "cell_type": "code",
   "execution_count": 73,
   "metadata": {},
   "outputs": [
    {
     "data": {
      "text/plain": [
       "array([[0., 0., 1.],\n",
       "       [0., 0., 1.],\n",
       "       [1., 0., 0.],\n",
       "       ...,\n",
       "       [1., 0., 0.],\n",
       "       [0., 0., 1.],\n",
       "       [0., 0., 1.]])"
      ]
     },
     "execution_count": 73,
     "metadata": {},
     "output_type": "execute_result"
    }
   ],
   "source": [
    "test_y_OH"
   ]
  },
  {
   "cell_type": "code",
   "execution_count": 81,
   "metadata": {},
   "outputs": [
    {
     "data": {
      "text/plain": [
       "array([2, 2, 0, ..., 0, 2, 2])"
      ]
     },
     "execution_count": 81,
     "metadata": {},
     "output_type": "execute_result"
    }
   ],
   "source": [
    "test_y_indices"
   ]
  },
  {
   "cell_type": "code",
   "execution_count": null,
   "metadata": {},
   "outputs": [],
   "source": [
    "# One hot to label \n",
    "Y is list of OH vector\n",
    "def OH_to_label_indices(Y)\n",
    "    labels = []\n",
    "    for a in Y:\n",
    "        indices = np.argmax(a)\n",
    "        labels.append(indices)\n",
    "    return labels"
   ]
  },
  {
   "cell_type": "code",
   "execution_count": 75,
   "metadata": {},
   "outputs": [
    {
     "data": {
      "text/plain": [
       "(1112, 3)"
      ]
     },
     "execution_count": 75,
     "metadata": {},
     "output_type": "execute_result"
    }
   ],
   "source": [
    "y_pred.shape"
   ]
  },
  {
   "cell_type": "code",
   "execution_count": 76,
   "metadata": {},
   "outputs": [
    {
     "data": {
      "text/plain": [
       "(1112, 3)"
      ]
     },
     "execution_count": 76,
     "metadata": {},
     "output_type": "execute_result"
    }
   ],
   "source": [
    "test_y_OH.shape"
   ]
  },
  {
   "cell_type": "code",
   "execution_count": null,
   "metadata": {},
   "outputs": [],
   "source": []
  }
 ],
 "metadata": {
  "kernelspec": {
   "display_name": "Python 3",
   "language": "python",
   "name": "python3"
  },
  "language_info": {
   "codemirror_mode": {
    "name": "ipython",
    "version": 3
   },
   "file_extension": ".py",
   "mimetype": "text/x-python",
   "name": "python",
   "nbconvert_exporter": "python",
   "pygments_lexer": "ipython3",
   "version": "3.7.3"
  }
 },
 "nbformat": 4,
 "nbformat_minor": 2
}
