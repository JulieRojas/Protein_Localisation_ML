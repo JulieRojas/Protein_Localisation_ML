{
 "cells": [
  {
   "cell_type": "code",
   "execution_count": 10,
   "metadata": {},
   "outputs": [],
   "source": [
    "import matplotlib\n",
    "import pandas as pd\n",
    "import csv\n",
    "import numpy as np\n",
    "%matplotlib inline "
   ]
  },
  {
   "cell_type": "code",
   "execution_count": 11,
   "metadata": {},
   "outputs": [
    {
     "data": {
      "text/html": [
       "<div>\n",
       "<style scoped>\n",
       "    .dataframe tbody tr th:only-of-type {\n",
       "        vertical-align: middle;\n",
       "    }\n",
       "\n",
       "    .dataframe tbody tr th {\n",
       "        vertical-align: top;\n",
       "    }\n",
       "\n",
       "    .dataframe thead th {\n",
       "        text-align: right;\n",
       "    }\n",
       "</style>\n",
       "<table border=\"1\" class=\"dataframe\">\n",
       "  <thead>\n",
       "    <tr style=\"text-align: right;\">\n",
       "      <th></th>\n",
       "      <th>Lead Protein ID</th>\n",
       "      <th>Compartment Prediction</th>\n",
       "      <th>Prediction Confidence</th>\n",
       "      <th>Sequence</th>\n",
       "      <th>Sequence Lengh</th>\n",
       "    </tr>\n",
       "  </thead>\n",
       "  <tbody>\n",
       "    <tr>\n",
       "      <th>0</th>\n",
       "      <td>Q9Y619</td>\n",
       "      <td>Mitochondrion</td>\n",
       "      <td>Medium</td>\n",
       "      <td>MKSNPAIQAAIDLTAGAAGGTACVLTGQPFDTMKVKMQTFPDLYRG...</td>\n",
       "      <td>301</td>\n",
       "    </tr>\n",
       "    <tr>\n",
       "      <th>1</th>\n",
       "      <td>Q6Q0C0</td>\n",
       "      <td>Plasma membrane</td>\n",
       "      <td>Medium</td>\n",
       "      <td>MSSGKSARYNRFSGGPSNLPTPDVTTGTRMETTFGPAFSAVTTITK...</td>\n",
       "      <td>670</td>\n",
       "    </tr>\n",
       "    <tr>\n",
       "      <th>2</th>\n",
       "      <td>O95834</td>\n",
       "      <td>Large Protein Complex</td>\n",
       "      <td>Medium</td>\n",
       "      <td>MSSFGAGKTKEVIFSVEDGSVKMFLRGRPVPMMIPDELAPTYSLDT...</td>\n",
       "      <td>649</td>\n",
       "    </tr>\n",
       "    <tr>\n",
       "      <th>3</th>\n",
       "      <td>Q9P0I2</td>\n",
       "      <td>ER</td>\n",
       "      <td>Medium</td>\n",
       "      <td>MAGPELLLDSNIRLWVVLPIVIITFFVGMIRHYVSILLQSDKKLTQ...</td>\n",
       "      <td>261</td>\n",
       "    </tr>\n",
       "    <tr>\n",
       "      <th>4</th>\n",
       "      <td>Q86UD0</td>\n",
       "      <td>Large Protein Complex</td>\n",
       "      <td>Low</td>\n",
       "      <td>MAGAAMAERGRVPPPAPAPSTEGLPRAFLQSLRTLFDILDDRRRGC...</td>\n",
       "      <td>394</td>\n",
       "    </tr>\n",
       "  </tbody>\n",
       "</table>\n",
       "</div>"
      ],
      "text/plain": [
       "  Lead Protein ID Compartment Prediction Prediction Confidence  \\\n",
       "0          Q9Y619          Mitochondrion                Medium   \n",
       "1          Q6Q0C0        Plasma membrane                Medium   \n",
       "2          O95834  Large Protein Complex                Medium   \n",
       "3          Q9P0I2                     ER                Medium   \n",
       "4          Q86UD0  Large Protein Complex                   Low   \n",
       "\n",
       "                                            Sequence  Sequence Lengh  \n",
       "0  MKSNPAIQAAIDLTAGAAGGTACVLTGQPFDTMKVKMQTFPDLYRG...             301  \n",
       "1  MSSGKSARYNRFSGGPSNLPTPDVTTGTRMETTFGPAFSAVTTITK...             670  \n",
       "2  MSSFGAGKTKEVIFSVEDGSVKMFLRGRPVPMMIPDELAPTYSLDT...             649  \n",
       "3  MAGPELLLDSNIRLWVVLPIVIITFFVGMIRHYVSILLQSDKKLTQ...             261  \n",
       "4  MAGAAMAERGRVPPPAPAPSTEGLPRAFLQSLRTLFDILDDRRRGC...             394  "
      ]
     },
     "execution_count": 11,
     "metadata": {},
     "output_type": "execute_result"
    }
   ],
   "source": [
    "train = pd.read_csv(\"data/strat_train.csv\", sep=\"\\t\")\n",
    "train.head()"
   ]
  },
  {
   "cell_type": "code",
   "execution_count": 12,
   "metadata": {},
   "outputs": [
    {
     "data": {
      "text/plain": [
       "(3871, 5)"
      ]
     },
     "execution_count": 12,
     "metadata": {},
     "output_type": "execute_result"
    }
   ],
   "source": [
    "train.shape"
   ]
  },
  {
   "cell_type": "code",
   "execution_count": 13,
   "metadata": {
    "scrolled": true
   },
   "outputs": [
    {
     "data": {
      "text/html": [
       "<div>\n",
       "<style scoped>\n",
       "    .dataframe tbody tr th:only-of-type {\n",
       "        vertical-align: middle;\n",
       "    }\n",
       "\n",
       "    .dataframe tbody tr th {\n",
       "        vertical-align: top;\n",
       "    }\n",
       "\n",
       "    .dataframe thead th {\n",
       "        text-align: right;\n",
       "    }\n",
       "</style>\n",
       "<table border=\"1\" class=\"dataframe\">\n",
       "  <thead>\n",
       "    <tr style=\"text-align: right;\">\n",
       "      <th></th>\n",
       "      <th>Lead Protein ID</th>\n",
       "      <th>Compartment Prediction</th>\n",
       "      <th>Prediction Confidence</th>\n",
       "      <th>Sequence</th>\n",
       "      <th>Sequence Lengh</th>\n",
       "    </tr>\n",
       "  </thead>\n",
       "  <tbody>\n",
       "    <tr>\n",
       "      <th>0</th>\n",
       "      <td>P98173</td>\n",
       "      <td>Golgi</td>\n",
       "      <td>Medium</td>\n",
       "      <td>MRLAGPLRIVVLVVSVGVTWIVVSILLGGPGSGFPRIQQLFTSPES...</td>\n",
       "      <td>230</td>\n",
       "    </tr>\n",
       "    <tr>\n",
       "      <th>1</th>\n",
       "      <td>P08195</td>\n",
       "      <td>Plasma membrane</td>\n",
       "      <td>Very High</td>\n",
       "      <td>MELQPPEASIAVVSIPRQLPGSHSEAGVQGLSAGDDSELGSHCVAQ...</td>\n",
       "      <td>630</td>\n",
       "    </tr>\n",
       "    <tr>\n",
       "      <th>2</th>\n",
       "      <td>O43663</td>\n",
       "      <td>Large Protein Complex</td>\n",
       "      <td>High</td>\n",
       "      <td>MRRSEVLAEESIVCLQKALNHLREIWELIGIPEDQRLQRTEVVKKH...</td>\n",
       "      <td>620</td>\n",
       "    </tr>\n",
       "    <tr>\n",
       "      <th>3</th>\n",
       "      <td>P51649</td>\n",
       "      <td>Mitochondrion</td>\n",
       "      <td>Medium</td>\n",
       "      <td>MATCIWLRSCGARRLGSTFPGCRLRPRAGGLVPASGPAPGPAQLRC...</td>\n",
       "      <td>535</td>\n",
       "    </tr>\n",
       "    <tr>\n",
       "      <th>4</th>\n",
       "      <td>Q68EM7</td>\n",
       "      <td>Large Protein Complex</td>\n",
       "      <td>Very High</td>\n",
       "      <td>MKKQFNRMKQLANQTVGRAEKTEVLSEDLLQIERRLDTVRSICHHS...</td>\n",
       "      <td>881</td>\n",
       "    </tr>\n",
       "  </tbody>\n",
       "</table>\n",
       "</div>"
      ],
      "text/plain": [
       "  Lead Protein ID Compartment Prediction Prediction Confidence  \\\n",
       "0          P98173                  Golgi                Medium   \n",
       "1          P08195        Plasma membrane             Very High   \n",
       "2          O43663  Large Protein Complex                  High   \n",
       "3          P51649          Mitochondrion                Medium   \n",
       "4          Q68EM7  Large Protein Complex             Very High   \n",
       "\n",
       "                                            Sequence  Sequence Lengh  \n",
       "0  MRLAGPLRIVVLVVSVGVTWIVVSILLGGPGSGFPRIQQLFTSPES...             230  \n",
       "1  MELQPPEASIAVVSIPRQLPGSHSEAGVQGLSAGDDSELGSHCVAQ...             630  \n",
       "2  MRRSEVLAEESIVCLQKALNHLREIWELIGIPEDQRLQRTEVVKKH...             620  \n",
       "3  MATCIWLRSCGARRLGSTFPGCRLRPRAGGLVPASGPAPGPAQLRC...             535  \n",
       "4  MKKQFNRMKQLANQTVGRAEKTEVLSEDLLQIERRLDTVRSICHHS...             881  "
      ]
     },
     "execution_count": 13,
     "metadata": {},
     "output_type": "execute_result"
    }
   ],
   "source": [
    "test = pd.read_csv(\"data/strat_test.csv\", sep=\"\\t\")\n",
    "test.head()"
   ]
  },
  {
   "cell_type": "code",
   "execution_count": 14,
   "metadata": {},
   "outputs": [
    {
     "data": {
      "text/plain": [
       "(968, 5)"
      ]
     },
     "execution_count": 14,
     "metadata": {},
     "output_type": "execute_result"
    }
   ],
   "source": [
    "test.shape"
   ]
  },
  {
   "cell_type": "markdown",
   "metadata": {},
   "source": [
    "## Preparing data "
   ]
  },
  {
   "cell_type": "code",
   "execution_count": null,
   "metadata": {},
   "outputs": [],
   "source": []
  },
  {
   "cell_type": "code",
   "execution_count": 15,
   "metadata": {},
   "outputs": [],
   "source": [
    "train_y = train[\"Compartment Prediction\"]\n",
    "test_y = test[\"Compartment Prediction\"]"
   ]
  },
  {
   "cell_type": "code",
   "execution_count": 24,
   "metadata": {},
   "outputs": [],
   "source": [
    "train_x = train[\"Sequence\"].copy()\n",
    "test_x = test[\"Sequence\"].copy()"
   ]
  },
  {
   "cell_type": "code",
   "execution_count": 25,
   "metadata": {},
   "outputs": [
    {
     "name": "stdout",
     "output_type": "stream",
     "text": [
      "3871\n",
      "MKSNPAIQAAIDLTAGAAGGTACVLTGQPFDTMKVKMQTFPDLYRGLTDCCLKTYSQVGFRGFYKGTSPALIANIAENSVLFMCYGFCQQVVRKVAGLDKQAKLSDLQNAAAGSFASAFAALVLCPTELVKCRLQTMYEMETSGKIAKSQNTVWSVIKSILRKDGPLGFYHGLSSTLLREVPGYFFFFGGYELSRSFFASGRSKDELGPVPLMLSGGVGGICLWLAVYPVDCIKSRIQVLSMSGKQAGFIRTFINVVKNEGITALYSGLKPTMIRAFPANGALFLAYEYSRKLMMNQLEAY**\n"
     ]
    }
   ],
   "source": [
    "print(len(train_x))\n",
    "print(train_x[0]+'*')"
   ]
  },
  {
   "cell_type": "code",
   "execution_count": 26,
   "metadata": {},
   "outputs": [],
   "source": [
    "# Add * at the end of each sequence\n",
    "def end_adder(X):\n",
    "    for s in range(len(X)):\n",
    "        X.loc[s] += '*'\n",
    "    return X"
   ]
  },
  {
   "cell_type": "code",
   "execution_count": 27,
   "metadata": {},
   "outputs": [],
   "source": [
    "train_x = end_adder(train_x)"
   ]
  },
  {
   "cell_type": "code",
   "execution_count": 28,
   "metadata": {},
   "outputs": [],
   "source": [
    "test_x = end_adder(test_x)"
   ]
  },
  {
   "cell_type": "code",
   "execution_count": 29,
   "metadata": {},
   "outputs": [
    {
     "name": "stdout",
     "output_type": "stream",
     "text": [
      "1501\n"
     ]
    }
   ],
   "source": [
    "max_len = len(max(train_x, key=len))\n",
    "print(max_len)\n",
    "# I checked that there is no longer sequence in test set"
   ]
  },
  {
   "cell_type": "code",
   "execution_count": 30,
   "metadata": {},
   "outputs": [],
   "source": [
    "# 5 sequences with U in dataset, replace buy Cys\n",
    "for x in range(len(train_x)):\n",
    "    seq =train_x[x]\n",
    "    train_x[x] = seq.replace('U', 'C')"
   ]
  },
  {
   "cell_type": "markdown",
   "metadata": {},
   "source": [
    "### One hot encoding of amino acids\n",
    "\n",
    "this was really helpfull:\n",
    "https://machinelearningmastery.com/how-to-one-hot-encode-sequence-data-in-python/"
   ]
  },
  {
   "cell_type": "code",
   "execution_count": 31,
   "metadata": {},
   "outputs": [
    {
     "name": "stdout",
     "output_type": "stream",
     "text": [
      "[[0. 0. 0. 0. 0. 0. 0. 0. 0. 0. 0. 1. 0.]\n",
      " [0. 0. 0. 0. 0. 0. 0. 0. 0. 0. 0. 0. 0.]\n",
      " [0. 0. 1. 0. 0. 1. 0. 0. 0. 0. 0. 0. 0.]\n",
      " [0. 0. 0. 0. 0. 0. 0. 0. 0. 0. 0. 0. 0.]\n",
      " [0. 0. 0. 0. 0. 0. 0. 0. 0. 0. 0. 0. 0.]\n",
      " [0. 1. 0. 0. 0. 0. 0. 0. 0. 0. 0. 0. 0.]\n",
      " [0. 0. 0. 0. 0. 0. 0. 0. 0. 0. 0. 0. 0.]\n",
      " [0. 0. 0. 0. 0. 0. 0. 0. 0. 1. 0. 0. 0.]\n",
      " [0. 0. 0. 0. 0. 0. 0. 0. 0. 0. 0. 0. 0.]\n",
      " [0. 0. 0. 0. 1. 0. 0. 0. 0. 0. 0. 0. 0.]\n",
      " [0. 0. 0. 0. 0. 0. 0. 0. 0. 0. 0. 0. 0.]\n",
      " [0. 0. 0. 0. 0. 0. 0. 0. 1. 0. 1. 0. 0.]\n",
      " [1. 0. 0. 0. 0. 0. 0. 0. 0. 0. 0. 0. 0.]\n",
      " [0. 0. 0. 0. 0. 0. 0. 0. 0. 0. 0. 0. 0.]\n",
      " [0. 0. 0. 0. 0. 0. 0. 0. 0. 0. 0. 0. 0.]\n",
      " [0. 0. 0. 0. 0. 0. 0. 0. 0. 0. 0. 0. 0.]\n",
      " [0. 0. 0. 0. 0. 0. 1. 0. 0. 0. 0. 0. 0.]\n",
      " [0. 0. 0. 0. 0. 0. 0. 0. 0. 0. 0. 0. 0.]\n",
      " [0. 0. 0. 0. 0. 0. 0. 0. 0. 0. 0. 0. 0.]\n",
      " [0. 0. 0. 1. 0. 0. 0. 1. 0. 0. 0. 0. 0.]\n",
      " [0. 0. 0. 0. 0. 0. 0. 0. 0. 0. 0. 0. 1.]]\n",
      "MQNVINTVKGKA*\n"
     ]
    }
   ],
   "source": [
    "test_seq = \"MQNVINTVKGKA*\"\n",
    "\n",
    "# all amino acids (in blosum order)\n",
    "aa = \"ARNDCQEGHILKMFPSTWYV*\"\n",
    "tot_aa = len(aa)\n",
    "\n",
    "# define a mapping of aa to integers\n",
    "aa_to_int = dict((c, i) for i, c in enumerate(aa))\n",
    "int_to_aa = dict((i, c) for i, c in enumerate(aa))\n",
    "\n",
    "# one hot encode\n",
    "onehot_encoded = np.zeros((tot_aa, len(test_seq)))\n",
    "for a in range(len(test_seq)):\n",
    "    onehot_encoded[aa_to_int[test_seq[a]], a] = 1\n",
    "print(onehot_encoded)\n",
    "\n",
    "# One hot to aa\n",
    "new_seq = ''\n",
    "for a in range(len(onehot_encoded[1])):\n",
    "    vect = np.argmax(onehot_encoded[:,a])\n",
    "    new_seq += int_to_aa[vect]\n",
    "print(new_seq)"
   ]
  },
  {
   "cell_type": "markdown",
   "metadata": {},
   "source": [
    "## One hot encoding of Labels"
   ]
  },
  {
   "cell_type": "code",
   "execution_count": 32,
   "metadata": {},
   "outputs": [],
   "source": [
    "cat = ['Actin binding proteins',\n",
    " 'ER',\n",
    " 'ER_high_curvature',\n",
    " 'Endosome',\n",
    " 'Ergic/cisGolgi',\n",
    " 'Golgi',\n",
    " 'Large Protein Complex',\n",
    " 'Lysosome',\n",
    " 'Mitochondrion',\n",
    " 'Nuclear pore complex',\n",
    " 'Peroxisome',\n",
    " 'Plasma membrane']"
   ]
  },
  {
   "cell_type": "code",
   "execution_count": 33,
   "metadata": {},
   "outputs": [
    {
     "data": {
      "text/plain": [
       "(3871,)"
      ]
     },
     "execution_count": 33,
     "metadata": {},
     "output_type": "execute_result"
    }
   ],
   "source": [
    "train_y.shape"
   ]
  },
  {
   "cell_type": "code",
   "execution_count": 34,
   "metadata": {},
   "outputs": [],
   "source": [
    "tot_cat = len(cat)\n",
    "cat_to_int = {}\n",
    "int_to_cat = {}\n",
    "for i in range(tot_cat):\n",
    "    cat_to_int[cat[i]] = i\n",
    "    int_to_cat[i] = cat[i]    "
   ]
  },
  {
   "cell_type": "code",
   "execution_count": 35,
   "metadata": {},
   "outputs": [],
   "source": [
    "def cat_to_indices(Y):\n",
    "    Y_indices = np.zeros([Y.shape[0],], dtype=int)\n",
    "    for i in range(len(Y)):\n",
    "        Y_indices[i] = cat_to_int[Y[i]]\n",
    "    return Y_indices\n",
    "\n",
    "# one hot encode\n",
    "def convert_to_one_hot(Y, C):\n",
    "    Y = np.eye(C)[Y.reshape(-1)]\n",
    "    return Y"
   ]
  },
  {
   "cell_type": "code",
   "execution_count": 36,
   "metadata": {},
   "outputs": [],
   "source": [
    "train_y_indices = cat_to_indices(train_y)\n",
    "test_y_indices = cat_to_indices(test_y)"
   ]
  },
  {
   "cell_type": "code",
   "execution_count": 37,
   "metadata": {},
   "outputs": [],
   "source": [
    "train_y_OH = convert_to_one_hot(train_y_indices, C = 12)\n",
    "test_y_OH = convert_to_one_hot(test_y_indices, C = 12)"
   ]
  },
  {
   "cell_type": "markdown",
   "metadata": {},
   "source": [
    "## Encoding of Protein sequences to list of indices"
   ]
  },
  {
   "cell_type": "code",
   "execution_count": 38,
   "metadata": {},
   "outputs": [],
   "source": [
    "# Function to convert sequences to array of indices. I will that that one for embedding \n",
    "\n",
    "def seq_to_indices(X, aa_to_int, max_len):\n",
    "    \"\"\"\n",
    "    Converts an array of senquences (strings) into an array of indices corresponding to aa in the sequence.\n",
    "    \n",
    "    Arguments:\n",
    "    X -- array of sequences (strings), of shape (m, 1)\n",
    "    aa_to_int -- a dictionary containing the each aa mapped to its index\n",
    "    max_len -- maximum lengh of sequences array, bigger than test set \n",
    "    \n",
    "    Returns:\n",
    "    X_indices -- array of indices corresponding to aa in the sequences from X, of shape (m, max_len), padded\n",
    "    \"\"\"\n",
    "    \n",
    "    m = X.shape[0]                                   # number of training examples\n",
    "    \n",
    "    ### START CODE HERE ###\n",
    "    # Initialize X_indices as a numpy matrix of zeros and the correct shape (≈ 1 line)\n",
    "    X_indices = np.zeros([m,max_len])\n",
    "    X_indices.fill(aa_to_int[\"*\"])\n",
    "    \n",
    "    for i in range(m):                               # loop over training examples\n",
    "        seq_aa = X[i]\n",
    "        \n",
    "        # Initialize j to 0\n",
    "        j = 0\n",
    "        \n",
    "        # Loop over the words of sentence_words\n",
    "        for w in range(len(seq_aa)):\n",
    "            # Set the (i,j)th entry of X_indices to the index of the correct word.\n",
    "            X_indices[i, j] = aa_to_int[seq_aa[w]]\n",
    "            # Increment j to j + 1\n",
    "            j = j+1\n",
    "            \n",
    "    ### END CODE HERE ###\n",
    "    \n",
    "    return X_indices"
   ]
  },
  {
   "cell_type": "code",
   "execution_count": 39,
   "metadata": {},
   "outputs": [],
   "source": [
    "train_indices = seq_to_indices(train_x, aa_to_int, max_len)"
   ]
  },
  {
   "cell_type": "code",
   "execution_count": 40,
   "metadata": {},
   "outputs": [
    {
     "data": {
      "text/plain": [
       "array([12., 11., 15., ..., 20., 20., 20.])"
      ]
     },
     "execution_count": 40,
     "metadata": {},
     "output_type": "execute_result"
    }
   ],
   "source": [
    "train_indices[0]"
   ]
  },
  {
   "cell_type": "code",
   "execution_count": 41,
   "metadata": {},
   "outputs": [],
   "source": [
    "test_indices = seq_to_indices(test_x, aa_to_int, max_len)"
   ]
  },
  {
   "cell_type": "code",
   "execution_count": 42,
   "metadata": {},
   "outputs": [],
   "source": [
    "# this functiono convert all the sequences for train and test set directly to one hot encoding\n",
    "def OH_converter(X):\n",
    "    OH_X = []\n",
    "    for sequences in X:\n",
    "        seq = sequences\n",
    "        OH_seq = np.zeros((tot_aa, len(seq)))\n",
    "        for a in range(len(seq)):\n",
    "            OH_seq[aa_to_int[seq[a]], a] = 1\n",
    "        OH_X.append(OH_seq)\n",
    "    return OH_X"
   ]
  },
  {
   "cell_type": "code",
   "execution_count": 43,
   "metadata": {
    "scrolled": true
   },
   "outputs": [],
   "source": [
    "train_OH = OH_converter(train_x)"
   ]
  },
  {
   "cell_type": "code",
   "execution_count": 44,
   "metadata": {},
   "outputs": [],
   "source": [
    "test_OH = OH_converter(test_x)"
   ]
  },
  {
   "cell_type": "code",
   "execution_count": 45,
   "metadata": {},
   "outputs": [],
   "source": [
    "#to decode one OH_encoded sequence\n",
    "def OH_to_seq(data):\n",
    "    encoded_seq = data\n",
    "    seq = ''\n",
    "    for a in range(len(encoded_seq[1])):\n",
    "        vect = np.argmax(encoded_seq[:,a])\n",
    "        seq += int_to_aa[vect]\n",
    "    return seq"
   ]
  },
  {
   "cell_type": "code",
   "execution_count": 46,
   "metadata": {},
   "outputs": [
    {
     "data": {
      "text/plain": [
       "'MKSNPAIQAAIDLTAGAAGGTACVLTGQPFDTMKVKMQTFPDLYRGLTDCCLKTYSQVGFRGFYKGTSPALIANIAENSVLFMCYGFCQQVVRKVAGLDKQAKLSDLQNAAAGSFASAFAALVLCPTELVKCRLQTMYEMETSGKIAKSQNTVWSVIKSILRKDGPLGFYHGLSSTLLREVPGYFFFFGGYELSRSFFASGRSKDELGPVPLMLSGGVGGICLWLAVYPVDCIKSRIQVLSMSGKQAGFIRTFINVVKNEGITALYSGLKPTMIRAFPANGALFLAYEYSRKLMMNQLEAY**'"
      ]
     },
     "execution_count": 46,
     "metadata": {},
     "output_type": "execute_result"
    }
   ],
   "source": [
    "OH_to_seq(train_OH[0])"
   ]
  },
  {
   "cell_type": "code",
   "execution_count": 47,
   "metadata": {},
   "outputs": [
    {
     "data": {
      "text/plain": [
       "'MKSNPAIQAAIDLTAGAAGGTACVLTGQPFDTMKVKMQTFPDLYRGLTDCCLKTYSQVGFRGFYKGTSPALIANIAENSVLFMCYGFCQQVVRKVAGLDKQAKLSDLQNAAAGSFASAFAALVLCPTELVKCRLQTMYEMETSGKIAKSQNTVWSVIKSILRKDGPLGFYHGLSSTLLREVPGYFFFFGGYELSRSFFASGRSKDELGPVPLMLSGGVGGICLWLAVYPVDCIKSRIQVLSMSGKQAGFIRTFINVVKNEGITALYSGLKPTMIRAFPANGALFLAYEYSRKLMMNQLEAY**'"
      ]
     },
     "execution_count": 47,
     "metadata": {},
     "output_type": "execute_result"
    }
   ],
   "source": [
    "train_x[0]"
   ]
  },
  {
   "cell_type": "markdown",
   "metadata": {},
   "source": [
    "## BLOSUM62 matrix"
   ]
  },
  {
   "cell_type": "code",
   "execution_count": 48,
   "metadata": {},
   "outputs": [],
   "source": [
    "def read_blosum(filename):\n",
    "    rows = []\n",
    "    data = []\n",
    "    with open(filename, \"r\") as fs:\n",
    "        line = fs.readline()\n",
    "        while line[0] == \"#\":\n",
    "            line = fs.readline()\n",
    "        for line in fs:\n",
    "            lspl = line.rstrip().replace('  ', ' ').split(' ')\n",
    "            rows.append(lspl[0])\n",
    "            data.append([float(i) for i in lspl[1:]])\n",
    "    data = np.asarray(data)\n",
    "    # Remove Z X B rows and colums\n",
    "    data = np.delete(data, [20, 21, 22], axis=0)\n",
    "    data = np.delete(data, [20, 21, 22], axis=1)\n",
    "    del rows[20:23]\n",
    "    return(data, rows)\n",
    "\n",
    "blosum, rows = read_blosum(\"data/BLOSUM62.txt\")"
   ]
  },
  {
   "cell_type": "code",
   "execution_count": 49,
   "metadata": {},
   "outputs": [
    {
     "name": "stdout",
     "output_type": "stream",
     "text": [
      "original shape:    (21, 21)\n",
      "transformed shape: (21, 2)\n"
     ]
    }
   ],
   "source": [
    "from sklearn.decomposition import PCA\n",
    "import matplotlib.pyplot as plt\n",
    "\n",
    "pca = PCA(n_components=2)\n",
    "pca.fit(blosum)\n",
    "blosum_pca = pca.transform(blosum)\n",
    "print(\"original shape:   \", blosum.shape)\n",
    "print(\"transformed shape:\", blosum_pca.shape)"
   ]
  },
  {
   "cell_type": "code",
   "execution_count": 50,
   "metadata": {},
   "outputs": [
    {
     "data": {
      "image/png": "[encoded data removed]",
      "text/plain": [
       "<Figure size 432x288 with 1 Axes>"
      ]
     },
     "metadata": {
      "needs_background": "light"
     },
     "output_type": "display_data"
    }
   ],
   "source": [
    "fig, ax = plt.subplots()\n",
    "plt.scatter(blosum_pca[:, 0], blosum_pca[:, 1], edgecolor='none')\n",
    "\n",
    "for i, txt in enumerate(rows):\n",
    "    ax.annotate(txt, (blosum_pca[:, 0][i], blosum_pca[:, 1][i]))\n",
    "    \n",
    "\n",
    "plt.show()"
   ]
  },
  {
   "cell_type": "code",
   "execution_count": 51,
   "metadata": {},
   "outputs": [],
   "source": [
    "v = blosum[:, :]   # foo[:, -1] for the last column\n",
    "blosum[:, :] = (v - v.min()) / (v.max() - v.min())"
   ]
  },
  {
   "cell_type": "code",
   "execution_count": 52,
   "metadata": {},
   "outputs": [],
   "source": [
    "blosum_dict = {}\n",
    "for i in range(len(rows)):\n",
    "    blosum_dict[rows[i]]= blosum[i]"
   ]
  },
  {
   "cell_type": "code",
   "execution_count": 53,
   "metadata": {},
   "outputs": [
    {
     "data": {
      "text/plain": [
       "{'A': array([0.53333333, 0.2       , 0.13333333, 0.13333333, 0.26666667,\n",
       "        0.2       , 0.2       , 0.26666667, 0.13333333, 0.2       ,\n",
       "        0.2       , 0.2       , 0.2       , 0.13333333, 0.2       ,\n",
       "        0.33333333, 0.26666667, 0.06666667, 0.13333333, 0.26666667,\n",
       "        0.        ]),\n",
       " 'R': array([0.2       , 0.6       , 0.26666667, 0.13333333, 0.06666667,\n",
       "        0.33333333, 0.26666667, 0.13333333, 0.26666667, 0.06666667,\n",
       "        0.13333333, 0.4       , 0.2       , 0.06666667, 0.13333333,\n",
       "        0.2       , 0.2       , 0.06666667, 0.13333333, 0.06666667,\n",
       "        0.        ]),\n",
       " 'N': array([0.13333333, 0.26666667, 0.66666667, 0.33333333, 0.06666667,\n",
       "        0.26666667, 0.26666667, 0.26666667, 0.33333333, 0.06666667,\n",
       "        0.06666667, 0.26666667, 0.13333333, 0.06666667, 0.13333333,\n",
       "        0.33333333, 0.26666667, 0.        , 0.13333333, 0.06666667,\n",
       "        0.        ]),\n",
       " 'D': array([0.13333333, 0.13333333, 0.33333333, 0.66666667, 0.06666667,\n",
       "        0.26666667, 0.4       , 0.2       , 0.2       , 0.06666667,\n",
       "        0.        , 0.2       , 0.06666667, 0.06666667, 0.2       ,\n",
       "        0.26666667, 0.2       , 0.        , 0.06666667, 0.06666667,\n",
       "        0.        ]),\n",
       " 'C': array([0.26666667, 0.06666667, 0.06666667, 0.06666667, 0.86666667,\n",
       "        0.06666667, 0.        , 0.06666667, 0.06666667, 0.2       ,\n",
       "        0.2       , 0.06666667, 0.2       , 0.13333333, 0.06666667,\n",
       "        0.2       , 0.2       , 0.13333333, 0.13333333, 0.2       ,\n",
       "        0.        ]),\n",
       " 'Q': array([0.2       , 0.33333333, 0.26666667, 0.26666667, 0.06666667,\n",
       "        0.6       , 0.4       , 0.13333333, 0.26666667, 0.06666667,\n",
       "        0.13333333, 0.33333333, 0.26666667, 0.06666667, 0.2       ,\n",
       "        0.26666667, 0.2       , 0.13333333, 0.2       , 0.13333333,\n",
       "        0.        ]),\n",
       " 'E': array([0.2       , 0.26666667, 0.26666667, 0.4       , 0.        ,\n",
       "        0.4       , 0.6       , 0.13333333, 0.26666667, 0.06666667,\n",
       "        0.06666667, 0.33333333, 0.13333333, 0.06666667, 0.2       ,\n",
       "        0.26666667, 0.2       , 0.06666667, 0.13333333, 0.13333333,\n",
       "        0.        ]),\n",
       " 'G': array([0.26666667, 0.13333333, 0.26666667, 0.2       , 0.06666667,\n",
       "        0.13333333, 0.13333333, 0.66666667, 0.13333333, 0.        ,\n",
       "        0.        , 0.13333333, 0.06666667, 0.06666667, 0.13333333,\n",
       "        0.26666667, 0.13333333, 0.13333333, 0.06666667, 0.06666667,\n",
       "        0.        ]),\n",
       " 'H': array([0.13333333, 0.26666667, 0.33333333, 0.2       , 0.06666667,\n",
       "        0.26666667, 0.26666667, 0.13333333, 0.8       , 0.06666667,\n",
       "        0.06666667, 0.2       , 0.13333333, 0.2       , 0.13333333,\n",
       "        0.2       , 0.13333333, 0.13333333, 0.4       , 0.06666667,\n",
       "        0.        ]),\n",
       " 'I': array([0.2       , 0.06666667, 0.06666667, 0.06666667, 0.2       ,\n",
       "        0.06666667, 0.06666667, 0.        , 0.06666667, 0.53333333,\n",
       "        0.4       , 0.06666667, 0.33333333, 0.26666667, 0.06666667,\n",
       "        0.13333333, 0.2       , 0.06666667, 0.2       , 0.46666667,\n",
       "        0.        ]),\n",
       " 'L': array([0.2       , 0.13333333, 0.06666667, 0.        , 0.2       ,\n",
       "        0.13333333, 0.06666667, 0.        , 0.06666667, 0.4       ,\n",
       "        0.53333333, 0.13333333, 0.4       , 0.26666667, 0.06666667,\n",
       "        0.13333333, 0.2       , 0.13333333, 0.2       , 0.33333333,\n",
       "        0.        ]),\n",
       " 'K': array([0.2       , 0.4       , 0.26666667, 0.2       , 0.06666667,\n",
       "        0.33333333, 0.33333333, 0.13333333, 0.2       , 0.06666667,\n",
       "        0.13333333, 0.6       , 0.2       , 0.06666667, 0.2       ,\n",
       "        0.26666667, 0.2       , 0.06666667, 0.13333333, 0.13333333,\n",
       "        0.        ]),\n",
       " 'M': array([0.2       , 0.2       , 0.13333333, 0.06666667, 0.2       ,\n",
       "        0.26666667, 0.13333333, 0.06666667, 0.13333333, 0.33333333,\n",
       "        0.4       , 0.2       , 0.6       , 0.26666667, 0.13333333,\n",
       "        0.2       , 0.2       , 0.2       , 0.2       , 0.33333333,\n",
       "        0.        ]),\n",
       " 'F': array([0.13333333, 0.06666667, 0.06666667, 0.06666667, 0.13333333,\n",
       "        0.06666667, 0.06666667, 0.06666667, 0.2       , 0.26666667,\n",
       "        0.26666667, 0.06666667, 0.26666667, 0.66666667, 0.        ,\n",
       "        0.13333333, 0.13333333, 0.33333333, 0.46666667, 0.2       ,\n",
       "        0.        ]),\n",
       " 'P': array([0.2       , 0.13333333, 0.13333333, 0.2       , 0.06666667,\n",
       "        0.2       , 0.2       , 0.13333333, 0.13333333, 0.06666667,\n",
       "        0.06666667, 0.2       , 0.13333333, 0.        , 0.73333333,\n",
       "        0.2       , 0.2       , 0.        , 0.06666667, 0.13333333,\n",
       "        0.        ]),\n",
       " 'S': array([0.33333333, 0.2       , 0.33333333, 0.26666667, 0.2       ,\n",
       "        0.26666667, 0.26666667, 0.26666667, 0.2       , 0.13333333,\n",
       "        0.13333333, 0.26666667, 0.2       , 0.13333333, 0.2       ,\n",
       "        0.53333333, 0.33333333, 0.06666667, 0.13333333, 0.13333333,\n",
       "        0.        ]),\n",
       " 'T': array([0.26666667, 0.2       , 0.26666667, 0.2       , 0.2       ,\n",
       "        0.2       , 0.2       , 0.13333333, 0.13333333, 0.2       ,\n",
       "        0.2       , 0.2       , 0.2       , 0.13333333, 0.2       ,\n",
       "        0.33333333, 0.6       , 0.13333333, 0.13333333, 0.26666667,\n",
       "        0.        ]),\n",
       " 'W': array([0.06666667, 0.06666667, 0.        , 0.        , 0.13333333,\n",
       "        0.13333333, 0.06666667, 0.13333333, 0.13333333, 0.06666667,\n",
       "        0.13333333, 0.06666667, 0.2       , 0.33333333, 0.        ,\n",
       "        0.06666667, 0.13333333, 1.        , 0.4       , 0.06666667,\n",
       "        0.        ]),\n",
       " 'Y': array([0.13333333, 0.13333333, 0.13333333, 0.06666667, 0.13333333,\n",
       "        0.2       , 0.13333333, 0.06666667, 0.4       , 0.2       ,\n",
       "        0.2       , 0.13333333, 0.2       , 0.46666667, 0.06666667,\n",
       "        0.13333333, 0.13333333, 0.4       , 0.73333333, 0.2       ,\n",
       "        0.        ]),\n",
       " 'V': array([0.26666667, 0.06666667, 0.06666667, 0.06666667, 0.2       ,\n",
       "        0.13333333, 0.13333333, 0.06666667, 0.06666667, 0.46666667,\n",
       "        0.33333333, 0.13333333, 0.33333333, 0.2       , 0.13333333,\n",
       "        0.13333333, 0.26666667, 0.06666667, 0.2       , 0.53333333,\n",
       "        0.        ]),\n",
       " '*': array([0.        , 0.        , 0.        , 0.        , 0.        ,\n",
       "        0.        , 0.        , 0.        , 0.        , 0.        ,\n",
       "        0.        , 0.        , 0.        , 0.        , 0.        ,\n",
       "        0.        , 0.        , 0.        , 0.        , 0.        ,\n",
       "        0.33333333])}"
      ]
     },
     "execution_count": 53,
     "metadata": {},
     "output_type": "execute_result"
    }
   ],
   "source": [
    "blosum_dict"
   ]
  },
  {
   "cell_type": "markdown",
   "metadata": {},
   "source": [
    "# LSTM with Keras "
   ]
  },
  {
   "cell_type": "code",
   "execution_count": 94,
   "metadata": {},
   "outputs": [],
   "source": [
    "np.random.seed(0)\n",
    "from keras.models import Model\n",
    "from keras.layers import Dense, Input, Dropout, LSTM, Activation, Bidirectional\n",
    "from keras.layers.embeddings import Embedding\n",
    "from keras.preprocessing import sequence\n",
    "from keras.initializers import glorot_uniform\n",
    "from keras.optimizers import Adam, Nadam\n",
    "np.random.seed(1)"
   ]
  },
  {
   "cell_type": "code",
   "execution_count": 55,
   "metadata": {},
   "outputs": [],
   "source": [
    "def pretrained_embedding_layer(blosum_dict, aa_to_int):\n",
    "    \"\"\"\n",
    "    Creates a Keras Embedding() layer based on Blosum62\n",
    "    \n",
    "    Arguments:\n",
    "    blosum_dict -- dictionary mapping aa to their Blosum62 representation.\n",
    "    aa_to_int -- dictionary mapping from amino acid to their indices \n",
    "\n",
    "    Returns:\n",
    "    embedding_layer -- pretrained layer Keras instance\n",
    "    \"\"\"\n",
    "    \n",
    "    aa_len = len(aa_to_int) + 1                  # adding 1 to fit Keras embedding (requirement)\n",
    "    emb_dim = blosum_dict[\"A\"].shape[0]      # define dimensionality of your blosum vectors \n",
    "    \n",
    "    ### START CODE HERE ###\n",
    "    # Initialize the embedding matrix as a numpy array of zeros of shape (aa_len, dimensions of aa vectors = emb_dim)\n",
    "    emb_matrix = np.zeros([aa_len,emb_dim])\n",
    "    \n",
    "    # Set each row \"index\" of the embedding matrix to be the word vector representation of the \"index\"th word of the vocabulary\n",
    "    for aa, index in aa_to_int.items():\n",
    "        emb_matrix[index, :] = blosum_dict[aa]\n",
    "\n",
    "    # Define Keras embedding layer with the correct output/input sizes, make it trainable. Use Embedding(...). Make sure to set trainable=False. \n",
    "    embedding_layer = Embedding(aa_len, emb_dim, trainable=False)\n",
    "    ### END CODE HERE ###\n",
    "\n",
    "    # Build the embedding layer, it is required before setting the weights of the embedding layer. Do not modify the \"None\".\n",
    "    embedding_layer.build((None,))\n",
    "    \n",
    "    # Set the weights of the embedding layer to the embedding matrix. Your layer is now pretrained.\n",
    "    embedding_layer.set_weights([emb_matrix])\n",
    "    \n",
    "    return embedding_layer"
   ]
  },
  {
   "cell_type": "code",
   "execution_count": 56,
   "metadata": {},
   "outputs": [
    {
     "name": "stdout",
     "output_type": "stream",
     "text": [
      "WARNING:tensorflow:From /home/julie/anaconda3/lib/python3.7/site-packages/tensorflow/python/ops/resource_variable_ops.py:435: colocate_with (from tensorflow.python.framework.ops) is deprecated and will be removed in a future version.\n",
      "Instructions for updating:\n",
      "Colocations handled automatically by placer.\n",
      "weights[0][1][3] = 0.13333334\n"
     ]
    }
   ],
   "source": [
    "embedding_layer = pretrained_embedding_layer(blosum_dict, aa_to_int)\n",
    "print(\"weights[0][1][3] =\", embedding_layer.get_weights()[0][1][3])\n",
    "# How to check it's fine? \n",
    "# I could also try to train "
   ]
  },
  {
   "cell_type": "markdown",
   "metadata": {},
   "source": [
    "## MODEL"
   ]
  },
  {
   "cell_type": "code",
   "execution_count": 90,
   "metadata": {},
   "outputs": [],
   "source": [
    "# GRADED FUNCTION: Emojify_V2\n",
    "\n",
    "def Loc_predict(input_shape, blosum_dict, aa_to_int):\n",
    "    \"\"\"\n",
    "    Function creating the a protein localization prediction model's graph.\n",
    "    \n",
    "    Arguments:\n",
    "    input_shape -- shape of the input, usually (max_len,)\n",
    "    blosum_dict -- dictionary mapping everyaa into its blosum vector representation\n",
    "    aa_to_int -- dictionary mapping from aa to their indices \n",
    "    \n",
    "    Returns:\n",
    "    model -- a model instance in Keras\n",
    "    \"\"\"\n",
    "    \n",
    "    ### START CODE HERE ###\n",
    "    # Define sentence_indices as the input of the graph, it should be of shape input_shape and dtype 'int32' (as it contains indices).\n",
    "    aa_indices = Input(input_shape, dtype='int32')\n",
    "    \n",
    "    # Create the embedding layer pretrained with GloVe Vectors (≈1 line)\n",
    "    embedding_layer = pretrained_embedding_layer(blosum_dict, aa_to_int)\n",
    "    \n",
    "    # Propagate sentence_indices through your embedding layer, you get back the embeddings\n",
    "    embeddings = embedding_layer(aa_indices)\n",
    "    #embeddings = Embedding(input_shape, 30)\n",
    "    \n",
    "    # Propagate the embeddings through an LSTM layer with 128-dimensional hidden state\n",
    "    # Be careful, the returned output should be a batch of sequences.\n",
    "    #X =  LSTM(64, return_sequences=True)(embeddings)\n",
    "    X = Bidirectional(LSTM(64, return_sequences=True))(embeddings)\n",
    "    # Add dropout with a probability of 0.5\n",
    "    #X = Dropout(0.5)(X)\n",
    "    # Propagate X trough another LSTM layer with 128-dimensional hidden state\n",
    "    # Be careful, the returned output should be a single hidden state, not a batch of sequences.\n",
    "    X = LSTM(64, return_sequences=False)(X)\n",
    "    # Add dropout with a probability of 0.5\n",
    "    #X = Dropout(0.5)(X)\n",
    "    X = Dense(128, activation='relu')(X)\n",
    "    X = Dense(128, activation='relu')(X)\n",
    "    # Propagate X through a Dense layer with softmax activation to get back a batch of 5-dimensional vectors.\n",
    "    X = Dense(12, activation='softmax')(X)\n",
    "    # Add a softmax activation\n",
    "    # X = Activation('softmax')(X)\n",
    "    \n",
    "    # Create Model instance which converts sentence_indices into X.\n",
    "    model = Model(inputs=[aa_indices], outputs=[X])\n",
    "    \n",
    "    ### END CODE HERE ###\n",
    "    \n",
    "    return model"
   ]
  },
  {
   "cell_type": "code",
   "execution_count": 91,
   "metadata": {},
   "outputs": [
    {
     "name": "stdout",
     "output_type": "stream",
     "text": [
      "Model: \"model_5\"\n",
      "_________________________________________________________________\n",
      "Layer (type)                 Output Shape              Param #   \n",
      "=================================================================\n",
      "input_6 (InputLayer)         (None, 1501)              0         \n",
      "_________________________________________________________________\n",
      "embedding_7 (Embedding)      (None, 1501, 21)          462       \n",
      "_________________________________________________________________\n",
      "bidirectional_4 (Bidirection (None, 1501, 128)         44032     \n",
      "_________________________________________________________________\n",
      "lstm_10 (LSTM)               (None, 64)                49408     \n",
      "_________________________________________________________________\n",
      "dense_11 (Dense)             (None, 128)               8320      \n",
      "_________________________________________________________________\n",
      "dense_12 (Dense)             (None, 128)               16512     \n",
      "_________________________________________________________________\n",
      "dense_13 (Dense)             (None, 12)                1548      \n",
      "=================================================================\n",
      "Total params: 120,282\n",
      "Trainable params: 119,820\n",
      "Non-trainable params: 462\n",
      "_________________________________________________________________\n"
     ]
    }
   ],
   "source": [
    "model = Loc_predict((max_len,), blosum_dict, aa_to_int)\n",
    "model.summary()"
   ]
  },
  {
   "cell_type": "code",
   "execution_count": 86,
   "metadata": {},
   "outputs": [],
   "source": [
    "from keras.metrics import categorical_accuracy"
   ]
  },
  {
   "cell_type": "code",
   "execution_count": 101,
   "metadata": {},
   "outputs": [],
   "source": [
    "model.compile(loss='categorical_crossentropy', \n",
    "              optimizer=Nadam(learning_rate=1.0), \n",
    "              metrics=['accuracy'])"
   ]
  },
  {
   "cell_type": "code",
   "execution_count": 102,
   "metadata": {},
   "outputs": [],
   "source": [
    "from sklearn.utils import class_weight\n",
    "class_weights = class_weight.compute_class_weight('balanced',\n",
    "                                                 np.unique(train_y),\n",
    "                                                 train_y)\n",
    "d_class_weights = dict(enumerate(class_weights))"
   ]
  },
  {
   "cell_type": "code",
   "execution_count": null,
   "metadata": {},
   "outputs": [
    {
     "name": "stdout",
     "output_type": "stream",
     "text": [
      "Epoch 1/50\n",
      "3871/3871 [==============================] - 168s 43ms/step - loss: 2.6197 - accuracy: 0.0571\n",
      "Epoch 2/50\n",
      "3871/3871 [==============================] - 175s 45ms/step - loss: 2.5899 - accuracy: 0.0506\n",
      "Epoch 3/50\n",
      "3871/3871 [==============================] - 163s 42ms/step - loss: 2.6089 - accuracy: 0.0778\n",
      "Epoch 4/50\n",
      "3871/3871 [==============================] - 162s 42ms/step - loss: 2.6238 - accuracy: 0.0514\n",
      "Epoch 5/50\n",
      "3871/3871 [==============================] - 162s 42ms/step - loss: 2.6692 - accuracy: 0.0470\n",
      "Epoch 6/50\n",
      "3871/3871 [==============================] - 162s 42ms/step - loss: 2.6268 - accuracy: 0.0429\n",
      "Epoch 7/50\n",
      "3871/3871 [==============================] - 162s 42ms/step - loss: 2.6162 - accuracy: 0.0486\n",
      "Epoch 8/50\n",
      "3871/3871 [==============================] - 172s 44ms/step - loss: 2.6021 - accuracy: 0.0349\n",
      "Epoch 9/50\n",
      "3871/3871 [==============================] - 163s 42ms/step - loss: 2.5989 - accuracy: 0.0672\n",
      "Epoch 10/50\n",
      "3871/3871 [==============================] - 162s 42ms/step - loss: 2.6046 - accuracy: 0.0325\n",
      "Epoch 11/50\n",
      "3871/3871 [==============================] - 164s 42ms/step - loss: 2.6013 - accuracy: 0.0437\n",
      "Epoch 12/50\n",
      "3871/3871 [==============================] - 162s 42ms/step - loss: 2.6156 - accuracy: 0.0599\n",
      "Epoch 13/50\n",
      "3871/3871 [==============================] - 162s 42ms/step - loss: 2.6137 - accuracy: 0.0517\n",
      "Epoch 14/50\n",
      "3871/3871 [==============================] - 162s 42ms/step - loss: 2.6233 - accuracy: 0.0584\n",
      "Epoch 15/50\n",
      "3871/3871 [==============================] - 169s 44ms/step - loss: 2.6471 - accuracy: 0.0708\n",
      "Epoch 16/50\n",
      "3871/3871 [==============================] - 170s 44ms/step - loss: 2.6516 - accuracy: 0.0542\n",
      "Epoch 17/50\n",
      "3871/3871 [==============================] - 165s 43ms/step - loss: 2.6135 - accuracy: 0.0488\n",
      "Epoch 18/50\n",
      "3871/3871 [==============================] - 164s 42ms/step - loss: 2.5952 - accuracy: 0.0253\n",
      "Epoch 19/50\n",
      "3871/3871 [==============================] - 162s 42ms/step - loss: 2.6224 - accuracy: 0.0480\n",
      "Epoch 20/50\n",
      "3871/3871 [==============================] - 163s 42ms/step - loss: 2.6208 - accuracy: 0.0369\n",
      "Epoch 21/50\n",
      "3871/3871 [==============================] - 162s 42ms/step - loss: 2.6345 - accuracy: 0.0584\n",
      "Epoch 22/50\n",
      "3871/3871 [==============================] - 163s 42ms/step - loss: 2.6099 - accuracy: 0.0455\n",
      "Epoch 23/50\n",
      "3871/3871 [==============================] - 162s 42ms/step - loss: 2.6141 - accuracy: 0.0718\n",
      "Epoch 24/50\n",
      "3871/3871 [==============================] - 170s 44ms/step - loss: 2.5853 - accuracy: 0.0284\n",
      "Epoch 25/50\n",
      "3871/3871 [==============================] - 162s 42ms/step - loss: 2.6086 - accuracy: 0.0269\n",
      "Epoch 26/50\n",
      "3871/3871 [==============================] - 163s 42ms/step - loss: 2.6017 - accuracy: 0.0462\n",
      "Epoch 27/50\n",
      "3871/3871 [==============================] - 163s 42ms/step - loss: 2.6413 - accuracy: 0.0362\n",
      "Epoch 28/50\n",
      "3871/3871 [==============================] - 163s 42ms/step - loss: 2.6043 - accuracy: 0.0553\n",
      "Epoch 29/50\n",
      "3871/3871 [==============================] - 162s 42ms/step - loss: 2.5946 - accuracy: 0.0561\n",
      "Epoch 30/50\n",
      "3871/3871 [==============================] - 163s 42ms/step - loss: 2.5888 - accuracy: 0.0568\n",
      "Epoch 31/50\n",
      "3871/3871 [==============================] - 169s 44ms/step - loss: 2.5958 - accuracy: 0.0235\n",
      "Epoch 32/50\n",
      "3871/3871 [==============================] - 164s 42ms/step - loss: 2.6009 - accuracy: 0.0592\n",
      "Epoch 33/50\n",
      "3871/3871 [==============================] - 164s 42ms/step - loss: 2.6087 - accuracy: 0.0571\n",
      "Epoch 34/50\n",
      "3871/3871 [==============================] - 163s 42ms/step - loss: 2.5903 - accuracy: 0.0320\n",
      "Epoch 35/50\n",
      "3871/3871 [==============================] - 163s 42ms/step - loss: 2.6294 - accuracy: 0.0302\n",
      "Epoch 36/50\n",
      "3871/3871 [==============================] - 162s 42ms/step - loss: 2.5810 - accuracy: 0.0429\n",
      "Epoch 37/50\n",
      "3871/3871 [==============================] - 162s 42ms/step - loss: 2.5768 - accuracy: 0.0377\n",
      "Epoch 38/50\n",
      "3871/3871 [==============================] - 164s 42ms/step - loss: 2.5969 - accuracy: 0.0408\n",
      "Epoch 39/50\n",
      "3871/3871 [==============================] - 170s 44ms/step - loss: 2.5656 - accuracy: 0.0452\n",
      "Epoch 40/50\n",
      "3871/3871 [==============================] - 162s 42ms/step - loss: 2.6447 - accuracy: 0.0677\n",
      "Epoch 41/50\n",
      "3871/3871 [==============================] - 162s 42ms/step - loss: 2.5972 - accuracy: 0.0646\n",
      "Epoch 42/50\n",
      "3871/3871 [==============================] - 339s 88ms/step - loss: 2.6094 - accuracy: 0.0871\n",
      "Epoch 43/50\n",
      " 384/3871 [=>............................] - ETA: 5:54 - loss: 2.8688 - accuracy: 0.0208"
     ]
    }
   ],
   "source": [
    "model.fit(train_indices, train_y_OH, epochs = 50, batch_size = 128, shuffle=True, class_weight=d_class_weights)"
   ]
  },
  {
   "cell_type": "code",
   "execution_count": null,
   "metadata": {},
   "outputs": [],
   "source": []
  }
 ],
 "metadata": {
  "kernelspec": {
   "display_name": "Python 3",
   "language": "python",
   "name": "python3"
  },
  "language_info": {
   "codemirror_mode": {
    "name": "ipython",
    "version": 3
   },
   "file_extension": ".py",
   "mimetype": "text/x-python",
   "name": "python",
   "nbconvert_exporter": "python",
   "pygments_lexer": "ipython3",
   "version": "3.7.3"
  }
 },
 "nbformat": 4,
 "nbformat_minor": 2
}
